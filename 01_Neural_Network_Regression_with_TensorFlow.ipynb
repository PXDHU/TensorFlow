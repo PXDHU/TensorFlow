{
  "cells": [
    {
      "cell_type": "markdown",
      "metadata": {
        "id": "view-in-github",
        "colab_type": "text"
      },
      "source": [
        "<a href=\"https://colab.research.google.com/github/PXDHU/TensorFlow/blob/main/01_Neural_Network_Regression_with_TensorFlow.ipynb\" target=\"_parent\"><img src=\"https://colab.research.google.com/assets/colab-badge.svg\" alt=\"Open In Colab\"/></a>"
      ]
    },
    {
      "cell_type": "markdown",
      "metadata": {
        "id": "JLSVPDAVS8Rg"
      },
      "source": [
        "# Introduction to Regression with Neural Networks in TensorFlow\n",
        "\n",
        "Regression Problem: Predicting a numerical variable based on some other combinations of varible, even shorter.. predicting a number."
      ]
    },
    {
      "cell_type": "code",
      "execution_count": null,
      "metadata": {
        "colab": {
          "base_uri": "https://localhost:8080/"
        },
        "id": "CgxQfPx5TzHn",
        "outputId": "17389c81-3bc5-43b4-a2c5-e5140ebfa4fd"
      },
      "outputs": [
        {
          "name": "stdout",
          "output_type": "stream",
          "text": [
            "2.11.0\n"
          ]
        }
      ],
      "source": [
        "# Import tensorflow \n",
        "import tensorflow as tf\n",
        "print(tf.__version__)"
      ]
    },
    {
      "cell_type": "markdown",
      "metadata": {
        "id": "IrDanlM4UojZ"
      },
      "source": [
        "## Creating a data to view and fit"
      ]
    },
    {
      "cell_type": "code",
      "execution_count": null,
      "metadata": {
        "colab": {
          "base_uri": "https://localhost:8080/",
          "height": 269
        },
        "id": "vfM08dMjU5Qq",
        "outputId": "ea0dceb9-017a-4f63-d4d9-dff65f7a7f9d"
      },
      "outputs": [
        {
          "data": {
            "image/png": "[encoded data removed]",
            "text/plain": [
              "<Figure size 432x288 with 1 Axes>"
            ]
          },
          "metadata": {},
          "output_type": "display_data"
        }
      ],
      "source": [
        "import numpy as np\n",
        "import matplotlib.pyplot as plt\n",
        "\n",
        "# Create features\n",
        "X = np.array([-7.0, -4.0, -1.0, 2.0, 5.0, 8.0, 11.0, 14.0])\n",
        "\n",
        "# Create labels\n",
        "y = np.array([3.0, 6.0, 9.0, 12.0, 15.0, 18.0, 21.0, 24.0])\n",
        "\n",
        "# Vizualize it\n",
        "plt.scatter(X,y);"
      ]
    },
    {
      "cell_type": "code",
      "execution_count": null,
      "metadata": {
        "colab": {
          "base_uri": "https://localhost:8080/"
        },
        "id": "08jGqAFUY3qV",
        "outputId": "7ba714ec-e1a9-463c-d679-781e344ae696"
      },
      "outputs": [
        {
          "data": {
            "text/plain": [
              "array([ True,  True,  True,  True,  True,  True,  True,  True])"
            ]
          },
          "execution_count": 3,
          "metadata": {},
          "output_type": "execute_result"
        }
      ],
      "source": [
        "y == X + 10"
      ]
    },
    {
      "cell_type": "markdown",
      "metadata": {
        "id": "NZT0qJAlZ5Vk"
      },
      "source": [
        "  ## Input and Output shapes"
      ]
    },
    {
      "cell_type": "code",
      "execution_count": null,
      "metadata": {
        "colab": {
          "base_uri": "https://localhost:8080/"
        },
        "id": "9dPyBpKLE5eH",
        "outputId": "2f0db956-f505-4594-fd9b-606c94d213ce"
      },
      "outputs": [
        {
          "data": {
            "text/plain": [
              "(<tf.Tensor: shape=(3,), dtype=string, numpy=array([b'bedroom', b'bathroom', b'garage'], dtype=object)>,\n",
              " <tf.Tensor: shape=(1,), dtype=int32, numpy=array([939700], dtype=int32)>)"
            ]
          },
          "execution_count": 4,
          "metadata": {},
          "output_type": "execute_result"
        }
      ],
      "source": [
        "# Create a demo tensor for our housing price prediction problem\n",
        "house_info = tf.constant([\"bedroom\", \"bathroom\",\"garage\"])\n",
        "house_price = tf.constant([939700])\n",
        "house_info, house_price"
      ]
    },
    {
      "cell_type": "code",
      "execution_count": null,
      "metadata": {
        "colab": {
          "base_uri": "https://localhost:8080/"
        },
        "id": "rKwqHaulH9Li",
        "outputId": "af1d171e-1888-48f7-ea81-70ce88e99c96"
      },
      "outputs": [
        {
          "data": {
            "text/plain": [
              "(-7.0, 3.0)"
            ]
          },
          "execution_count": 5,
          "metadata": {},
          "output_type": "execute_result"
        }
      ],
      "source": [
        "X[0], y[0]"
      ]
    },
    {
      "cell_type": "code",
      "execution_count": null,
      "metadata": {
        "colab": {
          "base_uri": "https://localhost:8080/"
        },
        "id": "ZtxuYdiSGZi-",
        "outputId": "82732642-2450-4041-ba1d-53522671b4f2"
      },
      "outputs": [
        {
          "data": {
            "text/plain": [
              "((), ())"
            ]
          },
          "execution_count": 6,
          "metadata": {},
          "output_type": "execute_result"
        }
      ],
      "source": [
        "input_shape = X[0].shape\n",
        "output_shape = y[0].shape\n",
        "input_shape, output_shape"
      ]
    },
    {
      "cell_type": "code",
      "execution_count": null,
      "metadata": {
        "colab": {
          "base_uri": "https://localhost:8080/"
        },
        "id": "-IYMxXttH2bm",
        "outputId": "55afba95-03f9-43fe-de80-8cf01bf8651b"
      },
      "outputs": [
        {
          "data": {
            "text/plain": [
              "0"
            ]
          },
          "execution_count": 7,
          "metadata": {},
          "output_type": "execute_result"
        }
      ],
      "source": [
        "X[0].ndim"
      ]
    },
    {
      "cell_type": "code",
      "execution_count": null,
      "metadata": {
        "colab": {
          "base_uri": "https://localhost:8080/"
        },
        "id": "hlDzeVUyIZ_H",
        "outputId": "9aaaae68-681c-4b70-b695-20fbe7e7e07f"
      },
      "outputs": [
        {
          "data": {
            "text/plain": [
              "(<tf.Tensor: shape=(8,), dtype=float64, numpy=array([-7., -4., -1.,  2.,  5.,  8., 11., 14.])>,\n",
              " <tf.Tensor: shape=(8,), dtype=float64, numpy=array([ 3.,  6.,  9., 12., 15., 18., 21., 24.])>)"
            ]
          },
          "execution_count": 8,
          "metadata": {},
          "output_type": "execute_result"
        }
      ],
      "source": [
        "# Turn our Numpy arrays into tensors\n",
        "X = tf.constant(X)\n",
        "y = tf.constant(y)\n",
        "X, y"
      ]
    },
    {
      "cell_type": "code",
      "execution_count": null,
      "metadata": {
        "colab": {
          "base_uri": "https://localhost:8080/"
        },
        "id": "oSEZiYSCJFso",
        "outputId": "5b174cd8-5260-45a8-8a06-7591749479f8"
      },
      "outputs": [
        {
          "data": {
            "text/plain": [
              "(<tf.Tensor: shape=(), dtype=float64, numpy=-7.0>,\n",
              " <tf.Tensor: shape=(), dtype=float64, numpy=3.0>)"
            ]
          },
          "execution_count": 9,
          "metadata": {},
          "output_type": "execute_result"
        }
      ],
      "source": [
        "X[0], y[0]"
      ]
    },
    {
      "cell_type": "code",
      "execution_count": null,
      "metadata": {
        "colab": {
          "base_uri": "https://localhost:8080/"
        },
        "id": "syK2pmYzJKns",
        "outputId": "d64928a6-8bc5-49b0-e3c9-a3b908091135"
      },
      "outputs": [
        {
          "data": {
            "text/plain": [
              "(TensorShape([]), TensorShape([]))"
            ]
          },
          "execution_count": 10,
          "metadata": {},
          "output_type": "execute_result"
        }
      ],
      "source": [
        "input_shape = X[0].shape\n",
        "output_shape = y[0].shape\n",
        "input_shape, output_shape "
      ]
    },
    {
      "cell_type": "code",
      "execution_count": null,
      "metadata": {
        "colab": {
          "base_uri": "https://localhost:8080/",
          "height": 286
        },
        "id": "mYWuYThjJiXN",
        "outputId": "e1ecb00b-394a-4948-df20-d27f1efb6811"
      },
      "outputs": [
        {
          "data": {
            "text/plain": [
              "<matplotlib.collections.PathCollection at 0x7f239bf6b8e0>"
            ]
          },
          "execution_count": 11,
          "metadata": {},
          "output_type": "execute_result"
        },
        {
          "data": {
            "image/png": "[encoded data removed]",
            "text/plain": [
              "<Figure size 432x288 with 1 Axes>"
            ]
          },
          "metadata": {},
          "output_type": "display_data"
        }
      ],
      "source": [
        "plt.scatter(X, y)"
      ]
    },
    {
      "cell_type": "markdown",
      "metadata": {
        "id": "a42AXw9tJqQ-"
      },
      "source": [
        "## Steps in modelling with tensorflow \n",
        "\n",
        "1. **Creating a model** - define the input and output layers, as well as the hidden layers of a deep learning model.\n",
        "2. **Compiling a model** - define the loss function(in other words, the function which tells our model how wrong it is) and the optimizer(tells our model how to improve the pattern in its learning) and evaluation metrics(what we can use to interpret the performance of our model).\n",
        "3. **Fitting a model** - letting the model try to find patterns between X & y( features and labels)."
      ]
    },
    {
      "cell_type": "code",
      "execution_count": null,
      "metadata": {
        "colab": {
          "base_uri": "https://localhost:8080/"
        },
        "id": "-SOVgGdlLa3V",
        "outputId": "803e3f97-c8e4-44f0-dff8-113482627d32"
      },
      "outputs": [
        {
          "name": "stdout",
          "output_type": "stream",
          "text": [
            "Epoch 1/5\n",
            "1/1 [==============================] - 1s 611ms/step - loss: 20.7252 - mae: 20.7252\n",
            "Epoch 2/5\n",
            "1/1 [==============================] - 0s 10ms/step - loss: 20.3773 - mae: 20.3773\n",
            "Epoch 3/5\n",
            "1/1 [==============================] - 0s 11ms/step - loss: 20.0960 - mae: 20.0960\n",
            "Epoch 4/5\n",
            "1/1 [==============================] - 0s 14ms/step - loss: 19.8148 - mae: 19.8148\n",
            "Epoch 5/5\n",
            "1/1 [==============================] - 0s 12ms/step - loss: 19.5335 - mae: 19.5335\n"
          ]
        },
        {
          "data": {
            "text/plain": [
              "<keras.callbacks.History at 0x7f2398ddc400>"
            ]
          },
          "execution_count": 12,
          "metadata": {},
          "output_type": "execute_result"
        }
      ],
      "source": [
        "# Set random seed\n",
        "tf.random.set_seed(1234)\n",
        "\n",
        "# 1. Create a model using the Sequential API \n",
        "model = tf.keras.Sequential([\n",
        "    tf.keras.layers.Dense(1)\n",
        "])\n",
        "\n",
        "# 2. Compile the model\n",
        "model.compile(loss=tf.keras.losses.mae,#mae is short form for mean absolute error\n",
        "              optimizer=tf.keras.optimizers.SGD(), #sgd is short form for stochastic gradient descent\n",
        "              metrics=[\"mae\"]\n",
        ")\n",
        "\n",
        "# 3.Fit the model \n",
        "model.fit(tf.expand_dims(X,axis=-1), y, epochs=5)\n"
      ]
    },
    {
      "cell_type": "code",
      "execution_count": null,
      "metadata": {
        "colab": {
          "base_uri": "https://localhost:8080/"
        },
        "id": "prehvR7R4f7r",
        "outputId": "1e55fc87-989c-45de-aeed-110dd87cd669"
      },
      "outputs": [
        {
          "data": {
            "text/plain": [
              "(<tf.Tensor: shape=(8,), dtype=float64, numpy=array([-7., -4., -1.,  2.,  5.,  8., 11., 14.])>,\n",
              " <tf.Tensor: shape=(8,), dtype=float64, numpy=array([ 3.,  6.,  9., 12., 15., 18., 21., 24.])>)"
            ]
          },
          "execution_count": 13,
          "metadata": {},
          "output_type": "execute_result"
        }
      ],
      "source": [
        "# Check out X and y\n",
        "X,y"
      ]
    },
    {
      "cell_type": "code",
      "execution_count": null,
      "metadata": {
        "colab": {
          "base_uri": "https://localhost:8080/"
        },
        "id": "UXeyvXo85oNm",
        "outputId": "a292a162-2af2-47f6-b3c2-8485b79690b5"
      },
      "outputs": [
        {
          "name": "stdout",
          "output_type": "stream",
          "text": [
            "1/1 [==============================] - 0s 115ms/step\n"
          ]
        },
        {
          "data": {
            "text/plain": [
              "array([[-21.105017]], dtype=float32)"
            ]
          },
          "execution_count": 14,
          "metadata": {},
          "output_type": "execute_result"
        }
      ],
      "source": [
        "# Try and make a prediction using our model\n",
        "y_pred = model.predict([17.0])\n",
        "y_pred"
      ]
    },
    {
      "cell_type": "markdown",
      "metadata": {
        "id": "5LfllEYJ6BxO"
      },
      "source": [
        "## Improving our model\n",
        "\n",
        "We can improve our model, by altering the steps we took to create a model.\n",
        "\n",
        "1.**Create a model** - Here we might add more layers, increasing the number of hidden layers, change the activation function of each layer.\n",
        "\n",
        "2.**Compile the model** - Here we might change the optimization function or perhaps the **learning rate** of the optimization function.\n",
        "\n",
        "3.**Fitting a model** - Here we might fit a model for more **epochs** (leave it training for longer) or on more data (give more examples to learn from)."
      ]
    },
    {
      "cell_type": "code",
      "execution_count": null,
      "metadata": {
        "colab": {
          "base_uri": "https://localhost:8080/"
        },
        "id": "RotNF2bggr2C",
        "outputId": "1ad57246-7d8e-4fff-9cbf-8c762b931573"
      },
      "outputs": [
        {
          "data": {
            "text/plain": [
              "(<tf.Tensor: shape=(8,), dtype=float64, numpy=array([-7., -4., -1.,  2.,  5.,  8., 11., 14.])>,\n",
              " <tf.Tensor: shape=(8,), dtype=float64, numpy=array([ 3.,  6.,  9., 12., 15., 18., 21., 24.])>)"
            ]
          },
          "execution_count": 15,
          "metadata": {},
          "output_type": "execute_result"
        }
      ],
      "source": [
        "X , y"
      ]
    },
    {
      "cell_type": "code",
      "execution_count": null,
      "metadata": {
        "colab": {
          "base_uri": "https://localhost:8080/"
        },
        "id": "2lH_4imU6Hbh",
        "outputId": "1a04cf1a-fb8a-4d03-cc99-00d7ef2a6378"
      },
      "outputs": [
        {
          "name": "stdout",
          "output_type": "stream",
          "text": [
            "Epoch 1/100\n",
            "1/1 [==============================] - 0s 354ms/step - loss: 18.8245 - mae: 18.8245\n",
            "Epoch 2/100\n",
            "1/1 [==============================] - 0s 9ms/step - loss: 18.5433 - mae: 18.5433\n",
            "Epoch 3/100\n",
            "1/1 [==============================] - 0s 13ms/step - loss: 18.2620 - mae: 18.2620\n",
            "Epoch 4/100\n",
            "1/1 [==============================] - 0s 10ms/step - loss: 17.9808 - mae: 17.9808\n",
            "Epoch 5/100\n",
            "1/1 [==============================] - 0s 12ms/step - loss: 17.6995 - mae: 17.6995\n",
            "Epoch 6/100\n",
            "1/1 [==============================] - 0s 15ms/step - loss: 17.4183 - mae: 17.4183\n",
            "Epoch 7/100\n",
            "1/1 [==============================] - 0s 12ms/step - loss: 17.1370 - mae: 17.1370\n",
            "Epoch 8/100\n",
            "1/1 [==============================] - 0s 13ms/step - loss: 16.8558 - mae: 16.8558\n",
            "Epoch 9/100\n",
            "1/1 [==============================] - 0s 12ms/step - loss: 16.5745 - mae: 16.5745\n",
            "Epoch 10/100\n",
            "1/1 [==============================] - 0s 10ms/step - loss: 16.2933 - mae: 16.2933\n",
            "Epoch 11/100\n",
            "1/1 [==============================] - 0s 11ms/step - loss: 16.0120 - mae: 16.0120\n",
            "Epoch 12/100\n",
            "1/1 [==============================] - 0s 15ms/step - loss: 15.7308 - mae: 15.7308\n",
            "Epoch 13/100\n",
            "1/1 [==============================] - 0s 11ms/step - loss: 15.4495 - mae: 15.4495\n",
            "Epoch 14/100\n",
            "1/1 [==============================] - 0s 11ms/step - loss: 15.1683 - mae: 15.1683\n",
            "Epoch 15/100\n",
            "1/1 [==============================] - 0s 12ms/step - loss: 14.8870 - mae: 14.8870\n",
            "Epoch 16/100\n",
            "1/1 [==============================] - 0s 11ms/step - loss: 14.6809 - mae: 14.6809\n",
            "Epoch 17/100\n",
            "1/1 [==============================] - 0s 13ms/step - loss: 14.5484 - mae: 14.5484\n",
            "Epoch 18/100\n",
            "1/1 [==============================] - 0s 13ms/step - loss: 14.4159 - mae: 14.4159\n",
            "Epoch 19/100\n",
            "1/1 [==============================] - 0s 11ms/step - loss: 14.2834 - mae: 14.2834\n",
            "Epoch 20/100\n",
            "1/1 [==============================] - 0s 9ms/step - loss: 14.1509 - mae: 14.1509\n",
            "Epoch 21/100\n",
            "1/1 [==============================] - 0s 11ms/step - loss: 14.0184 - mae: 14.0184\n",
            "Epoch 22/100\n",
            "1/1 [==============================] - 0s 9ms/step - loss: 13.8859 - mae: 13.8859\n",
            "Epoch 23/100\n",
            "1/1 [==============================] - 0s 15ms/step - loss: 13.7534 - mae: 13.7534\n",
            "Epoch 24/100\n",
            "1/1 [==============================] - 0s 10ms/step - loss: 13.6209 - mae: 13.6209\n",
            "Epoch 25/100\n",
            "1/1 [==============================] - 0s 11ms/step - loss: 13.4884 - mae: 13.4884\n",
            "Epoch 26/100\n",
            "1/1 [==============================] - 0s 11ms/step - loss: 13.3559 - mae: 13.3559\n",
            "Epoch 27/100\n",
            "1/1 [==============================] - 0s 11ms/step - loss: 13.2234 - mae: 13.2234\n",
            "Epoch 28/100\n",
            "1/1 [==============================] - 0s 11ms/step - loss: 13.0909 - mae: 13.0909\n",
            "Epoch 29/100\n",
            "1/1 [==============================] - 0s 14ms/step - loss: 12.9584 - mae: 12.9584\n",
            "Epoch 30/100\n",
            "1/1 [==============================] - 0s 12ms/step - loss: 12.8259 - mae: 12.8259\n",
            "Epoch 31/100\n",
            "1/1 [==============================] - 0s 11ms/step - loss: 12.6934 - mae: 12.6934\n",
            "Epoch 32/100\n",
            "1/1 [==============================] - 0s 11ms/step - loss: 12.5609 - mae: 12.5609\n",
            "Epoch 33/100\n",
            "1/1 [==============================] - 0s 11ms/step - loss: 12.4284 - mae: 12.4284\n",
            "Epoch 34/100\n",
            "1/1 [==============================] - 0s 9ms/step - loss: 12.2959 - mae: 12.2959\n",
            "Epoch 35/100\n",
            "1/1 [==============================] - 0s 15ms/step - loss: 12.1634 - mae: 12.1634\n",
            "Epoch 36/100\n",
            "1/1 [==============================] - 0s 13ms/step - loss: 12.0309 - mae: 12.0309\n",
            "Epoch 37/100\n",
            "1/1 [==============================] - 0s 11ms/step - loss: 11.8984 - mae: 11.8984\n",
            "Epoch 38/100\n",
            "1/1 [==============================] - 0s 9ms/step - loss: 11.7659 - mae: 11.7659\n",
            "Epoch 39/100\n",
            "1/1 [==============================] - 0s 10ms/step - loss: 11.6334 - mae: 11.6334\n",
            "Epoch 40/100\n",
            "1/1 [==============================] - 0s 10ms/step - loss: 11.5009 - mae: 11.5009\n",
            "Epoch 41/100\n",
            "1/1 [==============================] - 0s 10ms/step - loss: 11.3684 - mae: 11.3684\n",
            "Epoch 42/100\n",
            "1/1 [==============================] - 0s 11ms/step - loss: 11.2359 - mae: 11.2359\n",
            "Epoch 43/100\n",
            "1/1 [==============================] - 0s 11ms/step - loss: 11.1034 - mae: 11.1034\n",
            "Epoch 44/100\n",
            "1/1 [==============================] - 0s 10ms/step - loss: 10.9709 - mae: 10.9709\n",
            "Epoch 45/100\n",
            "1/1 [==============================] - 0s 10ms/step - loss: 10.8384 - mae: 10.8384\n",
            "Epoch 46/100\n",
            "1/1 [==============================] - 0s 16ms/step - loss: 10.7059 - mae: 10.7059\n",
            "Epoch 47/100\n",
            "1/1 [==============================] - 0s 14ms/step - loss: 10.5734 - mae: 10.5734\n",
            "Epoch 48/100\n",
            "1/1 [==============================] - 0s 19ms/step - loss: 10.4409 - mae: 10.4409\n",
            "Epoch 49/100\n",
            "1/1 [==============================] - 0s 13ms/step - loss: 10.3084 - mae: 10.3084\n",
            "Epoch 50/100\n",
            "1/1 [==============================] - 0s 14ms/step - loss: 10.1759 - mae: 10.1759\n",
            "Epoch 51/100\n",
            "1/1 [==============================] - 0s 12ms/step - loss: 10.0434 - mae: 10.0434\n",
            "Epoch 52/100\n",
            "1/1 [==============================] - 0s 13ms/step - loss: 9.9109 - mae: 9.9109\n",
            "Epoch 53/100\n",
            "1/1 [==============================] - 0s 13ms/step - loss: 9.7784 - mae: 9.7784\n",
            "Epoch 54/100\n",
            "1/1 [==============================] - 0s 15ms/step - loss: 9.6459 - mae: 9.6459\n",
            "Epoch 55/100\n",
            "1/1 [==============================] - 0s 10ms/step - loss: 9.5134 - mae: 9.5134\n",
            "Epoch 56/100\n",
            "1/1 [==============================] - 0s 10ms/step - loss: 9.3809 - mae: 9.3809\n",
            "Epoch 57/100\n",
            "1/1 [==============================] - 0s 11ms/step - loss: 9.2484 - mae: 9.2484\n",
            "Epoch 58/100\n",
            "1/1 [==============================] - 0s 9ms/step - loss: 9.1159 - mae: 9.1159\n",
            "Epoch 59/100\n",
            "1/1 [==============================] - 0s 10ms/step - loss: 8.9834 - mae: 8.9834\n",
            "Epoch 60/100\n",
            "1/1 [==============================] - 0s 15ms/step - loss: 8.8509 - mae: 8.8509\n",
            "Epoch 61/100\n",
            "1/1 [==============================] - 0s 10ms/step - loss: 8.7184 - mae: 8.7184\n",
            "Epoch 62/100\n",
            "1/1 [==============================] - 0s 9ms/step - loss: 8.5859 - mae: 8.5859\n",
            "Epoch 63/100\n",
            "1/1 [==============================] - 0s 9ms/step - loss: 8.4534 - mae: 8.4534\n",
            "Epoch 64/100\n",
            "1/1 [==============================] - 0s 10ms/step - loss: 8.3209 - mae: 8.3209\n",
            "Epoch 65/100\n",
            "1/1 [==============================] - 0s 10ms/step - loss: 8.1884 - mae: 8.1884\n",
            "Epoch 66/100\n",
            "1/1 [==============================] - 0s 12ms/step - loss: 8.0559 - mae: 8.0559\n",
            "Epoch 67/100\n",
            "1/1 [==============================] - 0s 11ms/step - loss: 7.9234 - mae: 7.9234\n",
            "Epoch 68/100\n",
            "1/1 [==============================] - 0s 10ms/step - loss: 7.7909 - mae: 7.7909\n",
            "Epoch 69/100\n",
            "1/1 [==============================] - 0s 10ms/step - loss: 7.6584 - mae: 7.6584\n",
            "Epoch 70/100\n",
            "1/1 [==============================] - 0s 10ms/step - loss: 7.5259 - mae: 7.5259\n",
            "Epoch 71/100\n",
            "1/1 [==============================] - 0s 9ms/step - loss: 7.3934 - mae: 7.3934\n",
            "Epoch 72/100\n",
            "1/1 [==============================] - 0s 9ms/step - loss: 7.2609 - mae: 7.2609\n",
            "Epoch 73/100\n",
            "1/1 [==============================] - 0s 12ms/step - loss: 7.1284 - mae: 7.1284\n",
            "Epoch 74/100\n",
            "1/1 [==============================] - 0s 11ms/step - loss: 6.9959 - mae: 6.9959\n",
            "Epoch 75/100\n",
            "1/1 [==============================] - 0s 10ms/step - loss: 6.9731 - mae: 6.9731\n",
            "Epoch 76/100\n",
            "1/1 [==============================] - 0s 10ms/step - loss: 6.9675 - mae: 6.9675\n",
            "Epoch 77/100\n",
            "1/1 [==============================] - 0s 9ms/step - loss: 6.9619 - mae: 6.9619\n",
            "Epoch 78/100\n",
            "1/1 [==============================] - 0s 9ms/step - loss: 6.9563 - mae: 6.9563\n",
            "Epoch 79/100\n",
            "1/1 [==============================] - 0s 9ms/step - loss: 6.9506 - mae: 6.9506\n",
            "Epoch 80/100\n",
            "1/1 [==============================] - 0s 11ms/step - loss: 6.9450 - mae: 6.9450\n",
            "Epoch 81/100\n",
            "1/1 [==============================] - 0s 11ms/step - loss: 6.9394 - mae: 6.9394\n",
            "Epoch 82/100\n",
            "1/1 [==============================] - 0s 10ms/step - loss: 6.9338 - mae: 6.9338\n",
            "Epoch 83/100\n",
            "1/1 [==============================] - 0s 10ms/step - loss: 6.9281 - mae: 6.9281\n",
            "Epoch 84/100\n",
            "1/1 [==============================] - 0s 9ms/step - loss: 6.9225 - mae: 6.9225\n",
            "Epoch 85/100\n",
            "1/1 [==============================] - 0s 10ms/step - loss: 6.9169 - mae: 6.9169\n",
            "Epoch 86/100\n",
            "1/1 [==============================] - 0s 10ms/step - loss: 6.9113 - mae: 6.9113\n",
            "Epoch 87/100\n",
            "1/1 [==============================] - 0s 11ms/step - loss: 6.9056 - mae: 6.9056\n",
            "Epoch 88/100\n",
            "1/1 [==============================] - 0s 11ms/step - loss: 6.9000 - mae: 6.9000\n",
            "Epoch 89/100\n",
            "1/1 [==============================] - 0s 10ms/step - loss: 6.8944 - mae: 6.8944\n",
            "Epoch 90/100\n",
            "1/1 [==============================] - 0s 10ms/step - loss: 6.8888 - mae: 6.8888\n",
            "Epoch 91/100\n",
            "1/1 [==============================] - 0s 10ms/step - loss: 6.8831 - mae: 6.8831\n",
            "Epoch 92/100\n",
            "1/1 [==============================] - 0s 10ms/step - loss: 6.8775 - mae: 6.8775\n",
            "Epoch 93/100\n",
            "1/1 [==============================] - 0s 10ms/step - loss: 6.8719 - mae: 6.8719\n",
            "Epoch 94/100\n",
            "1/1 [==============================] - 0s 14ms/step - loss: 6.8663 - mae: 6.8663\n",
            "Epoch 95/100\n",
            "1/1 [==============================] - 0s 11ms/step - loss: 6.8606 - mae: 6.8606\n",
            "Epoch 96/100\n",
            "1/1 [==============================] - 0s 11ms/step - loss: 6.8550 - mae: 6.8550\n",
            "Epoch 97/100\n",
            "1/1 [==============================] - 0s 10ms/step - loss: 6.8494 - mae: 6.8494\n",
            "Epoch 98/100\n",
            "1/1 [==============================] - 0s 10ms/step - loss: 6.8438 - mae: 6.8438\n",
            "Epoch 99/100\n",
            "1/1 [==============================] - 0s 9ms/step - loss: 6.8381 - mae: 6.8381\n",
            "Epoch 100/100\n",
            "1/1 [==============================] - 0s 9ms/step - loss: 6.8325 - mae: 6.8325\n"
          ]
        },
        {
          "data": {
            "text/plain": [
              "<keras.callbacks.History at 0x7f239e1437f0>"
            ]
          },
          "execution_count": 16,
          "metadata": {},
          "output_type": "execute_result"
        }
      ],
      "source": [
        "# Let's rebuild our model \n",
        "\n",
        "# 1. Create the model\n",
        "model = tf.keras.Sequential([\n",
        "    tf.keras.layers.Dense(1)\n",
        "])\n",
        "\n",
        "# 2. Compile the model\n",
        "model.compile(loss=tf.keras.losses.mae,\n",
        "              optimizer=tf.keras.optimizers.SGD(),\n",
        "              metrics=[\"mae\"])\n",
        "\n",
        "# 3. Fit the model (this time we'll train for longer)\n",
        "model.fit(tf.expand_dims(X,axis=-1), y, epochs=100)"
      ]
    },
    {
      "cell_type": "code",
      "execution_count": null,
      "metadata": {
        "colab": {
          "base_uri": "https://localhost:8080/"
        },
        "id": "QupobDTlI85y",
        "outputId": "efdc41cd-b48f-4938-e4d4-306c2f71b7f7"
      },
      "outputs": [
        {
          "data": {
            "text/plain": [
              "(<tf.Tensor: shape=(8,), dtype=float64, numpy=array([-7., -4., -1.,  2.,  5.,  8., 11., 14.])>,\n",
              " <tf.Tensor: shape=(8,), dtype=float64, numpy=array([ 3.,  6.,  9., 12., 15., 18., 21., 24.])>)"
            ]
          },
          "execution_count": 17,
          "metadata": {},
          "output_type": "execute_result"
        }
      ],
      "source": [
        "# Remind ourselves of the data\n",
        "X, y\n"
      ]
    },
    {
      "cell_type": "code",
      "execution_count": null,
      "metadata": {
        "colab": {
          "base_uri": "https://localhost:8080/"
        },
        "id": "akH2jxN6ol-i",
        "outputId": "dc9a7618-a814-4792-c610-2ec2710964c7"
      },
      "outputs": [
        {
          "name": "stdout",
          "output_type": "stream",
          "text": [
            "1/1 [==============================] - 0s 73ms/step\n"
          ]
        },
        {
          "data": {
            "text/plain": [
              "array([[29.720049]], dtype=float32)"
            ]
          },
          "execution_count": 18,
          "metadata": {},
          "output_type": "execute_result"
        }
      ],
      "source": [
        "# Let's see if our model's prediction has improved..\n",
        "model.predict([17.0])"
      ]
    },
    {
      "cell_type": "markdown",
      "metadata": {
        "id": "MChgsiBlquF7"
      },
      "source": [
        "### Common ways to improve a deep model\n",
        "  1. Adding layers\n",
        "  2. Increasing the number of hidden units\n",
        "  3. Change the activation function\n",
        "  4. Change the optimization function\n",
        "  5. Change the learning rate\n",
        "  6. Fitting on more data\n",
        "  7. Fitting for longer"
      ]
    },
    {
      "cell_type": "code",
      "execution_count": null,
      "metadata": {
        "colab": {
          "base_uri": "https://localhost:8080/"
        },
        "id": "WJVm1Uz6o2SK",
        "outputId": "5646b30f-964a-4ef2-a45a-404031754408"
      },
      "outputs": [
        {
          "name": "stdout",
          "output_type": "stream",
          "text": [
            "Epoch 1/100\n",
            "1/1 [==============================] - 1s 600ms/step - loss: 12.1408 - mae: 12.1408\n",
            "Epoch 2/100\n",
            "1/1 [==============================] - 0s 11ms/step - loss: 11.4625 - mae: 11.4625\n",
            "Epoch 3/100\n",
            "1/1 [==============================] - 0s 12ms/step - loss: 10.7755 - mae: 10.7755\n",
            "Epoch 4/100\n",
            "1/1 [==============================] - 0s 15ms/step - loss: 10.0790 - mae: 10.0790\n",
            "Epoch 5/100\n",
            "1/1 [==============================] - 0s 13ms/step - loss: 9.3716 - mae: 9.3716\n",
            "Epoch 6/100\n",
            "1/1 [==============================] - 0s 9ms/step - loss: 8.6515 - mae: 8.6515\n",
            "Epoch 7/100\n",
            "1/1 [==============================] - 0s 9ms/step - loss: 7.9165 - mae: 7.9165\n",
            "Epoch 8/100\n",
            "1/1 [==============================] - 0s 9ms/step - loss: 7.1645 - mae: 7.1645\n",
            "Epoch 9/100\n",
            "1/1 [==============================] - 0s 9ms/step - loss: 6.8620 - mae: 6.8620\n",
            "Epoch 10/100\n",
            "1/1 [==============================] - 0s 9ms/step - loss: 7.1462 - mae: 7.1462\n",
            "Epoch 11/100\n",
            "1/1 [==============================] - 0s 10ms/step - loss: 7.4148 - mae: 7.4148\n",
            "Epoch 12/100\n",
            "1/1 [==============================] - 0s 9ms/step - loss: 7.6687 - mae: 7.6687\n",
            "Epoch 13/100\n",
            "1/1 [==============================] - 0s 9ms/step - loss: 7.7258 - mae: 7.7258\n",
            "Epoch 14/100\n",
            "1/1 [==============================] - 0s 9ms/step - loss: 7.5873 - mae: 7.5873\n",
            "Epoch 15/100\n",
            "1/1 [==============================] - 0s 12ms/step - loss: 7.3057 - mae: 7.3057\n",
            "Epoch 16/100\n",
            "1/1 [==============================] - 0s 11ms/step - loss: 7.0234 - mae: 7.0234\n",
            "Epoch 17/100\n",
            "1/1 [==============================] - 0s 9ms/step - loss: 6.7594 - mae: 6.7594\n",
            "Epoch 18/100\n",
            "1/1 [==============================] - 0s 12ms/step - loss: 6.4812 - mae: 6.4812\n",
            "Epoch 19/100\n",
            "1/1 [==============================] - 0s 11ms/step - loss: 6.2487 - mae: 6.2487\n",
            "Epoch 20/100\n",
            "1/1 [==============================] - 0s 9ms/step - loss: 6.2052 - mae: 6.2052\n",
            "Epoch 21/100\n",
            "1/1 [==============================] - 0s 10ms/step - loss: 6.1808 - mae: 6.1808\n",
            "Epoch 22/100\n",
            "1/1 [==============================] - 0s 10ms/step - loss: 6.2533 - mae: 6.2533\n",
            "Epoch 23/100\n",
            "1/1 [==============================] - 0s 11ms/step - loss: 6.2229 - mae: 6.2229\n",
            "Epoch 24/100\n",
            "1/1 [==============================] - 0s 12ms/step - loss: 6.1027 - mae: 6.1027\n",
            "Epoch 25/100\n",
            "1/1 [==============================] - 0s 12ms/step - loss: 5.9023 - mae: 5.9023\n",
            "Epoch 26/100\n",
            "1/1 [==============================] - 0s 11ms/step - loss: 5.7578 - mae: 5.7578\n",
            "Epoch 27/100\n",
            "1/1 [==============================] - 0s 9ms/step - loss: 5.6555 - mae: 5.6555\n",
            "Epoch 28/100\n",
            "1/1 [==============================] - 0s 10ms/step - loss: 5.5502 - mae: 5.5502\n",
            "Epoch 29/100\n",
            "1/1 [==============================] - 0s 10ms/step - loss: 5.5431 - mae: 5.5431\n",
            "Epoch 30/100\n",
            "1/1 [==============================] - 0s 10ms/step - loss: 5.5222 - mae: 5.5222\n",
            "Epoch 31/100\n",
            "1/1 [==============================] - 0s 10ms/step - loss: 5.4583 - mae: 5.4583\n",
            "Epoch 32/100\n",
            "1/1 [==============================] - 0s 11ms/step - loss: 5.3547 - mae: 5.3547\n",
            "Epoch 33/100\n",
            "1/1 [==============================] - 0s 10ms/step - loss: 5.2148 - mae: 5.2148\n",
            "Epoch 34/100\n",
            "1/1 [==============================] - 0s 10ms/step - loss: 5.0415 - mae: 5.0415\n",
            "Epoch 35/100\n",
            "1/1 [==============================] - 0s 9ms/step - loss: 4.8778 - mae: 4.8778\n",
            "Epoch 36/100\n",
            "1/1 [==============================] - 0s 11ms/step - loss: 4.7848 - mae: 4.7848\n",
            "Epoch 37/100\n",
            "1/1 [==============================] - 0s 11ms/step - loss: 4.6843 - mae: 4.6843\n",
            "Epoch 38/100\n",
            "1/1 [==============================] - 0s 12ms/step - loss: 4.5762 - mae: 4.5762\n",
            "Epoch 39/100\n",
            "1/1 [==============================] - 0s 11ms/step - loss: 4.4837 - mae: 4.4837\n",
            "Epoch 40/100\n",
            "1/1 [==============================] - 0s 12ms/step - loss: 4.3263 - mae: 4.3263\n",
            "Epoch 41/100\n",
            "1/1 [==============================] - 0s 10ms/step - loss: 4.1849 - mae: 4.1849\n",
            "Epoch 42/100\n",
            "1/1 [==============================] - 0s 12ms/step - loss: 4.0358 - mae: 4.0358\n",
            "Epoch 43/100\n",
            "1/1 [==============================] - 0s 9ms/step - loss: 3.8788 - mae: 3.8788\n",
            "Epoch 44/100\n",
            "1/1 [==============================] - 0s 15ms/step - loss: 3.7136 - mae: 3.7136\n",
            "Epoch 45/100\n",
            "1/1 [==============================] - 0s 13ms/step - loss: 3.5398 - mae: 3.5398\n",
            "Epoch 46/100\n",
            "1/1 [==============================] - 0s 11ms/step - loss: 3.3955 - mae: 3.3955\n",
            "Epoch 47/100\n",
            "1/1 [==============================] - 0s 13ms/step - loss: 3.2263 - mae: 3.2263\n",
            "Epoch 48/100\n",
            "1/1 [==============================] - 0s 11ms/step - loss: 3.0012 - mae: 3.0012\n",
            "Epoch 49/100\n",
            "1/1 [==============================] - 0s 10ms/step - loss: 2.8131 - mae: 2.8131\n",
            "Epoch 50/100\n",
            "1/1 [==============================] - 0s 10ms/step - loss: 2.6136 - mae: 2.6136\n",
            "Epoch 51/100\n",
            "1/1 [==============================] - 0s 14ms/step - loss: 2.4025 - mae: 2.4025\n",
            "Epoch 52/100\n",
            "1/1 [==============================] - 0s 11ms/step - loss: 2.1796 - mae: 2.1796\n",
            "Epoch 53/100\n",
            "1/1 [==============================] - 0s 10ms/step - loss: 1.9447 - mae: 1.9447\n",
            "Epoch 54/100\n",
            "1/1 [==============================] - 0s 10ms/step - loss: 1.6976 - mae: 1.6976\n",
            "Epoch 55/100\n",
            "1/1 [==============================] - 0s 9ms/step - loss: 1.4515 - mae: 1.4515\n",
            "Epoch 56/100\n",
            "1/1 [==============================] - 0s 9ms/step - loss: 1.1802 - mae: 1.1802\n",
            "Epoch 57/100\n",
            "1/1 [==============================] - 0s 10ms/step - loss: 0.9169 - mae: 0.9169\n",
            "Epoch 58/100\n",
            "1/1 [==============================] - 0s 11ms/step - loss: 0.6539 - mae: 0.6539\n",
            "Epoch 59/100\n",
            "1/1 [==============================] - 0s 10ms/step - loss: 0.3922 - mae: 0.3922\n",
            "Epoch 60/100\n",
            "1/1 [==============================] - 0s 9ms/step - loss: 0.1656 - mae: 0.1656\n",
            "Epoch 61/100\n",
            "1/1 [==============================] - 0s 9ms/step - loss: 0.2764 - mae: 0.2764\n",
            "Epoch 62/100\n",
            "1/1 [==============================] - 0s 10ms/step - loss: 0.4704 - mae: 0.4704\n",
            "Epoch 63/100\n",
            "1/1 [==============================] - 0s 9ms/step - loss: 0.6119 - mae: 0.6119\n",
            "Epoch 64/100\n",
            "1/1 [==============================] - 0s 13ms/step - loss: 0.7039 - mae: 0.7039\n",
            "Epoch 65/100\n",
            "1/1 [==============================] - 0s 15ms/step - loss: 0.7418 - mae: 0.7418\n",
            "Epoch 66/100\n",
            "1/1 [==============================] - 0s 10ms/step - loss: 0.7314 - mae: 0.7314\n",
            "Epoch 67/100\n",
            "1/1 [==============================] - 0s 11ms/step - loss: 0.6802 - mae: 0.6802\n",
            "Epoch 68/100\n",
            "1/1 [==============================] - 0s 10ms/step - loss: 0.6135 - mae: 0.6135\n",
            "Epoch 69/100\n",
            "1/1 [==============================] - 0s 10ms/step - loss: 0.5236 - mae: 0.5236\n",
            "Epoch 70/100\n",
            "1/1 [==============================] - 0s 10ms/step - loss: 0.3970 - mae: 0.3970\n",
            "Epoch 71/100\n",
            "1/1 [==============================] - 0s 12ms/step - loss: 0.3064 - mae: 0.3064\n",
            "Epoch 72/100\n",
            "1/1 [==============================] - 0s 10ms/step - loss: 0.1586 - mae: 0.1586\n",
            "Epoch 73/100\n",
            "1/1 [==============================] - 0s 12ms/step - loss: 0.2705 - mae: 0.2705\n",
            "Epoch 74/100\n",
            "1/1 [==============================] - 0s 13ms/step - loss: 0.3909 - mae: 0.3909\n",
            "Epoch 75/100\n",
            "1/1 [==============================] - 0s 11ms/step - loss: 0.3207 - mae: 0.3207\n",
            "Epoch 76/100\n",
            "1/1 [==============================] - 0s 12ms/step - loss: 0.5365 - mae: 0.5365\n",
            "Epoch 77/100\n",
            "1/1 [==============================] - 0s 12ms/step - loss: 0.5847 - mae: 0.5847\n",
            "Epoch 78/100\n",
            "1/1 [==============================] - 0s 12ms/step - loss: 0.3632 - mae: 0.3632\n",
            "Epoch 79/100\n",
            "1/1 [==============================] - 0s 12ms/step - loss: 0.4950 - mae: 0.4950\n",
            "Epoch 80/100\n",
            "1/1 [==============================] - 0s 11ms/step - loss: 0.5852 - mae: 0.5852\n",
            "Epoch 81/100\n",
            "1/1 [==============================] - 0s 15ms/step - loss: 0.4604 - mae: 0.4604\n",
            "Epoch 82/100\n",
            "1/1 [==============================] - 0s 10ms/step - loss: 0.1095 - mae: 0.1095\n",
            "Epoch 83/100\n",
            "1/1 [==============================] - 0s 13ms/step - loss: 0.5081 - mae: 0.5081\n",
            "Epoch 84/100\n",
            "1/1 [==============================] - 0s 12ms/step - loss: 0.6793 - mae: 0.6793\n",
            "Epoch 85/100\n",
            "1/1 [==============================] - 0s 10ms/step - loss: 0.5261 - mae: 0.5261\n",
            "Epoch 86/100\n",
            "1/1 [==============================] - 0s 9ms/step - loss: 0.2769 - mae: 0.2769\n",
            "Epoch 87/100\n",
            "1/1 [==============================] - 0s 10ms/step - loss: 0.6758 - mae: 0.6758\n",
            "Epoch 88/100\n",
            "1/1 [==============================] - 0s 9ms/step - loss: 0.9090 - mae: 0.9090\n",
            "Epoch 89/100\n",
            "1/1 [==============================] - 0s 10ms/step - loss: 0.8123 - mae: 0.8123\n",
            "Epoch 90/100\n",
            "1/1 [==============================] - 0s 11ms/step - loss: 0.4426 - mae: 0.4426\n",
            "Epoch 91/100\n",
            "1/1 [==============================] - 0s 12ms/step - loss: 0.3451 - mae: 0.3451\n",
            "Epoch 92/100\n",
            "1/1 [==============================] - 0s 11ms/step - loss: 0.6242 - mae: 0.6242\n",
            "Epoch 93/100\n",
            "1/1 [==============================] - 0s 10ms/step - loss: 0.6379 - mae: 0.6379\n",
            "Epoch 94/100\n",
            "1/1 [==============================] - 0s 15ms/step - loss: 0.3756 - mae: 0.3756\n",
            "Epoch 95/100\n",
            "1/1 [==============================] - 0s 11ms/step - loss: 0.1784 - mae: 0.1784\n",
            "Epoch 96/100\n",
            "1/1 [==============================] - 0s 12ms/step - loss: 0.4470 - mae: 0.4470\n",
            "Epoch 97/100\n",
            "1/1 [==============================] - 0s 12ms/step - loss: 0.4310 - mae: 0.4310\n",
            "Epoch 98/100\n",
            "1/1 [==============================] - 0s 10ms/step - loss: 0.1989 - mae: 0.1989\n",
            "Epoch 99/100\n",
            "1/1 [==============================] - 0s 11ms/step - loss: 0.3103 - mae: 0.3103\n",
            "Epoch 100/100\n",
            "1/1 [==============================] - 0s 11ms/step - loss: 0.4152 - mae: 0.4152\n"
          ]
        },
        {
          "data": {
            "text/plain": [
              "<keras.callbacks.History at 0x7f23996ae7c0>"
            ]
          },
          "execution_count": 19,
          "metadata": {},
          "output_type": "execute_result"
        }
      ],
      "source": [
        "# Giving a try \n",
        "\n",
        "# 1. Create a model \n",
        "model = tf.keras.Sequential([\n",
        "    tf.keras.layers.Dense(50, activation=None),\n",
        "    tf.keras.layers.Dense(1)\n",
        "])\n",
        "\n",
        "# 2. Compile the model\n",
        "model.compile(loss=tf.keras.losses.mae,\n",
        "              optimizer=tf.keras.optimizers.Adam(learning_rate=0.01),\n",
        "              metrics=[\"mae\"])\n",
        "\n",
        "# 3. Fit the model \n",
        "model.fit(tf.expand_dims(X,axis=-1),y, epochs=100)"
      ]
    },
    {
      "cell_type": "code",
      "execution_count": null,
      "metadata": {
        "colab": {
          "base_uri": "https://localhost:8080/"
        },
        "id": "3QdrwTHqqbsR",
        "outputId": "c981c5e9-6f8e-4316-a0c0-129da9d4a3ec"
      },
      "outputs": [
        {
          "data": {
            "text/plain": [
              "(<tf.Tensor: shape=(8,), dtype=float64, numpy=array([-7., -4., -1.,  2.,  5.,  8., 11., 14.])>,\n",
              " <tf.Tensor: shape=(8,), dtype=float64, numpy=array([ 3.,  6.,  9., 12., 15., 18., 21., 24.])>)"
            ]
          },
          "execution_count": 20,
          "metadata": {},
          "output_type": "execute_result"
        }
      ],
      "source": [
        "X, y\n"
      ]
    },
    {
      "cell_type": "code",
      "execution_count": null,
      "metadata": {
        "colab": {
          "base_uri": "https://localhost:8080/"
        },
        "id": "OS-W75yhqSz1",
        "outputId": "0d21ceff-b001-4668-a453-8ef480fc7e56"
      },
      "outputs": [
        {
          "name": "stdout",
          "output_type": "stream",
          "text": [
            "1/1 [==============================] - 0s 119ms/step\n"
          ]
        },
        {
          "data": {
            "text/plain": [
              "array([[27.623991]], dtype=float32)"
            ]
          },
          "execution_count": 21,
          "metadata": {},
          "output_type": "execute_result"
        }
      ],
      "source": [
        "model.predict([17.0])"
      ]
    },
    {
      "cell_type": "markdown",
      "metadata": {
        "id": "hhqvbAWmv2Vl"
      },
      "source": [
        "## Evaluating a model\n",
        "\n",
        "In practice, a typical workflow you'll go through when building neural network is:\n",
        "\n",
        "```\n",
        "Build a model -> fit it -> evaluate it -> tweak a model -> fit it -> tweak a model->\n",
        "fit it -> evaluate it...\n",
        "```"
      ]
    },
    {
      "cell_type": "markdown",
      "metadata": {
        "id": "hPBu9aGQYrAE"
      },
      "source": [
        "When it comes to evaluation... there are 3 words you should memorize:\n",
        "> \"Visualise, Visualise, Visualise\"\n",
        "\n",
        "* The data - what data are we working with? What does it look like?\n",
        "* The model - what does our model look like?\n",
        "* The training of a model - how does a model perform while it learns?\n",
        "* The predictions of the model - how do the predictions of a model line up against the ground truth (the original labels) ?\n"
      ]
    },
    {
      "cell_type": "code",
      "execution_count": null,
      "metadata": {
        "colab": {
          "base_uri": "https://localhost:8080/"
        },
        "id": "MX4t8spwawoE",
        "outputId": "d3ee0817-9dc8-465c-ee73-f06fe714905f"
      },
      "outputs": [
        {
          "data": {
            "text/plain": [
              "<tf.Tensor: shape=(50,), dtype=int32, numpy=\n",
              "array([-100,  -96,  -92,  -88,  -84,  -80,  -76,  -72,  -68,  -64,  -60,\n",
              "        -56,  -52,  -48,  -44,  -40,  -36,  -32,  -28,  -24,  -20,  -16,\n",
              "        -12,   -8,   -4,    0,    4,    8,   12,   16,   20,   24,   28,\n",
              "         32,   36,   40,   44,   48,   52,   56,   60,   64,   68,   72,\n",
              "         76,   80,   84,   88,   92,   96], dtype=int32)>"
            ]
          },
          "execution_count": 22,
          "metadata": {},
          "output_type": "execute_result"
        }
      ],
      "source": [
        "# Make a bigger a dataset\n",
        "X = tf.range(-100,100,4)\n",
        "X"
      ]
    },
    {
      "cell_type": "code",
      "execution_count": null,
      "metadata": {
        "colab": {
          "base_uri": "https://localhost:8080/"
        },
        "id": "S8ojaMmgcIgz",
        "outputId": "81f8e35f-704d-410a-f2d4-01c6f991e5f9"
      },
      "outputs": [
        {
          "data": {
            "text/plain": [
              "<tf.Tensor: shape=(50,), dtype=int32, numpy=\n",
              "array([-90, -86, -82, -78, -74, -70, -66, -62, -58, -54, -50, -46, -42,\n",
              "       -38, -34, -30, -26, -22, -18, -14, -10,  -6,  -2,   2,   6,  10,\n",
              "        14,  18,  22,  26,  30,  34,  38,  42,  46,  50,  54,  58,  62,\n",
              "        66,  70,  74,  78,  82,  86,  90,  94,  98, 102, 106], dtype=int32)>"
            ]
          },
          "execution_count": 23,
          "metadata": {},
          "output_type": "execute_result"
        }
      ],
      "source": [
        "# Make the labels for the datasets\n",
        "y = X + 10\n",
        "y"
      ]
    },
    {
      "cell_type": "code",
      "execution_count": null,
      "metadata": {
        "colab": {
          "base_uri": "https://localhost:8080/",
          "height": 282
        },
        "id": "CUg0cPRacszk",
        "outputId": "7cea5dfb-1772-4162-c117-3d34928d38b2"
      },
      "outputs": [
        {
          "data": {
            "text/plain": [
              "<matplotlib.collections.PathCollection at 0x7f239963e970>"
            ]
          },
          "execution_count": 24,
          "metadata": {},
          "output_type": "execute_result"
        },
        {
          "data": {
            "image/png": "[encoded data removed]",
            "text/plain": [
              "<Figure size 432x288 with 1 Axes>"
            ]
          },
          "metadata": {},
          "output_type": "display_data"
        }
      ],
      "source": [
        "# Visualize the data \n",
        "plt.scatter(X, y)"
      ]
    },
    {
      "cell_type": "markdown",
      "metadata": {
        "id": "FlugMibvc6PY"
      },
      "source": [
        "### The 3 sets..\n",
        "\n",
        "* **Training set** - model learn from this data\n",
        "70-80% of data\n",
        "* **Validation set** - model gets tuned on this data 10-15% of data\n",
        "* **Test set** - model gets evaluated on this data 10-15%\n"
      ]
    },
    {
      "cell_type": "code",
      "execution_count": null,
      "metadata": {
        "colab": {
          "base_uri": "https://localhost:8080/"
        },
        "id": "43j3kRkAeiAJ",
        "outputId": "bec8bca9-38e5-4bc4-b99b-3d75c112fae5"
      },
      "outputs": [
        {
          "data": {
            "text/plain": [
              "50"
            ]
          },
          "execution_count": 25,
          "metadata": {},
          "output_type": "execute_result"
        }
      ],
      "source": [
        "# Check the length of how many samples we have\n",
        "len(X)"
      ]
    },
    {
      "cell_type": "code",
      "execution_count": null,
      "metadata": {
        "colab": {
          "base_uri": "https://localhost:8080/"
        },
        "id": "kFS6uXI3e9-c",
        "outputId": "f6e321ee-e763-449a-89ef-d325eb441ba0"
      },
      "outputs": [
        {
          "data": {
            "text/plain": [
              "(40, 40, 10, 10)"
            ]
          },
          "execution_count": 26,
          "metadata": {},
          "output_type": "execute_result"
        }
      ],
      "source": [
        "# Split the data into train and test sets\n",
        "X_train = X[:40] # first 40 (80%)\n",
        "y_train = y[:40] \n",
        "X_test = X[40:] # last 10 (20%)\n",
        "y_test = y[40:]\n",
        "\n",
        "len(X_train), len(y_train), len(X_test), len(y_test)"
      ]
    },
    {
      "cell_type": "markdown",
      "metadata": {
        "id": "hy_VMd88gG3K"
      },
      "source": [
        "### Visualizing the data\n",
        "\n",
        "Now we've got our data in training and test sets... let's visualize it again"
      ]
    },
    {
      "cell_type": "code",
      "execution_count": null,
      "metadata": {
        "colab": {
          "base_uri": "https://localhost:8080/",
          "height": 428
        },
        "id": "JAAsjZS5gjyG",
        "outputId": "3ae39157-5dbd-439f-9530-bbe4b0b0c643"
      },
      "outputs": [
        {
          "data": {
            "image/png": "[encoded data removed]",
            "text/plain": [
              "<Figure size 720x504 with 1 Axes>"
            ]
          },
          "metadata": {},
          "output_type": "display_data"
        }
      ],
      "source": [
        "plt.figure(figsize=(10, 7)) #size of the plot\n",
        "# Plot training data in blue\n",
        "plt.scatter(X_train, y_train, c=\"b\", label=\"Training data\")\n",
        "# Plot test data in green\n",
        "plt.scatter(X_test, y_test, c=\"g\", label=\"Testing data\")\n",
        "# Show a legend\n",
        "plt.legend();"
      ]
    },
    {
      "cell_type": "code",
      "execution_count": null,
      "metadata": {
        "id": "4UYah_xahdze"
      },
      "outputs": [],
      "source": [
        "# Build a neural network model for our data\n",
        "\n",
        "# 1. Create a model\n",
        "model = tf.keras.Sequential([\n",
        "    tf.keras.layers.Dense(1)\n",
        "])\n",
        "\n",
        "# 2. Compile the model\n",
        "model.compile(loss=tf.keras.losses.mae,\n",
        "              optimizer=tf.keras.optimizers.SGD(),\n",
        "              metrics=[\"mae\"])\n",
        "\n",
        "# 3. Fit the model\n",
        "# model.fit(X_train, y_train, epochs=100)"
      ]
    },
    {
      "cell_type": "code",
      "execution_count": null,
      "metadata": {
        "colab": {
          "base_uri": "https://localhost:8080/",
          "height": 321
        },
        "id": "4EZ_-6lXsHOL",
        "outputId": "577709e8-48e2-4937-d4c5-e2a1be5b14d3"
      },
      "outputs": [
        {
          "ename": "ValueError",
          "evalue": "ignored",
          "output_type": "error",
          "traceback": [
            "\u001b[0;31m---------------------------------------------------------------------------\u001b[0m",
            "\u001b[0;31mValueError\u001b[0m                                Traceback (most recent call last)",
            "\u001b[0;32m<ipython-input-29-5f15418b3570>\u001b[0m in \u001b[0;36m<module>\u001b[0;34m\u001b[0m\n\u001b[0;32m----> 1\u001b[0;31m \u001b[0mmodel\u001b[0m\u001b[0;34m.\u001b[0m\u001b[0msummary\u001b[0m\u001b[0;34m(\u001b[0m\u001b[0;34m)\u001b[0m\u001b[0;34m\u001b[0m\u001b[0;34m\u001b[0m\u001b[0m\n\u001b[0m",
            "\u001b[0;32m/usr/local/lib/python3.8/dist-packages/keras/engine/training.py\u001b[0m in \u001b[0;36msummary\u001b[0;34m(self, line_length, positions, print_fn, expand_nested, show_trainable, layer_range)\u001b[0m\n\u001b[1;32m   3290\u001b[0m         \"\"\"\n\u001b[1;32m   3291\u001b[0m         \u001b[0;32mif\u001b[0m \u001b[0;32mnot\u001b[0m \u001b[0mself\u001b[0m\u001b[0;34m.\u001b[0m\u001b[0mbuilt\u001b[0m\u001b[0;34m:\u001b[0m\u001b[0;34m\u001b[0m\u001b[0;34m\u001b[0m\u001b[0m\n\u001b[0;32m-> 3292\u001b[0;31m             raise ValueError(\n\u001b[0m\u001b[1;32m   3293\u001b[0m                 \u001b[0;34m\"This model has not yet been built. \"\u001b[0m\u001b[0;34m\u001b[0m\u001b[0;34m\u001b[0m\u001b[0m\n\u001b[1;32m   3294\u001b[0m                 \u001b[0;34m\"Build the model first by calling `build()` or by calling \"\u001b[0m\u001b[0;34m\u001b[0m\u001b[0;34m\u001b[0m\u001b[0m\n",
            "\u001b[0;31mValueError\u001b[0m: This model has not yet been built. Build the model first by calling `build()` or by calling the model on a batch of data."
          ]
        }
      ],
      "source": [
        "model.summary()"
      ]
    },
    {
      "cell_type": "code",
      "execution_count": null,
      "metadata": {
        "id": "7Qk5l9WhsKZc"
      },
      "outputs": [],
      "source": [
        "# Let's create a model which builds automatically by defining the input_shape argument\n",
        "tf.random.set_seed(42)\n",
        "\n",
        "# 1. Create a model (same as above)\n",
        "model = tf.keras.Sequential([\n",
        "    tf.keras.layers.Dense(10, input_shape=[1],name=\"input_layer\"),\n",
        "    tf.keras.layers.Dense(1,name=\"output_layer\")\n",
        "],name=\"model_1\")\n",
        "\n",
        "# 2. Compile the model (same as above)\n",
        "model.compile(loss=tf.keras.losses.mae,\n",
        "              optimizer=tf.keras.optimizers.SGD(),\n",
        "              metrics=[\"mae\"])"
      ]
    },
    {
      "cell_type": "code",
      "execution_count": null,
      "metadata": {
        "colab": {
          "base_uri": "https://localhost:8080/"
        },
        "id": "tsL4tC-ztSYi",
        "outputId": "78bdf969-5ff5-42e4-ce98-cc51fd4ecae2"
      },
      "outputs": [
        {
          "name": "stdout",
          "output_type": "stream",
          "text": [
            "Model: \"model_1\"\n",
            "_________________________________________________________________\n",
            " Layer (type)                Output Shape              Param #   \n",
            "=================================================================\n",
            " input_layer (Dense)         (None, 10)                20        \n",
            "                                                                 \n",
            " output_layer (Dense)        (None, 1)                 11        \n",
            "                                                                 \n",
            "=================================================================\n",
            "Total params: 31\n",
            "Trainable params: 31\n",
            "Non-trainable params: 0\n",
            "_________________________________________________________________\n"
          ]
        }
      ],
      "source": [
        "model.summary()"
      ]
    },
    {
      "cell_type": "markdown",
      "metadata": {
        "id": "GTFP1HQdtwTS"
      },
      "source": [
        "* Total params - total number of parameters in the model\n",
        "* Trainable params - these are the parameters(patterns) the model can update as it trains.\n",
        "* Non-trainable params - these parameters aren't updated during training (this is typical when you bring in already learn patterns or parameters from other models during **transfer learning**).\n",
        "\n",
        "**Resources:** MIT's introduction to deep learning\n",
        "\n"
      ]
    },
    {
      "cell_type": "code",
      "execution_count": null,
      "metadata": {
        "colab": {
          "base_uri": "https://localhost:8080/"
        },
        "id": "6pkMvG23tfe_",
        "outputId": "9ce34b0b-5550-492e-a402-2d245eee5095"
      },
      "outputs": [
        {
          "data": {
            "text/plain": [
              "<keras.callbacks.History at 0x7f2398d3d040>"
            ]
          },
          "execution_count": 32,
          "metadata": {},
          "output_type": "execute_result"
        }
      ],
      "source": [
        "# Let's fit our model to the training data\n",
        "model.fit(X_train, y_train, epochs=100,verbose=0)"
      ]
    },
    {
      "cell_type": "code",
      "execution_count": null,
      "metadata": {
        "colab": {
          "base_uri": "https://localhost:8080/"
        },
        "id": "5OQrLqPGYA77",
        "outputId": "ef592cea-97f1-420a-f631-78a371db3df4"
      },
      "outputs": [
        {
          "name": "stdout",
          "output_type": "stream",
          "text": [
            "Model: \"model_1\"\n",
            "_________________________________________________________________\n",
            " Layer (type)                Output Shape              Param #   \n",
            "=================================================================\n",
            " input_layer (Dense)         (None, 10)                20        \n",
            "                                                                 \n",
            " output_layer (Dense)        (None, 1)                 11        \n",
            "                                                                 \n",
            "=================================================================\n",
            "Total params: 31\n",
            "Trainable params: 31\n",
            "Non-trainable params: 0\n",
            "_________________________________________________________________\n"
          ]
        }
      ],
      "source": [
        "# Get a summary of our model\n",
        "model.summary()"
      ]
    },
    {
      "cell_type": "code",
      "execution_count": null,
      "metadata": {
        "colab": {
          "base_uri": "https://localhost:8080/",
          "height": 312
        },
        "id": "tl6-t-r2cXeZ",
        "outputId": "3fedb2b6-89ef-4907-89af-b9fb7b99b37e"
      },
      "outputs": [
        {
          "data": {
            "image/png": "[encoded data removed]",
            "text/plain": [
              "<IPython.core.display.Image object>"
            ]
          },
          "execution_count": 34,
          "metadata": {},
          "output_type": "execute_result"
        }
      ],
      "source": [
        "from tensorflow.keras.utils import plot_model\n",
        "plot_model(model=model, show_shapes=True)"
      ]
    },
    {
      "cell_type": "markdown",
      "metadata": {
        "id": "sQuEZ_0Wi25v"
      },
      "source": [
        "### Visualizing our model's prediction\n",
        "To visualize predictions,plot them against the ground truth labels.\n",
        "\n",
        "Often you'll see this in the form of `y_test` or `y_true` versus `y_pred` (ground truth versus your model's predictions)."
      ]
    },
    {
      "cell_type": "code",
      "execution_count": null,
      "metadata": {
        "colab": {
          "base_uri": "https://localhost:8080/"
        },
        "id": "T3Nzj_JCYyIN",
        "outputId": "6718b84e-4237-4786-9353-378253b48584"
      },
      "outputs": [
        {
          "name": "stdout",
          "output_type": "stream",
          "text": [
            "1/1 [==============================] - 0s 56ms/step\n"
          ]
        },
        {
          "data": {
            "text/plain": [
              "array([[34.84039 ],\n",
              "       [37.066753],\n",
              "       [39.293114],\n",
              "       [41.51947 ],\n",
              "       [43.74584 ],\n",
              "       [45.9722  ],\n",
              "       [48.19856 ],\n",
              "       [50.42492 ],\n",
              "       [52.651283],\n",
              "       [54.877636]], dtype=float32)"
            ]
          },
          "execution_count": 35,
          "metadata": {},
          "output_type": "execute_result"
        }
      ],
      "source": [
        "# Make some predictions\n",
        "y_pred = model.predict(X_test)\n",
        "y_pred"
      ]
    },
    {
      "cell_type": "code",
      "execution_count": null,
      "metadata": {
        "colab": {
          "base_uri": "https://localhost:8080/"
        },
        "id": "uWV4xB31aw3F",
        "outputId": "d995f3ba-5a33-471c-cf93-978607a27a70"
      },
      "outputs": [
        {
          "data": {
            "text/plain": [
              "<tf.Tensor: shape=(10,), dtype=int32, numpy=array([ 70,  74,  78,  82,  86,  90,  94,  98, 102, 106], dtype=int32)>"
            ]
          },
          "execution_count": 36,
          "metadata": {},
          "output_type": "execute_result"
        }
      ],
      "source": [
        "y_test"
      ]
    },
    {
      "cell_type": "markdown",
      "metadata": {
        "id": "QpNUW0WIbRN_"
      },
      "source": [
        "**Note:** If you feel like you're going to reuse some kind of functionality in the future, it's a good idea to turn it into a function."
      ]
    },
    {
      "cell_type": "code",
      "execution_count": null,
      "metadata": {
        "id": "6vG2eorIa24v"
      },
      "outputs": [],
      "source": [
        "# Let's create a plotting function\n",
        "def plot_predictions(train_data=X_train,\n",
        "                     train_labels=y_train,\n",
        "                     test_data=X_test,\n",
        "                     test_labels=y_test,\n",
        "                     predictions=y_pred):\n",
        "  \"\"\"\n",
        "  plots training data, test data and compares predictions to the ground truth labels.\n",
        "  \"\"\"\n",
        "  plt.figure(figsize=(10,7))\n",
        "# Plot training data in blue\n",
        "  plt.scatter(train_data, train_labels, c=\"b\", label=\"Training data\")\n",
        "# Plot testing data in green\n",
        "  plt.scatter(test_data, test_labels, c=\"g\", label=\"Testing data\")\n",
        "# plot model's predictions in red\n",
        "  plt.scatter(test_data, predictions, c=\"r\", label=\"Predictions\")\n",
        "# Show the legend\n",
        "  plt.legend();\n"
      ]
    },
    {
      "cell_type": "code",
      "execution_count": null,
      "metadata": {
        "colab": {
          "base_uri": "https://localhost:8080/",
          "height": 428
        },
        "id": "1FrBH6OMfPZ0",
        "outputId": "0f75ba07-cd40-4f0f-be0f-3b2b4b68eade"
      },
      "outputs": [
        {
          "data": {
            "image/png": "[encoded data removed]",
            "text/plain": [
              "<Figure size 720x504 with 1 Axes>"
            ]
          },
          "metadata": {},
          "output_type": "display_data"
        }
      ],
      "source": [
        "plot_predictions()"
      ]
    },
    {
      "cell_type": "markdown",
      "metadata": {
        "id": "ExlZ8iF6hBRd"
      },
      "source": [
        "### Evaluating our model's predictions with regression evaluation metrics\n",
        "\n",
        "Depending on the problem you're working on, there will be different evaluation metrics to evaluate your model's performance.\n",
        "\n",
        "Since we're working on a regression, two of the main metrics:\n",
        "* MAE - mean absolute error, \"on average, how wrong is each of my model's predictions\"\n",
        "* MSE - mean squared error, \"square the average errors\"\n",
        "![Screenshot 2023-01-25 164632.png](data:image/png;base64,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)\n"
      ]
    },
    {
      "cell_type": "code",
      "execution_count": null,
      "metadata": {
        "colab": {
          "base_uri": "https://localhost:8080/"
        },
        "id": "WD6r9_lVkqXY",
        "outputId": "21df6b67-04b3-43e6-c40e-aea3dcd3637c"
      },
      "outputs": [
        {
          "name": "stdout",
          "output_type": "stream",
          "text": [
            "1/1 [==============================] - 0s 152ms/step - loss: 43.1410 - mae: 43.1410\n"
          ]
        },
        {
          "data": {
            "text/plain": [
              "[43.14098358154297, 43.14098358154297]"
            ]
          },
          "execution_count": 39,
          "metadata": {},
          "output_type": "execute_result"
        }
      ],
      "source": [
        "# Evaluate the model on the test\n",
        "model.evaluate(X_test, y_test)"
      ]
    },
    {
      "cell_type": "code",
      "execution_count": null,
      "metadata": {
        "colab": {
          "base_uri": "https://localhost:8080/"
        },
        "id": "AjWspz2mq-Rp",
        "outputId": "5b24f235-57ef-43d5-ddc0-656e62b97eab"
      },
      "outputs": [
        {
          "data": {
            "text/plain": [
              "<tf.Tensor: shape=(10,), dtype=float32, numpy=\n",
              "array([53.159607, 50.933247, 48.706886, 46.48053 , 44.25416 , 42.0278  ,\n",
              "       39.80144 , 37.57508 , 35.348717, 33.122364], dtype=float32)>"
            ]
          },
          "execution_count": 40,
          "metadata": {},
          "output_type": "execute_result"
        }
      ],
      "source": [
        "# Calculate the mean absolute error\n",
        "mae = tf.metrics.mean_absolute_error(y_true=y_test,y_pred=tf.constant(y_pred))\n",
        "mae"
      ]
    },
    {
      "cell_type": "code",
      "execution_count": null,
      "metadata": {
        "colab": {
          "base_uri": "https://localhost:8080/"
        },
        "id": "Qj7vpA8brQnq",
        "outputId": "8c096672-2f85-434a-82ae-d58b3a541ca6"
      },
      "outputs": [
        {
          "data": {
            "text/plain": [
              "<tf.Tensor: shape=(10, 1), dtype=float32, numpy=\n",
              "array([[34.84039 ],\n",
              "       [37.066753],\n",
              "       [39.293114],\n",
              "       [41.51947 ],\n",
              "       [43.74584 ],\n",
              "       [45.9722  ],\n",
              "       [48.19856 ],\n",
              "       [50.42492 ],\n",
              "       [52.651283],\n",
              "       [54.877636]], dtype=float32)>"
            ]
          },
          "execution_count": 41,
          "metadata": {},
          "output_type": "execute_result"
        }
      ],
      "source": [
        "tf.constant(y_pred)"
      ]
    },
    {
      "cell_type": "code",
      "execution_count": null,
      "metadata": {
        "colab": {
          "base_uri": "https://localhost:8080/"
        },
        "id": "qsB1bHx-s6Zh",
        "outputId": "57ba9743-9953-4db2-eac1-d7c4314b0924"
      },
      "outputs": [
        {
          "data": {
            "text/plain": [
              "<tf.Tensor: shape=(10,), dtype=int32, numpy=array([ 70,  74,  78,  82,  86,  90,  94,  98, 102, 106], dtype=int32)>"
            ]
          },
          "execution_count": 42,
          "metadata": {},
          "output_type": "execute_result"
        }
      ],
      "source": [
        "y_test"
      ]
    },
    {
      "cell_type": "code",
      "execution_count": null,
      "metadata": {
        "colab": {
          "base_uri": "https://localhost:8080/"
        },
        "id": "NAoYAUJ9s72j",
        "outputId": "c32efc8f-5e23-4113-ea0c-def4b346f3a2"
      },
      "outputs": [
        {
          "data": {
            "text/plain": [
              "<tf.Tensor: shape=(10,), dtype=float32, numpy=\n",
              "array([34.84039 , 37.066753, 39.293114, 41.51947 , 43.74584 , 45.9722  ,\n",
              "       48.19856 , 50.42492 , 52.651283, 54.877636], dtype=float32)>"
            ]
          },
          "execution_count": 43,
          "metadata": {},
          "output_type": "execute_result"
        }
      ],
      "source": [
        "tf.squeeze(y_pred)"
      ]
    },
    {
      "cell_type": "code",
      "execution_count": null,
      "metadata": {
        "colab": {
          "base_uri": "https://localhost:8080/"
        },
        "id": "rtyA_72-GfrY",
        "outputId": "ef17c5a2-0786-4269-805f-f64f35f48f99"
      },
      "outputs": [
        {
          "data": {
            "text/plain": [
              "<tf.Tensor: shape=(), dtype=float32, numpy=43.140984>"
            ]
          },
          "execution_count": 44,
          "metadata": {},
          "output_type": "execute_result"
        }
      ],
      "source": [
        "# Calculate the mean absolute error\n",
        "mae = tf.metrics.mean_absolute_error(y_true=y_test,\n",
        "                                     y_pred=tf.squeeze(y_pred))\n",
        "mae"
      ]
    },
    {
      "cell_type": "code",
      "execution_count": null,
      "metadata": {
        "colab": {
          "base_uri": "https://localhost:8080/"
        },
        "id": "XoaTc37SIOo_",
        "outputId": "ead82f0b-a99c-40d2-85fa-530e2786f6f5"
      },
      "outputs": [
        {
          "data": {
            "text/plain": [
              "<tf.Tensor: shape=(), dtype=float32, numpy=1887.0973>"
            ]
          },
          "execution_count": 45,
          "metadata": {},
          "output_type": "execute_result"
        }
      ],
      "source": [
        "# Calculate the mean square error\n",
        "mse = tf.metrics.mean_squared_error(y_true=y_test,\n",
        "                                    y_pred=tf.squeeze(y_pred))\n",
        "mse"
      ]
    },
    {
      "cell_type": "code",
      "execution_count": null,
      "metadata": {
        "id": "JLjVo9x2IyLC"
      },
      "outputs": [],
      "source": [
        "# Make some functions to reuse MAE and MSE\n",
        "def mae(y_true,y_pred):\n",
        "  return tf.metrics.mean_absolute_error(y_true=y_true,\n",
        "                                        y_pred=tf.squeeze(y_pred))\n",
        "  \n",
        "def mse(y_true,y_pred):\n",
        "  return tf.metrics.mean_squared_error(y_true=y_true,\n",
        "                                       y_pred=tf.squeeze(y_pred))\n",
        "  "
      ]
    },
    {
      "cell_type": "markdown",
      "metadata": {
        "id": "7rJXX6aDKGcR"
      },
      "source": [
        "## Running experiments to improve our model\n",
        "\n",
        "```\n",
        "Build a model -> fit it -> evaluate it -> tweak it -> fit it -> evaluate it -> tweak it -> fit it -> evaluate it..\n",
        "```\n",
        "\n",
        "1. Get more data - get more examples for your model to train on ( more oppurtunities to learn patterns or relationships between features and labels). \n",
        "2. Make your model larger (using a more complex model) - This might come in the form of more layers or more hidden units in each layer.\n",
        "3. Train for longer - give your model more of chance to find patterns in the data.\n",
        "\n",
        "Let's do 3 modeling experiments:\n",
        "\n",
        "1. `model_1` - same as the original model, 1 layer, trained for 100 epochs.\n",
        "2. `model_2` - 2 layers, trained for 100 epochs\n",
        "3. `model_3` - 2 layers, trained for 500 epochs\n",
        "\n",
        "**Build    `model_1`**"
      ]
    },
    {
      "cell_type": "code",
      "execution_count": null,
      "metadata": {
        "colab": {
          "base_uri": "https://localhost:8080/"
        },
        "id": "y6UpKnSzUmIY",
        "outputId": "84366351-133a-4f11-af50-b676c594398f"
      },
      "outputs": [
        {
          "data": {
            "text/plain": [
              "(<tf.Tensor: shape=(40,), dtype=int32, numpy=\n",
              " array([-100,  -96,  -92,  -88,  -84,  -80,  -76,  -72,  -68,  -64,  -60,\n",
              "         -56,  -52,  -48,  -44,  -40,  -36,  -32,  -28,  -24,  -20,  -16,\n",
              "         -12,   -8,   -4,    0,    4,    8,   12,   16,   20,   24,   28,\n",
              "          32,   36,   40,   44,   48,   52,   56], dtype=int32)>,\n",
              " <tf.Tensor: shape=(40,), dtype=int32, numpy=\n",
              " array([-90, -86, -82, -78, -74, -70, -66, -62, -58, -54, -50, -46, -42,\n",
              "        -38, -34, -30, -26, -22, -18, -14, -10,  -6,  -2,   2,   6,  10,\n",
              "         14,  18,  22,  26,  30,  34,  38,  42,  46,  50,  54,  58,  62,\n",
              "         66], dtype=int32)>)"
            ]
          },
          "execution_count": 47,
          "metadata": {},
          "output_type": "execute_result"
        }
      ],
      "source": [
        "X_train, y_train"
      ]
    },
    {
      "cell_type": "code",
      "execution_count": null,
      "metadata": {
        "colab": {
          "base_uri": "https://localhost:8080/"
        },
        "id": "dmdVw3k3LBxJ",
        "outputId": "5932c5f1-648f-4f13-fbc3-b4e6357e2f99"
      },
      "outputs": [
        {
          "name": "stdout",
          "output_type": "stream",
          "text": [
            "Epoch 1/100\n",
            "2/2 [==============================] - 0s 12ms/step - loss: 25.2640 - mae: 25.2640\n",
            "Epoch 2/100\n",
            "2/2 [==============================] - 0s 8ms/step - loss: 9.9125 - mae: 9.9125\n",
            "Epoch 3/100\n",
            "2/2 [==============================] - 0s 7ms/step - loss: 10.6085 - mae: 10.6085\n",
            "Epoch 4/100\n",
            "2/2 [==============================] - 0s 8ms/step - loss: 9.6051 - mae: 9.6051\n",
            "Epoch 5/100\n",
            "2/2 [==============================] - 0s 10ms/step - loss: 10.5200 - mae: 10.5200\n",
            "Epoch 6/100\n",
            "2/2 [==============================] - 0s 10ms/step - loss: 9.7406 - mae: 9.7406\n",
            "Epoch 7/100\n",
            "2/2 [==============================] - 0s 7ms/step - loss: 8.8300 - mae: 8.8300\n",
            "Epoch 8/100\n",
            "2/2 [==============================] - 0s 8ms/step - loss: 9.0680 - mae: 9.0680\n",
            "Epoch 9/100\n",
            "2/2 [==============================] - 0s 8ms/step - loss: 19.3979 - mae: 19.3979\n",
            "Epoch 10/100\n",
            "2/2 [==============================] - 0s 7ms/step - loss: 10.4751 - mae: 10.4751\n",
            "Epoch 11/100\n",
            "2/2 [==============================] - 0s 7ms/step - loss: 8.5398 - mae: 8.5398\n",
            "Epoch 12/100\n",
            "2/2 [==============================] - 0s 7ms/step - loss: 10.9699 - mae: 10.9699\n",
            "Epoch 13/100\n",
            "2/2 [==============================] - 0s 6ms/step - loss: 7.5714 - mae: 7.5714\n",
            "Epoch 14/100\n",
            "2/2 [==============================] - 0s 9ms/step - loss: 15.9657 - mae: 15.9657\n",
            "Epoch 15/100\n",
            "2/2 [==============================] - 0s 7ms/step - loss: 13.0426 - mae: 13.0426\n",
            "Epoch 16/100\n",
            "2/2 [==============================] - 0s 8ms/step - loss: 7.9336 - mae: 7.9336\n",
            "Epoch 17/100\n",
            "2/2 [==============================] - 0s 8ms/step - loss: 11.2420 - mae: 11.2420\n",
            "Epoch 18/100\n",
            "2/2 [==============================] - 0s 7ms/step - loss: 10.2741 - mae: 10.2741\n",
            "Epoch 19/100\n",
            "2/2 [==============================] - 0s 7ms/step - loss: 19.4904 - mae: 19.4904\n",
            "Epoch 20/100\n",
            "2/2 [==============================] - 0s 6ms/step - loss: 16.1444 - mae: 16.1444\n",
            "Epoch 21/100\n",
            "2/2 [==============================] - 0s 6ms/step - loss: 12.0455 - mae: 12.0455\n",
            "Epoch 22/100\n",
            "2/2 [==============================] - 0s 6ms/step - loss: 8.6457 - mae: 8.6457\n",
            "Epoch 23/100\n",
            "2/2 [==============================] - 0s 7ms/step - loss: 9.6752 - mae: 9.6752\n",
            "Epoch 24/100\n",
            "2/2 [==============================] - 0s 7ms/step - loss: 8.5774 - mae: 8.5774\n",
            "Epoch 25/100\n",
            "2/2 [==============================] - 0s 6ms/step - loss: 11.5731 - mae: 11.5731\n",
            "Epoch 26/100\n",
            "2/2 [==============================] - 0s 7ms/step - loss: 15.1588 - mae: 15.1588\n",
            "Epoch 27/100\n",
            "2/2 [==============================] - 0s 6ms/step - loss: 12.0463 - mae: 12.0463\n",
            "Epoch 28/100\n",
            "2/2 [==============================] - 0s 6ms/step - loss: 13.3380 - mae: 13.3380\n",
            "Epoch 29/100\n",
            "2/2 [==============================] - 0s 9ms/step - loss: 9.5979 - mae: 9.5979\n",
            "Epoch 30/100\n",
            "2/2 [==============================] - 0s 8ms/step - loss: 17.1194 - mae: 17.1194\n",
            "Epoch 31/100\n",
            "2/2 [==============================] - 0s 7ms/step - loss: 22.9349 - mae: 22.9349\n",
            "Epoch 32/100\n",
            "2/2 [==============================] - 0s 6ms/step - loss: 7.9136 - mae: 7.9136\n",
            "Epoch 33/100\n",
            "2/2 [==============================] - 0s 7ms/step - loss: 14.0931 - mae: 14.0931\n",
            "Epoch 34/100\n",
            "2/2 [==============================] - 0s 7ms/step - loss: 12.3289 - mae: 12.3289\n",
            "Epoch 35/100\n",
            "2/2 [==============================] - 0s 7ms/step - loss: 8.2733 - mae: 8.2733\n",
            "Epoch 36/100\n",
            "2/2 [==============================] - 0s 8ms/step - loss: 10.5040 - mae: 10.5040\n",
            "Epoch 37/100\n",
            "2/2 [==============================] - 0s 7ms/step - loss: 10.1442 - mae: 10.1442\n",
            "Epoch 38/100\n",
            "2/2 [==============================] - 0s 7ms/step - loss: 11.3535 - mae: 11.3535\n",
            "Epoch 39/100\n",
            "2/2 [==============================] - 0s 7ms/step - loss: 14.7158 - mae: 14.7158\n",
            "Epoch 40/100\n",
            "2/2 [==============================] - 0s 6ms/step - loss: 12.8464 - mae: 12.8464\n",
            "Epoch 41/100\n",
            "2/2 [==============================] - 0s 7ms/step - loss: 9.2314 - mae: 9.2314\n",
            "Epoch 42/100\n",
            "2/2 [==============================] - 0s 11ms/step - loss: 11.0280 - mae: 11.0280\n",
            "Epoch 43/100\n",
            "2/2 [==============================] - 0s 7ms/step - loss: 8.3364 - mae: 8.3364\n",
            "Epoch 44/100\n",
            "2/2 [==============================] - 0s 7ms/step - loss: 13.0919 - mae: 13.0919\n",
            "Epoch 45/100\n",
            "2/2 [==============================] - 0s 7ms/step - loss: 13.6317 - mae: 13.6317\n",
            "Epoch 46/100\n",
            "2/2 [==============================] - 0s 7ms/step - loss: 8.2593 - mae: 8.2593\n",
            "Epoch 47/100\n",
            "2/2 [==============================] - 0s 7ms/step - loss: 8.7411 - mae: 8.7411\n",
            "Epoch 48/100\n",
            "2/2 [==============================] - 0s 8ms/step - loss: 10.0475 - mae: 10.0475\n",
            "Epoch 49/100\n",
            "2/2 [==============================] - 0s 6ms/step - loss: 8.5266 - mae: 8.5266\n",
            "Epoch 50/100\n",
            "2/2 [==============================] - 0s 6ms/step - loss: 9.0361 - mae: 9.0361\n",
            "Epoch 51/100\n",
            "2/2 [==============================] - 0s 7ms/step - loss: 9.3799 - mae: 9.3799\n",
            "Epoch 52/100\n",
            "2/2 [==============================] - 0s 6ms/step - loss: 14.0624 - mae: 14.0624\n",
            "Epoch 53/100\n",
            "2/2 [==============================] - 0s 7ms/step - loss: 15.3914 - mae: 15.3914\n",
            "Epoch 54/100\n",
            "2/2 [==============================] - 0s 8ms/step - loss: 10.9008 - mae: 10.9008\n",
            "Epoch 55/100\n",
            "2/2 [==============================] - 0s 7ms/step - loss: 15.4232 - mae: 15.4232\n",
            "Epoch 56/100\n",
            "2/2 [==============================] - 0s 7ms/step - loss: 9.1173 - mae: 9.1173\n",
            "Epoch 57/100\n",
            "2/2 [==============================] - 0s 6ms/step - loss: 9.6989 - mae: 9.6989\n",
            "Epoch 58/100\n",
            "2/2 [==============================] - 0s 6ms/step - loss: 9.0038 - mae: 9.0038\n",
            "Epoch 59/100\n",
            "2/2 [==============================] - 0s 8ms/step - loss: 10.2395 - mae: 10.2395\n",
            "Epoch 60/100\n",
            "2/2 [==============================] - 0s 8ms/step - loss: 8.1658 - mae: 8.1658\n",
            "Epoch 61/100\n",
            "2/2 [==============================] - 0s 7ms/step - loss: 10.0324 - mae: 10.0324\n",
            "Epoch 62/100\n",
            "2/2 [==============================] - 0s 7ms/step - loss: 7.0353 - mae: 7.0353\n",
            "Epoch 63/100\n",
            "2/2 [==============================] - 0s 7ms/step - loss: 12.6710 - mae: 12.6710\n",
            "Epoch 64/100\n",
            "2/2 [==============================] - 0s 6ms/step - loss: 12.6142 - mae: 12.6142\n",
            "Epoch 65/100\n",
            "2/2 [==============================] - 0s 8ms/step - loss: 9.4379 - mae: 9.4379\n",
            "Epoch 66/100\n",
            "2/2 [==============================] - 0s 9ms/step - loss: 11.5029 - mae: 11.5029\n",
            "Epoch 67/100\n",
            "2/2 [==============================] - 0s 6ms/step - loss: 8.0379 - mae: 8.0379\n",
            "Epoch 68/100\n",
            "2/2 [==============================] - 0s 9ms/step - loss: 8.5655 - mae: 8.5655\n",
            "Epoch 69/100\n",
            "2/2 [==============================] - 0s 7ms/step - loss: 12.2604 - mae: 12.2604\n",
            "Epoch 70/100\n",
            "2/2 [==============================] - 0s 7ms/step - loss: 8.9579 - mae: 8.9579\n",
            "Epoch 71/100\n",
            "2/2 [==============================] - 0s 8ms/step - loss: 9.9338 - mae: 9.9338\n",
            "Epoch 72/100\n",
            "2/2 [==============================] - 0s 8ms/step - loss: 9.9715 - mae: 9.9715\n",
            "Epoch 73/100\n",
            "2/2 [==============================] - 0s 6ms/step - loss: 12.4444 - mae: 12.4444\n",
            "Epoch 74/100\n",
            "2/2 [==============================] - 0s 9ms/step - loss: 10.5611 - mae: 10.5611\n",
            "Epoch 75/100\n",
            "2/2 [==============================] - 0s 8ms/step - loss: 9.6311 - mae: 9.6311\n",
            "Epoch 76/100\n",
            "2/2 [==============================] - 0s 10ms/step - loss: 11.0986 - mae: 11.0986\n",
            "Epoch 77/100\n",
            "2/2 [==============================] - 0s 7ms/step - loss: 8.2795 - mae: 8.2795\n",
            "Epoch 78/100\n",
            "2/2 [==============================] - 0s 7ms/step - loss: 8.9730 - mae: 8.9730\n",
            "Epoch 79/100\n",
            "2/2 [==============================] - 0s 7ms/step - loss: 19.7710 - mae: 19.7710\n",
            "Epoch 80/100\n",
            "2/2 [==============================] - 0s 7ms/step - loss: 17.8278 - mae: 17.8278\n",
            "Epoch 81/100\n",
            "2/2 [==============================] - 0s 6ms/step - loss: 7.0695 - mae: 7.0695\n",
            "Epoch 82/100\n",
            "2/2 [==============================] - 0s 7ms/step - loss: 10.4096 - mae: 10.4096\n",
            "Epoch 83/100\n",
            "2/2 [==============================] - 0s 8ms/step - loss: 9.8345 - mae: 9.8345\n",
            "Epoch 84/100\n",
            "2/2 [==============================] - 0s 7ms/step - loss: 7.9295 - mae: 7.9295\n",
            "Epoch 85/100\n",
            "2/2 [==============================] - 0s 6ms/step - loss: 9.4364 - mae: 9.4364\n",
            "Epoch 86/100\n",
            "2/2 [==============================] - 0s 8ms/step - loss: 9.4821 - mae: 9.4821\n",
            "Epoch 87/100\n",
            "2/2 [==============================] - 0s 7ms/step - loss: 11.4242 - mae: 11.4242\n",
            "Epoch 88/100\n",
            "2/2 [==============================] - 0s 8ms/step - loss: 9.9225 - mae: 9.9225\n",
            "Epoch 89/100\n",
            "2/2 [==============================] - 0s 7ms/step - loss: 7.2474 - mae: 7.2474\n",
            "Epoch 90/100\n",
            "2/2 [==============================] - 0s 7ms/step - loss: 12.6807 - mae: 12.6807\n",
            "Epoch 91/100\n",
            "2/2 [==============================] - 0s 7ms/step - loss: 7.3036 - mae: 7.3036\n",
            "Epoch 92/100\n",
            "2/2 [==============================] - 0s 7ms/step - loss: 7.6659 - mae: 7.6659\n",
            "Epoch 93/100\n",
            "2/2 [==============================] - 0s 6ms/step - loss: 7.1141 - mae: 7.1141\n",
            "Epoch 94/100\n",
            "2/2 [==============================] - 0s 8ms/step - loss: 12.5295 - mae: 12.5295\n",
            "Epoch 95/100\n",
            "2/2 [==============================] - 0s 8ms/step - loss: 9.9051 - mae: 9.9051\n",
            "Epoch 96/100\n",
            "2/2 [==============================] - 0s 7ms/step - loss: 9.1411 - mae: 9.1411\n",
            "Epoch 97/100\n",
            "2/2 [==============================] - 0s 7ms/step - loss: 12.0945 - mae: 12.0945\n",
            "Epoch 98/100\n",
            "2/2 [==============================] - 0s 6ms/step - loss: 9.0515 - mae: 9.0515\n",
            "Epoch 99/100\n",
            "2/2 [==============================] - 0s 7ms/step - loss: 8.4970 - mae: 8.4970\n",
            "Epoch 100/100\n",
            "2/2 [==============================] - 0s 7ms/step - loss: 14.4756 - mae: 14.4756\n"
          ]
        },
        {
          "data": {
            "text/plain": [
              "<keras.callbacks.History at 0x7f23a11130d0>"
            ]
          },
          "execution_count": 48,
          "metadata": {},
          "output_type": "execute_result"
        }
      ],
      "source": [
        "# Set random seed\n",
        "tf.random.set_seed(42)\n",
        "\n",
        "# 1. Create the model\n",
        "model_1 = tf.keras.Sequential([\n",
        "    tf.keras.layers.Dense(1)\n",
        "])\n",
        "\n",
        "# 2. Compile the model\n",
        "model_1.compile(loss=tf.keras.losses.mae,\n",
        "                optimizer=tf.keras.optimizers.SGD(),\n",
        "                metrics=[\"mae\"])\n",
        "# 3. Fit the model\n",
        "model_1.fit(tf.expand_dims(X_train,axis=-1), y_train, epochs=100)"
      ]
    },
    {
      "cell_type": "code",
      "execution_count": null,
      "metadata": {
        "colab": {
          "base_uri": "https://localhost:8080/",
          "height": 483
        },
        "id": "gNNdYbl1W_Sv",
        "outputId": "e3f30999-145c-457f-fa99-d30fbad64694"
      },
      "outputs": [
        {
          "name": "stderr",
          "output_type": "stream",
          "text": [
            "WARNING:tensorflow:5 out of the last 5 calls to <function Model.make_predict_function.<locals>.predict_function at 0x7f23a1186820> triggered tf.function retracing. Tracing is expensive and the excessive number of tracings could be due to (1) creating @tf.function repeatedly in a loop, (2) passing tensors with different shapes, (3) passing Python objects instead of tensors. For (1), please define your @tf.function outside of the loop. For (2), @tf.function has reduce_retracing=True option that can avoid unnecessary retracing. For (3), please refer to https://www.tensorflow.org/guide/function#controlling_retracing and https://www.tensorflow.org/api_docs/python/tf/function for  more details.\n"
          ]
        },
        {
          "name": "stdout",
          "output_type": "stream",
          "text": [
            "1/1 [==============================] - 0s 58ms/step\n"
          ]
        },
        {
          "data": {
            "image/png": "[encoded data removed]",
            "text/plain": [
              "<Figure size 720x504 with 1 Axes>"
            ]
          },
          "metadata": {},
          "output_type": "display_data"
        }
      ],
      "source": [
        "# Make and plot predictions for model_1\n",
        "y_preds_1 = model_1.predict(X_test)\n",
        "plot_predictions(predictions=y_preds_1)"
      ]
    },
    {
      "cell_type": "code",
      "execution_count": null,
      "metadata": {
        "colab": {
          "base_uri": "https://localhost:8080/"
        },
        "id": "AHGBy5CQhrtm",
        "outputId": "dbb81edc-a0d0-4490-b137-1816268f04f1"
      },
      "outputs": [
        {
          "data": {
            "text/plain": [
              "(<tf.Tensor: shape=(), dtype=float32, numpy=30.548893>,\n",
              " <tf.Tensor: shape=(), dtype=float32, numpy=943.59607>)"
            ]
          },
          "execution_count": 50,
          "metadata": {},
          "output_type": "execute_result"
        }
      ],
      "source": [
        "# Calculate model_1 evaluation metrics\n",
        "mae_1 = mae(y_test, y_preds_1)\n",
        "mse_1 = mse(y_test, y_preds_1)\n",
        "mae_1,mse_1"
      ]
    },
    {
      "cell_type": "markdown",
      "metadata": {
        "id": "XCAednRLi66-"
      },
      "source": [
        "** Build `model_2`**\n",
        "* 2 dense layers, trained for 100 epochs\n"
      ]
    },
    {
      "cell_type": "code",
      "execution_count": null,
      "metadata": {
        "colab": {
          "base_uri": "https://localhost:8080/"
        },
        "id": "aCL4yCgAkHVQ",
        "outputId": "1d7bc10b-0fa0-4536-cbee-2ee2eba83d24"
      },
      "outputs": [
        {
          "name": "stdout",
          "output_type": "stream",
          "text": [
            "Epoch 1/100\n",
            "2/2 [==============================] - 0s 7ms/step - loss: 29.9477 - mse: 1239.2260\n",
            "Epoch 2/100\n",
            "2/2 [==============================] - 0s 7ms/step - loss: 26.0699 - mse: 896.1426\n",
            "Epoch 3/100\n",
            "2/2 [==============================] - 0s 7ms/step - loss: 32.2316 - mse: 1522.7274\n",
            "Epoch 4/100\n",
            "2/2 [==============================] - 0s 10ms/step - loss: 23.0682 - mse: 763.7512\n",
            "Epoch 5/100\n",
            "2/2 [==============================] - 0s 6ms/step - loss: 13.7988 - mse: 231.8519\n",
            "Epoch 6/100\n",
            "2/2 [==============================] - 0s 7ms/step - loss: 11.0750 - mse: 135.8280\n",
            "Epoch 7/100\n",
            "2/2 [==============================] - 0s 8ms/step - loss: 12.0673 - mse: 183.7711\n",
            "Epoch 8/100\n",
            "2/2 [==============================] - 0s 6ms/step - loss: 10.8582 - mse: 133.2235\n",
            "Epoch 9/100\n",
            "2/2 [==============================] - 0s 8ms/step - loss: 37.5584 - mse: 2173.1016\n",
            "Epoch 10/100\n",
            "2/2 [==============================] - 0s 8ms/step - loss: 25.2158 - mse: 891.9445\n",
            "Epoch 11/100\n",
            "2/2 [==============================] - 0s 7ms/step - loss: 10.2440 - mse: 146.6001\n",
            "Epoch 12/100\n",
            "2/2 [==============================] - 0s 7ms/step - loss: 25.3874 - mse: 897.1937\n",
            "Epoch 13/100\n",
            "2/2 [==============================] - 0s 7ms/step - loss: 16.8266 - mse: 390.5696\n",
            "Epoch 14/100\n",
            "2/2 [==============================] - 0s 13ms/step - loss: 25.6273 - mse: 1023.1289\n",
            "Epoch 15/100\n",
            "2/2 [==============================] - 0s 8ms/step - loss: 17.5090 - mse: 424.0898\n",
            "Epoch 16/100\n",
            "2/2 [==============================] - 0s 7ms/step - loss: 10.0251 - mse: 124.4270\n",
            "Epoch 17/100\n",
            "2/2 [==============================] - 0s 9ms/step - loss: 18.5321 - mse: 458.8612\n",
            "Epoch 18/100\n",
            "2/2 [==============================] - 0s 6ms/step - loss: 11.3593 - mse: 199.8289\n",
            "Epoch 19/100\n",
            "2/2 [==============================] - 0s 7ms/step - loss: 13.9534 - mse: 303.3955\n",
            "Epoch 20/100\n",
            "2/2 [==============================] - 0s 8ms/step - loss: 11.2019 - mse: 146.2867\n",
            "Epoch 21/100\n",
            "2/2 [==============================] - 0s 7ms/step - loss: 17.2770 - mse: 422.7953\n",
            "Epoch 22/100\n",
            "2/2 [==============================] - 0s 6ms/step - loss: 15.5139 - mse: 331.6556\n",
            "Epoch 23/100\n",
            "2/2 [==============================] - 0s 6ms/step - loss: 9.2326 - mse: 118.4896\n",
            "Epoch 24/100\n",
            "2/2 [==============================] - 0s 6ms/step - loss: 17.2593 - mse: 408.1936\n",
            "Epoch 25/100\n",
            "2/2 [==============================] - 0s 6ms/step - loss: 15.9324 - mse: 333.5179\n",
            "Epoch 26/100\n",
            "2/2 [==============================] - 0s 7ms/step - loss: 20.9210 - mse: 648.8583\n",
            "Epoch 27/100\n",
            "2/2 [==============================] - 0s 8ms/step - loss: 25.9832 - mse: 1053.5200\n",
            "Epoch 28/100\n",
            "2/2 [==============================] - 0s 7ms/step - loss: 18.4779 - mse: 540.4212\n",
            "Epoch 29/100\n",
            "2/2 [==============================] - 0s 6ms/step - loss: 9.2367 - mse: 97.4345\n",
            "Epoch 30/100\n",
            "2/2 [==============================] - 0s 8ms/step - loss: 29.0999 - mse: 1513.2155\n",
            "Epoch 31/100\n",
            "2/2 [==============================] - 0s 7ms/step - loss: 52.7062 - mse: 4967.4819\n",
            "Epoch 32/100\n",
            "2/2 [==============================] - 0s 8ms/step - loss: 11.9254 - mse: 207.2431\n",
            "Epoch 33/100\n",
            "2/2 [==============================] - 0s 8ms/step - loss: 15.5257 - mse: 332.2434\n",
            "Epoch 34/100\n",
            "2/2 [==============================] - 0s 6ms/step - loss: 12.6135 - mse: 210.2617\n",
            "Epoch 35/100\n",
            "2/2 [==============================] - 0s 6ms/step - loss: 9.2016 - mse: 91.7888\n",
            "Epoch 36/100\n",
            "2/2 [==============================] - 0s 6ms/step - loss: 16.5201 - mse: 396.8888\n",
            "Epoch 37/100\n",
            "2/2 [==============================] - 0s 6ms/step - loss: 11.0684 - mse: 192.1548\n",
            "Epoch 38/100\n",
            "2/2 [==============================] - 0s 8ms/step - loss: 18.1968 - mse: 436.0335\n",
            "Epoch 39/100\n",
            "2/2 [==============================] - 0s 12ms/step - loss: 19.1301 - mse: 532.4978\n",
            "Epoch 40/100\n",
            "2/2 [==============================] - 0s 7ms/step - loss: 20.4859 - mse: 613.1635\n",
            "Epoch 41/100\n",
            "2/2 [==============================] - 0s 9ms/step - loss: 14.8341 - mse: 275.8634\n",
            "Epoch 42/100\n",
            "2/2 [==============================] - 0s 7ms/step - loss: 12.2234 - mse: 183.5491\n",
            "Epoch 43/100\n",
            "2/2 [==============================] - 0s 8ms/step - loss: 10.6999 - mse: 164.4193\n",
            "Epoch 44/100\n",
            "2/2 [==============================] - 0s 8ms/step - loss: 32.3761 - mse: 1724.9495\n",
            "Epoch 45/100\n",
            "2/2 [==============================] - 0s 7ms/step - loss: 12.4912 - mse: 203.3722\n",
            "Epoch 46/100\n",
            "2/2 [==============================] - 0s 7ms/step - loss: 17.6012 - mse: 464.3522\n",
            "Epoch 47/100\n",
            "2/2 [==============================] - 0s 6ms/step - loss: 15.7205 - mse: 338.0003\n",
            "Epoch 48/100\n",
            "2/2 [==============================] - 0s 6ms/step - loss: 8.3512 - mse: 112.5079\n",
            "Epoch 49/100\n",
            "2/2 [==============================] - 0s 7ms/step - loss: 13.9521 - mse: 268.2962\n",
            "Epoch 50/100\n",
            "2/2 [==============================] - 0s 8ms/step - loss: 12.7989 - mse: 214.4808\n",
            "Epoch 51/100\n",
            "2/2 [==============================] - 0s 6ms/step - loss: 14.8145 - mse: 308.2022\n",
            "Epoch 52/100\n",
            "2/2 [==============================] - 0s 7ms/step - loss: 18.7035 - mse: 527.6360\n",
            "Epoch 53/100\n",
            "2/2 [==============================] - 0s 7ms/step - loss: 24.1323 - mse: 826.2814\n",
            "Epoch 54/100\n",
            "2/2 [==============================] - 0s 7ms/step - loss: 23.2627 - mse: 811.3531\n",
            "Epoch 55/100\n",
            "2/2 [==============================] - 0s 10ms/step - loss: 24.1284 - mse: 876.5229\n",
            "Epoch 56/100\n",
            "2/2 [==============================] - 0s 7ms/step - loss: 11.1855 - mse: 170.9900\n",
            "Epoch 57/100\n",
            "2/2 [==============================] - 0s 6ms/step - loss: 13.1527 - mse: 215.8192\n",
            "Epoch 58/100\n",
            "2/2 [==============================] - 0s 7ms/step - loss: 9.8294 - mse: 106.6620\n",
            "Epoch 59/100\n",
            "2/2 [==============================] - 0s 7ms/step - loss: 13.3483 - mse: 251.9641\n",
            "Epoch 60/100\n",
            "2/2 [==============================] - 0s 6ms/step - loss: 10.8927 - mse: 140.2323\n",
            "Epoch 61/100\n",
            "2/2 [==============================] - 0s 8ms/step - loss: 13.5090 - mse: 243.8901\n",
            "Epoch 62/100\n",
            "2/2 [==============================] - 0s 7ms/step - loss: 17.5806 - mse: 471.8608\n",
            "Epoch 63/100\n",
            "2/2 [==============================] - 0s 7ms/step - loss: 9.1723 - mse: 87.6636\n",
            "Epoch 64/100\n",
            "2/2 [==============================] - 0s 7ms/step - loss: 18.4526 - mse: 494.9259\n",
            "Epoch 65/100\n",
            "2/2 [==============================] - 0s 7ms/step - loss: 10.1286 - mse: 115.4630\n",
            "Epoch 66/100\n",
            "2/2 [==============================] - 0s 6ms/step - loss: 24.3382 - mse: 894.7838\n",
            "Epoch 67/100\n",
            "2/2 [==============================] - 0s 7ms/step - loss: 10.9095 - mse: 143.8117\n",
            "Epoch 68/100\n",
            "2/2 [==============================] - 0s 7ms/step - loss: 10.7848 - mse: 160.8117\n",
            "Epoch 69/100\n",
            "2/2 [==============================] - 0s 7ms/step - loss: 23.3396 - mse: 787.7090\n",
            "Epoch 70/100\n",
            "2/2 [==============================] - 0s 6ms/step - loss: 8.7969 - mse: 143.7684\n",
            "Epoch 71/100\n",
            "2/2 [==============================] - 0s 7ms/step - loss: 15.9491 - mse: 346.3213\n",
            "Epoch 72/100\n",
            "2/2 [==============================] - 0s 7ms/step - loss: 8.1208 - mse: 109.7768\n",
            "Epoch 73/100\n",
            "2/2 [==============================] - 0s 8ms/step - loss: 9.4575 - mse: 153.6387\n",
            "Epoch 74/100\n",
            "2/2 [==============================] - 0s 7ms/step - loss: 28.1308 - mse: 1108.7148\n",
            "Epoch 75/100\n",
            "2/2 [==============================] - 0s 6ms/step - loss: 10.2188 - mse: 145.3590\n",
            "Epoch 76/100\n",
            "2/2 [==============================] - 0s 7ms/step - loss: 13.1742 - mse: 220.3490\n",
            "Epoch 77/100\n",
            "2/2 [==============================] - 0s 8ms/step - loss: 18.4616 - mse: 535.1055\n",
            "Epoch 78/100\n",
            "2/2 [==============================] - 0s 8ms/step - loss: 9.0207 - mse: 91.9828\n",
            "Epoch 79/100\n",
            "2/2 [==============================] - 0s 8ms/step - loss: 23.5209 - mse: 828.1945\n",
            "Epoch 80/100\n",
            "2/2 [==============================] - 0s 10ms/step - loss: 26.2084 - mse: 1056.1149\n",
            "Epoch 81/100\n",
            "2/2 [==============================] - 0s 6ms/step - loss: 11.4305 - mse: 160.1206\n",
            "Epoch 82/100\n",
            "2/2 [==============================] - 0s 6ms/step - loss: 12.4654 - mse: 227.1116\n",
            "Epoch 83/100\n",
            "2/2 [==============================] - 0s 7ms/step - loss: 17.1421 - mse: 382.2528\n",
            "Epoch 84/100\n",
            "2/2 [==============================] - 0s 7ms/step - loss: 6.5774 - mse: 64.0438\n",
            "Epoch 85/100\n",
            "2/2 [==============================] - 0s 8ms/step - loss: 20.3799 - mse: 581.0335\n",
            "Epoch 86/100\n",
            "2/2 [==============================] - 0s 7ms/step - loss: 10.1797 - mse: 116.6016\n",
            "Epoch 87/100\n",
            "2/2 [==============================] - 0s 7ms/step - loss: 24.4324 - mse: 835.6120\n",
            "Epoch 88/100\n",
            "2/2 [==============================] - 0s 7ms/step - loss: 19.0941 - mse: 517.5038\n",
            "Epoch 89/100\n",
            "2/2 [==============================] - 0s 7ms/step - loss: 7.1606 - mse: 69.9258\n",
            "Epoch 90/100\n",
            "2/2 [==============================] - 0s 7ms/step - loss: 18.2268 - mse: 492.5588\n",
            "Epoch 91/100\n",
            "2/2 [==============================] - 0s 8ms/step - loss: 13.2762 - mse: 254.9316\n",
            "Epoch 92/100\n",
            "2/2 [==============================] - 0s 10ms/step - loss: 14.8167 - mse: 309.5135\n",
            "Epoch 93/100\n",
            "2/2 [==============================] - 0s 9ms/step - loss: 11.6196 - mse: 251.0619\n",
            "Epoch 94/100\n",
            "2/2 [==============================] - 0s 10ms/step - loss: 16.1741 - mse: 369.4324\n",
            "Epoch 95/100\n",
            "2/2 [==============================] - 0s 7ms/step - loss: 15.5164 - mse: 320.5542\n",
            "Epoch 96/100\n",
            "2/2 [==============================] - 0s 9ms/step - loss: 15.0452 - mse: 322.8555\n",
            "Epoch 97/100\n",
            "2/2 [==============================] - 0s 8ms/step - loss: 10.8782 - mse: 188.2169\n",
            "Epoch 98/100\n",
            "2/2 [==============================] - 0s 6ms/step - loss: 14.3360 - mse: 285.4318\n",
            "Epoch 99/100\n",
            "2/2 [==============================] - 0s 7ms/step - loss: 13.3630 - mse: 251.1646\n",
            "Epoch 100/100\n",
            "2/2 [==============================] - 0s 10ms/step - loss: 19.9617 - mse: 582.7166\n"
          ]
        },
        {
          "data": {
            "text/plain": [
              "<keras.callbacks.History at 0x7f23a10c13d0>"
            ]
          },
          "execution_count": 51,
          "metadata": {},
          "output_type": "execute_result"
        }
      ],
      "source": [
        "# Set the random seed\n",
        "tf.random.set_seed = 42\n",
        "\n",
        "# Create a model\n",
        "model_2 = tf.keras.Sequential([\n",
        "    tf.keras.layers.Dense(10),\n",
        "    tf.keras.layers.Dense(1)\n",
        "])\n",
        "\n",
        "# Compile a model\n",
        "model_2.compile(loss=tf.keras.losses.mae,\n",
        "                optimizer=tf.keras.optimizers.SGD(),\n",
        "                metrics=[\"mse\"])\n",
        "\n",
        "# Fit a model\n",
        "model_2.fit(tf.expand_dims(X_train,axis=-1),y_train,epochs=100)"
      ]
    },
    {
      "cell_type": "code",
      "execution_count": null,
      "metadata": {
        "colab": {
          "base_uri": "https://localhost:8080/",
          "height": 483
        },
        "id": "sEJ0Q4pQoK7_",
        "outputId": "7660dd42-8958-4411-cff8-224ad4cddef1"
      },
      "outputs": [
        {
          "name": "stderr",
          "output_type": "stream",
          "text": [
            "WARNING:tensorflow:6 out of the last 6 calls to <function Model.make_predict_function.<locals>.predict_function at 0x7f23a0fd4c10> triggered tf.function retracing. Tracing is expensive and the excessive number of tracings could be due to (1) creating @tf.function repeatedly in a loop, (2) passing tensors with different shapes, (3) passing Python objects instead of tensors. For (1), please define your @tf.function outside of the loop. For (2), @tf.function has reduce_retracing=True option that can avoid unnecessary retracing. For (3), please refer to https://www.tensorflow.org/guide/function#controlling_retracing and https://www.tensorflow.org/api_docs/python/tf/function for  more details.\n"
          ]
        },
        {
          "name": "stdout",
          "output_type": "stream",
          "text": [
            "1/1 [==============================] - 0s 66ms/step\n"
          ]
        },
        {
          "data": {
            "image/png": "[encoded data removed]",
            "text/plain": [
              "<Figure size 720x504 with 1 Axes>"
            ]
          },
          "metadata": {},
          "output_type": "display_data"
        }
      ],
      "source": [
        "# Make and plot predictions of model_2\n",
        "\n",
        "y_preds_2 = model_2.predict(X_test)\n",
        "plot_predictions(predictions=y_preds_2)"
      ]
    },
    {
      "cell_type": "code",
      "execution_count": null,
      "metadata": {
        "colab": {
          "base_uri": "https://localhost:8080/"
        },
        "id": "fkOBuyrfpoD6",
        "outputId": "bc78a6df-04e7-4755-c82f-8658860004c1"
      },
      "outputs": [
        {
          "data": {
            "text/plain": [
              "(<tf.Tensor: shape=(), dtype=float32, numpy=29.887806>,\n",
              " <tf.Tensor: shape=(), dtype=float32, numpy=924.6752>)"
            ]
          },
          "execution_count": 53,
          "metadata": {},
          "output_type": "execute_result"
        }
      ],
      "source": [
        "# Calculate model_2 evaluation metrics\n",
        "mae_2 = mae(y_test, y_preds_2)\n",
        "mse_2 = mse(y_test, y_preds_2)\n",
        "mae_2, mse_2"
      ]
    },
    {
      "cell_type": "markdown",
      "metadata": {
        "id": "mSVN-sGYqM_s"
      },
      "source": [
        "** Build `model_3`**\n",
        "* 2 dense layers, trained for 500 epochs"
      ]
    },
    {
      "cell_type": "code",
      "execution_count": null,
      "metadata": {
        "colab": {
          "base_uri": "https://localhost:8080/"
        },
        "id": "mh-rUN2Jqyku",
        "outputId": "71e7345a-216c-4bce-d098-def638222183"
      },
      "outputs": [
        {
          "name": "stdout",
          "output_type": "stream",
          "text": [
            "Epoch 1/500\n",
            "2/2 [==============================] - 0s 7ms/step - loss: 24.3383 - mse: 1190.5295\n",
            "Epoch 2/500\n",
            "2/2 [==============================] - 0s 8ms/step - loss: 23.2050 - mse: 782.0505\n",
            "Epoch 3/500\n",
            "2/2 [==============================] - 0s 6ms/step - loss: 28.2254 - mse: 1193.0846\n",
            "Epoch 4/500\n",
            "2/2 [==============================] - 0s 7ms/step - loss: 16.0921 - mse: 369.5963\n",
            "Epoch 5/500\n",
            "2/2 [==============================] - 0s 6ms/step - loss: 22.5436 - mse: 744.3864\n",
            "Epoch 6/500\n",
            "2/2 [==============================] - 0s 8ms/step - loss: 10.6087 - mse: 125.3210\n",
            "Epoch 7/500\n",
            "2/2 [==============================] - 0s 9ms/step - loss: 11.6086 - mse: 164.7126\n",
            "Epoch 8/500\n",
            "2/2 [==============================] - 0s 8ms/step - loss: 11.2728 - mse: 182.1504\n",
            "Epoch 9/500\n",
            "2/2 [==============================] - 0s 8ms/step - loss: 42.3835 - mse: 2874.8210\n",
            "Epoch 10/500\n",
            "2/2 [==============================] - 0s 9ms/step - loss: 29.5283 - mse: 1234.5598\n",
            "Epoch 11/500\n",
            "2/2 [==============================] - 0s 8ms/step - loss: 7.7348 - mse: 83.9025\n",
            "Epoch 12/500\n",
            "2/2 [==============================] - 0s 8ms/step - loss: 28.5621 - mse: 1116.3660\n",
            "Epoch 13/500\n",
            "2/2 [==============================] - 0s 8ms/step - loss: 11.5242 - mse: 145.6816\n",
            "Epoch 14/500\n",
            "2/2 [==============================] - 0s 7ms/step - loss: 30.2837 - mse: 1469.7017\n",
            "Epoch 15/500\n",
            "2/2 [==============================] - 0s 8ms/step - loss: 20.0430 - mse: 563.4269\n",
            "Epoch 16/500\n",
            "2/2 [==============================] - 0s 7ms/step - loss: 9.9364 - mse: 125.5577\n",
            "Epoch 17/500\n",
            "2/2 [==============================] - 0s 9ms/step - loss: 17.8722 - mse: 423.6173\n",
            "Epoch 18/500\n",
            "2/2 [==============================] - 0s 9ms/step - loss: 14.3377 - mse: 325.8887\n",
            "Epoch 19/500\n",
            "2/2 [==============================] - 0s 8ms/step - loss: 14.4411 - mse: 328.2612\n",
            "Epoch 20/500\n",
            "2/2 [==============================] - 0s 11ms/step - loss: 10.4755 - mse: 148.9882\n",
            "Epoch 21/500\n",
            "2/2 [==============================] - 0s 7ms/step - loss: 15.2179 - mse: 314.0453\n",
            "Epoch 22/500\n",
            "2/2 [==============================] - 0s 9ms/step - loss: 15.5534 - mse: 333.2353\n",
            "Epoch 23/500\n",
            "2/2 [==============================] - 0s 9ms/step - loss: 9.2499 - mse: 118.9226\n",
            "Epoch 24/500\n",
            "2/2 [==============================] - 0s 9ms/step - loss: 17.2633 - mse: 408.3134\n",
            "Epoch 25/500\n",
            "2/2 [==============================] - 0s 7ms/step - loss: 15.9425 - mse: 333.8874\n",
            "Epoch 26/500\n",
            "2/2 [==============================] - 0s 7ms/step - loss: 20.9305 - mse: 649.3547\n",
            "Epoch 27/500\n",
            "2/2 [==============================] - 0s 7ms/step - loss: 25.9680 - mse: 1052.2249\n",
            "Epoch 28/500\n",
            "2/2 [==============================] - 0s 9ms/step - loss: 18.4660 - mse: 539.7448\n",
            "Epoch 29/500\n",
            "2/2 [==============================] - 0s 10ms/step - loss: 9.2557 - mse: 97.9424\n",
            "Epoch 30/500\n",
            "2/2 [==============================] - 0s 11ms/step - loss: 29.0699 - mse: 1509.6375\n",
            "Epoch 31/500\n",
            "2/2 [==============================] - 0s 12ms/step - loss: 52.6508 - mse: 4956.8584\n",
            "Epoch 32/500\n",
            "2/2 [==============================] - 0s 7ms/step - loss: 11.9328 - mse: 206.8312\n",
            "Epoch 33/500\n",
            "2/2 [==============================] - 0s 8ms/step - loss: 15.5132 - mse: 331.4756\n",
            "Epoch 34/500\n",
            "2/2 [==============================] - 0s 7ms/step - loss: 12.6133 - mse: 209.5481\n",
            "Epoch 35/500\n",
            "2/2 [==============================] - 0s 7ms/step - loss: 9.2098 - mse: 91.8064\n",
            "Epoch 36/500\n",
            "2/2 [==============================] - 0s 7ms/step - loss: 16.4808 - mse: 394.5807\n",
            "Epoch 37/500\n",
            "2/2 [==============================] - 0s 6ms/step - loss: 11.0950 - mse: 192.4281\n",
            "Epoch 38/500\n",
            "2/2 [==============================] - 0s 6ms/step - loss: 18.2247 - mse: 437.7001\n",
            "Epoch 39/500\n",
            "2/2 [==============================] - 0s 8ms/step - loss: 19.1576 - mse: 534.6464\n",
            "Epoch 40/500\n",
            "2/2 [==============================] - 0s 8ms/step - loss: 20.5326 - mse: 615.6666\n",
            "Epoch 41/500\n",
            "2/2 [==============================] - 0s 7ms/step - loss: 14.8015 - mse: 273.6307\n",
            "Epoch 42/500\n",
            "2/2 [==============================] - 0s 8ms/step - loss: 12.1986 - mse: 181.3405\n",
            "Epoch 43/500\n",
            "2/2 [==============================] - 0s 7ms/step - loss: 10.7005 - mse: 162.2705\n",
            "Epoch 44/500\n",
            "2/2 [==============================] - 0s 7ms/step - loss: 32.1895 - mse: 1703.5242\n",
            "Epoch 45/500\n",
            "2/2 [==============================] - 0s 8ms/step - loss: 12.4605 - mse: 200.6532\n",
            "Epoch 46/500\n",
            "2/2 [==============================] - 0s 7ms/step - loss: 17.4522 - mse: 456.2664\n",
            "Epoch 47/500\n",
            "2/2 [==============================] - 0s 7ms/step - loss: 15.7885 - mse: 340.5018\n",
            "Epoch 48/500\n",
            "2/2 [==============================] - 0s 6ms/step - loss: 8.4012 - mse: 113.0721\n",
            "Epoch 49/500\n",
            "2/2 [==============================] - 0s 6ms/step - loss: 14.2521 - mse: 284.5359\n",
            "Epoch 50/500\n",
            "2/2 [==============================] - 0s 7ms/step - loss: 15.1815 - mse: 309.4027\n",
            "Epoch 51/500\n",
            "2/2 [==============================] - 0s 7ms/step - loss: 13.7000 - mse: 257.1915\n",
            "Epoch 52/500\n",
            "2/2 [==============================] - 0s 8ms/step - loss: 18.1155 - mse: 463.0164\n",
            "Epoch 53/500\n",
            "2/2 [==============================] - 0s 8ms/step - loss: 22.7792 - mse: 749.7074\n",
            "Epoch 54/500\n",
            "2/2 [==============================] - 0s 7ms/step - loss: 26.7852 - mse: 1104.6583\n",
            "Epoch 55/500\n",
            "2/2 [==============================] - 0s 9ms/step - loss: 26.4181 - mse: 1061.0923\n",
            "Epoch 56/500\n",
            "2/2 [==============================] - 0s 11ms/step - loss: 11.3657 - mse: 172.2404\n",
            "Epoch 57/500\n",
            "2/2 [==============================] - 0s 8ms/step - loss: 13.3825 - mse: 225.8874\n",
            "Epoch 58/500\n",
            "2/2 [==============================] - 0s 7ms/step - loss: 9.9645 - mse: 109.7875\n",
            "Epoch 59/500\n",
            "2/2 [==============================] - 0s 7ms/step - loss: 13.9203 - mse: 275.5724\n",
            "Epoch 60/500\n",
            "2/2 [==============================] - 0s 7ms/step - loss: 10.0027 - mse: 119.0959\n",
            "Epoch 61/500\n",
            "2/2 [==============================] - 0s 7ms/step - loss: 14.9655 - mse: 307.6115\n",
            "Epoch 62/500\n",
            "2/2 [==============================] - 0s 9ms/step - loss: 11.9292 - mse: 196.0883\n",
            "Epoch 63/500\n",
            "2/2 [==============================] - 0s 7ms/step - loss: 10.2944 - mse: 134.4103\n",
            "Epoch 64/500\n",
            "2/2 [==============================] - 0s 9ms/step - loss: 23.8356 - mse: 834.8164\n",
            "Epoch 65/500\n",
            "2/2 [==============================] - 0s 10ms/step - loss: 10.4686 - mse: 129.8274\n",
            "Epoch 66/500\n",
            "2/2 [==============================] - 0s 7ms/step - loss: 20.8796 - mse: 640.6970\n",
            "Epoch 67/500\n",
            "2/2 [==============================] - 0s 7ms/step - loss: 10.4384 - mse: 125.9888\n",
            "Epoch 68/500\n",
            "2/2 [==============================] - 0s 8ms/step - loss: 14.1341 - mse: 300.5562\n",
            "Epoch 69/500\n",
            "2/2 [==============================] - 0s 9ms/step - loss: 10.4996 - mse: 125.4043\n",
            "Epoch 70/500\n",
            "2/2 [==============================] - 0s 9ms/step - loss: 12.5656 - mse: 200.0096\n",
            "Epoch 71/500\n",
            "2/2 [==============================] - 0s 7ms/step - loss: 12.9900 - mse: 224.2192\n",
            "Epoch 72/500\n",
            "2/2 [==============================] - 0s 7ms/step - loss: 19.2665 - mse: 526.5167\n",
            "Epoch 73/500\n",
            "2/2 [==============================] - 0s 8ms/step - loss: 11.1174 - mse: 194.4471\n",
            "Epoch 74/500\n",
            "2/2 [==============================] - 0s 7ms/step - loss: 21.3231 - mse: 709.0487\n",
            "Epoch 75/500\n",
            "2/2 [==============================] - 0s 7ms/step - loss: 9.4358 - mse: 152.5850\n",
            "Epoch 76/500\n",
            "2/2 [==============================] - 0s 7ms/step - loss: 12.2503 - mse: 181.7342\n",
            "Epoch 77/500\n",
            "2/2 [==============================] - 0s 7ms/step - loss: 16.2167 - mse: 404.3052\n",
            "Epoch 78/500\n",
            "2/2 [==============================] - 0s 7ms/step - loss: 9.0067 - mse: 91.2262\n",
            "Epoch 79/500\n",
            "2/2 [==============================] - 0s 10ms/step - loss: 23.4248 - mse: 820.5756\n",
            "Epoch 80/500\n",
            "2/2 [==============================] - 0s 7ms/step - loss: 26.0916 - mse: 1045.8054\n",
            "Epoch 81/500\n",
            "2/2 [==============================] - 0s 7ms/step - loss: 11.3720 - mse: 157.8056\n",
            "Epoch 82/500\n",
            "2/2 [==============================] - 0s 7ms/step - loss: 12.4988 - mse: 227.6182\n",
            "Epoch 83/500\n",
            "2/2 [==============================] - 0s 7ms/step - loss: 17.1870 - mse: 384.3330\n",
            "Epoch 84/500\n",
            "2/2 [==============================] - 0s 8ms/step - loss: 6.5887 - mse: 64.4582\n",
            "Epoch 85/500\n",
            "2/2 [==============================] - 0s 9ms/step - loss: 20.2762 - mse: 574.8669\n",
            "Epoch 86/500\n",
            "2/2 [==============================] - 0s 7ms/step - loss: 10.1567 - mse: 115.4492\n",
            "Epoch 87/500\n",
            "2/2 [==============================] - 0s 7ms/step - loss: 24.3186 - mse: 827.3719\n",
            "Epoch 88/500\n",
            "2/2 [==============================] - 0s 7ms/step - loss: 18.9829 - mse: 511.8609\n",
            "Epoch 89/500\n",
            "2/2 [==============================] - 0s 7ms/step - loss: 7.1557 - mse: 70.0821\n",
            "Epoch 90/500\n",
            "2/2 [==============================] - 0s 8ms/step - loss: 18.2615 - mse: 495.1682\n",
            "Epoch 91/500\n",
            "2/2 [==============================] - 0s 8ms/step - loss: 13.3112 - mse: 256.0271\n",
            "Epoch 92/500\n",
            "2/2 [==============================] - 0s 7ms/step - loss: 14.8625 - mse: 311.2227\n",
            "Epoch 93/500\n",
            "2/2 [==============================] - 0s 6ms/step - loss: 11.6516 - mse: 249.7435\n",
            "Epoch 94/500\n",
            "2/2 [==============================] - 0s 6ms/step - loss: 16.2103 - mse: 371.5746\n",
            "Epoch 95/500\n",
            "2/2 [==============================] - 0s 6ms/step - loss: 15.5527 - mse: 322.4673\n",
            "Epoch 96/500\n",
            "2/2 [==============================] - 0s 7ms/step - loss: 15.0896 - mse: 324.8694\n",
            "Epoch 97/500\n",
            "2/2 [==============================] - 0s 8ms/step - loss: 10.9161 - mse: 188.0293\n",
            "Epoch 98/500\n",
            "2/2 [==============================] - 0s 7ms/step - loss: 14.3785 - mse: 286.9751\n",
            "Epoch 99/500\n",
            "2/2 [==============================] - 0s 7ms/step - loss: 13.3904 - mse: 251.8993\n",
            "Epoch 100/500\n",
            "2/2 [==============================] - 0s 6ms/step - loss: 20.0244 - mse: 585.8635\n",
            "Epoch 101/500\n",
            "2/2 [==============================] - 0s 7ms/step - loss: 22.4559 - mse: 766.7146\n",
            "Epoch 102/500\n",
            "2/2 [==============================] - 0s 7ms/step - loss: 11.2457 - mse: 164.8809\n",
            "Epoch 103/500\n",
            "2/2 [==============================] - 0s 7ms/step - loss: 9.3452 - mse: 96.3586\n",
            "Epoch 104/500\n",
            "2/2 [==============================] - 0s 7ms/step - loss: 25.0783 - mse: 946.4108\n",
            "Epoch 105/500\n",
            "2/2 [==============================] - 0s 7ms/step - loss: 12.0407 - mse: 214.6510\n",
            "Epoch 106/500\n",
            "2/2 [==============================] - 0s 7ms/step - loss: 10.1111 - mse: 123.9688\n",
            "Epoch 107/500\n",
            "2/2 [==============================] - 0s 7ms/step - loss: 22.6301 - mse: 769.0287\n",
            "Epoch 108/500\n",
            "2/2 [==============================] - 0s 7ms/step - loss: 8.1532 - mse: 90.2558\n",
            "Epoch 109/500\n",
            "2/2 [==============================] - 0s 8ms/step - loss: 13.4039 - mse: 251.9961\n",
            "Epoch 110/500\n",
            "2/2 [==============================] - 0s 7ms/step - loss: 7.9753 - mse: 115.3373\n",
            "Epoch 111/500\n",
            "2/2 [==============================] - 0s 6ms/step - loss: 15.7226 - mse: 347.2000\n",
            "Epoch 112/500\n",
            "2/2 [==============================] - 0s 6ms/step - loss: 8.7684 - mse: 92.4723\n",
            "Epoch 113/500\n",
            "2/2 [==============================] - 0s 6ms/step - loss: 22.7521 - mse: 751.2543\n",
            "Epoch 114/500\n",
            "2/2 [==============================] - 0s 6ms/step - loss: 19.0966 - mse: 550.9446\n",
            "Epoch 115/500\n",
            "2/2 [==============================] - 0s 7ms/step - loss: 11.1181 - mse: 154.1966\n",
            "Epoch 116/500\n",
            "2/2 [==============================] - 0s 7ms/step - loss: 23.2010 - mse: 784.0251\n",
            "Epoch 117/500\n",
            "2/2 [==============================] - 0s 7ms/step - loss: 9.6018 - mse: 126.7915\n",
            "Epoch 118/500\n",
            "2/2 [==============================] - 0s 9ms/step - loss: 10.6658 - mse: 139.4635\n",
            "Epoch 119/500\n",
            "2/2 [==============================] - 0s 10ms/step - loss: 8.0539 - mse: 77.7163\n",
            "Epoch 120/500\n",
            "2/2 [==============================] - 0s 11ms/step - loss: 29.4944 - mse: 1297.8323\n",
            "Epoch 121/500\n",
            "2/2 [==============================] - 0s 7ms/step - loss: 8.0890 - mse: 70.7739\n",
            "Epoch 122/500\n",
            "2/2 [==============================] - 0s 7ms/step - loss: 28.1384 - mse: 1216.0369\n",
            "Epoch 123/500\n",
            "2/2 [==============================] - 0s 7ms/step - loss: 32.6887 - mse: 1569.8723\n",
            "Epoch 124/500\n",
            "2/2 [==============================] - 0s 7ms/step - loss: 19.4746 - mse: 562.5279\n",
            "Epoch 125/500\n",
            "2/2 [==============================] - 0s 6ms/step - loss: 6.4058 - mse: 58.9643\n",
            "Epoch 126/500\n",
            "2/2 [==============================] - 0s 8ms/step - loss: 26.7458 - mse: 1040.0481\n",
            "Epoch 127/500\n",
            "2/2 [==============================] - 0s 8ms/step - loss: 8.5792 - mse: 96.9062\n",
            "Epoch 128/500\n",
            "2/2 [==============================] - 0s 8ms/step - loss: 13.8020 - mse: 266.7663\n",
            "Epoch 129/500\n",
            "2/2 [==============================] - 0s 7ms/step - loss: 11.2751 - mse: 197.4873\n",
            "Epoch 130/500\n",
            "2/2 [==============================] - 0s 7ms/step - loss: 11.5055 - mse: 174.1706\n",
            "Epoch 131/500\n",
            "2/2 [==============================] - 0s 6ms/step - loss: 20.5881 - mse: 643.0982\n",
            "Epoch 132/500\n",
            "2/2 [==============================] - 0s 8ms/step - loss: 8.0066 - mse: 100.2989\n",
            "Epoch 133/500\n",
            "2/2 [==============================] - 0s 7ms/step - loss: 8.8245 - mse: 97.9351\n",
            "Epoch 134/500\n",
            "2/2 [==============================] - 0s 6ms/step - loss: 21.4300 - mse: 682.5032\n",
            "Epoch 135/500\n",
            "2/2 [==============================] - 0s 6ms/step - loss: 10.8811 - mse: 152.4325\n",
            "Epoch 136/500\n",
            "2/2 [==============================] - 0s 7ms/step - loss: 19.0591 - mse: 517.4461\n",
            "Epoch 137/500\n",
            "2/2 [==============================] - 0s 7ms/step - loss: 24.2695 - mse: 797.8668\n",
            "Epoch 138/500\n",
            "2/2 [==============================] - 0s 7ms/step - loss: 9.5757 - mse: 139.3911\n",
            "Epoch 139/500\n",
            "2/2 [==============================] - 0s 7ms/step - loss: 9.1964 - mse: 139.4817\n",
            "Epoch 140/500\n",
            "2/2 [==============================] - 0s 6ms/step - loss: 17.5425 - mse: 440.4403\n",
            "Epoch 141/500\n",
            "2/2 [==============================] - 0s 6ms/step - loss: 8.3574 - mse: 79.4861\n",
            "Epoch 142/500\n",
            "2/2 [==============================] - 0s 7ms/step - loss: 34.9803 - mse: 2130.0984\n",
            "Epoch 143/500\n",
            "2/2 [==============================] - 0s 10ms/step - loss: 23.9680 - mse: 806.8257\n",
            "Epoch 144/500\n",
            "2/2 [==============================] - 0s 7ms/step - loss: 11.4262 - mse: 217.5944\n",
            "Epoch 145/500\n",
            "2/2 [==============================] - 0s 8ms/step - loss: 25.3271 - mse: 868.7474\n",
            "Epoch 146/500\n",
            "2/2 [==============================] - 0s 11ms/step - loss: 10.7021 - mse: 152.7997\n",
            "Epoch 147/500\n",
            "2/2 [==============================] - 0s 7ms/step - loss: 14.3143 - mse: 290.9764\n",
            "Epoch 148/500\n",
            "2/2 [==============================] - 0s 11ms/step - loss: 17.2613 - mse: 409.4612\n",
            "Epoch 149/500\n",
            "2/2 [==============================] - 0s 11ms/step - loss: 8.9525 - mse: 106.1173\n",
            "Epoch 150/500\n",
            "2/2 [==============================] - 0s 7ms/step - loss: 7.8074 - mse: 68.0656\n",
            "Epoch 151/500\n",
            "2/2 [==============================] - 0s 7ms/step - loss: 20.3577 - mse: 605.1584\n",
            "Epoch 152/500\n",
            "2/2 [==============================] - 0s 7ms/step - loss: 10.3580 - mse: 132.7166\n",
            "Epoch 153/500\n",
            "2/2 [==============================] - 0s 6ms/step - loss: 29.9178 - mse: 1294.6063\n",
            "Epoch 154/500\n",
            "2/2 [==============================] - 0s 7ms/step - loss: 10.5166 - mse: 202.7516\n",
            "Epoch 155/500\n",
            "2/2 [==============================] - 0s 9ms/step - loss: 15.4173 - mse: 344.3752\n",
            "Epoch 156/500\n",
            "2/2 [==============================] - 0s 6ms/step - loss: 16.9282 - mse: 435.5540\n",
            "Epoch 157/500\n",
            "2/2 [==============================] - 0s 7ms/step - loss: 33.0650 - mse: 1773.0125\n",
            "Epoch 158/500\n",
            "2/2 [==============================] - 0s 7ms/step - loss: 10.7989 - mse: 153.6629\n",
            "Epoch 159/500\n",
            "2/2 [==============================] - 0s 6ms/step - loss: 8.9569 - mse: 98.4015\n",
            "Epoch 160/500\n",
            "2/2 [==============================] - 0s 8ms/step - loss: 22.2895 - mse: 720.4834\n",
            "Epoch 161/500\n",
            "2/2 [==============================] - 0s 7ms/step - loss: 11.7869 - mse: 205.5448\n",
            "Epoch 162/500\n",
            "2/2 [==============================] - 0s 6ms/step - loss: 21.7095 - mse: 679.3949\n",
            "Epoch 163/500\n",
            "2/2 [==============================] - 0s 6ms/step - loss: 19.3800 - mse: 540.8361\n",
            "Epoch 164/500\n",
            "2/2 [==============================] - 0s 6ms/step - loss: 11.1101 - mse: 181.0769\n",
            "Epoch 165/500\n",
            "2/2 [==============================] - 0s 7ms/step - loss: 9.6063 - mse: 181.2602\n",
            "Epoch 166/500\n",
            "2/2 [==============================] - 0s 7ms/step - loss: 21.5364 - mse: 679.2039\n",
            "Epoch 167/500\n",
            "2/2 [==============================] - 0s 7ms/step - loss: 26.4303 - mse: 1061.2834\n",
            "Epoch 168/500\n",
            "2/2 [==============================] - 0s 7ms/step - loss: 9.8996 - mse: 119.0231\n",
            "Epoch 169/500\n",
            "2/2 [==============================] - 0s 6ms/step - loss: 22.6906 - mse: 796.4766\n",
            "Epoch 170/500\n",
            "2/2 [==============================] - 0s 7ms/step - loss: 10.1394 - mse: 197.0357\n",
            "Epoch 171/500\n",
            "2/2 [==============================] - 0s 7ms/step - loss: 17.9984 - mse: 501.2176\n",
            "Epoch 172/500\n",
            "2/2 [==============================] - 0s 6ms/step - loss: 28.9563 - mse: 1318.0062\n",
            "Epoch 173/500\n",
            "2/2 [==============================] - 0s 8ms/step - loss: 16.6278 - mse: 436.9945\n",
            "Epoch 174/500\n",
            "2/2 [==============================] - 0s 7ms/step - loss: 11.2101 - mse: 200.9282\n",
            "Epoch 175/500\n",
            "2/2 [==============================] - 0s 6ms/step - loss: 27.5561 - mse: 1095.7347\n",
            "Epoch 176/500\n",
            "2/2 [==============================] - 0s 6ms/step - loss: 8.3171 - mse: 78.4702\n",
            "Epoch 177/500\n",
            "2/2 [==============================] - 0s 7ms/step - loss: 9.2998 - mse: 109.6343\n",
            "Epoch 178/500\n",
            "2/2 [==============================] - 0s 7ms/step - loss: 18.2274 - mse: 470.0705\n",
            "Epoch 179/500\n",
            "2/2 [==============================] - 0s 7ms/step - loss: 10.5682 - mse: 147.1868\n",
            "Epoch 180/500\n",
            "2/2 [==============================] - 0s 9ms/step - loss: 7.9301 - mse: 100.4970\n",
            "Epoch 181/500\n",
            "2/2 [==============================] - 0s 9ms/step - loss: 17.4609 - mse: 441.4643\n",
            "Epoch 182/500\n",
            "2/2 [==============================] - 0s 10ms/step - loss: 11.0523 - mse: 158.1885\n",
            "Epoch 183/500\n",
            "2/2 [==============================] - 0s 9ms/step - loss: 11.7329 - mse: 204.8732\n",
            "Epoch 184/500\n",
            "2/2 [==============================] - 0s 8ms/step - loss: 30.4736 - mse: 1393.9574\n",
            "Epoch 185/500\n",
            "2/2 [==============================] - 0s 9ms/step - loss: 7.5670 - mse: 99.1621\n",
            "Epoch 186/500\n",
            "2/2 [==============================] - 0s 8ms/step - loss: 15.9815 - mse: 368.8217\n",
            "Epoch 187/500\n",
            "2/2 [==============================] - 0s 9ms/step - loss: 8.5805 - mse: 85.7548\n",
            "Epoch 188/500\n",
            "2/2 [==============================] - 0s 8ms/step - loss: 28.7667 - mse: 1178.5303\n",
            "Epoch 189/500\n",
            "2/2 [==============================] - 0s 8ms/step - loss: 13.1697 - mse: 271.6112\n",
            "Epoch 190/500\n",
            "2/2 [==============================] - 0s 8ms/step - loss: 18.3121 - mse: 512.4191\n",
            "Epoch 191/500\n",
            "2/2 [==============================] - 0s 7ms/step - loss: 13.7407 - mse: 265.0674\n",
            "Epoch 192/500\n",
            "2/2 [==============================] - 0s 6ms/step - loss: 13.7182 - mse: 261.3247\n",
            "Epoch 193/500\n",
            "2/2 [==============================] - 0s 7ms/step - loss: 28.5865 - mse: 1135.2054\n",
            "Epoch 194/500\n",
            "2/2 [==============================] - 0s 8ms/step - loss: 7.0839 - mse: 78.9719\n",
            "Epoch 195/500\n",
            "2/2 [==============================] - 0s 6ms/step - loss: 7.0699 - mse: 75.1522\n",
            "Epoch 196/500\n",
            "2/2 [==============================] - 0s 9ms/step - loss: 22.0205 - mse: 710.0584\n",
            "Epoch 197/500\n",
            "2/2 [==============================] - 0s 6ms/step - loss: 20.8192 - mse: 642.0599\n",
            "Epoch 198/500\n",
            "2/2 [==============================] - 0s 6ms/step - loss: 12.4616 - mse: 236.1710\n",
            "Epoch 199/500\n",
            "2/2 [==============================] - 0s 7ms/step - loss: 17.8861 - mse: 459.1938\n",
            "Epoch 200/500\n",
            "2/2 [==============================] - 0s 10ms/step - loss: 13.7276 - mse: 281.2706\n",
            "Epoch 201/500\n",
            "2/2 [==============================] - 0s 8ms/step - loss: 5.4879 - mse: 41.5058\n",
            "Epoch 202/500\n",
            "2/2 [==============================] - 0s 6ms/step - loss: 13.6758 - mse: 292.9738\n",
            "Epoch 203/500\n",
            "2/2 [==============================] - 0s 6ms/step - loss: 9.4193 - mse: 140.4749\n",
            "Epoch 204/500\n",
            "2/2 [==============================] - 0s 6ms/step - loss: 20.9173 - mse: 652.5392\n",
            "Epoch 205/500\n",
            "2/2 [==============================] - 0s 9ms/step - loss: 9.5410 - mse: 128.0754\n",
            "Epoch 206/500\n",
            "2/2 [==============================] - 0s 8ms/step - loss: 11.7044 - mse: 194.8685\n",
            "Epoch 207/500\n",
            "2/2 [==============================] - 0s 8ms/step - loss: 14.3247 - mse: 315.0657\n",
            "Epoch 208/500\n",
            "2/2 [==============================] - 0s 8ms/step - loss: 14.8165 - mse: 321.7231\n",
            "Epoch 209/500\n",
            "2/2 [==============================] - 0s 8ms/step - loss: 14.6059 - mse: 326.3837\n",
            "Epoch 210/500\n",
            "2/2 [==============================] - 0s 7ms/step - loss: 17.8440 - mse: 464.7056\n",
            "Epoch 211/500\n",
            "2/2 [==============================] - 0s 7ms/step - loss: 9.8265 - mse: 146.2144\n",
            "Epoch 212/500\n",
            "2/2 [==============================] - 0s 9ms/step - loss: 18.2570 - mse: 503.7516\n",
            "Epoch 213/500\n",
            "2/2 [==============================] - 0s 8ms/step - loss: 15.0681 - mse: 308.5828\n",
            "Epoch 214/500\n",
            "2/2 [==============================] - 0s 7ms/step - loss: 14.6087 - mse: 294.6169\n",
            "Epoch 215/500\n",
            "2/2 [==============================] - 0s 7ms/step - loss: 23.3396 - mse: 801.6647\n",
            "Epoch 216/500\n",
            "2/2 [==============================] - 0s 7ms/step - loss: 13.3057 - mse: 276.2342\n",
            "Epoch 217/500\n",
            "2/2 [==============================] - 0s 10ms/step - loss: 9.8163 - mse: 134.8375\n",
            "Epoch 218/500\n",
            "2/2 [==============================] - 0s 10ms/step - loss: 12.5936 - mse: 207.8958\n",
            "Epoch 219/500\n",
            "2/2 [==============================] - 0s 7ms/step - loss: 5.3385 - mse: 39.3567\n",
            "Epoch 220/500\n",
            "2/2 [==============================] - 0s 6ms/step - loss: 14.6967 - mse: 283.8948\n",
            "Epoch 221/500\n",
            "2/2 [==============================] - 0s 6ms/step - loss: 33.5425 - mse: 1537.2477\n",
            "Epoch 222/500\n",
            "2/2 [==============================] - 0s 7ms/step - loss: 13.8894 - mse: 237.8551\n",
            "Epoch 223/500\n",
            "2/2 [==============================] - 0s 8ms/step - loss: 10.9924 - mse: 179.6814\n",
            "Epoch 224/500\n",
            "2/2 [==============================] - 0s 9ms/step - loss: 14.9449 - mse: 333.7988\n",
            "Epoch 225/500\n",
            "2/2 [==============================] - 0s 8ms/step - loss: 16.9918 - mse: 374.5034\n",
            "Epoch 226/500\n",
            "2/2 [==============================] - 0s 7ms/step - loss: 16.1813 - mse: 385.4589\n",
            "Epoch 227/500\n",
            "2/2 [==============================] - 0s 7ms/step - loss: 16.4991 - mse: 385.2972\n",
            "Epoch 228/500\n",
            "2/2 [==============================] - 0s 8ms/step - loss: 9.9406 - mse: 185.3264\n",
            "Epoch 229/500\n",
            "2/2 [==============================] - 0s 8ms/step - loss: 17.8373 - mse: 443.6931\n",
            "Epoch 230/500\n",
            "2/2 [==============================] - 0s 7ms/step - loss: 15.4575 - mse: 310.6007\n",
            "Epoch 231/500\n",
            "2/2 [==============================] - 0s 7ms/step - loss: 20.8852 - mse: 654.7944\n",
            "Epoch 232/500\n",
            "2/2 [==============================] - 0s 7ms/step - loss: 20.4126 - mse: 592.4967\n",
            "Epoch 233/500\n",
            "2/2 [==============================] - 0s 6ms/step - loss: 15.0727 - mse: 338.4458\n",
            "Epoch 234/500\n",
            "2/2 [==============================] - 0s 10ms/step - loss: 6.9616 - mse: 66.0002\n",
            "Epoch 235/500\n",
            "2/2 [==============================] - 0s 7ms/step - loss: 15.7224 - mse: 347.4588\n",
            "Epoch 236/500\n",
            "2/2 [==============================] - 0s 11ms/step - loss: 6.6819 - mse: 71.2381\n",
            "Epoch 237/500\n",
            "2/2 [==============================] - 0s 8ms/step - loss: 8.5934 - mse: 114.0479\n",
            "Epoch 238/500\n",
            "2/2 [==============================] - 0s 10ms/step - loss: 7.7590 - mse: 87.9580\n",
            "Epoch 239/500\n",
            "2/2 [==============================] - 0s 14ms/step - loss: 15.6411 - mse: 372.6024\n",
            "Epoch 240/500\n",
            "2/2 [==============================] - 0s 15ms/step - loss: 8.9983 - mse: 109.0440\n",
            "Epoch 241/500\n",
            "2/2 [==============================] - 0s 12ms/step - loss: 13.4120 - mse: 279.4041\n",
            "Epoch 242/500\n",
            "2/2 [==============================] - 0s 7ms/step - loss: 8.8890 - mse: 107.4538\n",
            "Epoch 243/500\n",
            "2/2 [==============================] - 0s 8ms/step - loss: 19.2885 - mse: 568.0294\n",
            "Epoch 244/500\n",
            "2/2 [==============================] - 0s 8ms/step - loss: 13.8900 - mse: 271.5824\n",
            "Epoch 245/500\n",
            "2/2 [==============================] - 0s 7ms/step - loss: 14.5396 - mse: 283.2819\n",
            "Epoch 246/500\n",
            "2/2 [==============================] - 0s 7ms/step - loss: 15.6773 - mse: 362.0826\n",
            "Epoch 247/500\n",
            "2/2 [==============================] - 0s 6ms/step - loss: 17.5137 - mse: 411.9303\n",
            "Epoch 248/500\n",
            "2/2 [==============================] - 0s 8ms/step - loss: 13.0810 - mse: 249.7977\n",
            "Epoch 249/500\n",
            "2/2 [==============================] - 0s 10ms/step - loss: 14.4228 - mse: 284.1669\n",
            "Epoch 250/500\n",
            "2/2 [==============================] - 0s 8ms/step - loss: 27.8220 - mse: 1101.4832\n",
            "Epoch 251/500\n",
            "2/2 [==============================] - 0s 9ms/step - loss: 7.5000 - mse: 69.2869\n",
            "Epoch 252/500\n",
            "2/2 [==============================] - 0s 6ms/step - loss: 38.1874 - mse: 2409.5742\n",
            "Epoch 253/500\n",
            "2/2 [==============================] - 0s 9ms/step - loss: 23.0908 - mse: 749.4191\n",
            "Epoch 254/500\n",
            "2/2 [==============================] - 0s 8ms/step - loss: 7.2848 - mse: 78.6601\n",
            "Epoch 255/500\n",
            "2/2 [==============================] - 0s 9ms/step - loss: 24.5979 - mse: 873.6786\n",
            "Epoch 256/500\n",
            "2/2 [==============================] - 0s 10ms/step - loss: 12.3742 - mse: 218.7833\n",
            "Epoch 257/500\n",
            "2/2 [==============================] - 0s 10ms/step - loss: 10.5474 - mse: 162.6675\n",
            "Epoch 258/500\n",
            "2/2 [==============================] - 0s 12ms/step - loss: 14.1628 - mse: 305.2879\n",
            "Epoch 259/500\n",
            "2/2 [==============================] - 0s 8ms/step - loss: 11.2362 - mse: 186.3149\n",
            "Epoch 260/500\n",
            "2/2 [==============================] - 0s 8ms/step - loss: 31.5568 - mse: 1520.4020\n",
            "Epoch 261/500\n",
            "2/2 [==============================] - 0s 10ms/step - loss: 11.1465 - mse: 177.4328\n",
            "Epoch 262/500\n",
            "2/2 [==============================] - 0s 10ms/step - loss: 10.0046 - mse: 138.8642\n",
            "Epoch 263/500\n",
            "2/2 [==============================] - 0s 6ms/step - loss: 8.9262 - mse: 103.2376\n",
            "Epoch 264/500\n",
            "2/2 [==============================] - 0s 7ms/step - loss: 21.4602 - mse: 647.6860\n",
            "Epoch 265/500\n",
            "2/2 [==============================] - 0s 6ms/step - loss: 11.4541 - mse: 198.9715\n",
            "Epoch 266/500\n",
            "2/2 [==============================] - 0s 7ms/step - loss: 13.2907 - mse: 254.8916\n",
            "Epoch 267/500\n",
            "2/2 [==============================] - 0s 8ms/step - loss: 11.0763 - mse: 232.8211\n",
            "Epoch 268/500\n",
            "2/2 [==============================] - 0s 7ms/step - loss: 19.1606 - mse: 550.1208\n",
            "Epoch 269/500\n",
            "2/2 [==============================] - 0s 6ms/step - loss: 40.6996 - mse: 2568.7954\n",
            "Epoch 270/500\n",
            "2/2 [==============================] - 0s 7ms/step - loss: 12.9124 - mse: 255.5930\n",
            "Epoch 271/500\n",
            "2/2 [==============================] - 0s 6ms/step - loss: 14.7575 - mse: 279.5147\n",
            "Epoch 272/500\n",
            "2/2 [==============================] - 0s 6ms/step - loss: 28.5064 - mse: 1115.8055\n",
            "Epoch 273/500\n",
            "2/2 [==============================] - 0s 7ms/step - loss: 7.3540 - mse: 83.5361\n",
            "Epoch 274/500\n",
            "2/2 [==============================] - 0s 7ms/step - loss: 6.3372 - mse: 45.3993\n",
            "Epoch 275/500\n",
            "2/2 [==============================] - 0s 7ms/step - loss: 36.9502 - mse: 2092.4453\n",
            "Epoch 276/500\n",
            "2/2 [==============================] - 0s 6ms/step - loss: 8.2728 - mse: 109.4113\n",
            "Epoch 277/500\n",
            "2/2 [==============================] - 0s 6ms/step - loss: 27.7655 - mse: 1055.9595\n",
            "Epoch 278/500\n",
            "2/2 [==============================] - 0s 6ms/step - loss: 10.6552 - mse: 212.2153\n",
            "Epoch 279/500\n",
            "2/2 [==============================] - 0s 7ms/step - loss: 16.0916 - mse: 388.8588\n",
            "Epoch 280/500\n",
            "2/2 [==============================] - 0s 8ms/step - loss: 21.2070 - mse: 680.1247\n",
            "Epoch 281/500\n",
            "2/2 [==============================] - 0s 7ms/step - loss: 23.8644 - mse: 870.3151\n",
            "Epoch 282/500\n",
            "2/2 [==============================] - 0s 7ms/step - loss: 8.2615 - mse: 96.7024\n",
            "Epoch 283/500\n",
            "2/2 [==============================] - 0s 7ms/step - loss: 8.4356 - mse: 99.0416\n",
            "Epoch 284/500\n",
            "2/2 [==============================] - 0s 10ms/step - loss: 26.7179 - mse: 1083.6604\n",
            "Epoch 285/500\n",
            "2/2 [==============================] - 0s 8ms/step - loss: 14.2949 - mse: 324.5291\n",
            "Epoch 286/500\n",
            "2/2 [==============================] - 0s 8ms/step - loss: 5.2442 - mse: 36.7041\n",
            "Epoch 287/500\n",
            "2/2 [==============================] - 0s 9ms/step - loss: 20.7751 - mse: 647.4631\n",
            "Epoch 288/500\n",
            "2/2 [==============================] - 0s 8ms/step - loss: 27.7929 - mse: 1173.1732\n",
            "Epoch 289/500\n",
            "2/2 [==============================] - 0s 7ms/step - loss: 10.9777 - mse: 241.2338\n",
            "Epoch 290/500\n",
            "2/2 [==============================] - 0s 9ms/step - loss: 16.1720 - mse: 346.5112\n",
            "Epoch 291/500\n",
            "2/2 [==============================] - 0s 10ms/step - loss: 16.3371 - mse: 390.4955\n",
            "Epoch 292/500\n",
            "2/2 [==============================] - 0s 7ms/step - loss: 14.6015 - mse: 284.1508\n",
            "Epoch 293/500\n",
            "2/2 [==============================] - 0s 6ms/step - loss: 15.9238 - mse: 363.8162\n",
            "Epoch 294/500\n",
            "2/2 [==============================] - 0s 7ms/step - loss: 24.0524 - mse: 861.7847\n",
            "Epoch 295/500\n",
            "2/2 [==============================] - 0s 7ms/step - loss: 14.7793 - mse: 317.2393\n",
            "Epoch 296/500\n",
            "2/2 [==============================] - 0s 8ms/step - loss: 4.3533 - mse: 28.1562\n",
            "Epoch 297/500\n",
            "2/2 [==============================] - 0s 6ms/step - loss: 11.8616 - mse: 246.6801\n",
            "Epoch 298/500\n",
            "2/2 [==============================] - 0s 7ms/step - loss: 23.7583 - mse: 822.7048\n",
            "Epoch 299/500\n",
            "2/2 [==============================] - 0s 7ms/step - loss: 19.0242 - mse: 540.2863\n",
            "Epoch 300/500\n",
            "2/2 [==============================] - 0s 8ms/step - loss: 8.8128 - mse: 118.7561\n",
            "Epoch 301/500\n",
            "2/2 [==============================] - 0s 10ms/step - loss: 15.8839 - mse: 364.6779\n",
            "Epoch 302/500\n",
            "2/2 [==============================] - 0s 8ms/step - loss: 5.7375 - mse: 53.4653\n",
            "Epoch 303/500\n",
            "2/2 [==============================] - 0s 8ms/step - loss: 22.9836 - mse: 781.1375\n",
            "Epoch 304/500\n",
            "2/2 [==============================] - 0s 8ms/step - loss: 26.0544 - mse: 935.8500\n",
            "Epoch 305/500\n",
            "2/2 [==============================] - 0s 7ms/step - loss: 9.5830 - mse: 145.8693\n",
            "Epoch 306/500\n",
            "2/2 [==============================] - 0s 9ms/step - loss: 17.8157 - mse: 444.7495\n",
            "Epoch 307/500\n",
            "2/2 [==============================] - 0s 7ms/step - loss: 9.7919 - mse: 179.0208\n",
            "Epoch 308/500\n",
            "2/2 [==============================] - 0s 7ms/step - loss: 20.5428 - mse: 648.8737\n",
            "Epoch 309/500\n",
            "2/2 [==============================] - 0s 6ms/step - loss: 13.6693 - mse: 291.5924\n",
            "Epoch 310/500\n",
            "2/2 [==============================] - 0s 7ms/step - loss: 6.6423 - mse: 97.2851\n",
            "Epoch 311/500\n",
            "2/2 [==============================] - 0s 6ms/step - loss: 13.3830 - mse: 251.1202\n",
            "Epoch 312/500\n",
            "2/2 [==============================] - 0s 8ms/step - loss: 30.1859 - mse: 1258.0212\n",
            "Epoch 313/500\n",
            "2/2 [==============================] - 0s 7ms/step - loss: 7.2576 - mse: 104.5652\n",
            "Epoch 314/500\n",
            "2/2 [==============================] - 0s 6ms/step - loss: 10.5464 - mse: 261.5535\n",
            "Epoch 315/500\n",
            "2/2 [==============================] - 0s 7ms/step - loss: 23.5511 - mse: 806.9669\n",
            "Epoch 316/500\n",
            "2/2 [==============================] - 0s 6ms/step - loss: 14.4522 - mse: 326.9619\n",
            "Epoch 317/500\n",
            "2/2 [==============================] - 0s 6ms/step - loss: 20.0086 - mse: 549.3978\n",
            "Epoch 318/500\n",
            "2/2 [==============================] - 0s 7ms/step - loss: 8.0057 - mse: 83.5570\n",
            "Epoch 319/500\n",
            "2/2 [==============================] - 0s 9ms/step - loss: 18.1396 - mse: 487.7455\n",
            "Epoch 320/500\n",
            "2/2 [==============================] - 0s 7ms/step - loss: 10.6589 - mse: 193.9281\n",
            "Epoch 321/500\n",
            "2/2 [==============================] - 0s 6ms/step - loss: 7.0342 - mse: 108.1034\n",
            "Epoch 322/500\n",
            "2/2 [==============================] - 0s 6ms/step - loss: 8.6660 - mse: 170.6224\n",
            "Epoch 323/500\n",
            "2/2 [==============================] - 0s 6ms/step - loss: 18.3277 - mse: 519.6556\n",
            "Epoch 324/500\n",
            "2/2 [==============================] - 0s 6ms/step - loss: 6.3089 - mse: 52.9672\n",
            "Epoch 325/500\n",
            "2/2 [==============================] - 0s 8ms/step - loss: 14.6297 - mse: 320.2270\n",
            "Epoch 326/500\n",
            "2/2 [==============================] - 0s 10ms/step - loss: 6.9909 - mse: 75.5284\n",
            "Epoch 327/500\n",
            "2/2 [==============================] - 0s 6ms/step - loss: 17.6468 - mse: 447.5526\n",
            "Epoch 328/500\n",
            "2/2 [==============================] - 0s 8ms/step - loss: 14.3687 - mse: 290.3855\n",
            "Epoch 329/500\n",
            "2/2 [==============================] - 0s 7ms/step - loss: 17.6778 - mse: 479.2787\n",
            "Epoch 330/500\n",
            "2/2 [==============================] - 0s 8ms/step - loss: 6.7803 - mse: 92.3247\n",
            "Epoch 331/500\n",
            "2/2 [==============================] - 0s 8ms/step - loss: 19.7597 - mse: 593.4075\n",
            "Epoch 332/500\n",
            "2/2 [==============================] - 0s 7ms/step - loss: 10.5542 - mse: 172.8295\n",
            "Epoch 333/500\n",
            "2/2 [==============================] - 0s 7ms/step - loss: 16.3544 - mse: 396.5996\n",
            "Epoch 334/500\n",
            "2/2 [==============================] - 0s 7ms/step - loss: 9.7120 - mse: 198.8909\n",
            "Epoch 335/500\n",
            "2/2 [==============================] - 0s 10ms/step - loss: 13.0532 - mse: 267.5764\n",
            "Epoch 336/500\n",
            "2/2 [==============================] - 0s 12ms/step - loss: 32.4914 - mse: 1439.9840\n",
            "Epoch 337/500\n",
            "2/2 [==============================] - 0s 6ms/step - loss: 11.0351 - mse: 189.8828\n",
            "Epoch 338/500\n",
            "2/2 [==============================] - 0s 7ms/step - loss: 19.9449 - mse: 585.7238\n",
            "Epoch 339/500\n",
            "2/2 [==============================] - 0s 7ms/step - loss: 34.3422 - mse: 1765.6072\n",
            "Epoch 340/500\n",
            "2/2 [==============================] - 0s 7ms/step - loss: 9.2809 - mse: 130.4699\n",
            "Epoch 341/500\n",
            "2/2 [==============================] - 0s 10ms/step - loss: 17.3032 - mse: 426.2894\n",
            "Epoch 342/500\n",
            "2/2 [==============================] - 0s 7ms/step - loss: 14.9116 - mse: 306.7117\n",
            "Epoch 343/500\n",
            "2/2 [==============================] - 0s 7ms/step - loss: 10.3158 - mse: 152.6305\n",
            "Epoch 344/500\n",
            "2/2 [==============================] - 0s 7ms/step - loss: 9.9322 - mse: 218.1735\n",
            "Epoch 345/500\n",
            "2/2 [==============================] - 0s 7ms/step - loss: 30.9008 - mse: 1343.3859\n",
            "Epoch 346/500\n",
            "2/2 [==============================] - 0s 7ms/step - loss: 10.6253 - mse: 262.1204\n",
            "Epoch 347/500\n",
            "2/2 [==============================] - 0s 8ms/step - loss: 25.5379 - mse: 913.8699\n",
            "Epoch 348/500\n",
            "2/2 [==============================] - 0s 7ms/step - loss: 13.3492 - mse: 275.7469\n",
            "Epoch 349/500\n",
            "2/2 [==============================] - 0s 7ms/step - loss: 13.0082 - mse: 249.3449\n",
            "Epoch 350/500\n",
            "2/2 [==============================] - 0s 7ms/step - loss: 15.3888 - mse: 326.1531\n",
            "Epoch 351/500\n",
            "2/2 [==============================] - 0s 7ms/step - loss: 32.8627 - mse: 1516.1897\n",
            "Epoch 352/500\n",
            "2/2 [==============================] - 0s 7ms/step - loss: 14.0623 - mse: 279.1323\n",
            "Epoch 353/500\n",
            "2/2 [==============================] - 0s 8ms/step - loss: 17.7508 - mse: 483.1959\n",
            "Epoch 354/500\n",
            "2/2 [==============================] - 0s 7ms/step - loss: 11.3302 - mse: 233.9747\n",
            "Epoch 355/500\n",
            "2/2 [==============================] - 0s 6ms/step - loss: 26.7448 - mse: 1022.6587\n",
            "Epoch 356/500\n",
            "2/2 [==============================] - 0s 7ms/step - loss: 10.1855 - mse: 178.8474\n",
            "Epoch 357/500\n",
            "2/2 [==============================] - 0s 11ms/step - loss: 14.7668 - mse: 342.4289\n",
            "Epoch 358/500\n",
            "2/2 [==============================] - 0s 11ms/step - loss: 14.6501 - mse: 325.9485\n",
            "Epoch 359/500\n",
            "2/2 [==============================] - 0s 8ms/step - loss: 12.3273 - mse: 313.3622\n",
            "Epoch 360/500\n",
            "2/2 [==============================] - 0s 7ms/step - loss: 20.3316 - mse: 621.2709\n",
            "Epoch 361/500\n",
            "2/2 [==============================] - 0s 7ms/step - loss: 10.9227 - mse: 219.1916\n",
            "Epoch 362/500\n",
            "2/2 [==============================] - 0s 6ms/step - loss: 6.8152 - mse: 77.4992\n",
            "Epoch 363/500\n",
            "2/2 [==============================] - 0s 6ms/step - loss: 23.8541 - mse: 827.4783\n",
            "Epoch 364/500\n",
            "2/2 [==============================] - 0s 7ms/step - loss: 29.5679 - mse: 1268.6608\n",
            "Epoch 365/500\n",
            "2/2 [==============================] - 0s 8ms/step - loss: 8.2950 - mse: 107.2064\n",
            "Epoch 366/500\n",
            "2/2 [==============================] - 0s 7ms/step - loss: 6.1004 - mse: 49.1732\n",
            "Epoch 367/500\n",
            "2/2 [==============================] - 0s 6ms/step - loss: 34.6669 - mse: 1823.3445\n",
            "Epoch 368/500\n",
            "2/2 [==============================] - 0s 6ms/step - loss: 7.3635 - mse: 100.9445\n",
            "Epoch 369/500\n",
            "2/2 [==============================] - 0s 7ms/step - loss: 8.7169 - mse: 110.1394\n",
            "Epoch 370/500\n",
            "2/2 [==============================] - 0s 8ms/step - loss: 14.4898 - mse: 332.2421\n",
            "Epoch 371/500\n",
            "2/2 [==============================] - 0s 11ms/step - loss: 6.1706 - mse: 85.9137\n",
            "Epoch 372/500\n",
            "2/2 [==============================] - 0s 7ms/step - loss: 6.0304 - mse: 71.2996\n",
            "Epoch 373/500\n",
            "2/2 [==============================] - 0s 8ms/step - loss: 26.7738 - mse: 1033.8337\n",
            "Epoch 374/500\n",
            "2/2 [==============================] - 0s 7ms/step - loss: 8.2667 - mse: 108.5387\n",
            "Epoch 375/500\n",
            "2/2 [==============================] - 0s 9ms/step - loss: 9.1864 - mse: 134.5151\n",
            "Epoch 376/500\n",
            "2/2 [==============================] - 0s 7ms/step - loss: 6.1955 - mse: 86.9291\n",
            "Epoch 377/500\n",
            "2/2 [==============================] - 0s 7ms/step - loss: 10.1735 - mse: 282.9156\n",
            "Epoch 378/500\n",
            "2/2 [==============================] - 0s 7ms/step - loss: 15.0426 - mse: 318.9238\n",
            "Epoch 379/500\n",
            "2/2 [==============================] - 0s 6ms/step - loss: 26.6489 - mse: 944.9056\n",
            "Epoch 380/500\n",
            "2/2 [==============================] - 0s 6ms/step - loss: 16.9951 - mse: 436.7055\n",
            "Epoch 381/500\n",
            "2/2 [==============================] - 0s 6ms/step - loss: 11.0540 - mse: 222.4994\n",
            "Epoch 382/500\n",
            "2/2 [==============================] - 0s 9ms/step - loss: 16.0261 - mse: 336.8111\n",
            "Epoch 383/500\n",
            "2/2 [==============================] - 0s 7ms/step - loss: 21.6169 - mse: 720.7419\n",
            "Epoch 384/500\n",
            "2/2 [==============================] - 0s 7ms/step - loss: 6.3404 - mse: 77.3819\n",
            "Epoch 385/500\n",
            "2/2 [==============================] - 0s 6ms/step - loss: 10.0181 - mse: 245.7631\n",
            "Epoch 386/500\n",
            "2/2 [==============================] - 0s 7ms/step - loss: 19.5129 - mse: 589.7838\n",
            "Epoch 387/500\n",
            "2/2 [==============================] - 0s 7ms/step - loss: 25.4422 - mse: 940.1051\n",
            "Epoch 388/500\n",
            "2/2 [==============================] - 0s 8ms/step - loss: 9.2981 - mse: 148.7437\n",
            "Epoch 389/500\n",
            "2/2 [==============================] - 0s 7ms/step - loss: 5.4497 - mse: 35.0445\n",
            "Epoch 390/500\n",
            "2/2 [==============================] - 0s 6ms/step - loss: 21.0274 - mse: 642.6384\n",
            "Epoch 391/500\n",
            "2/2 [==============================] - 0s 6ms/step - loss: 6.2532 - mse: 100.5552\n",
            "Epoch 392/500\n",
            "2/2 [==============================] - 0s 6ms/step - loss: 15.5377 - mse: 383.8139\n",
            "Epoch 393/500\n",
            "2/2 [==============================] - 0s 6ms/step - loss: 6.3694 - mse: 106.4261\n",
            "Epoch 394/500\n",
            "2/2 [==============================] - 0s 7ms/step - loss: 14.5859 - mse: 308.0902\n",
            "Epoch 395/500\n",
            "2/2 [==============================] - 0s 7ms/step - loss: 24.6531 - mse: 863.5721\n",
            "Epoch 396/500\n",
            "2/2 [==============================] - 0s 7ms/step - loss: 20.1874 - mse: 572.6505\n",
            "Epoch 397/500\n",
            "2/2 [==============================] - 0s 7ms/step - loss: 10.9855 - mse: 270.6000\n",
            "Epoch 398/500\n",
            "2/2 [==============================] - 0s 6ms/step - loss: 19.2572 - mse: 582.7426\n",
            "Epoch 399/500\n",
            "2/2 [==============================] - 0s 6ms/step - loss: 25.8997 - mse: 1003.8409\n",
            "Epoch 400/500\n",
            "2/2 [==============================] - 0s 8ms/step - loss: 15.5556 - mse: 349.8467\n",
            "Epoch 401/500\n",
            "2/2 [==============================] - 0s 7ms/step - loss: 14.8159 - mse: 290.3181\n",
            "Epoch 402/500\n",
            "2/2 [==============================] - 0s 6ms/step - loss: 24.0710 - mse: 826.0479\n",
            "Epoch 403/500\n",
            "2/2 [==============================] - 0s 7ms/step - loss: 16.8732 - mse: 419.2296\n",
            "Epoch 404/500\n",
            "2/2 [==============================] - 0s 6ms/step - loss: 9.7108 - mse: 183.8588\n",
            "Epoch 405/500\n",
            "2/2 [==============================] - 0s 7ms/step - loss: 6.8411 - mse: 72.3463\n",
            "Epoch 406/500\n",
            "2/2 [==============================] - 0s 10ms/step - loss: 20.1795 - mse: 612.5863\n",
            "Epoch 407/500\n",
            "2/2 [==============================] - 0s 7ms/step - loss: 9.6415 - mse: 234.5314\n",
            "Epoch 408/500\n",
            "2/2 [==============================] - 0s 7ms/step - loss: 21.2233 - mse: 687.0081\n",
            "Epoch 409/500\n",
            "2/2 [==============================] - 0s 7ms/step - loss: 29.8928 - mse: 1375.8197\n",
            "Epoch 410/500\n",
            "2/2 [==============================] - 0s 7ms/step - loss: 9.9110 - mse: 237.3632\n",
            "Epoch 411/500\n",
            "2/2 [==============================] - 0s 7ms/step - loss: 14.7682 - mse: 282.9732\n",
            "Epoch 412/500\n",
            "2/2 [==============================] - 0s 8ms/step - loss: 21.5709 - mse: 712.8102\n",
            "Epoch 413/500\n",
            "2/2 [==============================] - 0s 9ms/step - loss: 13.0842 - mse: 265.7399\n",
            "Epoch 414/500\n",
            "2/2 [==============================] - 0s 7ms/step - loss: 8.2801 - mse: 182.0464\n",
            "Epoch 415/500\n",
            "2/2 [==============================] - 0s 6ms/step - loss: 11.6979 - mse: 241.5836\n",
            "Epoch 416/500\n",
            "2/2 [==============================] - 0s 6ms/step - loss: 25.6329 - mse: 914.6848\n",
            "Epoch 417/500\n",
            "2/2 [==============================] - 0s 6ms/step - loss: 15.7099 - mse: 376.5721\n",
            "Epoch 418/500\n",
            "2/2 [==============================] - 0s 8ms/step - loss: 12.5857 - mse: 232.1982\n",
            "Epoch 419/500\n",
            "2/2 [==============================] - 0s 7ms/step - loss: 15.7249 - mse: 361.2697\n",
            "Epoch 420/500\n",
            "2/2 [==============================] - 0s 7ms/step - loss: 24.4394 - mse: 830.3525\n",
            "Epoch 421/500\n",
            "2/2 [==============================] - 0s 10ms/step - loss: 18.2443 - mse: 485.2040\n",
            "Epoch 422/500\n",
            "2/2 [==============================] - 0s 10ms/step - loss: 8.6330 - mse: 202.1032\n",
            "Epoch 423/500\n",
            "2/2 [==============================] - 0s 7ms/step - loss: 24.6434 - mse: 860.9863\n",
            "Epoch 424/500\n",
            "2/2 [==============================] - 0s 7ms/step - loss: 16.8657 - mse: 438.2866\n",
            "Epoch 425/500\n",
            "2/2 [==============================] - 0s 6ms/step - loss: 7.3115 - mse: 77.9727\n",
            "Epoch 426/500\n",
            "2/2 [==============================] - 0s 6ms/step - loss: 21.0510 - mse: 613.3737\n",
            "Epoch 427/500\n",
            "2/2 [==============================] - 0s 6ms/step - loss: 6.4936 - mse: 82.2646\n",
            "Epoch 428/500\n",
            "2/2 [==============================] - 0s 7ms/step - loss: 13.4928 - mse: 300.3059\n",
            "Epoch 429/500\n",
            "2/2 [==============================] - 0s 6ms/step - loss: 11.4724 - mse: 215.2854\n",
            "Epoch 430/500\n",
            "2/2 [==============================] - 0s 7ms/step - loss: 10.2466 - mse: 215.5432\n",
            "Epoch 431/500\n",
            "2/2 [==============================] - 0s 7ms/step - loss: 11.5171 - mse: 246.7908\n",
            "Epoch 432/500\n",
            "2/2 [==============================] - 0s 7ms/step - loss: 9.9476 - mse: 187.5715\n",
            "Epoch 433/500\n",
            "2/2 [==============================] - 0s 7ms/step - loss: 3.8397 - mse: 18.8006\n",
            "Epoch 434/500\n",
            "2/2 [==============================] - 0s 9ms/step - loss: 28.3301 - mse: 1138.6899\n",
            "Epoch 435/500\n",
            "2/2 [==============================] - 0s 7ms/step - loss: 5.3621 - mse: 37.4012\n",
            "Epoch 436/500\n",
            "2/2 [==============================] - 0s 7ms/step - loss: 41.3771 - mse: 2743.8394\n",
            "Epoch 437/500\n",
            "2/2 [==============================] - 0s 7ms/step - loss: 5.1680 - mse: 52.6421\n",
            "Epoch 438/500\n",
            "2/2 [==============================] - 0s 11ms/step - loss: 13.8756 - mse: 276.3166\n",
            "Epoch 439/500\n",
            "2/2 [==============================] - 0s 10ms/step - loss: 31.8768 - mse: 1413.6272\n",
            "Epoch 440/500\n",
            "2/2 [==============================] - 0s 7ms/step - loss: 12.2665 - mse: 261.9521\n",
            "Epoch 441/500\n",
            "2/2 [==============================] - 0s 8ms/step - loss: 15.6373 - mse: 337.7684\n",
            "Epoch 442/500\n",
            "2/2 [==============================] - 0s 11ms/step - loss: 23.4273 - mse: 815.7678\n",
            "Epoch 443/500\n",
            "2/2 [==============================] - 0s 9ms/step - loss: 20.8862 - mse: 610.9806\n",
            "Epoch 444/500\n",
            "2/2 [==============================] - 0s 8ms/step - loss: 8.6542 - mse: 142.3698\n",
            "Epoch 445/500\n",
            "2/2 [==============================] - 0s 8ms/step - loss: 14.0705 - mse: 276.5798\n",
            "Epoch 446/500\n",
            "2/2 [==============================] - 0s 7ms/step - loss: 16.7703 - mse: 445.4868\n",
            "Epoch 447/500\n",
            "2/2 [==============================] - 0s 7ms/step - loss: 6.6944 - mse: 65.8776\n",
            "Epoch 448/500\n",
            "2/2 [==============================] - 0s 7ms/step - loss: 6.7105 - mse: 130.3940\n",
            "Epoch 449/500\n",
            "2/2 [==============================] - 0s 7ms/step - loss: 15.6066 - mse: 343.3802\n",
            "Epoch 450/500\n",
            "2/2 [==============================] - 0s 7ms/step - loss: 16.5592 - mse: 410.3990\n",
            "Epoch 451/500\n",
            "2/2 [==============================] - 0s 6ms/step - loss: 14.1908 - mse: 294.0060\n",
            "Epoch 452/500\n",
            "2/2 [==============================] - 0s 7ms/step - loss: 30.4551 - mse: 1317.6703\n",
            "Epoch 453/500\n",
            "2/2 [==============================] - 0s 7ms/step - loss: 5.1286 - mse: 53.4770\n",
            "Epoch 454/500\n",
            "2/2 [==============================] - 0s 6ms/step - loss: 30.0508 - mse: 1252.3215\n",
            "Epoch 455/500\n",
            "2/2 [==============================] - 0s 6ms/step - loss: 4.3072 - mse: 44.4564\n",
            "Epoch 456/500\n",
            "2/2 [==============================] - 0s 6ms/step - loss: 14.6115 - mse: 289.4804\n",
            "Epoch 457/500\n",
            "2/2 [==============================] - 0s 6ms/step - loss: 17.7802 - mse: 483.6125\n",
            "Epoch 458/500\n",
            "2/2 [==============================] - 0s 7ms/step - loss: 14.0342 - mse: 269.4881\n",
            "Epoch 459/500\n",
            "2/2 [==============================] - 0s 12ms/step - loss: 25.9940 - mse: 975.6039\n",
            "Epoch 460/500\n",
            "2/2 [==============================] - 0s 11ms/step - loss: 14.8722 - mse: 329.8359\n",
            "Epoch 461/500\n",
            "2/2 [==============================] - 0s 9ms/step - loss: 12.1425 - mse: 277.7696\n",
            "Epoch 462/500\n",
            "2/2 [==============================] - 0s 8ms/step - loss: 13.1934 - mse: 241.8844\n",
            "Epoch 463/500\n",
            "2/2 [==============================] - 0s 8ms/step - loss: 29.3121 - mse: 1201.6720\n",
            "Epoch 464/500\n",
            "2/2 [==============================] - 0s 8ms/step - loss: 6.9722 - mse: 121.4401\n",
            "Epoch 465/500\n",
            "2/2 [==============================] - 0s 7ms/step - loss: 14.3231 - mse: 316.5416\n",
            "Epoch 466/500\n",
            "2/2 [==============================] - 0s 7ms/step - loss: 10.1435 - mse: 263.3680\n",
            "Epoch 467/500\n",
            "2/2 [==============================] - 0s 8ms/step - loss: 21.5627 - mse: 719.7454\n",
            "Epoch 468/500\n",
            "2/2 [==============================] - 0s 7ms/step - loss: 23.7539 - mse: 794.6362\n",
            "Epoch 469/500\n",
            "2/2 [==============================] - 0s 6ms/step - loss: 21.1798 - mse: 636.2504\n",
            "Epoch 470/500\n",
            "2/2 [==============================] - 0s 8ms/step - loss: 9.5996 - mse: 181.7987\n",
            "Epoch 471/500\n",
            "2/2 [==============================] - 0s 7ms/step - loss: 15.9466 - mse: 389.0500\n",
            "Epoch 472/500\n",
            "2/2 [==============================] - 0s 7ms/step - loss: 14.9310 - mse: 306.0214\n",
            "Epoch 473/500\n",
            "2/2 [==============================] - 0s 11ms/step - loss: 18.2971 - mse: 521.9894\n",
            "Epoch 474/500\n",
            "2/2 [==============================] - 0s 11ms/step - loss: 41.9611 - mse: 2773.4480\n",
            "Epoch 475/500\n",
            "2/2 [==============================] - 0s 10ms/step - loss: 17.8192 - mse: 452.6153\n",
            "Epoch 476/500\n",
            "2/2 [==============================] - 0s 7ms/step - loss: 13.2082 - mse: 242.7669\n",
            "Epoch 477/500\n",
            "2/2 [==============================] - 0s 6ms/step - loss: 29.2983 - mse: 1200.8219\n",
            "Epoch 478/500\n",
            "2/2 [==============================] - 0s 6ms/step - loss: 5.6945 - mse: 73.5556\n",
            "Epoch 479/500\n",
            "2/2 [==============================] - 0s 6ms/step - loss: 7.0819 - mse: 145.0782\n",
            "Epoch 480/500\n",
            "2/2 [==============================] - 0s 8ms/step - loss: 19.0969 - mse: 572.9935\n",
            "Epoch 481/500\n",
            "2/2 [==============================] - 0s 11ms/step - loss: 13.4379 - mse: 297.2120\n",
            "Epoch 482/500\n",
            "2/2 [==============================] - 0s 9ms/step - loss: 6.3479 - mse: 97.7715\n",
            "Epoch 483/500\n",
            "2/2 [==============================] - 0s 8ms/step - loss: 12.3722 - mse: 257.2404\n",
            "Epoch 484/500\n",
            "2/2 [==============================] - 0s 6ms/step - loss: 13.0812 - mse: 270.4473\n",
            "Epoch 485/500\n",
            "2/2 [==============================] - 0s 6ms/step - loss: 10.4072 - mse: 306.2261\n",
            "Epoch 486/500\n",
            "2/2 [==============================] - 0s 6ms/step - loss: 17.8816 - mse: 485.6204\n",
            "Epoch 487/500\n",
            "2/2 [==============================] - 0s 8ms/step - loss: 10.8359 - mse: 289.1898\n",
            "Epoch 488/500\n",
            "2/2 [==============================] - 0s 7ms/step - loss: 26.9676 - mse: 1059.4052\n",
            "Epoch 489/500\n",
            "2/2 [==============================] - 0s 6ms/step - loss: 5.3618 - mse: 75.5822\n",
            "Epoch 490/500\n",
            "2/2 [==============================] - 0s 6ms/step - loss: 6.0724 - mse: 92.3012\n",
            "Epoch 491/500\n",
            "2/2 [==============================] - 0s 6ms/step - loss: 19.3340 - mse: 532.2350\n",
            "Epoch 492/500\n",
            "2/2 [==============================] - 0s 6ms/step - loss: 6.7568 - mse: 138.8852\n",
            "Epoch 493/500\n",
            "2/2 [==============================] - 0s 7ms/step - loss: 18.6737 - mse: 522.9811\n",
            "Epoch 494/500\n",
            "2/2 [==============================] - 0s 8ms/step - loss: 19.1097 - mse: 575.6749\n",
            "Epoch 495/500\n",
            "2/2 [==============================] - 0s 7ms/step - loss: 5.6892 - mse: 48.7552\n",
            "Epoch 496/500\n",
            "2/2 [==============================] - 0s 9ms/step - loss: 5.9228 - mse: 91.6868\n",
            "Epoch 497/500\n",
            "2/2 [==============================] - 0s 9ms/step - loss: 12.6045 - mse: 267.0983\n",
            "Epoch 498/500\n",
            "2/2 [==============================] - 0s 6ms/step - loss: 6.3258 - mse: 74.6354\n",
            "Epoch 499/500\n",
            "2/2 [==============================] - 0s 9ms/step - loss: 15.9923 - mse: 367.1621\n",
            "Epoch 500/500\n",
            "2/2 [==============================] - 0s 7ms/step - loss: 14.3040 - mse: 270.1848\n"
          ]
        },
        {
          "data": {
            "text/plain": [
              "<keras.callbacks.History at 0x7f23a0f6c7f0>"
            ]
          },
          "execution_count": 54,
          "metadata": {},
          "output_type": "execute_result"
        }
      ],
      "source": [
        "# Set random seed\n",
        "tf.random.set_seed=42\n",
        "\n",
        "# Create a model\n",
        "model_3 = tf.keras.Sequential([\n",
        "    tf.keras.layers.Dense(10),\n",
        "    tf.keras.layers.Dense(1)\n",
        "])\n",
        "\n",
        "# Compile a model\n",
        "model_3.compile(loss=tf.keras.losses.mae,\n",
        "                optimizer=tf.keras.optimizers.SGD(),\n",
        "                metrics=[\"mse\"])\n",
        "\n",
        "# Fit the model \n",
        "model_3.fit(tf.expand_dims(X_train,axis=-1), y_train, epochs=500)"
      ]
    },
    {
      "cell_type": "code",
      "execution_count": null,
      "metadata": {
        "colab": {
          "base_uri": "https://localhost:8080/",
          "height": 445
        },
        "id": "r5iaOw8ir6i_",
        "outputId": "c930b8da-8953-41df-ff80-75b1bcc02a90"
      },
      "outputs": [
        {
          "name": "stdout",
          "output_type": "stream",
          "text": [
            "1/1 [==============================] - 0s 76ms/step\n"
          ]
        },
        {
          "data": {
            "image/png": "[encoded data removed]",
            "text/plain": [
              "<Figure size 720x504 with 1 Axes>"
            ]
          },
          "metadata": {},
          "output_type": "display_data"
        }
      ],
      "source": [
        "# Make and predict model_3\n",
        "y_preds_3 = model_3.predict(X_test)\n",
        "plot_predictions(predictions= y_preds_3)"
      ]
    },
    {
      "cell_type": "code",
      "execution_count": null,
      "metadata": {
        "colab": {
          "base_uri": "https://localhost:8080/"
        },
        "id": "RURs32KIsgUt",
        "outputId": "bbb784e5-04e1-4eef-cede-c5a8e205c7f2"
      },
      "outputs": [
        {
          "data": {
            "text/plain": [
              "(<tf.Tensor: shape=(), dtype=float32, numpy=67.614784>,\n",
              " <tf.Tensor: shape=(), dtype=float32, numpy=4655.826>)"
            ]
          },
          "execution_count": 56,
          "metadata": {},
          "output_type": "execute_result"
        }
      ],
      "source": [
        "mae_3 = mae(y_test, y_preds_3)\n",
        "mse_3 = mse(y_test, y_preds_3)\n",
        "mae_3, mse_3"
      ]
    },
    {
      "cell_type": "markdown",
      "metadata": {
        "id": "JwyUvY6wtwkx"
      },
      "source": [
        "** Note:** You want to start with small experiments (small models) and make sure they work and then increase their scale when necessary."
      ]
    },
    {
      "cell_type": "markdown",
      "metadata": {
        "id": "JgQmfyYbs_BP"
      },
      "source": [
        "### Comparing the results of our experiments\n",
        "let's compare the results of all our experiments done so far."
      ]
    },
    {
      "cell_type": "code",
      "execution_count": null,
      "metadata": {
        "colab": {
          "base_uri": "https://localhost:8080/",
          "height": 143
        },
        "id": "SN3BDw_FtsLy",
        "outputId": "b8c71f1b-17b3-46b0-97a8-7447a22a9d00"
      },
      "outputs": [
        {
          "data": {
            "text/html": [
              "\n",
              "  <div id=\"df-97210a18-cfc5-4bd0-965d-41256ac26cbe\">\n",
              "    <div class=\"colab-df-container\">\n",
              "      <div>\n",
              "<style scoped>\n",
              "    .dataframe tbody tr th:only-of-type {\n",
              "        vertical-align: middle;\n",
              "    }\n",
              "\n",
              "    .dataframe tbody tr th {\n",
              "        vertical-align: top;\n",
              "    }\n",
              "\n",
              "    .dataframe thead th {\n",
              "        text-align: right;\n",
              "    }\n",
              "</style>\n",
              "<table border=\"1\" class=\"dataframe\">\n",
              "  <thead>\n",
              "    <tr style=\"text-align: right;\">\n",
              "      <th></th>\n",
              "      <th>model</th>\n",
              "      <th>mae</th>\n",
              "      <th>mse</th>\n",
              "    </tr>\n",
              "  </thead>\n",
              "  <tbody>\n",
              "    <tr>\n",
              "      <th>0</th>\n",
              "      <td>model_1</td>\n",
              "      <td>30.548893</td>\n",
              "      <td>943.596069</td>\n",
              "    </tr>\n",
              "    <tr>\n",
              "      <th>1</th>\n",
              "      <td>model_2</td>\n",
              "      <td>29.887806</td>\n",
              "      <td>924.675171</td>\n",
              "    </tr>\n",
              "    <tr>\n",
              "      <th>2</th>\n",
              "      <td>model_3</td>\n",
              "      <td>67.614784</td>\n",
              "      <td>4655.826172</td>\n",
              "    </tr>\n",
              "  </tbody>\n",
              "</table>\n",
              "</div>\n",
              "      <button class=\"colab-df-convert\" onclick=\"convertToInteractive('df-97210a18-cfc5-4bd0-965d-41256ac26cbe')\"\n",
              "              title=\"Convert this dataframe to an interactive table.\"\n",
              "              style=\"display:none;\">\n",
              "        \n",
              "  <svg xmlns=\"http://www.w3.org/2000/svg\" height=\"24px\"viewBox=\"0 0 24 24\"\n",
              "       width=\"24px\">\n",
              "    <path d=\"M0 0h24v24H0V0z\" fill=\"none\"/>\n",
              "    <path d=\"M18.56 5.44l.94 2.06.94-2.06 2.06-.94-2.06-.94-.94-2.06-.94 2.06-2.06.94zm-11 1L8.5 8.5l.94-2.06 2.06-.94-2.06-.94L8.5 2.5l-.94 2.06-2.06.94zm10 10l.94 2.06.94-2.06 2.06-.94-2.06-.94-.94-2.06-.94 2.06-2.06.94z\"/><path d=\"M17.41 7.96l-1.37-1.37c-.4-.4-.92-.59-1.43-.59-.52 0-1.04.2-1.43.59L10.3 9.45l-7.72 7.72c-.78.78-.78 2.05 0 2.83L4 21.41c.39.39.9.59 1.41.59.51 0 1.02-.2 1.41-.59l7.78-7.78 2.81-2.81c.8-.78.8-2.07 0-2.86zM5.41 20L4 18.59l7.72-7.72 1.47 1.35L5.41 20z\"/>\n",
              "  </svg>\n",
              "      </button>\n",
              "      \n",
              "  <style>\n",
              "    .colab-df-container {\n",
              "      display:flex;\n",
              "      flex-wrap:wrap;\n",
              "      gap: 12px;\n",
              "    }\n",
              "\n",
              "    .colab-df-convert {\n",
              "      background-color: #E8F0FE;\n",
              "      border: none;\n",
              "      border-radius: 50%;\n",
              "      cursor: pointer;\n",
              "      display: none;\n",
              "      fill: #1967D2;\n",
              "      height: 32px;\n",
              "      padding: 0 0 0 0;\n",
              "      width: 32px;\n",
              "    }\n",
              "\n",
              "    .colab-df-convert:hover {\n",
              "      background-color: #E2EBFA;\n",
              "      box-shadow: 0px 1px 2px rgba(60, 64, 67, 0.3), 0px 1px 3px 1px rgba(60, 64, 67, 0.15);\n",
              "      fill: #174EA6;\n",
              "    }\n",
              "\n",
              "    [theme=dark] .colab-df-convert {\n",
              "      background-color: #3B4455;\n",
              "      fill: #D2E3FC;\n",
              "    }\n",
              "\n",
              "    [theme=dark] .colab-df-convert:hover {\n",
              "      background-color: #434B5C;\n",
              "      box-shadow: 0px 1px 3px 1px rgba(0, 0, 0, 0.15);\n",
              "      filter: drop-shadow(0px 1px 2px rgba(0, 0, 0, 0.3));\n",
              "      fill: #FFFFFF;\n",
              "    }\n",
              "  </style>\n",
              "\n",
              "      <script>\n",
              "        const buttonEl =\n",
              "          document.querySelector('#df-97210a18-cfc5-4bd0-965d-41256ac26cbe button.colab-df-convert');\n",
              "        buttonEl.style.display =\n",
              "          google.colab.kernel.accessAllowed ? 'block' : 'none';\n",
              "\n",
              "        async function convertToInteractive(key) {\n",
              "          const element = document.querySelector('#df-97210a18-cfc5-4bd0-965d-41256ac26cbe');\n",
              "          const dataTable =\n",
              "            await google.colab.kernel.invokeFunction('convertToInteractive',\n",
              "                                                     [key], {});\n",
              "          if (!dataTable) return;\n",
              "\n",
              "          const docLinkHtml = 'Like what you see? Visit the ' +\n",
              "            '<a target=\"_blank\" href=https://colab.research.google.com/notebooks/data_table.ipynb>data table notebook</a>'\n",
              "            + ' to learn more about interactive tables.';\n",
              "          element.innerHTML = '';\n",
              "          dataTable['output_type'] = 'display_data';\n",
              "          await google.colab.output.renderOutput(dataTable, element);\n",
              "          const docLink = document.createElement('div');\n",
              "          docLink.innerHTML = docLinkHtml;\n",
              "          element.appendChild(docLink);\n",
              "        }\n",
              "      </script>\n",
              "    </div>\n",
              "  </div>\n",
              "  "
            ],
            "text/plain": [
              "     model        mae          mse\n",
              "0  model_1  30.548893   943.596069\n",
              "1  model_2  29.887806   924.675171\n",
              "2  model_3  67.614784  4655.826172"
            ]
          },
          "execution_count": 57,
          "metadata": {},
          "output_type": "execute_result"
        }
      ],
      "source": [
        "# Let's compare our model's results\n",
        "import pandas as pd\n",
        "model_results = [[\"model_1\", mae_1.numpy(), mse_1.numpy()],\n",
        "                 [\"model_2\", mae_2.numpy(), mse_2.numpy()],\n",
        "                 [\"model_3\", mae_3.numpy(), mse_3.numpy()]]\n",
        "\n",
        "all_results = pd.DataFrame( model_results, columns=[\"model\", \"mae\", \"mse\"])\n",
        "all_results"
      ]
    },
    {
      "cell_type": "markdown",
      "metadata": {
        "id": "vZ0rLnLkwZ6H"
      },
      "source": [
        "Looks like `model_2` performed the best.."
      ]
    },
    {
      "cell_type": "code",
      "execution_count": null,
      "metadata": {
        "colab": {
          "base_uri": "https://localhost:8080/"
        },
        "id": "6LK6hYWXvvDa",
        "outputId": "90c05060-a6b4-4383-fe5e-472483603d76"
      },
      "outputs": [
        {
          "name": "stdout",
          "output_type": "stream",
          "text": [
            "Model: \"sequential_5\"\n",
            "_________________________________________________________________\n",
            " Layer (type)                Output Shape              Param #   \n",
            "=================================================================\n",
            " dense_6 (Dense)             (None, 10)                20        \n",
            "                                                                 \n",
            " dense_7 (Dense)             (None, 1)                 11        \n",
            "                                                                 \n",
            "=================================================================\n",
            "Total params: 31\n",
            "Trainable params: 31\n",
            "Non-trainable params: 0\n",
            "_________________________________________________________________\n"
          ]
        }
      ],
      "source": [
        "model_2.summary()"
      ]
    },
    {
      "cell_type": "markdown",
      "metadata": {
        "id": "aP9n7mCdwS88"
      },
      "source": [
        "> **Note:** One of your main goals should be to minimize the time between your experiments. The more experiments you do, the more things you'll figure out which don't work and in turn, get closer to figuring out what does work. Remember the machine learning practioner's motto: \"experiment, experiment, experiment\"."
      ]
    },
    {
      "cell_type": "markdown",
      "metadata": {
        "id": "n8W-bRJ6yGOM"
      },
      "source": [
        "## Tracking your experiments\n",
        "\n",
        "Resourses : \n",
        "* TensorBoard - a component of the TensorFlow library to help track modelling experiments.\n",
        "* Weights & Biases - a tool of the tracking all kinds of machine learning experiments( plugs straight into TensorBoard).\n",
        "\n"
      ]
    },
    {
      "cell_type": "markdown",
      "metadata": {
        "id": "apuEzJ2D2YPa"
      },
      "source": [
        "## Saving our model\n",
        "\n",
        "Saving our models allows us to use them outside of Google Colab(or wherever they were trained) such as in a web application or a mobile app.\n",
        "There are two main formats we can save our model's too:\n",
        "1. The SavedModel format\n",
        "2. The HDF5 format"
      ]
    },
    {
      "cell_type": "code",
      "execution_count": null,
      "metadata": {
        "id": "7_Lb0t6e3CVp"
      },
      "outputs": [],
      "source": [
        "# Save model using the SavedModel format\n",
        "model_2.save(\"best_model_SavedModel_format\")"
      ]
    },
    {
      "cell_type": "code",
      "execution_count": null,
      "metadata": {
        "id": "cTbEQA387vMm"
      },
      "outputs": [],
      "source": [
        "# Save model using the HDf5 format\n",
        "model_2.save(\"best_model_HDF5_format.h5\")"
      ]
    },
    {
      "cell_type": "markdown",
      "metadata": {
        "id": "gMGAX8uM8gj6"
      },
      "source": [
        "## Loading in our saved model"
      ]
    },
    {
      "cell_type": "code",
      "execution_count": null,
      "metadata": {
        "colab": {
          "base_uri": "https://localhost:8080/",
          "height": 380
        },
        "id": "oDtSrKuNAy_m",
        "outputId": "c4c07887-6545-4405-d320-82d6b493c90b"
      },
      "outputs": [
        {
          "ename": "OSError",
          "evalue": "ignored",
          "output_type": "error",
          "traceback": [
            "\u001b[0;31m---------------------------------------------------------------------------\u001b[0m",
            "\u001b[0;31mOSError\u001b[0m                                   Traceback (most recent call last)",
            "\u001b[0;32m<ipython-input-59-aaa40ede518e>\u001b[0m in \u001b[0;36m<module>\u001b[0;34m\u001b[0m\n\u001b[1;32m      1\u001b[0m \u001b[0;31m# Load in the SavedModel format model\u001b[0m\u001b[0;34m\u001b[0m\u001b[0;34m\u001b[0m\u001b[0;34m\u001b[0m\u001b[0m\n\u001b[0;32m----> 2\u001b[0;31m \u001b[0mloaded_SavedModel_format\u001b[0m \u001b[0;34m=\u001b[0m \u001b[0mtf\u001b[0m\u001b[0;34m.\u001b[0m\u001b[0mkeras\u001b[0m\u001b[0;34m.\u001b[0m\u001b[0mmodels\u001b[0m\u001b[0;34m.\u001b[0m\u001b[0mload_model\u001b[0m\u001b[0;34m(\u001b[0m\u001b[0;34m\"best_model_SavedModel_format\"\u001b[0m\u001b[0;34m)\u001b[0m\u001b[0;34m\u001b[0m\u001b[0;34m\u001b[0m\u001b[0m\n\u001b[0m\u001b[1;32m      3\u001b[0m \u001b[0mloaded_SavedModel_format\u001b[0m\u001b[0;34m.\u001b[0m\u001b[0msummary\u001b[0m\u001b[0;34m(\u001b[0m\u001b[0;34m)\u001b[0m\u001b[0;34m\u001b[0m\u001b[0;34m\u001b[0m\u001b[0m\n",
            "\u001b[0;32m/usr/local/lib/python3.8/dist-packages/keras/utils/traceback_utils.py\u001b[0m in \u001b[0;36merror_handler\u001b[0;34m(*args, **kwargs)\u001b[0m\n\u001b[1;32m     68\u001b[0m             \u001b[0;31m# To get the full stack trace, call:\u001b[0m\u001b[0;34m\u001b[0m\u001b[0;34m\u001b[0m\u001b[0;34m\u001b[0m\u001b[0m\n\u001b[1;32m     69\u001b[0m             \u001b[0;31m# `tf.debugging.disable_traceback_filtering()`\u001b[0m\u001b[0;34m\u001b[0m\u001b[0;34m\u001b[0m\u001b[0;34m\u001b[0m\u001b[0m\n\u001b[0;32m---> 70\u001b[0;31m             \u001b[0;32mraise\u001b[0m \u001b[0me\u001b[0m\u001b[0;34m.\u001b[0m\u001b[0mwith_traceback\u001b[0m\u001b[0;34m(\u001b[0m\u001b[0mfiltered_tb\u001b[0m\u001b[0;34m)\u001b[0m \u001b[0;32mfrom\u001b[0m \u001b[0;32mNone\u001b[0m\u001b[0;34m\u001b[0m\u001b[0;34m\u001b[0m\u001b[0m\n\u001b[0m\u001b[1;32m     71\u001b[0m         \u001b[0;32mfinally\u001b[0m\u001b[0;34m:\u001b[0m\u001b[0;34m\u001b[0m\u001b[0;34m\u001b[0m\u001b[0m\n\u001b[1;32m     72\u001b[0m             \u001b[0;32mdel\u001b[0m \u001b[0mfiltered_tb\u001b[0m\u001b[0;34m\u001b[0m\u001b[0;34m\u001b[0m\u001b[0m\n",
            "\u001b[0;32m/usr/local/lib/python3.8/dist-packages/keras/saving/legacy/save.py\u001b[0m in \u001b[0;36mload_model\u001b[0;34m(filepath, custom_objects, compile, options)\u001b[0m\n\u001b[1;32m    225\u001b[0m                 \u001b[0;32mif\u001b[0m \u001b[0misinstance\u001b[0m\u001b[0;34m(\u001b[0m\u001b[0mfilepath_str\u001b[0m\u001b[0;34m,\u001b[0m \u001b[0mstr\u001b[0m\u001b[0;34m)\u001b[0m\u001b[0;34m:\u001b[0m\u001b[0;34m\u001b[0m\u001b[0;34m\u001b[0m\u001b[0m\n\u001b[1;32m    226\u001b[0m                     \u001b[0;32mif\u001b[0m \u001b[0;32mnot\u001b[0m \u001b[0mtf\u001b[0m\u001b[0;34m.\u001b[0m\u001b[0mio\u001b[0m\u001b[0;34m.\u001b[0m\u001b[0mgfile\u001b[0m\u001b[0;34m.\u001b[0m\u001b[0mexists\u001b[0m\u001b[0;34m(\u001b[0m\u001b[0mfilepath_str\u001b[0m\u001b[0;34m)\u001b[0m\u001b[0;34m:\u001b[0m\u001b[0;34m\u001b[0m\u001b[0;34m\u001b[0m\u001b[0m\n\u001b[0;32m--> 227\u001b[0;31m                         raise IOError(\n\u001b[0m\u001b[1;32m    228\u001b[0m                             \u001b[0;34mf\"No file or directory found at {filepath_str}\"\u001b[0m\u001b[0;34m\u001b[0m\u001b[0;34m\u001b[0m\u001b[0m\n\u001b[1;32m    229\u001b[0m                         )\n",
            "\u001b[0;31mOSError\u001b[0m: No file or directory found at best_model_SavedModel_format"
          ]
        }
      ],
      "source": [
        "# Load in the SavedModel format model \n",
        "loaded_SavedModel_format = tf.keras.models.load_model(\"best_model_SavedModel_format\")\n",
        "loaded_SavedModel_format.summary()"
      ]
    },
    {
      "cell_type": "code",
      "execution_count": null,
      "metadata": {
        "colab": {
          "base_uri": "https://localhost:8080/",
          "height": 235
        },
        "id": "pbAuoJQHBaLi",
        "outputId": "df689466-bde0-4e49-afc1-e8638ab51d41"
      },
      "outputs": [
        {
          "name": "stdout",
          "output_type": "stream",
          "text": [
            "1/1 [==============================] - 0s 53ms/step\n"
          ]
        },
        {
          "ename": "NameError",
          "evalue": "ignored",
          "output_type": "error",
          "traceback": [
            "\u001b[0;31m---------------------------------------------------------------------------\u001b[0m",
            "\u001b[0;31mNameError\u001b[0m                                 Traceback (most recent call last)",
            "\u001b[0;32m<ipython-input-60-70f184486497>\u001b[0m in \u001b[0;36m<module>\u001b[0;34m\u001b[0m\n\u001b[1;32m      1\u001b[0m \u001b[0;31m# Compare model_2 predictions with SavedModel format model predictions\u001b[0m\u001b[0;34m\u001b[0m\u001b[0;34m\u001b[0m\u001b[0;34m\u001b[0m\u001b[0m\n\u001b[1;32m      2\u001b[0m \u001b[0mmodel_2_preds\u001b[0m \u001b[0;34m=\u001b[0m \u001b[0mmodel_2\u001b[0m\u001b[0;34m.\u001b[0m\u001b[0mpredict\u001b[0m\u001b[0;34m(\u001b[0m\u001b[0mX_test\u001b[0m\u001b[0;34m)\u001b[0m\u001b[0;34m\u001b[0m\u001b[0;34m\u001b[0m\u001b[0m\n\u001b[0;32m----> 3\u001b[0;31m \u001b[0mloaded_SavedModel_format_preds\u001b[0m \u001b[0;34m=\u001b[0m \u001b[0mloaded_SavedModel_format\u001b[0m\u001b[0;34m.\u001b[0m\u001b[0mpredict\u001b[0m\u001b[0;34m(\u001b[0m\u001b[0mX_test\u001b[0m\u001b[0;34m)\u001b[0m\u001b[0;34m\u001b[0m\u001b[0;34m\u001b[0m\u001b[0m\n\u001b[0m\u001b[1;32m      4\u001b[0m \u001b[0mmodel_2_preds\u001b[0m\u001b[0;34m==\u001b[0m\u001b[0mloaded_SavedModel_format_preds\u001b[0m\u001b[0;34m\u001b[0m\u001b[0;34m\u001b[0m\u001b[0m\n",
            "\u001b[0;31mNameError\u001b[0m: name 'loaded_SavedModel_format' is not defined"
          ]
        }
      ],
      "source": [
        "# Compare model_2 predictions with SavedModel format model predictions\n",
        "model_2_preds = model_2.predict(X_test)\n",
        "loaded_SavedModel_format_preds = loaded_SavedModel_format.predict(X_test)\n",
        "model_2_preds==loaded_SavedModel_format_preds"
      ]
    },
    {
      "cell_type": "code",
      "execution_count": null,
      "metadata": {
        "colab": {
          "base_uri": "https://localhost:8080/"
        },
        "id": "NHd8vyYaBivn",
        "outputId": "61d20a14-5fd9-42a3-cb38-56f6f4ffa66f"
      },
      "outputs": [
        {
          "name": "stdout",
          "output_type": "stream",
          "text": [
            "Model: \"sequential_5\"\n",
            "_________________________________________________________________\n",
            " Layer (type)                Output Shape              Param #   \n",
            "=================================================================\n",
            " dense_6 (Dense)             (None, 10)                20        \n",
            "                                                                 \n",
            " dense_7 (Dense)             (None, 1)                 11        \n",
            "                                                                 \n",
            "=================================================================\n",
            "Total params: 31\n",
            "Trainable params: 31\n",
            "Non-trainable params: 0\n",
            "_________________________________________________________________\n"
          ]
        }
      ],
      "source": [
        "# Load in a model using the .h5 format\n",
        "loaded_h5_model = tf.keras.models.load_model(\"best_model_HDF5_format.h5\")\n",
        "loaded_h5_model.summary()"
      ]
    },
    {
      "cell_type": "code",
      "execution_count": null,
      "metadata": {
        "colab": {
          "base_uri": "https://localhost:8080/"
        },
        "id": "CxjnTSooC6cr",
        "outputId": "6f381ed5-bf01-43db-9e16-5281609727d5"
      },
      "outputs": [
        {
          "name": "stdout",
          "output_type": "stream",
          "text": [
            "1/1 [==============================] - 0s 19ms/step\n",
            "1/1 [==============================] - 0s 58ms/step\n"
          ]
        },
        {
          "data": {
            "text/plain": [
              "array([[ True],\n",
              "       [ True],\n",
              "       [ True],\n",
              "       [ True],\n",
              "       [ True],\n",
              "       [ True],\n",
              "       [ True],\n",
              "       [ True],\n",
              "       [ True],\n",
              "       [ True]])"
            ]
          },
          "execution_count": 64,
          "metadata": {},
          "output_type": "execute_result"
        }
      ],
      "source": [
        "# Compare model_2 predictions with .h5 format\n",
        "model_2_preds= model_2.predict(X_test)\n",
        "loaded_h5_model_preds = loaded_h5_model.predict(X_test)\n",
        "model_2_preds == loaded_h5_model_preds"
      ]
    },
    {
      "cell_type": "markdown",
      "metadata": {
        "id": "ROM6-hRvDhl-"
      },
      "source": [
        "## Download a model(or any other file) from Google Colab\n",
        "\n",
        "1. go to files and right click on the file you're after and click download.\n",
        "2. Use code (see the cell below).\n",
        "3. Save it to Google Drive by connecting Google Drive and copying it here (see the 2nd cell)"
      ]
    },
    {
      "cell_type": "code",
      "execution_count": null,
      "metadata": {
        "colab": {
          "base_uri": "https://localhost:8080/",
          "height": 17
        },
        "id": "wQ5FrNd9EZrC",
        "outputId": "cffd5528-8fd0-4c5f-c01c-0192be4ddffc"
      },
      "outputs": [
        {
          "data": {
            "application/javascript": [
              "\n",
              "    async function download(id, filename, size) {\n",
              "      if (!google.colab.kernel.accessAllowed) {\n",
              "        return;\n",
              "      }\n",
              "      const div = document.createElement('div');\n",
              "      const label = document.createElement('label');\n",
              "      label.textContent = `Downloading \"${filename}\": `;\n",
              "      div.appendChild(label);\n",
              "      const progress = document.createElement('progress');\n",
              "      progress.max = size;\n",
              "      div.appendChild(progress);\n",
              "      document.body.appendChild(div);\n",
              "\n",
              "      const buffers = [];\n",
              "      let downloaded = 0;\n",
              "\n",
              "      const channel = await google.colab.kernel.comms.open(id);\n",
              "      // Send a message to notify the kernel that we're ready.\n",
              "      channel.send({})\n",
              "\n",
              "      for await (const message of channel.messages) {\n",
              "        // Send a message to notify the kernel that we're ready.\n",
              "        channel.send({})\n",
              "        if (message.buffers) {\n",
              "          for (const buffer of message.buffers) {\n",
              "            buffers.push(buffer);\n",
              "            downloaded += buffer.byteLength;\n",
              "            progress.value = downloaded;\n",
              "          }\n",
              "        }\n",
              "      }\n",
              "      const blob = new Blob(buffers, {type: 'application/binary'});\n",
              "      const a = document.createElement('a');\n",
              "      a.href = window.URL.createObjectURL(blob);\n",
              "      a.download = filename;\n",
              "      div.appendChild(a);\n",
              "      a.click();\n",
              "      div.remove();\n",
              "    }\n",
              "  "
            ],
            "text/plain": [
              "<IPython.core.display.Javascript object>"
            ]
          },
          "metadata": {},
          "output_type": "display_data"
        },
        {
          "data": {
            "application/javascript": [
              "download(\"download_cd5be5ec-176b-431e-ae32-cf38f1c48e3f\", \"best_model_HDF5_format.h5\", 17872)"
            ],
            "text/plain": [
              "<IPython.core.display.Javascript object>"
            ]
          },
          "metadata": {},
          "output_type": "display_data"
        }
      ],
      "source": [
        "from google.colab import files\n",
        "files.download(\"best_model_HDF5_format.h5\")"
      ]
    },
    {
      "cell_type": "code",
      "execution_count": null,
      "metadata": {
        "id": "ZomrRBoFFMni"
      },
      "outputs": [],
      "source": [
        "# Save a file from google colab to Google Drive (requires mounting Google Drive)\n",
        "!cp /content/best_model_HDF5_format.h5 /content/drive/MyDrive"
      ]
    },
    {
      "cell_type": "code",
      "execution_count": null,
      "metadata": {
        "colab": {
          "base_uri": "https://localhost:8080/"
        },
        "id": "37zfFWSGGdNS",
        "outputId": "bbd0c6aa-e2e7-46b3-b623-84f1214cf6e7"
      },
      "outputs": [
        {
          "name": "stdout",
          "output_type": "stream",
          "text": [
            " 21BAI1713.pdf\n",
            " best_model_HDF5_format.h5\n",
            "'Colab Notebooks'\n",
            "'Getting started.pdf'\n",
            " glove.6B.100d.txt\n",
            "'Google Finance Investment Tracker.gsheet'\n",
            " IMG_5254.jpeg\n",
            " IMG_5256.jpeg\n",
            "'Module 1.pdf'\n",
            " Object_Tracker\n",
            "'OPTION TRADING.gsheet'\n",
            " Screenshot_2022-05-29-09-54-03-827_com.phonepe.app.jpg\n",
            " Screenshot_2022-05-29-10-08-51-176_com.phonepe.app.jpg\n",
            " Screenshot_2022-05-29-10-13-29-255_com.phonepe.app.jpg\n",
            " test-squad-trained\n",
            "'VHelper - A Curriculum Chatbot'\n"
          ]
        }
      ],
      "source": [
        "!ls /content/drive/MyDrive"
      ]
    },
    {
      "cell_type": "markdown",
      "metadata": {
        "id": "DH5hsl9MIlMy"
      },
      "source": [
        "## A larger example"
      ]
    },
    {
      "cell_type": "code",
      "execution_count": null,
      "metadata": {
        "id": "AXrHFZ4PEtae"
      },
      "outputs": [],
      "source": [
        "# import the required libraries\n",
        "import tensorflow as tf\n",
        "import pandas as pd\n",
        "import matplotlib.pyplot as plt"
      ]
    },
    {
      "cell_type": "code",
      "execution_count": null,
      "metadata": {
        "colab": {
          "base_uri": "https://localhost:8080/",
          "height": 423
        },
        "id": "zPQSFmNRGIVm",
        "outputId": "e1e7686d-f6f7-4127-97f8-e81c36641395"
      },
      "outputs": [
        {
          "data": {
            "text/html": [
              "\n",
              "  <div id=\"df-29da6263-108b-4b25-8423-bffea07beba8\">\n",
              "    <div class=\"colab-df-container\">\n",
              "      <div>\n",
              "<style scoped>\n",
              "    .dataframe tbody tr th:only-of-type {\n",
              "        vertical-align: middle;\n",
              "    }\n",
              "\n",
              "    .dataframe tbody tr th {\n",
              "        vertical-align: top;\n",
              "    }\n",
              "\n",
              "    .dataframe thead th {\n",
              "        text-align: right;\n",
              "    }\n",
              "</style>\n",
              "<table border=\"1\" class=\"dataframe\">\n",
              "  <thead>\n",
              "    <tr style=\"text-align: right;\">\n",
              "      <th></th>\n",
              "      <th>age</th>\n",
              "      <th>sex</th>\n",
              "      <th>bmi</th>\n",
              "      <th>children</th>\n",
              "      <th>smoker</th>\n",
              "      <th>region</th>\n",
              "      <th>charges</th>\n",
              "    </tr>\n",
              "  </thead>\n",
              "  <tbody>\n",
              "    <tr>\n",
              "      <th>0</th>\n",
              "      <td>19</td>\n",
              "      <td>female</td>\n",
              "      <td>27.900</td>\n",
              "      <td>0</td>\n",
              "      <td>yes</td>\n",
              "      <td>southwest</td>\n",
              "      <td>16884.92400</td>\n",
              "    </tr>\n",
              "    <tr>\n",
              "      <th>1</th>\n",
              "      <td>18</td>\n",
              "      <td>male</td>\n",
              "      <td>33.770</td>\n",
              "      <td>1</td>\n",
              "      <td>no</td>\n",
              "      <td>southeast</td>\n",
              "      <td>1725.55230</td>\n",
              "    </tr>\n",
              "    <tr>\n",
              "      <th>2</th>\n",
              "      <td>28</td>\n",
              "      <td>male</td>\n",
              "      <td>33.000</td>\n",
              "      <td>3</td>\n",
              "      <td>no</td>\n",
              "      <td>southeast</td>\n",
              "      <td>4449.46200</td>\n",
              "    </tr>\n",
              "    <tr>\n",
              "      <th>3</th>\n",
              "      <td>33</td>\n",
              "      <td>male</td>\n",
              "      <td>22.705</td>\n",
              "      <td>0</td>\n",
              "      <td>no</td>\n",
              "      <td>northwest</td>\n",
              "      <td>21984.47061</td>\n",
              "    </tr>\n",
              "    <tr>\n",
              "      <th>4</th>\n",
              "      <td>32</td>\n",
              "      <td>male</td>\n",
              "      <td>28.880</td>\n",
              "      <td>0</td>\n",
              "      <td>no</td>\n",
              "      <td>northwest</td>\n",
              "      <td>3866.85520</td>\n",
              "    </tr>\n",
              "    <tr>\n",
              "      <th>...</th>\n",
              "      <td>...</td>\n",
              "      <td>...</td>\n",
              "      <td>...</td>\n",
              "      <td>...</td>\n",
              "      <td>...</td>\n",
              "      <td>...</td>\n",
              "      <td>...</td>\n",
              "    </tr>\n",
              "    <tr>\n",
              "      <th>1333</th>\n",
              "      <td>50</td>\n",
              "      <td>male</td>\n",
              "      <td>30.970</td>\n",
              "      <td>3</td>\n",
              "      <td>no</td>\n",
              "      <td>northwest</td>\n",
              "      <td>10600.54830</td>\n",
              "    </tr>\n",
              "    <tr>\n",
              "      <th>1334</th>\n",
              "      <td>18</td>\n",
              "      <td>female</td>\n",
              "      <td>31.920</td>\n",
              "      <td>0</td>\n",
              "      <td>no</td>\n",
              "      <td>northeast</td>\n",
              "      <td>2205.98080</td>\n",
              "    </tr>\n",
              "    <tr>\n",
              "      <th>1335</th>\n",
              "      <td>18</td>\n",
              "      <td>female</td>\n",
              "      <td>36.850</td>\n",
              "      <td>0</td>\n",
              "      <td>no</td>\n",
              "      <td>southeast</td>\n",
              "      <td>1629.83350</td>\n",
              "    </tr>\n",
              "    <tr>\n",
              "      <th>1336</th>\n",
              "      <td>21</td>\n",
              "      <td>female</td>\n",
              "      <td>25.800</td>\n",
              "      <td>0</td>\n",
              "      <td>no</td>\n",
              "      <td>southwest</td>\n",
              "      <td>2007.94500</td>\n",
              "    </tr>\n",
              "    <tr>\n",
              "      <th>1337</th>\n",
              "      <td>61</td>\n",
              "      <td>female</td>\n",
              "      <td>29.070</td>\n",
              "      <td>0</td>\n",
              "      <td>yes</td>\n",
              "      <td>northwest</td>\n",
              "      <td>29141.36030</td>\n",
              "    </tr>\n",
              "  </tbody>\n",
              "</table>\n",
              "<p>1338 rows × 7 columns</p>\n",
              "</div>\n",
              "      <button class=\"colab-df-convert\" onclick=\"convertToInteractive('df-29da6263-108b-4b25-8423-bffea07beba8')\"\n",
              "              title=\"Convert this dataframe to an interactive table.\"\n",
              "              style=\"display:none;\">\n",
              "        \n",
              "  <svg xmlns=\"http://www.w3.org/2000/svg\" height=\"24px\"viewBox=\"0 0 24 24\"\n",
              "       width=\"24px\">\n",
              "    <path d=\"M0 0h24v24H0V0z\" fill=\"none\"/>\n",
              "    <path d=\"M18.56 5.44l.94 2.06.94-2.06 2.06-.94-2.06-.94-.94-2.06-.94 2.06-2.06.94zm-11 1L8.5 8.5l.94-2.06 2.06-.94-2.06-.94L8.5 2.5l-.94 2.06-2.06.94zm10 10l.94 2.06.94-2.06 2.06-.94-2.06-.94-.94-2.06-.94 2.06-2.06.94z\"/><path d=\"M17.41 7.96l-1.37-1.37c-.4-.4-.92-.59-1.43-.59-.52 0-1.04.2-1.43.59L10.3 9.45l-7.72 7.72c-.78.78-.78 2.05 0 2.83L4 21.41c.39.39.9.59 1.41.59.51 0 1.02-.2 1.41-.59l7.78-7.78 2.81-2.81c.8-.78.8-2.07 0-2.86zM5.41 20L4 18.59l7.72-7.72 1.47 1.35L5.41 20z\"/>\n",
              "  </svg>\n",
              "      </button>\n",
              "      \n",
              "  <style>\n",
              "    .colab-df-container {\n",
              "      display:flex;\n",
              "      flex-wrap:wrap;\n",
              "      gap: 12px;\n",
              "    }\n",
              "\n",
              "    .colab-df-convert {\n",
              "      background-color: #E8F0FE;\n",
              "      border: none;\n",
              "      border-radius: 50%;\n",
              "      cursor: pointer;\n",
              "      display: none;\n",
              "      fill: #1967D2;\n",
              "      height: 32px;\n",
              "      padding: 0 0 0 0;\n",
              "      width: 32px;\n",
              "    }\n",
              "\n",
              "    .colab-df-convert:hover {\n",
              "      background-color: #E2EBFA;\n",
              "      box-shadow: 0px 1px 2px rgba(60, 64, 67, 0.3), 0px 1px 3px 1px rgba(60, 64, 67, 0.15);\n",
              "      fill: #174EA6;\n",
              "    }\n",
              "\n",
              "    [theme=dark] .colab-df-convert {\n",
              "      background-color: #3B4455;\n",
              "      fill: #D2E3FC;\n",
              "    }\n",
              "\n",
              "    [theme=dark] .colab-df-convert:hover {\n",
              "      background-color: #434B5C;\n",
              "      box-shadow: 0px 1px 3px 1px rgba(0, 0, 0, 0.15);\n",
              "      filter: drop-shadow(0px 1px 2px rgba(0, 0, 0, 0.3));\n",
              "      fill: #FFFFFF;\n",
              "    }\n",
              "  </style>\n",
              "\n",
              "      <script>\n",
              "        const buttonEl =\n",
              "          document.querySelector('#df-29da6263-108b-4b25-8423-bffea07beba8 button.colab-df-convert');\n",
              "        buttonEl.style.display =\n",
              "          google.colab.kernel.accessAllowed ? 'block' : 'none';\n",
              "\n",
              "        async function convertToInteractive(key) {\n",
              "          const element = document.querySelector('#df-29da6263-108b-4b25-8423-bffea07beba8');\n",
              "          const dataTable =\n",
              "            await google.colab.kernel.invokeFunction('convertToInteractive',\n",
              "                                                     [key], {});\n",
              "          if (!dataTable) return;\n",
              "\n",
              "          const docLinkHtml = 'Like what you see? Visit the ' +\n",
              "            '<a target=\"_blank\" href=https://colab.research.google.com/notebooks/data_table.ipynb>data table notebook</a>'\n",
              "            + ' to learn more about interactive tables.';\n",
              "          element.innerHTML = '';\n",
              "          dataTable['output_type'] = 'display_data';\n",
              "          await google.colab.output.renderOutput(dataTable, element);\n",
              "          const docLink = document.createElement('div');\n",
              "          docLink.innerHTML = docLinkHtml;\n",
              "          element.appendChild(docLink);\n",
              "        }\n",
              "      </script>\n",
              "    </div>\n",
              "  </div>\n",
              "  "
            ],
            "text/plain": [
              "      age     sex     bmi  children smoker     region      charges\n",
              "0      19  female  27.900         0    yes  southwest  16884.92400\n",
              "1      18    male  33.770         1     no  southeast   1725.55230\n",
              "2      28    male  33.000         3     no  southeast   4449.46200\n",
              "3      33    male  22.705         0     no  northwest  21984.47061\n",
              "4      32    male  28.880         0     no  northwest   3866.85520\n",
              "...   ...     ...     ...       ...    ...        ...          ...\n",
              "1333   50    male  30.970         3     no  northwest  10600.54830\n",
              "1334   18  female  31.920         0     no  northeast   2205.98080\n",
              "1335   18  female  36.850         0     no  southeast   1629.83350\n",
              "1336   21  female  25.800         0     no  southwest   2007.94500\n",
              "1337   61  female  29.070         0    yes  northwest  29141.36030\n",
              "\n",
              "[1338 rows x 7 columns]"
            ]
          },
          "execution_count": 62,
          "metadata": {},
          "output_type": "execute_result"
        }
      ],
      "source": [
        "# Read in the insurance dataset\n",
        "insurance = pd.read_csv(\"https://raw.githubusercontent.com/stedy/Machine-Learning-with-R-datasets/master/insurance.csv\")\n",
        "insurance"
      ]
    },
    {
      "cell_type": "code",
      "execution_count": null,
      "metadata": {
        "colab": {
          "base_uri": "https://localhost:8080/",
          "height": 270
        },
        "id": "4xMWwGwF9cNF",
        "outputId": "ee0031f0-df97-4e46-b168-8d4d6b58d712"
      },
      "outputs": [
        {
          "data": {
            "text/html": [
              "\n",
              "  <div id=\"df-b6a12cce-4764-414e-9ae2-c54dfc3d4c29\">\n",
              "    <div class=\"colab-df-container\">\n",
              "      <div>\n",
              "<style scoped>\n",
              "    .dataframe tbody tr th:only-of-type {\n",
              "        vertical-align: middle;\n",
              "    }\n",
              "\n",
              "    .dataframe tbody tr th {\n",
              "        vertical-align: top;\n",
              "    }\n",
              "\n",
              "    .dataframe thead th {\n",
              "        text-align: right;\n",
              "    }\n",
              "</style>\n",
              "<table border=\"1\" class=\"dataframe\">\n",
              "  <thead>\n",
              "    <tr style=\"text-align: right;\">\n",
              "      <th></th>\n",
              "      <th>age</th>\n",
              "      <th>bmi</th>\n",
              "      <th>children</th>\n",
              "      <th>charges</th>\n",
              "      <th>sex_female</th>\n",
              "      <th>sex_male</th>\n",
              "      <th>smoker_no</th>\n",
              "      <th>smoker_yes</th>\n",
              "      <th>region_northeast</th>\n",
              "      <th>region_northwest</th>\n",
              "      <th>region_southeast</th>\n",
              "      <th>region_southwest</th>\n",
              "    </tr>\n",
              "  </thead>\n",
              "  <tbody>\n",
              "    <tr>\n",
              "      <th>0</th>\n",
              "      <td>19</td>\n",
              "      <td>27.900</td>\n",
              "      <td>0</td>\n",
              "      <td>16884.92400</td>\n",
              "      <td>1</td>\n",
              "      <td>0</td>\n",
              "      <td>0</td>\n",
              "      <td>1</td>\n",
              "      <td>0</td>\n",
              "      <td>0</td>\n",
              "      <td>0</td>\n",
              "      <td>1</td>\n",
              "    </tr>\n",
              "    <tr>\n",
              "      <th>1</th>\n",
              "      <td>18</td>\n",
              "      <td>33.770</td>\n",
              "      <td>1</td>\n",
              "      <td>1725.55230</td>\n",
              "      <td>0</td>\n",
              "      <td>1</td>\n",
              "      <td>1</td>\n",
              "      <td>0</td>\n",
              "      <td>0</td>\n",
              "      <td>0</td>\n",
              "      <td>1</td>\n",
              "      <td>0</td>\n",
              "    </tr>\n",
              "    <tr>\n",
              "      <th>2</th>\n",
              "      <td>28</td>\n",
              "      <td>33.000</td>\n",
              "      <td>3</td>\n",
              "      <td>4449.46200</td>\n",
              "      <td>0</td>\n",
              "      <td>1</td>\n",
              "      <td>1</td>\n",
              "      <td>0</td>\n",
              "      <td>0</td>\n",
              "      <td>0</td>\n",
              "      <td>1</td>\n",
              "      <td>0</td>\n",
              "    </tr>\n",
              "    <tr>\n",
              "      <th>3</th>\n",
              "      <td>33</td>\n",
              "      <td>22.705</td>\n",
              "      <td>0</td>\n",
              "      <td>21984.47061</td>\n",
              "      <td>0</td>\n",
              "      <td>1</td>\n",
              "      <td>1</td>\n",
              "      <td>0</td>\n",
              "      <td>0</td>\n",
              "      <td>1</td>\n",
              "      <td>0</td>\n",
              "      <td>0</td>\n",
              "    </tr>\n",
              "    <tr>\n",
              "      <th>4</th>\n",
              "      <td>32</td>\n",
              "      <td>28.880</td>\n",
              "      <td>0</td>\n",
              "      <td>3866.85520</td>\n",
              "      <td>0</td>\n",
              "      <td>1</td>\n",
              "      <td>1</td>\n",
              "      <td>0</td>\n",
              "      <td>0</td>\n",
              "      <td>1</td>\n",
              "      <td>0</td>\n",
              "      <td>0</td>\n",
              "    </tr>\n",
              "  </tbody>\n",
              "</table>\n",
              "</div>\n",
              "      <button class=\"colab-df-convert\" onclick=\"convertToInteractive('df-b6a12cce-4764-414e-9ae2-c54dfc3d4c29')\"\n",
              "              title=\"Convert this dataframe to an interactive table.\"\n",
              "              style=\"display:none;\">\n",
              "        \n",
              "  <svg xmlns=\"http://www.w3.org/2000/svg\" height=\"24px\"viewBox=\"0 0 24 24\"\n",
              "       width=\"24px\">\n",
              "    <path d=\"M0 0h24v24H0V0z\" fill=\"none\"/>\n",
              "    <path d=\"M18.56 5.44l.94 2.06.94-2.06 2.06-.94-2.06-.94-.94-2.06-.94 2.06-2.06.94zm-11 1L8.5 8.5l.94-2.06 2.06-.94-2.06-.94L8.5 2.5l-.94 2.06-2.06.94zm10 10l.94 2.06.94-2.06 2.06-.94-2.06-.94-.94-2.06-.94 2.06-2.06.94z\"/><path d=\"M17.41 7.96l-1.37-1.37c-.4-.4-.92-.59-1.43-.59-.52 0-1.04.2-1.43.59L10.3 9.45l-7.72 7.72c-.78.78-.78 2.05 0 2.83L4 21.41c.39.39.9.59 1.41.59.51 0 1.02-.2 1.41-.59l7.78-7.78 2.81-2.81c.8-.78.8-2.07 0-2.86zM5.41 20L4 18.59l7.72-7.72 1.47 1.35L5.41 20z\"/>\n",
              "  </svg>\n",
              "      </button>\n",
              "      \n",
              "  <style>\n",
              "    .colab-df-container {\n",
              "      display:flex;\n",
              "      flex-wrap:wrap;\n",
              "      gap: 12px;\n",
              "    }\n",
              "\n",
              "    .colab-df-convert {\n",
              "      background-color: #E8F0FE;\n",
              "      border: none;\n",
              "      border-radius: 50%;\n",
              "      cursor: pointer;\n",
              "      display: none;\n",
              "      fill: #1967D2;\n",
              "      height: 32px;\n",
              "      padding: 0 0 0 0;\n",
              "      width: 32px;\n",
              "    }\n",
              "\n",
              "    .colab-df-convert:hover {\n",
              "      background-color: #E2EBFA;\n",
              "      box-shadow: 0px 1px 2px rgba(60, 64, 67, 0.3), 0px 1px 3px 1px rgba(60, 64, 67, 0.15);\n",
              "      fill: #174EA6;\n",
              "    }\n",
              "\n",
              "    [theme=dark] .colab-df-convert {\n",
              "      background-color: #3B4455;\n",
              "      fill: #D2E3FC;\n",
              "    }\n",
              "\n",
              "    [theme=dark] .colab-df-convert:hover {\n",
              "      background-color: #434B5C;\n",
              "      box-shadow: 0px 1px 3px 1px rgba(0, 0, 0, 0.15);\n",
              "      filter: drop-shadow(0px 1px 2px rgba(0, 0, 0, 0.3));\n",
              "      fill: #FFFFFF;\n",
              "    }\n",
              "  </style>\n",
              "\n",
              "      <script>\n",
              "        const buttonEl =\n",
              "          document.querySelector('#df-b6a12cce-4764-414e-9ae2-c54dfc3d4c29 button.colab-df-convert');\n",
              "        buttonEl.style.display =\n",
              "          google.colab.kernel.accessAllowed ? 'block' : 'none';\n",
              "\n",
              "        async function convertToInteractive(key) {\n",
              "          const element = document.querySelector('#df-b6a12cce-4764-414e-9ae2-c54dfc3d4c29');\n",
              "          const dataTable =\n",
              "            await google.colab.kernel.invokeFunction('convertToInteractive',\n",
              "                                                     [key], {});\n",
              "          if (!dataTable) return;\n",
              "\n",
              "          const docLinkHtml = 'Like what you see? Visit the ' +\n",
              "            '<a target=\"_blank\" href=https://colab.research.google.com/notebooks/data_table.ipynb>data table notebook</a>'\n",
              "            + ' to learn more about interactive tables.';\n",
              "          element.innerHTML = '';\n",
              "          dataTable['output_type'] = 'display_data';\n",
              "          await google.colab.output.renderOutput(dataTable, element);\n",
              "          const docLink = document.createElement('div');\n",
              "          docLink.innerHTML = docLinkHtml;\n",
              "          element.appendChild(docLink);\n",
              "        }\n",
              "      </script>\n",
              "    </div>\n",
              "  </div>\n",
              "  "
            ],
            "text/plain": [
              "   age     bmi  children      charges  sex_female  sex_male  smoker_no  \\\n",
              "0   19  27.900         0  16884.92400           1         0          0   \n",
              "1   18  33.770         1   1725.55230           0         1          1   \n",
              "2   28  33.000         3   4449.46200           0         1          1   \n",
              "3   33  22.705         0  21984.47061           0         1          1   \n",
              "4   32  28.880         0   3866.85520           0         1          1   \n",
              "\n",
              "   smoker_yes  region_northeast  region_northwest  region_southeast  \\\n",
              "0           1                 0                 0                 0   \n",
              "1           0                 0                 0                 1   \n",
              "2           0                 0                 0                 1   \n",
              "3           0                 0                 1                 0   \n",
              "4           0                 0                 1                 0   \n",
              "\n",
              "   region_southwest  \n",
              "0                 1  \n",
              "1                 0  \n",
              "2                 0  \n",
              "3                 0  \n",
              "4                 0  "
            ]
          },
          "execution_count": 63,
          "metadata": {},
          "output_type": "execute_result"
        }
      ],
      "source": [
        "# Let's try one-hot encode our Dataframe so it's all numbers\n",
        "insurance_one_hot = pd.get_dummies(insurance)\n",
        "insurance_one_hot.head()"
      ]
    },
    {
      "cell_type": "code",
      "execution_count": null,
      "metadata": {
        "id": "_Fx5Z1ZH9v05"
      },
      "outputs": [],
      "source": [
        "# Create X & y values (features and labels)\n",
        "X = insurance_one_hot.drop(\"charges\", axis=1)\n",
        "y = insurance_one_hot[\"charges\"]"
      ]
    },
    {
      "cell_type": "code",
      "execution_count": null,
      "metadata": {
        "colab": {
          "base_uri": "https://localhost:8080/",
          "height": 270
        },
        "id": "JrPel0W1bhBx",
        "outputId": "7c72aa0f-f35a-428c-a787-7c4d64de2b58"
      },
      "outputs": [
        {
          "data": {
            "text/html": [
              "\n",
              "  <div id=\"df-73a0ebc3-7d0e-4dcf-b123-176f9fbb981d\">\n",
              "    <div class=\"colab-df-container\">\n",
              "      <div>\n",
              "<style scoped>\n",
              "    .dataframe tbody tr th:only-of-type {\n",
              "        vertical-align: middle;\n",
              "    }\n",
              "\n",
              "    .dataframe tbody tr th {\n",
              "        vertical-align: top;\n",
              "    }\n",
              "\n",
              "    .dataframe thead th {\n",
              "        text-align: right;\n",
              "    }\n",
              "</style>\n",
              "<table border=\"1\" class=\"dataframe\">\n",
              "  <thead>\n",
              "    <tr style=\"text-align: right;\">\n",
              "      <th></th>\n",
              "      <th>age</th>\n",
              "      <th>bmi</th>\n",
              "      <th>children</th>\n",
              "      <th>sex_female</th>\n",
              "      <th>sex_male</th>\n",
              "      <th>smoker_no</th>\n",
              "      <th>smoker_yes</th>\n",
              "      <th>region_northeast</th>\n",
              "      <th>region_northwest</th>\n",
              "      <th>region_southeast</th>\n",
              "      <th>region_southwest</th>\n",
              "    </tr>\n",
              "  </thead>\n",
              "  <tbody>\n",
              "    <tr>\n",
              "      <th>0</th>\n",
              "      <td>19</td>\n",
              "      <td>27.900</td>\n",
              "      <td>0</td>\n",
              "      <td>1</td>\n",
              "      <td>0</td>\n",
              "      <td>0</td>\n",
              "      <td>1</td>\n",
              "      <td>0</td>\n",
              "      <td>0</td>\n",
              "      <td>0</td>\n",
              "      <td>1</td>\n",
              "    </tr>\n",
              "    <tr>\n",
              "      <th>1</th>\n",
              "      <td>18</td>\n",
              "      <td>33.770</td>\n",
              "      <td>1</td>\n",
              "      <td>0</td>\n",
              "      <td>1</td>\n",
              "      <td>1</td>\n",
              "      <td>0</td>\n",
              "      <td>0</td>\n",
              "      <td>0</td>\n",
              "      <td>1</td>\n",
              "      <td>0</td>\n",
              "    </tr>\n",
              "    <tr>\n",
              "      <th>2</th>\n",
              "      <td>28</td>\n",
              "      <td>33.000</td>\n",
              "      <td>3</td>\n",
              "      <td>0</td>\n",
              "      <td>1</td>\n",
              "      <td>1</td>\n",
              "      <td>0</td>\n",
              "      <td>0</td>\n",
              "      <td>0</td>\n",
              "      <td>1</td>\n",
              "      <td>0</td>\n",
              "    </tr>\n",
              "    <tr>\n",
              "      <th>3</th>\n",
              "      <td>33</td>\n",
              "      <td>22.705</td>\n",
              "      <td>0</td>\n",
              "      <td>0</td>\n",
              "      <td>1</td>\n",
              "      <td>1</td>\n",
              "      <td>0</td>\n",
              "      <td>0</td>\n",
              "      <td>1</td>\n",
              "      <td>0</td>\n",
              "      <td>0</td>\n",
              "    </tr>\n",
              "    <tr>\n",
              "      <th>4</th>\n",
              "      <td>32</td>\n",
              "      <td>28.880</td>\n",
              "      <td>0</td>\n",
              "      <td>0</td>\n",
              "      <td>1</td>\n",
              "      <td>1</td>\n",
              "      <td>0</td>\n",
              "      <td>0</td>\n",
              "      <td>1</td>\n",
              "      <td>0</td>\n",
              "      <td>0</td>\n",
              "    </tr>\n",
              "  </tbody>\n",
              "</table>\n",
              "</div>\n",
              "      <button class=\"colab-df-convert\" onclick=\"convertToInteractive('df-73a0ebc3-7d0e-4dcf-b123-176f9fbb981d')\"\n",
              "              title=\"Convert this dataframe to an interactive table.\"\n",
              "              style=\"display:none;\">\n",
              "        \n",
              "  <svg xmlns=\"http://www.w3.org/2000/svg\" height=\"24px\"viewBox=\"0 0 24 24\"\n",
              "       width=\"24px\">\n",
              "    <path d=\"M0 0h24v24H0V0z\" fill=\"none\"/>\n",
              "    <path d=\"M18.56 5.44l.94 2.06.94-2.06 2.06-.94-2.06-.94-.94-2.06-.94 2.06-2.06.94zm-11 1L8.5 8.5l.94-2.06 2.06-.94-2.06-.94L8.5 2.5l-.94 2.06-2.06.94zm10 10l.94 2.06.94-2.06 2.06-.94-2.06-.94-.94-2.06-.94 2.06-2.06.94z\"/><path d=\"M17.41 7.96l-1.37-1.37c-.4-.4-.92-.59-1.43-.59-.52 0-1.04.2-1.43.59L10.3 9.45l-7.72 7.72c-.78.78-.78 2.05 0 2.83L4 21.41c.39.39.9.59 1.41.59.51 0 1.02-.2 1.41-.59l7.78-7.78 2.81-2.81c.8-.78.8-2.07 0-2.86zM5.41 20L4 18.59l7.72-7.72 1.47 1.35L5.41 20z\"/>\n",
              "  </svg>\n",
              "      </button>\n",
              "      \n",
              "  <style>\n",
              "    .colab-df-container {\n",
              "      display:flex;\n",
              "      flex-wrap:wrap;\n",
              "      gap: 12px;\n",
              "    }\n",
              "\n",
              "    .colab-df-convert {\n",
              "      background-color: #E8F0FE;\n",
              "      border: none;\n",
              "      border-radius: 50%;\n",
              "      cursor: pointer;\n",
              "      display: none;\n",
              "      fill: #1967D2;\n",
              "      height: 32px;\n",
              "      padding: 0 0 0 0;\n",
              "      width: 32px;\n",
              "    }\n",
              "\n",
              "    .colab-df-convert:hover {\n",
              "      background-color: #E2EBFA;\n",
              "      box-shadow: 0px 1px 2px rgba(60, 64, 67, 0.3), 0px 1px 3px 1px rgba(60, 64, 67, 0.15);\n",
              "      fill: #174EA6;\n",
              "    }\n",
              "\n",
              "    [theme=dark] .colab-df-convert {\n",
              "      background-color: #3B4455;\n",
              "      fill: #D2E3FC;\n",
              "    }\n",
              "\n",
              "    [theme=dark] .colab-df-convert:hover {\n",
              "      background-color: #434B5C;\n",
              "      box-shadow: 0px 1px 3px 1px rgba(0, 0, 0, 0.15);\n",
              "      filter: drop-shadow(0px 1px 2px rgba(0, 0, 0, 0.3));\n",
              "      fill: #FFFFFF;\n",
              "    }\n",
              "  </style>\n",
              "\n",
              "      <script>\n",
              "        const buttonEl =\n",
              "          document.querySelector('#df-73a0ebc3-7d0e-4dcf-b123-176f9fbb981d button.colab-df-convert');\n",
              "        buttonEl.style.display =\n",
              "          google.colab.kernel.accessAllowed ? 'block' : 'none';\n",
              "\n",
              "        async function convertToInteractive(key) {\n",
              "          const element = document.querySelector('#df-73a0ebc3-7d0e-4dcf-b123-176f9fbb981d');\n",
              "          const dataTable =\n",
              "            await google.colab.kernel.invokeFunction('convertToInteractive',\n",
              "                                                     [key], {});\n",
              "          if (!dataTable) return;\n",
              "\n",
              "          const docLinkHtml = 'Like what you see? Visit the ' +\n",
              "            '<a target=\"_blank\" href=https://colab.research.google.com/notebooks/data_table.ipynb>data table notebook</a>'\n",
              "            + ' to learn more about interactive tables.';\n",
              "          element.innerHTML = '';\n",
              "          dataTable['output_type'] = 'display_data';\n",
              "          await google.colab.output.renderOutput(dataTable, element);\n",
              "          const docLink = document.createElement('div');\n",
              "          docLink.innerHTML = docLinkHtml;\n",
              "          element.appendChild(docLink);\n",
              "        }\n",
              "      </script>\n",
              "    </div>\n",
              "  </div>\n",
              "  "
            ],
            "text/plain": [
              "   age     bmi  children  sex_female  sex_male  smoker_no  smoker_yes  \\\n",
              "0   19  27.900         0           1         0          0           1   \n",
              "1   18  33.770         1           0         1          1           0   \n",
              "2   28  33.000         3           0         1          1           0   \n",
              "3   33  22.705         0           0         1          1           0   \n",
              "4   32  28.880         0           0         1          1           0   \n",
              "\n",
              "   region_northeast  region_northwest  region_southeast  region_southwest  \n",
              "0                 0                 0                 0                 1  \n",
              "1                 0                 0                 1                 0  \n",
              "2                 0                 0                 1                 0  \n",
              "3                 0                 1                 0                 0  \n",
              "4                 0                 1                 0                 0  "
            ]
          },
          "execution_count": 65,
          "metadata": {},
          "output_type": "execute_result"
        }
      ],
      "source": [
        "# View X\n",
        "X.head()"
      ]
    },
    {
      "cell_type": "code",
      "execution_count": null,
      "metadata": {
        "colab": {
          "base_uri": "https://localhost:8080/"
        },
        "id": "Wpp2TTbNb0dz",
        "outputId": "767bc609-ec5e-4a5d-ce4f-3ce52f6a6159"
      },
      "outputs": [
        {
          "data": {
            "text/plain": [
              "0    16884.92400\n",
              "1     1725.55230\n",
              "2     4449.46200\n",
              "3    21984.47061\n",
              "4     3866.85520\n",
              "Name: charges, dtype: float64"
            ]
          },
          "execution_count": 66,
          "metadata": {},
          "output_type": "execute_result"
        }
      ],
      "source": [
        "# View y\n",
        "y.head()"
      ]
    },
    {
      "cell_type": "code",
      "execution_count": null,
      "metadata": {
        "colab": {
          "base_uri": "https://localhost:8080/"
        },
        "id": "8ohjiUGNcJhz",
        "outputId": "423269a2-b19d-4bd3-ba97-28d263d978ec"
      },
      "outputs": [
        {
          "data": {
            "text/plain": [
              "(1338, 1070, 268)"
            ]
          },
          "execution_count": 67,
          "metadata": {},
          "output_type": "execute_result"
        }
      ],
      "source": [
        "# Create training and tests sets\n",
        "from sklearn.model_selection import train_test_split\n",
        "X_train, X_test, y_train, y_test = train_test_split(X, y, test_size=0.2, random_state=42)\n",
        "len(X), len(X_train), len(X_test)"
      ]
    },
    {
      "cell_type": "code",
      "execution_count": null,
      "metadata": {
        "colab": {
          "base_uri": "https://localhost:8080/"
        },
        "id": "YoB-XaLajhvm",
        "outputId": "92f1677a-7b2f-4b91-8865-cd7663600b3c"
      },
      "outputs": [
        {
          "name": "stdout",
          "output_type": "stream",
          "text": [
            "Model: \"sequential_5\"\n",
            "_________________________________________________________________\n",
            " Layer (type)                Output Shape              Param #   \n",
            "=================================================================\n",
            " dense_6 (Dense)             (None, 10)                20        \n",
            "                                                                 \n",
            " dense_7 (Dense)             (None, 1)                 11        \n",
            "                                                                 \n",
            "=================================================================\n",
            "Total params: 31\n",
            "Trainable params: 31\n",
            "Non-trainable params: 0\n",
            "_________________________________________________________________\n"
          ]
        }
      ],
      "source": [
        "model_2.summary()"
      ]
    },
    {
      "cell_type": "code",
      "execution_count": null,
      "metadata": {
        "colab": {
          "base_uri": "https://localhost:8080/"
        },
        "id": "mn9PfcWjcWMq",
        "outputId": "7fe73f58-3a13-4b3a-dda7-c2a8763ee26f"
      },
      "outputs": [
        {
          "name": "stdout",
          "output_type": "stream",
          "text": [
            "Epoch 1/100\n",
            "34/34 [==============================] - 1s 3ms/step - loss: 8682.1328 - mae: 8682.1328\n",
            "Epoch 2/100\n",
            "34/34 [==============================] - 0s 3ms/step - loss: 7877.2607 - mae: 7877.2607\n",
            "Epoch 3/100\n",
            "34/34 [==============================] - 0s 3ms/step - loss: 7604.1235 - mae: 7604.1235\n",
            "Epoch 4/100\n",
            "34/34 [==============================] - 0s 3ms/step - loss: 7511.9204 - mae: 7511.9204\n",
            "Epoch 5/100\n",
            "34/34 [==============================] - 0s 3ms/step - loss: 7709.7319 - mae: 7709.7319\n",
            "Epoch 6/100\n",
            "34/34 [==============================] - 0s 3ms/step - loss: 7613.5781 - mae: 7613.5781\n",
            "Epoch 7/100\n",
            "34/34 [==============================] - 0s 3ms/step - loss: 7559.2441 - mae: 7559.2441\n",
            "Epoch 8/100\n",
            "34/34 [==============================] - 0s 3ms/step - loss: 7787.5854 - mae: 7787.5854\n",
            "Epoch 9/100\n",
            "34/34 [==============================] - 0s 3ms/step - loss: 7604.3657 - mae: 7604.3657\n",
            "Epoch 10/100\n",
            "34/34 [==============================] - 0s 3ms/step - loss: 7709.8999 - mae: 7709.8999\n",
            "Epoch 11/100\n",
            "34/34 [==============================] - 0s 3ms/step - loss: 7484.7075 - mae: 7484.7075\n",
            "Epoch 12/100\n",
            "34/34 [==============================] - 0s 3ms/step - loss: 7706.0542 - mae: 7706.0542\n",
            "Epoch 13/100\n",
            "34/34 [==============================] - 0s 3ms/step - loss: 7632.5034 - mae: 7632.5034\n",
            "Epoch 14/100\n",
            "34/34 [==============================] - 0s 3ms/step - loss: 7687.5532 - mae: 7687.5532\n",
            "Epoch 15/100\n",
            "34/34 [==============================] - 0s 4ms/step - loss: 7523.7954 - mae: 7523.7954\n",
            "Epoch 16/100\n",
            "34/34 [==============================] - 0s 3ms/step - loss: 7739.4048 - mae: 7739.4048\n",
            "Epoch 17/100\n",
            "34/34 [==============================] - 0s 3ms/step - loss: 7576.3511 - mae: 7576.3511\n",
            "Epoch 18/100\n",
            "34/34 [==============================] - 0s 3ms/step - loss: 7761.7607 - mae: 7761.7607\n",
            "Epoch 19/100\n",
            "34/34 [==============================] - 0s 3ms/step - loss: 7665.2241 - mae: 7665.2241\n",
            "Epoch 20/100\n",
            "34/34 [==============================] - 0s 3ms/step - loss: 7873.8198 - mae: 7873.8198\n",
            "Epoch 21/100\n",
            "34/34 [==============================] - 0s 3ms/step - loss: 7556.1177 - mae: 7556.1177\n",
            "Epoch 22/100\n",
            "34/34 [==============================] - 0s 2ms/step - loss: 7797.7876 - mae: 7797.7876\n",
            "Epoch 23/100\n",
            "34/34 [==============================] - 0s 2ms/step - loss: 7685.4561 - mae: 7685.4561\n",
            "Epoch 24/100\n",
            "34/34 [==============================] - 0s 2ms/step - loss: 7523.4185 - mae: 7523.4185\n",
            "Epoch 25/100\n",
            "34/34 [==============================] - 0s 2ms/step - loss: 7689.0718 - mae: 7689.0718\n",
            "Epoch 26/100\n",
            "34/34 [==============================] - 0s 2ms/step - loss: 7619.8975 - mae: 7619.8975\n",
            "Epoch 27/100\n",
            "34/34 [==============================] - 0s 2ms/step - loss: 7416.8765 - mae: 7416.8765\n",
            "Epoch 28/100\n",
            "34/34 [==============================] - 0s 2ms/step - loss: 7491.4751 - mae: 7491.4751\n",
            "Epoch 29/100\n",
            "34/34 [==============================] - 0s 2ms/step - loss: 7608.8726 - mae: 7608.8726\n",
            "Epoch 30/100\n",
            "34/34 [==============================] - 0s 2ms/step - loss: 7608.8770 - mae: 7608.8770\n",
            "Epoch 31/100\n",
            "34/34 [==============================] - 0s 2ms/step - loss: 7556.1152 - mae: 7556.1152\n",
            "Epoch 32/100\n",
            "34/34 [==============================] - 0s 2ms/step - loss: 7567.5088 - mae: 7567.5088\n",
            "Epoch 33/100\n",
            "34/34 [==============================] - 0s 2ms/step - loss: 7380.9858 - mae: 7380.9858\n",
            "Epoch 34/100\n",
            "34/34 [==============================] - 0s 2ms/step - loss: 7496.7358 - mae: 7496.7358\n",
            "Epoch 35/100\n",
            "34/34 [==============================] - 0s 2ms/step - loss: 7599.2759 - mae: 7599.2759\n",
            "Epoch 36/100\n",
            "34/34 [==============================] - 0s 2ms/step - loss: 7408.4897 - mae: 7408.4897\n",
            "Epoch 37/100\n",
            "34/34 [==============================] - 0s 2ms/step - loss: 7634.7788 - mae: 7634.7788\n",
            "Epoch 38/100\n",
            "34/34 [==============================] - 0s 2ms/step - loss: 7454.4712 - mae: 7454.4712\n",
            "Epoch 39/100\n",
            "34/34 [==============================] - 0s 2ms/step - loss: 7534.5278 - mae: 7534.5278\n",
            "Epoch 40/100\n",
            "34/34 [==============================] - 0s 2ms/step - loss: 7427.1572 - mae: 7427.1572\n",
            "Epoch 41/100\n",
            "34/34 [==============================] - 0s 2ms/step - loss: 7705.4683 - mae: 7705.4683\n",
            "Epoch 42/100\n",
            "34/34 [==============================] - 0s 2ms/step - loss: 7695.6846 - mae: 7695.6846\n",
            "Epoch 43/100\n",
            "34/34 [==============================] - 0s 2ms/step - loss: 7654.3164 - mae: 7654.3164\n",
            "Epoch 44/100\n",
            "34/34 [==============================] - 0s 2ms/step - loss: 7421.0684 - mae: 7421.0684\n",
            "Epoch 45/100\n",
            "34/34 [==============================] - 0s 2ms/step - loss: 7488.1172 - mae: 7488.1172\n",
            "Epoch 46/100\n",
            "34/34 [==============================] - 0s 2ms/step - loss: 7340.3584 - mae: 7340.3584\n",
            "Epoch 47/100\n",
            "34/34 [==============================] - 0s 2ms/step - loss: 7394.3096 - mae: 7394.3096\n",
            "Epoch 48/100\n",
            "34/34 [==============================] - 0s 2ms/step - loss: 7559.8750 - mae: 7559.8750\n",
            "Epoch 49/100\n",
            "34/34 [==============================] - 0s 2ms/step - loss: 7566.7012 - mae: 7566.7012\n",
            "Epoch 50/100\n",
            "34/34 [==============================] - 0s 2ms/step - loss: 7515.9121 - mae: 7515.9121\n",
            "Epoch 51/100\n",
            "34/34 [==============================] - 0s 2ms/step - loss: 7282.7466 - mae: 7282.7466\n",
            "Epoch 52/100\n",
            "34/34 [==============================] - 0s 2ms/step - loss: 7264.3306 - mae: 7264.3306\n",
            "Epoch 53/100\n",
            "34/34 [==============================] - 0s 2ms/step - loss: 7524.6704 - mae: 7524.6704\n",
            "Epoch 54/100\n",
            "34/34 [==============================] - 0s 2ms/step - loss: 7141.2119 - mae: 7141.2119\n",
            "Epoch 55/100\n",
            "34/34 [==============================] - 0s 2ms/step - loss: 7497.7476 - mae: 7497.7476\n",
            "Epoch 56/100\n",
            "34/34 [==============================] - 0s 2ms/step - loss: 7302.5767 - mae: 7302.5767\n",
            "Epoch 57/100\n",
            "34/34 [==============================] - 0s 2ms/step - loss: 7362.2275 - mae: 7362.2275\n",
            "Epoch 58/100\n",
            "34/34 [==============================] - 0s 2ms/step - loss: 7600.4487 - mae: 7600.4487\n",
            "Epoch 59/100\n",
            "34/34 [==============================] - 0s 2ms/step - loss: 7427.5044 - mae: 7427.5044\n",
            "Epoch 60/100\n",
            "34/34 [==============================] - 0s 2ms/step - loss: 7504.3984 - mae: 7504.3984\n",
            "Epoch 61/100\n",
            "34/34 [==============================] - 0s 2ms/step - loss: 7533.8574 - mae: 7533.8574\n",
            "Epoch 62/100\n",
            "34/34 [==============================] - 0s 2ms/step - loss: 7432.4873 - mae: 7432.4873\n",
            "Epoch 63/100\n",
            "34/34 [==============================] - 0s 2ms/step - loss: 7382.0000 - mae: 7382.0000\n",
            "Epoch 64/100\n",
            "34/34 [==============================] - 0s 2ms/step - loss: 7281.5835 - mae: 7281.5835\n",
            "Epoch 65/100\n",
            "34/34 [==============================] - 0s 2ms/step - loss: 7546.9331 - mae: 7546.9331\n",
            "Epoch 66/100\n",
            "34/34 [==============================] - 0s 2ms/step - loss: 7291.6138 - mae: 7291.6138\n",
            "Epoch 67/100\n",
            "34/34 [==============================] - 0s 2ms/step - loss: 7391.6143 - mae: 7391.6143\n",
            "Epoch 68/100\n",
            "34/34 [==============================] - 0s 2ms/step - loss: 7551.1670 - mae: 7551.1670\n",
            "Epoch 69/100\n",
            "34/34 [==============================] - 0s 2ms/step - loss: 7424.0352 - mae: 7424.0352\n",
            "Epoch 70/100\n",
            "34/34 [==============================] - 0s 2ms/step - loss: 7666.8394 - mae: 7666.8394\n",
            "Epoch 71/100\n",
            "34/34 [==============================] - 0s 2ms/step - loss: 7304.1562 - mae: 7304.1562\n",
            "Epoch 72/100\n",
            "34/34 [==============================] - 0s 2ms/step - loss: 7417.0020 - mae: 7417.0020\n",
            "Epoch 73/100\n",
            "34/34 [==============================] - 0s 2ms/step - loss: 7289.2012 - mae: 7289.2012\n",
            "Epoch 74/100\n",
            "34/34 [==============================] - 0s 2ms/step - loss: 7397.5254 - mae: 7397.5254\n",
            "Epoch 75/100\n",
            "34/34 [==============================] - 0s 2ms/step - loss: 7221.6455 - mae: 7221.6455\n",
            "Epoch 76/100\n",
            "34/34 [==============================] - 0s 2ms/step - loss: 7218.7217 - mae: 7218.7217\n",
            "Epoch 77/100\n",
            "34/34 [==============================] - 0s 2ms/step - loss: 7408.4932 - mae: 7408.4932\n",
            "Epoch 78/100\n",
            "34/34 [==============================] - 0s 2ms/step - loss: 7301.8184 - mae: 7301.8184\n",
            "Epoch 79/100\n",
            "34/34 [==============================] - 0s 2ms/step - loss: 7521.5171 - mae: 7521.5171\n",
            "Epoch 80/100\n",
            "34/34 [==============================] - 0s 2ms/step - loss: 7255.6743 - mae: 7255.6743\n",
            "Epoch 81/100\n",
            "34/34 [==============================] - 0s 2ms/step - loss: 7344.6162 - mae: 7344.6162\n",
            "Epoch 82/100\n",
            "34/34 [==============================] - 0s 2ms/step - loss: 7231.8027 - mae: 7231.8027\n",
            "Epoch 83/100\n",
            "34/34 [==============================] - 0s 2ms/step - loss: 7451.5386 - mae: 7451.5386\n",
            "Epoch 84/100\n",
            "34/34 [==============================] - 0s 2ms/step - loss: 7240.1802 - mae: 7240.1802\n",
            "Epoch 85/100\n",
            "34/34 [==============================] - 0s 2ms/step - loss: 7412.0405 - mae: 7412.0405\n",
            "Epoch 86/100\n",
            "34/34 [==============================] - 0s 2ms/step - loss: 7476.8696 - mae: 7476.8696\n",
            "Epoch 87/100\n",
            "34/34 [==============================] - 0s 2ms/step - loss: 7189.0493 - mae: 7189.0493\n",
            "Epoch 88/100\n",
            "34/34 [==============================] - 0s 2ms/step - loss: 7201.8472 - mae: 7201.8472\n",
            "Epoch 89/100\n",
            "34/34 [==============================] - 0s 2ms/step - loss: 7371.4541 - mae: 7371.4541\n",
            "Epoch 90/100\n",
            "34/34 [==============================] - 0s 2ms/step - loss: 7127.5083 - mae: 7127.5083\n",
            "Epoch 91/100\n",
            "34/34 [==============================] - 0s 2ms/step - loss: 7156.7769 - mae: 7156.7769\n",
            "Epoch 92/100\n",
            "34/34 [==============================] - 0s 2ms/step - loss: 7363.7759 - mae: 7363.7759\n",
            "Epoch 93/100\n",
            "34/34 [==============================] - 0s 2ms/step - loss: 7397.6660 - mae: 7397.6660\n",
            "Epoch 94/100\n",
            "34/34 [==============================] - 0s 2ms/step - loss: 7032.2773 - mae: 7032.2773\n",
            "Epoch 95/100\n",
            "34/34 [==============================] - 0s 2ms/step - loss: 7531.9692 - mae: 7531.9692\n",
            "Epoch 96/100\n",
            "34/34 [==============================] - 0s 2ms/step - loss: 7299.9937 - mae: 7299.9937\n",
            "Epoch 97/100\n",
            "34/34 [==============================] - 0s 2ms/step - loss: 7229.3589 - mae: 7229.3589\n",
            "Epoch 98/100\n",
            "34/34 [==============================] - 0s 2ms/step - loss: 7445.8887 - mae: 7445.8887\n",
            "Epoch 99/100\n",
            "34/34 [==============================] - 0s 2ms/step - loss: 7388.3398 - mae: 7388.3398\n",
            "Epoch 100/100\n",
            "34/34 [==============================] - 0s 2ms/step - loss: 7265.6436 - mae: 7265.6436\n"
          ]
        },
        {
          "data": {
            "text/plain": [
              "<keras.callbacks.History at 0x7f2389dafca0>"
            ]
          },
          "execution_count": 69,
          "metadata": {},
          "output_type": "execute_result"
        }
      ],
      "source": [
        "# Build a neural network (sort of like model_2 above)\n",
        "tf.random.set_seed = 42\n",
        "\n",
        "# Create a model\n",
        "insurance_model = tf.keras.Sequential([\n",
        "    tf.keras.layers.Dense(10),\n",
        "    tf.keras.layers.Dense(1)\n",
        "])\n",
        "\n",
        "# Compile the model \n",
        "insurance_model.compile(loss= tf.keras.losses.mae,\n",
        "                        optimizer=tf.keras.optimizers.SGD(),\n",
        "                        metrics=[\"mae\"])\n",
        "\n",
        "# Fit the model\n",
        "insurance_model.fit(X_train, y_train, epochs=100)"
      ]
    },
    {
      "cell_type": "code",
      "execution_count": null,
      "metadata": {
        "colab": {
          "base_uri": "https://localhost:8080/"
        },
        "id": "HYbKjCEXjkFG",
        "outputId": "62fd0210-a6e6-419e-c7f3-a877d4136137"
      },
      "outputs": [
        {
          "name": "stdout",
          "output_type": "stream",
          "text": [
            "9/9 [==============================] - 0s 2ms/step - loss: 8944.0615 - mae: 8944.0615\n"
          ]
        },
        {
          "data": {
            "text/plain": [
              "[8944.0615234375, 8944.0615234375]"
            ]
          },
          "execution_count": 70,
          "metadata": {},
          "output_type": "execute_result"
        }
      ],
      "source": [
        "# Check the results of the insurance model on the test data\n",
        "insurance_model.evaluate(X_test, y_test)"
      ]
    },
    {
      "cell_type": "code",
      "execution_count": null,
      "metadata": {
        "colab": {
          "base_uri": "https://localhost:8080/"
        },
        "id": "HbvLxkZAv2JR",
        "outputId": "be98e0ba-8f46-4cf0-af65-f7546fe5e6bf"
      },
      "outputs": [
        {
          "data": {
            "text/plain": [
              "(9575.4421, 13346.089736364485)"
            ]
          },
          "execution_count": 71,
          "metadata": {},
          "output_type": "execute_result"
        }
      ],
      "source": [
        "y_train.median(), y_train.mean()"
      ]
    },
    {
      "cell_type": "markdown",
      "metadata": {
        "id": "L7Uqpt0Uv9OZ"
      },
      "source": [
        "Right now the model isn't performing too well.. let's improve it!\n",
        "To (try) improve our model, We'll run 2 experiments:\n",
        "1. Add an extra layer with more hidden units and use the Adam optimizers\n",
        "2. Train the above for longer(epochs=200)\n",
        "3. (insert your own experiments here)"
      ]
    },
    {
      "cell_type": "code",
      "execution_count": null,
      "metadata": {
        "colab": {
          "base_uri": "https://localhost:8080/"
        },
        "id": "lZe66hSyx4fp",
        "outputId": "16c526fa-5464-4fac-dfad-bfbcc9e48819"
      },
      "outputs": [
        {
          "name": "stdout",
          "output_type": "stream",
          "text": [
            "Epoch 1/100\n",
            "34/34 [==============================] - 1s 3ms/step - loss: 13283.8389 - mae: 13283.8389\n",
            "Epoch 2/100\n",
            "34/34 [==============================] - 0s 2ms/step - loss: 13094.1143 - mae: 13094.1143\n",
            "Epoch 3/100\n",
            "34/34 [==============================] - 0s 2ms/step - loss: 12719.8516 - mae: 12719.8516\n",
            "Epoch 4/100\n",
            "34/34 [==============================] - 0s 2ms/step - loss: 12006.4893 - mae: 12006.4893\n",
            "Epoch 5/100\n",
            "34/34 [==============================] - 0s 2ms/step - loss: 10832.1592 - mae: 10832.1592\n",
            "Epoch 6/100\n",
            "34/34 [==============================] - 0s 2ms/step - loss: 9368.1533 - mae: 9368.1533\n",
            "Epoch 7/100\n",
            "34/34 [==============================] - 0s 3ms/step - loss: 8075.1475 - mae: 8075.1475\n",
            "Epoch 8/100\n",
            "34/34 [==============================] - 0s 2ms/step - loss: 7515.4731 - mae: 7515.4731\n",
            "Epoch 9/100\n",
            "34/34 [==============================] - 0s 2ms/step - loss: 7430.6147 - mae: 7430.6147\n",
            "Epoch 10/100\n",
            "34/34 [==============================] - 0s 2ms/step - loss: 7410.5273 - mae: 7410.5273\n",
            "Epoch 11/100\n",
            "34/34 [==============================] - 0s 2ms/step - loss: 7391.0044 - mae: 7391.0044\n",
            "Epoch 12/100\n",
            "34/34 [==============================] - 0s 3ms/step - loss: 7368.0747 - mae: 7368.0747\n",
            "Epoch 13/100\n",
            "34/34 [==============================] - 0s 2ms/step - loss: 7346.9663 - mae: 7346.9663\n",
            "Epoch 14/100\n",
            "34/34 [==============================] - 0s 2ms/step - loss: 7323.6587 - mae: 7323.6587\n",
            "Epoch 15/100\n",
            "34/34 [==============================] - 0s 2ms/step - loss: 7303.8911 - mae: 7303.8911\n",
            "Epoch 16/100\n",
            "34/34 [==============================] - 0s 2ms/step - loss: 7280.6411 - mae: 7280.6411\n",
            "Epoch 17/100\n",
            "34/34 [==============================] - 0s 2ms/step - loss: 7259.5723 - mae: 7259.5723\n",
            "Epoch 18/100\n",
            "34/34 [==============================] - 0s 2ms/step - loss: 7235.0762 - mae: 7235.0762\n",
            "Epoch 19/100\n",
            "34/34 [==============================] - 0s 2ms/step - loss: 7211.6172 - mae: 7211.6172\n",
            "Epoch 20/100\n",
            "34/34 [==============================] - 0s 2ms/step - loss: 7186.8066 - mae: 7186.8066\n",
            "Epoch 21/100\n",
            "34/34 [==============================] - 0s 2ms/step - loss: 7167.6958 - mae: 7167.6958\n",
            "Epoch 22/100\n",
            "34/34 [==============================] - 0s 2ms/step - loss: 7137.5771 - mae: 7137.5771\n",
            "Epoch 23/100\n",
            "34/34 [==============================] - 0s 2ms/step - loss: 7110.7554 - mae: 7110.7554\n",
            "Epoch 24/100\n",
            "34/34 [==============================] - 0s 2ms/step - loss: 7084.8384 - mae: 7084.8384\n",
            "Epoch 25/100\n",
            "34/34 [==============================] - 0s 2ms/step - loss: 7065.0210 - mae: 7065.0210\n",
            "Epoch 26/100\n",
            "34/34 [==============================] - 0s 2ms/step - loss: 7031.0264 - mae: 7031.0264\n",
            "Epoch 27/100\n",
            "34/34 [==============================] - 0s 2ms/step - loss: 7000.7119 - mae: 7000.7119\n",
            "Epoch 28/100\n",
            "34/34 [==============================] - 0s 2ms/step - loss: 6970.3149 - mae: 6970.3149\n",
            "Epoch 29/100\n",
            "34/34 [==============================] - 0s 2ms/step - loss: 6939.6338 - mae: 6939.6338\n",
            "Epoch 30/100\n",
            "34/34 [==============================] - 0s 2ms/step - loss: 6909.9116 - mae: 6909.9116\n",
            "Epoch 31/100\n",
            "34/34 [==============================] - 0s 2ms/step - loss: 6876.5996 - mae: 6876.5996\n",
            "Epoch 32/100\n",
            "34/34 [==============================] - 0s 2ms/step - loss: 6845.7339 - mae: 6845.7339\n",
            "Epoch 33/100\n",
            "34/34 [==============================] - 0s 2ms/step - loss: 6811.1606 - mae: 6811.1606\n",
            "Epoch 34/100\n",
            "34/34 [==============================] - 0s 2ms/step - loss: 6777.5483 - mae: 6777.5483\n",
            "Epoch 35/100\n",
            "34/34 [==============================] - 0s 2ms/step - loss: 6739.4849 - mae: 6739.4849\n",
            "Epoch 36/100\n",
            "34/34 [==============================] - 0s 2ms/step - loss: 6702.7173 - mae: 6702.7173\n",
            "Epoch 37/100\n",
            "34/34 [==============================] - 0s 2ms/step - loss: 6663.7925 - mae: 6663.7925\n",
            "Epoch 38/100\n",
            "34/34 [==============================] - 0s 2ms/step - loss: 6632.3208 - mae: 6632.3208\n",
            "Epoch 39/100\n",
            "34/34 [==============================] - 0s 2ms/step - loss: 6592.1680 - mae: 6592.1680\n",
            "Epoch 40/100\n",
            "34/34 [==============================] - 0s 2ms/step - loss: 6558.8149 - mae: 6558.8149\n",
            "Epoch 41/100\n",
            "34/34 [==============================] - 0s 2ms/step - loss: 6532.1348 - mae: 6532.1348\n",
            "Epoch 42/100\n",
            "34/34 [==============================] - 0s 2ms/step - loss: 6508.5986 - mae: 6508.5986\n",
            "Epoch 43/100\n",
            "34/34 [==============================] - 0s 2ms/step - loss: 6486.7925 - mae: 6486.7925\n",
            "Epoch 44/100\n",
            "34/34 [==============================] - 0s 2ms/step - loss: 6468.0068 - mae: 6468.0068\n",
            "Epoch 45/100\n",
            "34/34 [==============================] - 0s 3ms/step - loss: 6458.4614 - mae: 6458.4614\n",
            "Epoch 46/100\n",
            "34/34 [==============================] - 0s 2ms/step - loss: 6439.8872 - mae: 6439.8872\n",
            "Epoch 47/100\n",
            "34/34 [==============================] - 0s 2ms/step - loss: 6423.9531 - mae: 6423.9531\n",
            "Epoch 48/100\n",
            "34/34 [==============================] - 0s 2ms/step - loss: 6409.7300 - mae: 6409.7300\n",
            "Epoch 49/100\n",
            "34/34 [==============================] - 0s 2ms/step - loss: 6397.7651 - mae: 6397.7651\n",
            "Epoch 50/100\n",
            "34/34 [==============================] - 0s 2ms/step - loss: 6382.9014 - mae: 6382.9014\n",
            "Epoch 51/100\n",
            "34/34 [==============================] - 0s 2ms/step - loss: 6368.6328 - mae: 6368.6328\n",
            "Epoch 52/100\n",
            "34/34 [==============================] - 0s 2ms/step - loss: 6355.3096 - mae: 6355.3096\n",
            "Epoch 53/100\n",
            "34/34 [==============================] - 0s 2ms/step - loss: 6340.2773 - mae: 6340.2773\n",
            "Epoch 54/100\n",
            "34/34 [==============================] - 0s 2ms/step - loss: 6324.8950 - mae: 6324.8950\n",
            "Epoch 55/100\n",
            "34/34 [==============================] - 0s 2ms/step - loss: 6310.1694 - mae: 6310.1694\n",
            "Epoch 56/100\n",
            "34/34 [==============================] - 0s 3ms/step - loss: 6295.1035 - mae: 6295.1035\n",
            "Epoch 57/100\n",
            "34/34 [==============================] - 0s 3ms/step - loss: 6280.0698 - mae: 6280.0698\n",
            "Epoch 58/100\n",
            "34/34 [==============================] - 0s 4ms/step - loss: 6265.3613 - mae: 6265.3613\n",
            "Epoch 59/100\n",
            "34/34 [==============================] - 0s 4ms/step - loss: 6247.6943 - mae: 6247.6943\n",
            "Epoch 60/100\n",
            "34/34 [==============================] - 0s 3ms/step - loss: 6235.3735 - mae: 6235.3735\n",
            "Epoch 61/100\n",
            "34/34 [==============================] - 0s 4ms/step - loss: 6213.5273 - mae: 6213.5273\n",
            "Epoch 62/100\n",
            "34/34 [==============================] - 0s 3ms/step - loss: 6199.4839 - mae: 6199.4839\n",
            "Epoch 63/100\n",
            "34/34 [==============================] - 0s 4ms/step - loss: 6178.4966 - mae: 6178.4966\n",
            "Epoch 64/100\n",
            "34/34 [==============================] - 0s 4ms/step - loss: 6159.6934 - mae: 6159.6934\n",
            "Epoch 65/100\n",
            "34/34 [==============================] - 0s 3ms/step - loss: 6140.9561 - mae: 6140.9561\n",
            "Epoch 66/100\n",
            "34/34 [==============================] - 0s 3ms/step - loss: 6120.9355 - mae: 6120.9355\n",
            "Epoch 67/100\n",
            "34/34 [==============================] - 0s 3ms/step - loss: 6106.4961 - mae: 6106.4961\n",
            "Epoch 68/100\n",
            "34/34 [==============================] - 0s 14ms/step - loss: 6081.0835 - mae: 6081.0835\n",
            "Epoch 69/100\n",
            "34/34 [==============================] - 1s 17ms/step - loss: 6062.2339 - mae: 6062.2339\n",
            "Epoch 70/100\n",
            "34/34 [==============================] - 0s 12ms/step - loss: 6038.7612 - mae: 6038.7612\n",
            "Epoch 71/100\n",
            "34/34 [==============================] - 0s 3ms/step - loss: 6016.2930 - mae: 6016.2930\n",
            "Epoch 72/100\n",
            "34/34 [==============================] - 0s 3ms/step - loss: 5992.3838 - mae: 5992.3838\n",
            "Epoch 73/100\n",
            "34/34 [==============================] - 0s 3ms/step - loss: 5975.5425 - mae: 5975.5425\n",
            "Epoch 74/100\n",
            "34/34 [==============================] - 0s 3ms/step - loss: 5942.6851 - mae: 5942.6851\n",
            "Epoch 75/100\n",
            "34/34 [==============================] - 0s 3ms/step - loss: 5917.6099 - mae: 5917.6099\n",
            "Epoch 76/100\n",
            "34/34 [==============================] - 0s 3ms/step - loss: 5898.0938 - mae: 5898.0938\n",
            "Epoch 77/100\n",
            "34/34 [==============================] - 0s 3ms/step - loss: 5863.6528 - mae: 5863.6528\n",
            "Epoch 78/100\n",
            "34/34 [==============================] - 0s 3ms/step - loss: 5834.9346 - mae: 5834.9346\n",
            "Epoch 79/100\n",
            "34/34 [==============================] - 0s 3ms/step - loss: 5805.1641 - mae: 5805.1641\n",
            "Epoch 80/100\n",
            "34/34 [==============================] - 0s 4ms/step - loss: 5772.7563 - mae: 5772.7563\n",
            "Epoch 81/100\n",
            "34/34 [==============================] - 0s 4ms/step - loss: 5741.9917 - mae: 5741.9917\n",
            "Epoch 82/100\n",
            "34/34 [==============================] - 0s 3ms/step - loss: 5707.1675 - mae: 5707.1675\n",
            "Epoch 83/100\n",
            "34/34 [==============================] - 0s 4ms/step - loss: 5674.8901 - mae: 5674.8901\n",
            "Epoch 84/100\n",
            "34/34 [==============================] - 0s 4ms/step - loss: 5634.2856 - mae: 5634.2856\n",
            "Epoch 85/100\n",
            "34/34 [==============================] - 0s 3ms/step - loss: 5600.6753 - mae: 5600.6753\n",
            "Epoch 86/100\n",
            "34/34 [==============================] - 0s 3ms/step - loss: 5560.3066 - mae: 5560.3066\n",
            "Epoch 87/100\n",
            "34/34 [==============================] - 0s 4ms/step - loss: 5516.2407 - mae: 5516.2407\n",
            "Epoch 88/100\n",
            "34/34 [==============================] - 0s 3ms/step - loss: 5473.2729 - mae: 5473.2729\n",
            "Epoch 89/100\n",
            "34/34 [==============================] - 0s 2ms/step - loss: 5425.8726 - mae: 5425.8726\n",
            "Epoch 90/100\n",
            "34/34 [==============================] - 0s 2ms/step - loss: 5375.5630 - mae: 5375.5630\n",
            "Epoch 91/100\n",
            "34/34 [==============================] - 0s 2ms/step - loss: 5329.5708 - mae: 5329.5708\n",
            "Epoch 92/100\n",
            "34/34 [==============================] - 0s 2ms/step - loss: 5274.0308 - mae: 5274.0308\n",
            "Epoch 93/100\n",
            "34/34 [==============================] - 0s 2ms/step - loss: 5220.4487 - mae: 5220.4487\n",
            "Epoch 94/100\n",
            "34/34 [==============================] - 0s 2ms/step - loss: 5162.7866 - mae: 5162.7866\n",
            "Epoch 95/100\n",
            "34/34 [==============================] - 0s 3ms/step - loss: 5102.4429 - mae: 5102.4429\n",
            "Epoch 96/100\n",
            "34/34 [==============================] - 0s 2ms/step - loss: 5046.2520 - mae: 5046.2520\n",
            "Epoch 97/100\n",
            "34/34 [==============================] - 0s 2ms/step - loss: 4983.2920 - mae: 4983.2920\n",
            "Epoch 98/100\n",
            "34/34 [==============================] - 0s 2ms/step - loss: 4911.5078 - mae: 4911.5078\n",
            "Epoch 99/100\n",
            "34/34 [==============================] - 0s 2ms/step - loss: 4834.0288 - mae: 4834.0288\n",
            "Epoch 100/100\n",
            "34/34 [==============================] - 0s 2ms/step - loss: 4771.0547 - mae: 4771.0547\n"
          ]
        },
        {
          "data": {
            "text/plain": [
              "<keras.callbacks.History at 0x7f238afe17f0>"
            ]
          },
          "execution_count": 72,
          "metadata": {},
          "output_type": "execute_result"
        }
      ],
      "source": [
        "# Set seed\n",
        "tf.random.set_seed=43\n",
        "\n",
        "# Create the model\n",
        "insurance_model_2 = tf.keras.Sequential([\n",
        "    tf.keras.layers.Dense(100),\n",
        "    tf.keras.layers.Dense(10),\n",
        "    tf.keras.layers.Dense(1)\n",
        "])\n",
        "\n",
        "# Compile the model\n",
        "insurance_model_2.compile(loss=tf.keras.losses.mae,\n",
        "                          optimizer=tf.keras.optimizers.Adam(),\n",
        "                          metrics=[\"mae\"])\n",
        "\n",
        "# Fit the model\n",
        "insurance_model_2.fit(X_train, y_train, epochs=100, verbose=1)"
      ]
    },
    {
      "cell_type": "code",
      "execution_count": null,
      "metadata": {
        "id": "DgDXUzpzzMap"
      },
      "outputs": [],
      "source": [
        "# Evaluate the improved model\n",
        "insurance_model_2.evaluate(X_test, y_test)"
      ]
    },
    {
      "cell_type": "code",
      "execution_count": null,
      "metadata": {
        "colab": {
          "base_uri": "https://localhost:8080/"
        },
        "id": "sWz6kbKf0Hwi",
        "outputId": "5382ddfe-b6be-4fc2-9735-e2b6811568eb"
      },
      "outputs": [
        {
          "name": "stdout",
          "output_type": "stream",
          "text": [
            "9/9 [==============================] - 0s 2ms/step - loss: 8944.0615 - mae: 8944.0615\n"
          ]
        },
        {
          "data": {
            "text/plain": [
              "[8944.0615234375, 8944.0615234375]"
            ]
          },
          "execution_count": 74,
          "metadata": {},
          "output_type": "execute_result"
        }
      ],
      "source": [
        "insurance_model.evaluate(X_test, y_test)"
      ]
    },
    {
      "cell_type": "code",
      "execution_count": null,
      "metadata": {
        "colab": {
          "base_uri": "https://localhost:8080/"
        },
        "id": "6IsIkY0z0TzL",
        "outputId": "40e39e47-1a30-4f5a-fbda-9dce4d114aec"
      },
      "outputs": [
        {
          "name": "stdout",
          "output_type": "stream",
          "text": [
            "Epoch 1/200\n",
            "34/34 [==============================] - 1s 2ms/step - loss: 13295.4072 - mae: 13295.4072\n",
            "Epoch 2/200\n",
            "34/34 [==============================] - 0s 3ms/step - loss: 13115.4785 - mae: 13115.4785\n",
            "Epoch 3/200\n",
            "34/34 [==============================] - 0s 2ms/step - loss: 12742.2959 - mae: 12742.2959\n",
            "Epoch 4/200\n",
            "34/34 [==============================] - 0s 2ms/step - loss: 12015.2002 - mae: 12015.2002\n",
            "Epoch 5/200\n",
            "34/34 [==============================] - 0s 2ms/step - loss: 10820.1631 - mae: 10820.1631\n",
            "Epoch 6/200\n",
            "34/34 [==============================] - 0s 2ms/step - loss: 9340.6221 - mae: 9340.6221\n",
            "Epoch 7/200\n",
            "34/34 [==============================] - 0s 2ms/step - loss: 8046.5581 - mae: 8046.5581\n",
            "Epoch 8/200\n",
            "34/34 [==============================] - 0s 2ms/step - loss: 7499.4141 - mae: 7499.4141\n",
            "Epoch 9/200\n",
            "34/34 [==============================] - 0s 2ms/step - loss: 7419.2754 - mae: 7419.2754\n",
            "Epoch 10/200\n",
            "34/34 [==============================] - 0s 2ms/step - loss: 7399.6060 - mae: 7399.6060\n",
            "Epoch 11/200\n",
            "34/34 [==============================] - 0s 2ms/step - loss: 7380.9492 - mae: 7380.9492\n",
            "Epoch 12/200\n",
            "34/34 [==============================] - 0s 2ms/step - loss: 7358.5981 - mae: 7358.5981\n",
            "Epoch 13/200\n",
            "34/34 [==============================] - 0s 2ms/step - loss: 7338.0420 - mae: 7338.0420\n",
            "Epoch 14/200\n",
            "34/34 [==============================] - 0s 3ms/step - loss: 7315.5156 - mae: 7315.5156\n",
            "Epoch 15/200\n",
            "34/34 [==============================] - 0s 2ms/step - loss: 7296.5830 - mae: 7296.5830\n",
            "Epoch 16/200\n",
            "34/34 [==============================] - 0s 2ms/step - loss: 7273.7920 - mae: 7273.7920\n",
            "Epoch 17/200\n",
            "34/34 [==============================] - 0s 2ms/step - loss: 7253.4741 - mae: 7253.4741\n",
            "Epoch 18/200\n",
            "34/34 [==============================] - 0s 4ms/step - loss: 7229.7881 - mae: 7229.7881\n",
            "Epoch 19/200\n",
            "34/34 [==============================] - 0s 3ms/step - loss: 7207.2539 - mae: 7207.2539\n",
            "Epoch 20/200\n",
            "34/34 [==============================] - 0s 3ms/step - loss: 7183.2354 - mae: 7183.2354\n",
            "Epoch 21/200\n",
            "34/34 [==============================] - 0s 4ms/step - loss: 7164.4907 - mae: 7164.4907\n",
            "Epoch 22/200\n",
            "34/34 [==============================] - 0s 3ms/step - loss: 7135.8608 - mae: 7135.8608\n",
            "Epoch 23/200\n",
            "34/34 [==============================] - 0s 4ms/step - loss: 7110.3345 - mae: 7110.3345\n",
            "Epoch 24/200\n",
            "34/34 [==============================] - 0s 4ms/step - loss: 7084.6973 - mae: 7084.6973\n",
            "Epoch 25/200\n",
            "34/34 [==============================] - 0s 4ms/step - loss: 7065.9780 - mae: 7065.9780\n",
            "Epoch 26/200\n",
            "34/34 [==============================] - 0s 4ms/step - loss: 7033.4224 - mae: 7033.4224\n",
            "Epoch 27/200\n",
            "34/34 [==============================] - 0s 3ms/step - loss: 7004.6016 - mae: 7004.6016\n",
            "Epoch 28/200\n",
            "34/34 [==============================] - 0s 4ms/step - loss: 6975.8423 - mae: 6975.8423\n",
            "Epoch 29/200\n",
            "34/34 [==============================] - 0s 4ms/step - loss: 6946.6494 - mae: 6946.6494\n",
            "Epoch 30/200\n",
            "34/34 [==============================] - 0s 3ms/step - loss: 6919.3716 - mae: 6919.3716\n",
            "Epoch 31/200\n",
            "34/34 [==============================] - 0s 3ms/step - loss: 6887.6821 - mae: 6887.6821\n",
            "Epoch 32/200\n",
            "34/34 [==============================] - 0s 4ms/step - loss: 6858.6548 - mae: 6858.6548\n",
            "Epoch 33/200\n",
            "34/34 [==============================] - 0s 4ms/step - loss: 6826.7397 - mae: 6826.7397\n",
            "Epoch 34/200\n",
            "34/34 [==============================] - 0s 4ms/step - loss: 6794.3857 - mae: 6794.3857\n",
            "Epoch 35/200\n",
            "34/34 [==============================] - 0s 4ms/step - loss: 6759.5195 - mae: 6759.5195\n",
            "Epoch 36/200\n",
            "34/34 [==============================] - 0s 3ms/step - loss: 6724.9639 - mae: 6724.9639\n",
            "Epoch 37/200\n",
            "34/34 [==============================] - 0s 3ms/step - loss: 6688.1797 - mae: 6688.1797\n",
            "Epoch 38/200\n",
            "34/34 [==============================] - 0s 3ms/step - loss: 6658.3374 - mae: 6658.3374\n",
            "Epoch 39/200\n",
            "34/34 [==============================] - 0s 3ms/step - loss: 6619.8779 - mae: 6619.8779\n",
            "Epoch 40/200\n",
            "34/34 [==============================] - 0s 3ms/step - loss: 6586.2690 - mae: 6586.2690\n",
            "Epoch 41/200\n",
            "34/34 [==============================] - 0s 3ms/step - loss: 6558.3018 - mae: 6558.3018\n",
            "Epoch 42/200\n",
            "34/34 [==============================] - 0s 4ms/step - loss: 6534.6685 - mae: 6534.6685\n",
            "Epoch 43/200\n",
            "34/34 [==============================] - 0s 4ms/step - loss: 6509.1055 - mae: 6509.1055\n",
            "Epoch 44/200\n",
            "34/34 [==============================] - 0s 4ms/step - loss: 6489.2632 - mae: 6489.2632\n",
            "Epoch 45/200\n",
            "34/34 [==============================] - 0s 4ms/step - loss: 6479.8433 - mae: 6479.8433\n",
            "Epoch 46/200\n",
            "34/34 [==============================] - 0s 4ms/step - loss: 6461.5781 - mae: 6461.5781\n",
            "Epoch 47/200\n",
            "34/34 [==============================] - 0s 4ms/step - loss: 6445.5532 - mae: 6445.5532\n",
            "Epoch 48/200\n",
            "34/34 [==============================] - 0s 4ms/step - loss: 6431.1943 - mae: 6431.1943\n",
            "Epoch 49/200\n",
            "34/34 [==============================] - 0s 4ms/step - loss: 6419.3296 - mae: 6419.3296\n",
            "Epoch 50/200\n",
            "34/34 [==============================] - 0s 10ms/step - loss: 6405.0630 - mae: 6405.0630\n",
            "Epoch 51/200\n",
            "34/34 [==============================] - 0s 9ms/step - loss: 6392.0601 - mae: 6392.0601\n",
            "Epoch 52/200\n",
            "34/34 [==============================] - 0s 8ms/step - loss: 6379.5718 - mae: 6379.5718\n",
            "Epoch 53/200\n",
            "34/34 [==============================] - 0s 4ms/step - loss: 6365.7759 - mae: 6365.7759\n",
            "Epoch 54/200\n",
            "34/34 [==============================] - 0s 2ms/step - loss: 6351.3750 - mae: 6351.3750\n",
            "Epoch 55/200\n",
            "34/34 [==============================] - 0s 2ms/step - loss: 6337.4917 - mae: 6337.4917\n",
            "Epoch 56/200\n",
            "34/34 [==============================] - 0s 2ms/step - loss: 6323.2026 - mae: 6323.2026\n",
            "Epoch 57/200\n",
            "34/34 [==============================] - 0s 2ms/step - loss: 6309.8774 - mae: 6309.8774\n",
            "Epoch 58/200\n",
            "34/34 [==============================] - 0s 2ms/step - loss: 6296.2207 - mae: 6296.2207\n",
            "Epoch 59/200\n",
            "34/34 [==============================] - 0s 9ms/step - loss: 6279.8369 - mae: 6279.8369\n",
            "Epoch 60/200\n",
            "34/34 [==============================] - 0s 8ms/step - loss: 6268.9062 - mae: 6268.9062\n",
            "Epoch 61/200\n",
            "34/34 [==============================] - 0s 4ms/step - loss: 6249.1660 - mae: 6249.1660\n",
            "Epoch 62/200\n",
            "34/34 [==============================] - 0s 2ms/step - loss: 6236.4146 - mae: 6236.4146\n",
            "Epoch 63/200\n",
            "34/34 [==============================] - 0s 2ms/step - loss: 6218.0532 - mae: 6218.0532\n",
            "Epoch 64/200\n",
            "34/34 [==============================] - 0s 2ms/step - loss: 6200.3984 - mae: 6200.3984\n",
            "Epoch 65/200\n",
            "34/34 [==============================] - 0s 2ms/step - loss: 6182.9507 - mae: 6182.9507\n",
            "Epoch 66/200\n",
            "34/34 [==============================] - 0s 2ms/step - loss: 6164.9062 - mae: 6164.9062\n",
            "Epoch 67/200\n",
            "34/34 [==============================] - 0s 2ms/step - loss: 6151.6914 - mae: 6151.6914\n",
            "Epoch 68/200\n",
            "34/34 [==============================] - 0s 3ms/step - loss: 6128.7710 - mae: 6128.7710\n",
            "Epoch 69/200\n",
            "34/34 [==============================] - 0s 2ms/step - loss: 6111.8926 - mae: 6111.8926\n",
            "Epoch 70/200\n",
            "34/34 [==============================] - 0s 2ms/step - loss: 6090.8379 - mae: 6090.8379\n",
            "Epoch 71/200\n",
            "34/34 [==============================] - 0s 2ms/step - loss: 6070.7041 - mae: 6070.7041\n",
            "Epoch 72/200\n",
            "34/34 [==============================] - 0s 2ms/step - loss: 6049.7690 - mae: 6049.7690\n",
            "Epoch 73/200\n",
            "34/34 [==============================] - 0s 2ms/step - loss: 6036.1436 - mae: 6036.1436\n",
            "Epoch 74/200\n",
            "34/34 [==============================] - 0s 2ms/step - loss: 6006.1509 - mae: 6006.1509\n",
            "Epoch 75/200\n",
            "34/34 [==============================] - 0s 3ms/step - loss: 5983.5825 - mae: 5983.5825\n",
            "Epoch 76/200\n",
            "34/34 [==============================] - 0s 2ms/step - loss: 5968.3467 - mae: 5968.3467\n",
            "Epoch 77/200\n",
            "34/34 [==============================] - 0s 2ms/step - loss: 5934.7505 - mae: 5934.7505\n",
            "Epoch 78/200\n",
            "34/34 [==============================] - 0s 2ms/step - loss: 5910.5161 - mae: 5910.5161\n",
            "Epoch 79/200\n",
            "34/34 [==============================] - 0s 2ms/step - loss: 5884.4771 - mae: 5884.4771\n",
            "Epoch 80/200\n",
            "34/34 [==============================] - 0s 2ms/step - loss: 5855.5464 - mae: 5855.5464\n",
            "Epoch 81/200\n",
            "34/34 [==============================] - 0s 2ms/step - loss: 5829.2876 - mae: 5829.2876\n",
            "Epoch 82/200\n",
            "34/34 [==============================] - 0s 2ms/step - loss: 5798.3398 - mae: 5798.3398\n",
            "Epoch 83/200\n",
            "34/34 [==============================] - 0s 2ms/step - loss: 5769.2739 - mae: 5769.2739\n",
            "Epoch 84/200\n",
            "34/34 [==============================] - 0s 2ms/step - loss: 5733.8296 - mae: 5733.8296\n",
            "Epoch 85/200\n",
            "34/34 [==============================] - 0s 2ms/step - loss: 5706.5054 - mae: 5706.5054\n",
            "Epoch 86/200\n",
            "34/34 [==============================] - 0s 2ms/step - loss: 5670.7124 - mae: 5670.7124\n",
            "Epoch 87/200\n",
            "34/34 [==============================] - 0s 2ms/step - loss: 5631.7227 - mae: 5631.7227\n",
            "Epoch 88/200\n",
            "34/34 [==============================] - 0s 3ms/step - loss: 5593.8384 - mae: 5593.8384\n",
            "Epoch 89/200\n",
            "34/34 [==============================] - 0s 2ms/step - loss: 5553.6250 - mae: 5553.6250\n",
            "Epoch 90/200\n",
            "34/34 [==============================] - 0s 2ms/step - loss: 5509.0664 - mae: 5509.0664\n",
            "Epoch 91/200\n",
            "34/34 [==============================] - 0s 2ms/step - loss: 5470.0908 - mae: 5470.0908\n",
            "Epoch 92/200\n",
            "34/34 [==============================] - 0s 2ms/step - loss: 5418.8115 - mae: 5418.8115\n",
            "Epoch 93/200\n",
            "34/34 [==============================] - 0s 2ms/step - loss: 5373.6631 - mae: 5373.6631\n",
            "Epoch 94/200\n",
            "34/34 [==============================] - 0s 2ms/step - loss: 5323.6865 - mae: 5323.6865\n",
            "Epoch 95/200\n",
            "34/34 [==============================] - 0s 2ms/step - loss: 5270.2256 - mae: 5270.2256\n",
            "Epoch 96/200\n",
            "34/34 [==============================] - 0s 2ms/step - loss: 5220.6230 - mae: 5220.6230\n",
            "Epoch 97/200\n",
            "34/34 [==============================] - 0s 2ms/step - loss: 5163.6738 - mae: 5163.6738\n",
            "Epoch 98/200\n",
            "34/34 [==============================] - 0s 2ms/step - loss: 5098.6982 - mae: 5098.6982\n",
            "Epoch 99/200\n",
            "34/34 [==============================] - 0s 2ms/step - loss: 5036.6211 - mae: 5036.6211\n",
            "Epoch 100/200\n",
            "34/34 [==============================] - 0s 2ms/step - loss: 4979.0771 - mae: 4979.0771\n",
            "Epoch 101/200\n",
            "34/34 [==============================] - 0s 2ms/step - loss: 4903.4980 - mae: 4903.4980\n",
            "Epoch 102/200\n",
            "34/34 [==============================] - 0s 2ms/step - loss: 4825.7437 - mae: 4825.7437\n",
            "Epoch 103/200\n",
            "34/34 [==============================] - 0s 2ms/step - loss: 4753.6045 - mae: 4753.6045\n",
            "Epoch 104/200\n",
            "34/34 [==============================] - 0s 2ms/step - loss: 4671.8452 - mae: 4671.8452\n",
            "Epoch 105/200\n",
            "34/34 [==============================] - 0s 3ms/step - loss: 4581.4614 - mae: 4581.4614\n",
            "Epoch 106/200\n",
            "34/34 [==============================] - 0s 2ms/step - loss: 4496.4292 - mae: 4496.4292\n",
            "Epoch 107/200\n",
            "34/34 [==============================] - 0s 2ms/step - loss: 4411.0791 - mae: 4411.0791\n",
            "Epoch 108/200\n",
            "34/34 [==============================] - 0s 2ms/step - loss: 4326.3252 - mae: 4326.3252\n",
            "Epoch 109/200\n",
            "34/34 [==============================] - 0s 2ms/step - loss: 4241.8921 - mae: 4241.8921\n",
            "Epoch 110/200\n",
            "34/34 [==============================] - 0s 2ms/step - loss: 4160.7598 - mae: 4160.7598\n",
            "Epoch 111/200\n",
            "34/34 [==============================] - 0s 2ms/step - loss: 4091.1350 - mae: 4091.1350\n",
            "Epoch 112/200\n",
            "34/34 [==============================] - 0s 2ms/step - loss: 4028.3477 - mae: 4028.3477\n",
            "Epoch 113/200\n",
            "34/34 [==============================] - 0s 2ms/step - loss: 3979.2791 - mae: 3979.2791\n",
            "Epoch 114/200\n",
            "34/34 [==============================] - 0s 2ms/step - loss: 3948.6165 - mae: 3948.6165\n",
            "Epoch 115/200\n",
            "34/34 [==============================] - 0s 2ms/step - loss: 3910.4402 - mae: 3910.4402\n",
            "Epoch 116/200\n",
            "34/34 [==============================] - 0s 2ms/step - loss: 3888.7666 - mae: 3888.7666\n",
            "Epoch 117/200\n",
            "34/34 [==============================] - 0s 2ms/step - loss: 3875.6814 - mae: 3875.6814\n",
            "Epoch 118/200\n",
            "34/34 [==============================] - 0s 2ms/step - loss: 3856.2742 - mae: 3856.2742\n",
            "Epoch 119/200\n",
            "34/34 [==============================] - 0s 2ms/step - loss: 3838.8315 - mae: 3838.8315\n",
            "Epoch 120/200\n",
            "34/34 [==============================] - 0s 2ms/step - loss: 3826.4963 - mae: 3826.4963\n",
            "Epoch 121/200\n",
            "34/34 [==============================] - 0s 2ms/step - loss: 3818.9790 - mae: 3818.9790\n",
            "Epoch 122/200\n",
            "34/34 [==============================] - 0s 2ms/step - loss: 3814.4973 - mae: 3814.4973\n",
            "Epoch 123/200\n",
            "34/34 [==============================] - 0s 2ms/step - loss: 3808.6675 - mae: 3808.6675\n",
            "Epoch 124/200\n",
            "34/34 [==============================] - 0s 2ms/step - loss: 3803.2634 - mae: 3803.2634\n",
            "Epoch 125/200\n",
            "34/34 [==============================] - 0s 2ms/step - loss: 3792.4985 - mae: 3792.4985\n",
            "Epoch 126/200\n",
            "34/34 [==============================] - 0s 2ms/step - loss: 3801.8120 - mae: 3801.8120\n",
            "Epoch 127/200\n",
            "34/34 [==============================] - 0s 2ms/step - loss: 3796.5220 - mae: 3796.5220\n",
            "Epoch 128/200\n",
            "34/34 [==============================] - 0s 2ms/step - loss: 3789.7849 - mae: 3789.7849\n",
            "Epoch 129/200\n",
            "34/34 [==============================] - 0s 2ms/step - loss: 3800.2988 - mae: 3800.2988\n",
            "Epoch 130/200\n",
            "34/34 [==============================] - 0s 3ms/step - loss: 3788.7842 - mae: 3788.7842\n",
            "Epoch 131/200\n",
            "34/34 [==============================] - 0s 2ms/step - loss: 3780.6160 - mae: 3780.6160\n",
            "Epoch 132/200\n",
            "34/34 [==============================] - 0s 2ms/step - loss: 3773.6499 - mae: 3773.6499\n",
            "Epoch 133/200\n",
            "34/34 [==============================] - 0s 2ms/step - loss: 3769.7053 - mae: 3769.7053\n",
            "Epoch 134/200\n",
            "34/34 [==============================] - 0s 2ms/step - loss: 3770.7292 - mae: 3770.7292\n",
            "Epoch 135/200\n",
            "34/34 [==============================] - 0s 2ms/step - loss: 3766.5117 - mae: 3766.5117\n",
            "Epoch 136/200\n",
            "34/34 [==============================] - 0s 2ms/step - loss: 3765.3279 - mae: 3765.3279\n",
            "Epoch 137/200\n",
            "34/34 [==============================] - 0s 2ms/step - loss: 3772.9592 - mae: 3772.9592\n",
            "Epoch 138/200\n",
            "34/34 [==============================] - 0s 2ms/step - loss: 3783.3176 - mae: 3783.3176\n",
            "Epoch 139/200\n",
            "34/34 [==============================] - 0s 2ms/step - loss: 3760.6807 - mae: 3760.6807\n",
            "Epoch 140/200\n",
            "34/34 [==============================] - 0s 2ms/step - loss: 3761.5266 - mae: 3761.5266\n",
            "Epoch 141/200\n",
            "34/34 [==============================] - 0s 2ms/step - loss: 3761.9873 - mae: 3761.9873\n",
            "Epoch 142/200\n",
            "34/34 [==============================] - 0s 2ms/step - loss: 3761.5298 - mae: 3761.5298\n",
            "Epoch 143/200\n",
            "34/34 [==============================] - 0s 2ms/step - loss: 3753.3540 - mae: 3753.3540\n",
            "Epoch 144/200\n",
            "34/34 [==============================] - 0s 2ms/step - loss: 3749.9336 - mae: 3749.9336\n",
            "Epoch 145/200\n",
            "34/34 [==============================] - 0s 3ms/step - loss: 3749.3501 - mae: 3749.3501\n",
            "Epoch 146/200\n",
            "34/34 [==============================] - 0s 2ms/step - loss: 3754.3350 - mae: 3754.3350\n",
            "Epoch 147/200\n",
            "34/34 [==============================] - 0s 2ms/step - loss: 3751.2881 - mae: 3751.2881\n",
            "Epoch 148/200\n",
            "34/34 [==============================] - 0s 3ms/step - loss: 3754.2668 - mae: 3754.2668\n",
            "Epoch 149/200\n",
            "34/34 [==============================] - 0s 3ms/step - loss: 3742.9885 - mae: 3742.9885\n",
            "Epoch 150/200\n",
            "34/34 [==============================] - 0s 2ms/step - loss: 3737.6841 - mae: 3737.6841\n",
            "Epoch 151/200\n",
            "34/34 [==============================] - 0s 2ms/step - loss: 3740.6440 - mae: 3740.6440\n",
            "Epoch 152/200\n",
            "34/34 [==============================] - 0s 2ms/step - loss: 3741.4001 - mae: 3741.4001\n",
            "Epoch 153/200\n",
            "34/34 [==============================] - 0s 3ms/step - loss: 3743.3789 - mae: 3743.3789\n",
            "Epoch 154/200\n",
            "34/34 [==============================] - 0s 2ms/step - loss: 3736.1355 - mae: 3736.1355\n",
            "Epoch 155/200\n",
            "34/34 [==============================] - 0s 2ms/step - loss: 3737.2532 - mae: 3737.2532\n",
            "Epoch 156/200\n",
            "34/34 [==============================] - 0s 2ms/step - loss: 3735.9753 - mae: 3735.9753\n",
            "Epoch 157/200\n",
            "34/34 [==============================] - 0s 2ms/step - loss: 3732.8655 - mae: 3732.8655\n",
            "Epoch 158/200\n",
            "34/34 [==============================] - 0s 3ms/step - loss: 3728.8596 - mae: 3728.8596\n",
            "Epoch 159/200\n",
            "34/34 [==============================] - 0s 4ms/step - loss: 3726.8274 - mae: 3726.8274\n",
            "Epoch 160/200\n",
            "34/34 [==============================] - 0s 3ms/step - loss: 3732.5203 - mae: 3732.5203\n",
            "Epoch 161/200\n",
            "34/34 [==============================] - 0s 3ms/step - loss: 3727.5190 - mae: 3727.5190\n",
            "Epoch 162/200\n",
            "34/34 [==============================] - 0s 3ms/step - loss: 3725.2808 - mae: 3725.2808\n",
            "Epoch 163/200\n",
            "34/34 [==============================] - 0s 3ms/step - loss: 3721.3682 - mae: 3721.3682\n",
            "Epoch 164/200\n",
            "34/34 [==============================] - 0s 3ms/step - loss: 3726.2876 - mae: 3726.2876\n",
            "Epoch 165/200\n",
            "34/34 [==============================] - 0s 3ms/step - loss: 3716.8186 - mae: 3716.8186\n",
            "Epoch 166/200\n",
            "34/34 [==============================] - 0s 4ms/step - loss: 3720.9844 - mae: 3720.9844\n",
            "Epoch 167/200\n",
            "34/34 [==============================] - 0s 3ms/step - loss: 3719.2378 - mae: 3719.2378\n",
            "Epoch 168/200\n",
            "34/34 [==============================] - 0s 3ms/step - loss: 3715.3391 - mae: 3715.3391\n",
            "Epoch 169/200\n",
            "34/34 [==============================] - 0s 4ms/step - loss: 3713.0676 - mae: 3713.0676\n",
            "Epoch 170/200\n",
            "34/34 [==============================] - 0s 3ms/step - loss: 3707.1926 - mae: 3707.1926\n",
            "Epoch 171/200\n",
            "34/34 [==============================] - 0s 3ms/step - loss: 3706.3743 - mae: 3706.3743\n",
            "Epoch 172/200\n",
            "34/34 [==============================] - 0s 3ms/step - loss: 3708.4934 - mae: 3708.4934\n",
            "Epoch 173/200\n",
            "34/34 [==============================] - 0s 4ms/step - loss: 3704.6709 - mae: 3704.6709\n",
            "Epoch 174/200\n",
            "34/34 [==============================] - 0s 3ms/step - loss: 3708.7039 - mae: 3708.7039\n",
            "Epoch 175/200\n",
            "34/34 [==============================] - 0s 3ms/step - loss: 3710.0305 - mae: 3710.0305\n",
            "Epoch 176/200\n",
            "34/34 [==============================] - 0s 4ms/step - loss: 3706.3674 - mae: 3706.3674\n",
            "Epoch 177/200\n",
            "34/34 [==============================] - 0s 3ms/step - loss: 3699.4763 - mae: 3699.4763\n",
            "Epoch 178/200\n",
            "34/34 [==============================] - 0s 3ms/step - loss: 3695.1328 - mae: 3695.1328\n",
            "Epoch 179/200\n",
            "34/34 [==============================] - 0s 3ms/step - loss: 3706.0789 - mae: 3706.0789\n",
            "Epoch 180/200\n",
            "34/34 [==============================] - 0s 3ms/step - loss: 3711.1145 - mae: 3711.1145\n",
            "Epoch 181/200\n",
            "34/34 [==============================] - 0s 4ms/step - loss: 3696.2551 - mae: 3696.2551\n",
            "Epoch 182/200\n",
            "34/34 [==============================] - 0s 3ms/step - loss: 3692.2275 - mae: 3692.2275\n",
            "Epoch 183/200\n",
            "34/34 [==============================] - 0s 4ms/step - loss: 3689.9475 - mae: 3689.9475\n",
            "Epoch 184/200\n",
            "34/34 [==============================] - 0s 3ms/step - loss: 3697.2615 - mae: 3697.2615\n",
            "Epoch 185/200\n",
            "34/34 [==============================] - 0s 3ms/step - loss: 3693.7356 - mae: 3693.7356\n",
            "Epoch 186/200\n",
            "34/34 [==============================] - 0s 3ms/step - loss: 3697.7751 - mae: 3697.7751\n",
            "Epoch 187/200\n",
            "34/34 [==============================] - 0s 3ms/step - loss: 3689.0999 - mae: 3689.0999\n",
            "Epoch 188/200\n",
            "34/34 [==============================] - 0s 3ms/step - loss: 3693.0332 - mae: 3693.0332\n",
            "Epoch 189/200\n",
            "34/34 [==============================] - 0s 3ms/step - loss: 3682.8257 - mae: 3682.8257\n",
            "Epoch 190/200\n",
            "34/34 [==============================] - 0s 4ms/step - loss: 3681.7781 - mae: 3681.7781\n",
            "Epoch 191/200\n",
            "34/34 [==============================] - 0s 3ms/step - loss: 3698.1804 - mae: 3698.1804\n",
            "Epoch 192/200\n",
            "34/34 [==============================] - 0s 3ms/step - loss: 3683.3440 - mae: 3683.3440\n",
            "Epoch 193/200\n",
            "34/34 [==============================] - 0s 3ms/step - loss: 3673.8357 - mae: 3673.8357\n",
            "Epoch 194/200\n",
            "34/34 [==============================] - 0s 4ms/step - loss: 3675.7869 - mae: 3675.7869\n",
            "Epoch 195/200\n",
            "34/34 [==============================] - 0s 3ms/step - loss: 3672.3557 - mae: 3672.3557\n",
            "Epoch 196/200\n",
            "34/34 [==============================] - 0s 4ms/step - loss: 3681.9353 - mae: 3681.9353\n",
            "Epoch 197/200\n",
            "34/34 [==============================] - 0s 3ms/step - loss: 3665.5103 - mae: 3665.5103\n",
            "Epoch 198/200\n",
            "34/34 [==============================] - 0s 3ms/step - loss: 3671.5483 - mae: 3671.5483\n",
            "Epoch 199/200\n",
            "34/34 [==============================] - 0s 4ms/step - loss: 3679.0337 - mae: 3679.0337\n",
            "Epoch 200/200\n",
            "34/34 [==============================] - 0s 4ms/step - loss: 3667.9446 - mae: 3667.9446\n"
          ]
        }
      ],
      "source": [
        "# Set seed \n",
        "tf.random.set_seed=43\n",
        "\n",
        "# Create the model (same as above)\n",
        "insurance_model_3 = tf.keras.Sequential([\n",
        "    tf.keras.layers.Dense(100),\n",
        "    tf.keras.layers.Dense(10),\n",
        "    tf.keras.layers.Dense(1)\n",
        "])\n",
        "\n",
        "# Compile the model\n",
        "insurance_model_3.compile(loss=tf.keras.losses.mae,\n",
        "                          optimizer=tf.keras.optimizers.Adam(),\n",
        "                          metrics=[\"mae\"])\n",
        "\n",
        "# Fit the model\n",
        "history = insurance_model_3.fit(X_train, y_train, epochs=200)"
      ]
    },
    {
      "cell_type": "code",
      "execution_count": null,
      "metadata": {
        "colab": {
          "base_uri": "https://localhost:8080/"
        },
        "id": "aEwZqvMw2Teo",
        "outputId": "767d8a2f-0ec7-4ea7-961b-302ec7ed32d7"
      },
      "outputs": [
        {
          "name": "stdout",
          "output_type": "stream",
          "text": [
            "9/9 [==============================] - 0s 2ms/step - loss: 3492.8281 - mae: 3492.8281\n"
          ]
        },
        {
          "data": {
            "text/plain": [
              "[3492.828125, 3492.828125]"
            ]
          },
          "execution_count": 76,
          "metadata": {},
          "output_type": "execute_result"
        }
      ],
      "source": [
        "# Evaluate our third model\n",
        "insurance_model_3.evaluate(X_test, y_test)"
      ]
    },
    {
      "cell_type": "code",
      "execution_count": null,
      "metadata": {
        "colab": {
          "base_uri": "https://localhost:8080/"
        },
        "id": "fKAibG2O2j4c",
        "outputId": "37723cd5-233c-4e8a-9768-d6dc65687ac8"
      },
      "outputs": [
        {
          "name": "stdout",
          "output_type": "stream",
          "text": [
            "9/9 [==============================] - 0s 2ms/step - loss: 8944.0615 - mae: 8944.0615\n"
          ]
        },
        {
          "data": {
            "text/plain": [
              "[8944.0615234375, 8944.0615234375]"
            ]
          },
          "execution_count": 77,
          "metadata": {},
          "output_type": "execute_result"
        }
      ],
      "source": [
        "insurance_model.evaluate(X_test, y_test)"
      ]
    },
    {
      "cell_type": "code",
      "execution_count": null,
      "metadata": {
        "colab": {
          "base_uri": "https://localhost:8080/",
          "height": 296
        },
        "id": "R26yLEF729eD",
        "outputId": "e4834883-414a-4e95-d1b1-8214f7149119"
      },
      "outputs": [
        {
          "data": {
            "text/plain": [
              "Text(0.5, 0, 'epochs')"
            ]
          },
          "execution_count": 78,
          "metadata": {},
          "output_type": "execute_result"
        },
        {
          "data": {
            "image/png": "[encoded data removed]",
            "text/plain": [
              "<Figure size 432x288 with 1 Axes>"
            ]
          },
          "metadata": {},
          "output_type": "display_data"
        }
      ],
      "source": [
        "import pandas as pd\n",
        "\n",
        "# Plot history (also known as a loss curve or a training curve)\n",
        "pd.DataFrame(history.history).plot()\n",
        "plt.ylabel(\"loss\")\n",
        "plt.xlabel(\"epochs\")"
      ]
    },
    {
      "cell_type": "markdown",
      "metadata": {
        "id": "ZtO6Xlg_3sYY"
      },
      "source": [
        "** Question: ** How long should you train for?\n",
        "\n",
        "It depends. Really.. it depends on the problem you're working on. However, many people have asked this question before.. so TensorFlow has a solution! It's called the [EarlyStopping Callback](https://www.tensorflow.org/api_docs/python/tf/keras/callbacks/EarlyStopping), which is a Tensorflow component you can add to your model to stop thinking once it stops improving a certain metric."
      ]
    },
    {
      "cell_type": "markdown",
      "metadata": {
        "id": "YWCgDT2SPgtL"
      },
      "source": [
        "## Preprocessing data (normalization and standardization)\n",
        "\n",
        "In terms of scaling values, neural networks tend to prefer normalization.\n",
        "\n",
        "If you're not sure on which on to use, you could try both and see which perform better."
      ]
    },
    {
      "cell_type": "markdown",
      "metadata": {
        "id": "ci5mE28sTQCH"
      },
      "source": [
        "![image.png](data:image/png;base64,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)"
      ]
    },
    {
      "cell_type": "code",
      "source": [
        "import pandas as pd\n",
        "import matplotlib.pyplot as plt\n",
        "import tensorflow as tf\n",
        "\n",
        "# Read in the insurance dataframe \n",
        "insurance = pd.read_csv(\"https://raw.githubusercontent.com/stedy/Machine-Learning-with-R-datasets/master/insurance.csv\")\n",
        "insurance"
      ],
      "metadata": {
        "colab": {
          "base_uri": "https://localhost:8080/",
          "height": 423
        },
        "id": "qbrZ63lWWMbp",
        "outputId": "622b36e4-c5b6-4524-846a-82fb491b3da6"
      },
      "execution_count": 85,
      "outputs": [
        {
          "output_type": "execute_result",
          "data": {
            "text/plain": [
              "      age     sex     bmi  children smoker     region      charges\n",
              "0      19  female  27.900         0    yes  southwest  16884.92400\n",
              "1      18    male  33.770         1     no  southeast   1725.55230\n",
              "2      28    male  33.000         3     no  southeast   4449.46200\n",
              "3      33    male  22.705         0     no  northwest  21984.47061\n",
              "4      32    male  28.880         0     no  northwest   3866.85520\n",
              "...   ...     ...     ...       ...    ...        ...          ...\n",
              "1333   50    male  30.970         3     no  northwest  10600.54830\n",
              "1334   18  female  31.920         0     no  northeast   2205.98080\n",
              "1335   18  female  36.850         0     no  southeast   1629.83350\n",
              "1336   21  female  25.800         0     no  southwest   2007.94500\n",
              "1337   61  female  29.070         0    yes  northwest  29141.36030\n",
              "\n",
              "[1338 rows x 7 columns]"
            ],
            "text/html": [
              "\n",
              "  <div id=\"df-a2924d8c-57d5-4dbb-a44c-5ad4abb2d263\">\n",
              "    <div class=\"colab-df-container\">\n",
              "      <div>\n",
              "<style scoped>\n",
              "    .dataframe tbody tr th:only-of-type {\n",
              "        vertical-align: middle;\n",
              "    }\n",
              "\n",
              "    .dataframe tbody tr th {\n",
              "        vertical-align: top;\n",
              "    }\n",
              "\n",
              "    .dataframe thead th {\n",
              "        text-align: right;\n",
              "    }\n",
              "</style>\n",
              "<table border=\"1\" class=\"dataframe\">\n",
              "  <thead>\n",
              "    <tr style=\"text-align: right;\">\n",
              "      <th></th>\n",
              "      <th>age</th>\n",
              "      <th>sex</th>\n",
              "      <th>bmi</th>\n",
              "      <th>children</th>\n",
              "      <th>smoker</th>\n",
              "      <th>region</th>\n",
              "      <th>charges</th>\n",
              "    </tr>\n",
              "  </thead>\n",
              "  <tbody>\n",
              "    <tr>\n",
              "      <th>0</th>\n",
              "      <td>19</td>\n",
              "      <td>female</td>\n",
              "      <td>27.900</td>\n",
              "      <td>0</td>\n",
              "      <td>yes</td>\n",
              "      <td>southwest</td>\n",
              "      <td>16884.92400</td>\n",
              "    </tr>\n",
              "    <tr>\n",
              "      <th>1</th>\n",
              "      <td>18</td>\n",
              "      <td>male</td>\n",
              "      <td>33.770</td>\n",
              "      <td>1</td>\n",
              "      <td>no</td>\n",
              "      <td>southeast</td>\n",
              "      <td>1725.55230</td>\n",
              "    </tr>\n",
              "    <tr>\n",
              "      <th>2</th>\n",
              "      <td>28</td>\n",
              "      <td>male</td>\n",
              "      <td>33.000</td>\n",
              "      <td>3</td>\n",
              "      <td>no</td>\n",
              "      <td>southeast</td>\n",
              "      <td>4449.46200</td>\n",
              "    </tr>\n",
              "    <tr>\n",
              "      <th>3</th>\n",
              "      <td>33</td>\n",
              "      <td>male</td>\n",
              "      <td>22.705</td>\n",
              "      <td>0</td>\n",
              "      <td>no</td>\n",
              "      <td>northwest</td>\n",
              "      <td>21984.47061</td>\n",
              "    </tr>\n",
              "    <tr>\n",
              "      <th>4</th>\n",
              "      <td>32</td>\n",
              "      <td>male</td>\n",
              "      <td>28.880</td>\n",
              "      <td>0</td>\n",
              "      <td>no</td>\n",
              "      <td>northwest</td>\n",
              "      <td>3866.85520</td>\n",
              "    </tr>\n",
              "    <tr>\n",
              "      <th>...</th>\n",
              "      <td>...</td>\n",
              "      <td>...</td>\n",
              "      <td>...</td>\n",
              "      <td>...</td>\n",
              "      <td>...</td>\n",
              "      <td>...</td>\n",
              "      <td>...</td>\n",
              "    </tr>\n",
              "    <tr>\n",
              "      <th>1333</th>\n",
              "      <td>50</td>\n",
              "      <td>male</td>\n",
              "      <td>30.970</td>\n",
              "      <td>3</td>\n",
              "      <td>no</td>\n",
              "      <td>northwest</td>\n",
              "      <td>10600.54830</td>\n",
              "    </tr>\n",
              "    <tr>\n",
              "      <th>1334</th>\n",
              "      <td>18</td>\n",
              "      <td>female</td>\n",
              "      <td>31.920</td>\n",
              "      <td>0</td>\n",
              "      <td>no</td>\n",
              "      <td>northeast</td>\n",
              "      <td>2205.98080</td>\n",
              "    </tr>\n",
              "    <tr>\n",
              "      <th>1335</th>\n",
              "      <td>18</td>\n",
              "      <td>female</td>\n",
              "      <td>36.850</td>\n",
              "      <td>0</td>\n",
              "      <td>no</td>\n",
              "      <td>southeast</td>\n",
              "      <td>1629.83350</td>\n",
              "    </tr>\n",
              "    <tr>\n",
              "      <th>1336</th>\n",
              "      <td>21</td>\n",
              "      <td>female</td>\n",
              "      <td>25.800</td>\n",
              "      <td>0</td>\n",
              "      <td>no</td>\n",
              "      <td>southwest</td>\n",
              "      <td>2007.94500</td>\n",
              "    </tr>\n",
              "    <tr>\n",
              "      <th>1337</th>\n",
              "      <td>61</td>\n",
              "      <td>female</td>\n",
              "      <td>29.070</td>\n",
              "      <td>0</td>\n",
              "      <td>yes</td>\n",
              "      <td>northwest</td>\n",
              "      <td>29141.36030</td>\n",
              "    </tr>\n",
              "  </tbody>\n",
              "</table>\n",
              "<p>1338 rows × 7 columns</p>\n",
              "</div>\n",
              "      <button class=\"colab-df-convert\" onclick=\"convertToInteractive('df-a2924d8c-57d5-4dbb-a44c-5ad4abb2d263')\"\n",
              "              title=\"Convert this dataframe to an interactive table.\"\n",
              "              style=\"display:none;\">\n",
              "        \n",
              "  <svg xmlns=\"http://www.w3.org/2000/svg\" height=\"24px\"viewBox=\"0 0 24 24\"\n",
              "       width=\"24px\">\n",
              "    <path d=\"M0 0h24v24H0V0z\" fill=\"none\"/>\n",
              "    <path d=\"M18.56 5.44l.94 2.06.94-2.06 2.06-.94-2.06-.94-.94-2.06-.94 2.06-2.06.94zm-11 1L8.5 8.5l.94-2.06 2.06-.94-2.06-.94L8.5 2.5l-.94 2.06-2.06.94zm10 10l.94 2.06.94-2.06 2.06-.94-2.06-.94-.94-2.06-.94 2.06-2.06.94z\"/><path d=\"M17.41 7.96l-1.37-1.37c-.4-.4-.92-.59-1.43-.59-.52 0-1.04.2-1.43.59L10.3 9.45l-7.72 7.72c-.78.78-.78 2.05 0 2.83L4 21.41c.39.39.9.59 1.41.59.51 0 1.02-.2 1.41-.59l7.78-7.78 2.81-2.81c.8-.78.8-2.07 0-2.86zM5.41 20L4 18.59l7.72-7.72 1.47 1.35L5.41 20z\"/>\n",
              "  </svg>\n",
              "      </button>\n",
              "      \n",
              "  <style>\n",
              "    .colab-df-container {\n",
              "      display:flex;\n",
              "      flex-wrap:wrap;\n",
              "      gap: 12px;\n",
              "    }\n",
              "\n",
              "    .colab-df-convert {\n",
              "      background-color: #E8F0FE;\n",
              "      border: none;\n",
              "      border-radius: 50%;\n",
              "      cursor: pointer;\n",
              "      display: none;\n",
              "      fill: #1967D2;\n",
              "      height: 32px;\n",
              "      padding: 0 0 0 0;\n",
              "      width: 32px;\n",
              "    }\n",
              "\n",
              "    .colab-df-convert:hover {\n",
              "      background-color: #E2EBFA;\n",
              "      box-shadow: 0px 1px 2px rgba(60, 64, 67, 0.3), 0px 1px 3px 1px rgba(60, 64, 67, 0.15);\n",
              "      fill: #174EA6;\n",
              "    }\n",
              "\n",
              "    [theme=dark] .colab-df-convert {\n",
              "      background-color: #3B4455;\n",
              "      fill: #D2E3FC;\n",
              "    }\n",
              "\n",
              "    [theme=dark] .colab-df-convert:hover {\n",
              "      background-color: #434B5C;\n",
              "      box-shadow: 0px 1px 3px 1px rgba(0, 0, 0, 0.15);\n",
              "      filter: drop-shadow(0px 1px 2px rgba(0, 0, 0, 0.3));\n",
              "      fill: #FFFFFF;\n",
              "    }\n",
              "  </style>\n",
              "\n",
              "      <script>\n",
              "        const buttonEl =\n",
              "          document.querySelector('#df-a2924d8c-57d5-4dbb-a44c-5ad4abb2d263 button.colab-df-convert');\n",
              "        buttonEl.style.display =\n",
              "          google.colab.kernel.accessAllowed ? 'block' : 'none';\n",
              "\n",
              "        async function convertToInteractive(key) {\n",
              "          const element = document.querySelector('#df-a2924d8c-57d5-4dbb-a44c-5ad4abb2d263');\n",
              "          const dataTable =\n",
              "            await google.colab.kernel.invokeFunction('convertToInteractive',\n",
              "                                                     [key], {});\n",
              "          if (!dataTable) return;\n",
              "\n",
              "          const docLinkHtml = 'Like what you see? Visit the ' +\n",
              "            '<a target=\"_blank\" href=https://colab.research.google.com/notebooks/data_table.ipynb>data table notebook</a>'\n",
              "            + ' to learn more about interactive tables.';\n",
              "          element.innerHTML = '';\n",
              "          dataTable['output_type'] = 'display_data';\n",
              "          await google.colab.output.renderOutput(dataTable, element);\n",
              "          const docLink = document.createElement('div');\n",
              "          docLink.innerHTML = docLinkHtml;\n",
              "          element.appendChild(docLink);\n",
              "        }\n",
              "      </script>\n",
              "    </div>\n",
              "  </div>\n",
              "  "
            ]
          },
          "metadata": {},
          "execution_count": 85
        }
      ]
    },
    {
      "cell_type": "code",
      "execution_count": null,
      "metadata": {
        "colab": {
          "background_save": true,
          "base_uri": "https://localhost:8080/",
          "height": 282
        },
        "id": "RA0Yk-o0VDYz",
        "outputId": "29eb62cb-cae2-4287-eb70-ca7cd2b079fd"
      },
      "outputs": [
        {
          "data": {
            "text/plain": [
              "<matplotlib.axes._subplots.AxesSubplot at 0x7f238aea9970>"
            ]
          },
          "execution_count": 83,
          "metadata": {},
          "output_type": "execute_result"
        },
        {
          "data": {
            "image/png": "[encoded data removed]",
            "text/plain": [
              "<Figure size 432x288 with 1 Axes>"
            ]
          },
          "metadata": {},
          "output_type": "display_data"
        }
      ],
      "source": [
        "X[\"age\"].plot(kind=\"hist\")"
      ]
    },
    {
      "cell_type": "code",
      "execution_count": null,
      "metadata": {
        "colab": {
          "base_uri": "https://localhost:8080/",
          "height": 282
        },
        "id": "BDKtzpm_VLVb",
        "outputId": "7220f4a7-5d90-446b-ce7d-9741b5ae2835"
      },
      "outputs": [
        {
          "data": {
            "text/plain": [
              "<matplotlib.axes._subplots.AxesSubplot at 0x7f238aec9bb0>"
            ]
          },
          "execution_count": 81,
          "metadata": {},
          "output_type": "execute_result"
        },
        {
          "data": {
            "image/png": "[encoded data removed]",
            "text/plain": [
              "<Figure size 432x288 with 1 Axes>"
            ]
          },
          "metadata": {},
          "output_type": "display_data"
        }
      ],
      "source": [
        "X[\"bmi\"].plot(kind=\"hist\")"
      ]
    },
    {
      "cell_type": "markdown",
      "source": [
        "To prepare our data, we can borrow a few classes from Scikit-Learn."
      ],
      "metadata": {
        "id": "bqZJwVR_XQpA"
      }
    },
    {
      "cell_type": "code",
      "execution_count": null,
      "metadata": {
        "colab": {
          "base_uri": "https://localhost:8080/"
        },
        "id": "7-UDPzWmVbbp",
        "outputId": "0214d8d3-b142-4254-ef4b-8700e0d897a3"
      },
      "outputs": [
        {
          "data": {
            "text/plain": [
              "0    574\n",
              "1    324\n",
              "2    240\n",
              "3    157\n",
              "4     25\n",
              "5     18\n",
              "Name: children, dtype: int64"
            ]
          },
          "execution_count": 82,
          "metadata": {},
          "output_type": "execute_result"
        }
      ],
      "source": [
        "X[\"children\"].value_counts()"
      ]
    },
    {
      "cell_type": "code",
      "execution_count": 86,
      "metadata": {
        "id": "2OmXqfjLUZL5"
      },
      "outputs": [],
      "source": [
        "from sklearn.compose import make_column_transformer\n",
        "from sklearn.preprocessing import MinMaxScaler, OneHotEncoder\n",
        "from sklearn.model_selection import train_test_split\n",
        "\n",
        "#Create a column transformer\n",
        "ct = make_column_transformer(\n",
        "    (MinMaxScaler(), [\"age\", \"bmi\", \"children\"]), # turn all values in these columns between 0 and 1\n",
        "    (OneHotEncoder(handle_unknown=\"ignore\"), [\"sex\", \"smoker\", \"region\"])\n",
        ")\n",
        "\n",
        "# Create X & y\n",
        "X = insurance.drop(\"charges\", axis=1)\n",
        "y = insurance[\"charges\"]\n",
        "\n",
        "# Build our train and test sets\n",
        "X_train, X_test, y_train, y_test = train_test_split(X, y, test_size = 0.2, random_state = 42)\n",
        "\n",
        "# Fit the column transformer to our training data\n",
        "ct.fit(X_train)\n",
        "\n",
        "# Transform training and test data with normalization (MinMaxScaler) and OneHotEncoder\n",
        "X_train_normal = ct.transform(X_train)\n",
        "X_test_normal = ct.transform(X_test)"
      ]
    },
    {
      "cell_type": "code",
      "source": [
        "# What does our data look like?\n",
        "X_train.loc[0]"
      ],
      "metadata": {
        "colab": {
          "base_uri": "https://localhost:8080/"
        },
        "id": "7q6efhqXbzhW",
        "outputId": "bbcb3fb5-6d82-428c-8fc2-5e9acbeaad25"
      },
      "execution_count": 87,
      "outputs": [
        {
          "output_type": "execute_result",
          "data": {
            "text/plain": [
              "age                19\n",
              "sex            female\n",
              "bmi              27.9\n",
              "children            0\n",
              "smoker            yes\n",
              "region      southwest\n",
              "Name: 0, dtype: object"
            ]
          },
          "metadata": {},
          "execution_count": 87
        }
      ]
    },
    {
      "cell_type": "code",
      "source": [
        "X_train_normal[0]"
      ],
      "metadata": {
        "colab": {
          "base_uri": "https://localhost:8080/"
        },
        "id": "e-s3oOUJdYzU",
        "outputId": "3286d660-6227-4827-a1e5-a7051f20cccf"
      },
      "execution_count": 92,
      "outputs": [
        {
          "output_type": "execute_result",
          "data": {
            "text/plain": [
              "array([0.60869565, 0.10734463, 0.4       , 1.        , 0.        ,\n",
              "       1.        , 0.        , 0.        , 1.        , 0.        ,\n",
              "       0.        ])"
            ]
          },
          "metadata": {},
          "execution_count": 92
        }
      ]
    },
    {
      "cell_type": "code",
      "source": [
        "X_train.shape , X_train_normal.shape"
      ],
      "metadata": {
        "colab": {
          "base_uri": "https://localhost:8080/"
        },
        "id": "FsKmRPNmdyUQ",
        "outputId": "f4d46d47-1be3-4845-b338-1d5c6d87cb49"
      },
      "execution_count": 93,
      "outputs": [
        {
          "output_type": "execute_result",
          "data": {
            "text/plain": [
              "((1070, 6), (1070, 11))"
            ]
          },
          "metadata": {},
          "execution_count": 93
        }
      ]
    },
    {
      "cell_type": "markdown",
      "source": [
        "Our data has been normalized and one hot encoded. Let's build a neural network model."
      ],
      "metadata": {
        "id": "lmhAJKpeeCx_"
      }
    },
    {
      "cell_type": "code",
      "source": [
        "# Build a neural network model to fit on our normalized data\n",
        "# set seed\n",
        "tf.random.set_seed = 43\n",
        "\n",
        "# Build a model\n",
        "model_insurance = tf.keras.Sequential([\n",
        "     tf.keras.layers.Dense(100),\n",
        "     tf.keras.layers.Dense(10),\n",
        "     tf.keras.layers.Dense(1)\n",
        "])\n",
        "\n",
        "# Compile our model\n",
        "model_insurance.compile(loss=tf.keras.losses.mae,\n",
        "                          optimizer=tf.keras.optimizers.Adam(),\n",
        "                          metrics=[\"mae\"])\n",
        "\n",
        "# Fit the model\n",
        "model_history = model_insurance.fit(X_train_normal,y_train, epochs=100)\n",
        "\n",
        "\n",
        "\n"
      ],
      "metadata": {
        "colab": {
          "base_uri": "https://localhost:8080/"
        },
        "id": "EK21iBdRec8N",
        "outputId": "6c61c6af-8660-4c04-88b1-a9ad4e0609c8"
      },
      "execution_count": 105,
      "outputs": [
        {
          "output_type": "stream",
          "name": "stdout",
          "text": [
            "Epoch 1/100\n",
            "34/34 [==============================] - 2s 7ms/step - loss: 13343.5342 - mae: 13343.5342\n",
            "Epoch 2/100\n",
            "34/34 [==============================] - 0s 6ms/step - loss: 13335.0586 - mae: 13335.0586\n",
            "Epoch 3/100\n",
            "34/34 [==============================] - 0s 4ms/step - loss: 13313.6123 - mae: 13313.6123\n",
            "Epoch 4/100\n",
            "34/34 [==============================] - 0s 2ms/step - loss: 13268.6572 - mae: 13268.6572\n",
            "Epoch 5/100\n",
            "34/34 [==============================] - 0s 2ms/step - loss: 13189.4014 - mae: 13189.4014\n",
            "Epoch 6/100\n",
            "34/34 [==============================] - 0s 2ms/step - loss: 13065.2812 - mae: 13065.2812\n",
            "Epoch 7/100\n",
            "34/34 [==============================] - 0s 3ms/step - loss: 12886.2021 - mae: 12886.2021\n",
            "Epoch 8/100\n",
            "34/34 [==============================] - 0s 2ms/step - loss: 12642.0430 - mae: 12642.0430\n",
            "Epoch 9/100\n",
            "34/34 [==============================] - 0s 2ms/step - loss: 12322.5264 - mae: 12322.5264\n",
            "Epoch 10/100\n",
            "34/34 [==============================] - 0s 2ms/step - loss: 11922.6191 - mae: 11922.6191\n",
            "Epoch 11/100\n",
            "34/34 [==============================] - 0s 2ms/step - loss: 11450.6836 - mae: 11450.6836\n",
            "Epoch 12/100\n",
            "34/34 [==============================] - 0s 2ms/step - loss: 10946.0781 - mae: 10946.0781\n",
            "Epoch 13/100\n",
            "34/34 [==============================] - 0s 2ms/step - loss: 10447.2500 - mae: 10447.2500\n",
            "Epoch 14/100\n",
            "34/34 [==============================] - 0s 2ms/step - loss: 9954.4805 - mae: 9954.4805\n",
            "Epoch 15/100\n",
            "34/34 [==============================] - 0s 2ms/step - loss: 9487.7217 - mae: 9487.7217\n",
            "Epoch 16/100\n",
            "34/34 [==============================] - 0s 2ms/step - loss: 9072.8369 - mae: 9072.8369\n",
            "Epoch 17/100\n",
            "34/34 [==============================] - 0s 2ms/step - loss: 8730.4766 - mae: 8730.4766\n",
            "Epoch 18/100\n",
            "34/34 [==============================] - 0s 2ms/step - loss: 8451.2764 - mae: 8451.2764\n",
            "Epoch 19/100\n",
            "34/34 [==============================] - 0s 3ms/step - loss: 8237.4648 - mae: 8237.4648\n",
            "Epoch 20/100\n",
            "34/34 [==============================] - 0s 2ms/step - loss: 8092.6514 - mae: 8092.6514\n",
            "Epoch 21/100\n",
            "34/34 [==============================] - 0s 2ms/step - loss: 7983.7822 - mae: 7983.7822\n",
            "Epoch 22/100\n",
            "34/34 [==============================] - 0s 2ms/step - loss: 7908.2544 - mae: 7908.2544\n",
            "Epoch 23/100\n",
            "34/34 [==============================] - 0s 2ms/step - loss: 7849.4160 - mae: 7849.4160\n",
            "Epoch 24/100\n",
            "34/34 [==============================] - 0s 2ms/step - loss: 7796.5000 - mae: 7796.5000\n",
            "Epoch 25/100\n",
            "34/34 [==============================] - 0s 2ms/step - loss: 7757.7788 - mae: 7757.7788\n",
            "Epoch 26/100\n",
            "34/34 [==============================] - 0s 2ms/step - loss: 7707.0288 - mae: 7707.0288\n",
            "Epoch 27/100\n",
            "34/34 [==============================] - 0s 2ms/step - loss: 7665.5391 - mae: 7665.5391\n",
            "Epoch 28/100\n",
            "34/34 [==============================] - 0s 2ms/step - loss: 7623.5762 - mae: 7623.5762\n",
            "Epoch 29/100\n",
            "34/34 [==============================] - 0s 2ms/step - loss: 7581.4209 - mae: 7581.4209\n",
            "Epoch 30/100\n",
            "34/34 [==============================] - 0s 2ms/step - loss: 7538.3149 - mae: 7538.3149\n",
            "Epoch 31/100\n",
            "34/34 [==============================] - 0s 3ms/step - loss: 7494.8125 - mae: 7494.8125\n",
            "Epoch 32/100\n",
            "34/34 [==============================] - 0s 2ms/step - loss: 7451.1323 - mae: 7451.1323\n",
            "Epoch 33/100\n",
            "34/34 [==============================] - 0s 2ms/step - loss: 7407.2197 - mae: 7407.2197\n",
            "Epoch 34/100\n",
            "34/34 [==============================] - 0s 2ms/step - loss: 7359.2578 - mae: 7359.2578\n",
            "Epoch 35/100\n",
            "34/34 [==============================] - 0s 2ms/step - loss: 7312.7856 - mae: 7312.7856\n",
            "Epoch 36/100\n",
            "34/34 [==============================] - 0s 2ms/step - loss: 7263.0518 - mae: 7263.0518\n",
            "Epoch 37/100\n",
            "34/34 [==============================] - 0s 2ms/step - loss: 7213.0405 - mae: 7213.0405\n",
            "Epoch 38/100\n",
            "34/34 [==============================] - 0s 2ms/step - loss: 7162.3091 - mae: 7162.3091\n",
            "Epoch 39/100\n",
            "34/34 [==============================] - 0s 2ms/step - loss: 7108.0044 - mae: 7108.0044\n",
            "Epoch 40/100\n",
            "34/34 [==============================] - 0s 2ms/step - loss: 7053.1152 - mae: 7053.1152\n",
            "Epoch 41/100\n",
            "34/34 [==============================] - 0s 2ms/step - loss: 6997.0972 - mae: 6997.0972\n",
            "Epoch 42/100\n",
            "34/34 [==============================] - 0s 3ms/step - loss: 6938.8887 - mae: 6938.8887\n",
            "Epoch 43/100\n",
            "34/34 [==============================] - 0s 2ms/step - loss: 6876.9917 - mae: 6876.9917\n",
            "Epoch 44/100\n",
            "34/34 [==============================] - 0s 2ms/step - loss: 6811.5117 - mae: 6811.5117\n",
            "Epoch 45/100\n",
            "34/34 [==============================] - 0s 2ms/step - loss: 6745.1240 - mae: 6745.1240\n",
            "Epoch 46/100\n",
            "34/34 [==============================] - 0s 2ms/step - loss: 6676.4619 - mae: 6676.4619\n",
            "Epoch 47/100\n",
            "34/34 [==============================] - 0s 2ms/step - loss: 6606.2007 - mae: 6606.2007\n",
            "Epoch 48/100\n",
            "34/34 [==============================] - 0s 3ms/step - loss: 6528.2007 - mae: 6528.2007\n",
            "Epoch 49/100\n",
            "34/34 [==============================] - 0s 2ms/step - loss: 6450.1982 - mae: 6450.1982\n",
            "Epoch 50/100\n",
            "34/34 [==============================] - 0s 2ms/step - loss: 6365.1157 - mae: 6365.1157\n",
            "Epoch 51/100\n",
            "34/34 [==============================] - 0s 2ms/step - loss: 6281.1279 - mae: 6281.1279\n",
            "Epoch 52/100\n",
            "34/34 [==============================] - 0s 2ms/step - loss: 6189.0889 - mae: 6189.0889\n",
            "Epoch 53/100\n",
            "34/34 [==============================] - 0s 2ms/step - loss: 6094.3389 - mae: 6094.3389\n",
            "Epoch 54/100\n",
            "34/34 [==============================] - 0s 2ms/step - loss: 5996.4404 - mae: 5996.4404\n",
            "Epoch 55/100\n",
            "34/34 [==============================] - 0s 2ms/step - loss: 5890.5044 - mae: 5890.5044\n",
            "Epoch 56/100\n",
            "34/34 [==============================] - 0s 2ms/step - loss: 5783.4565 - mae: 5783.4565\n",
            "Epoch 57/100\n",
            "34/34 [==============================] - 0s 2ms/step - loss: 5668.7119 - mae: 5668.7119\n",
            "Epoch 58/100\n",
            "34/34 [==============================] - 0s 2ms/step - loss: 5551.6909 - mae: 5551.6909\n",
            "Epoch 59/100\n",
            "34/34 [==============================] - 0s 2ms/step - loss: 5434.3662 - mae: 5434.3662\n",
            "Epoch 60/100\n",
            "34/34 [==============================] - 0s 2ms/step - loss: 5311.8662 - mae: 5311.8662\n",
            "Epoch 61/100\n",
            "34/34 [==============================] - 0s 2ms/step - loss: 5184.6953 - mae: 5184.6953\n",
            "Epoch 62/100\n",
            "34/34 [==============================] - 0s 2ms/step - loss: 5055.7471 - mae: 5055.7471\n",
            "Epoch 63/100\n",
            "34/34 [==============================] - 0s 2ms/step - loss: 4926.5142 - mae: 4926.5142\n",
            "Epoch 64/100\n",
            "34/34 [==============================] - 0s 2ms/step - loss: 4794.2417 - mae: 4794.2417\n",
            "Epoch 65/100\n",
            "34/34 [==============================] - 0s 2ms/step - loss: 4666.7773 - mae: 4666.7773\n",
            "Epoch 66/100\n",
            "34/34 [==============================] - 0s 2ms/step - loss: 4538.9722 - mae: 4538.9722\n",
            "Epoch 67/100\n",
            "34/34 [==============================] - 0s 2ms/step - loss: 4428.0161 - mae: 4428.0161\n",
            "Epoch 68/100\n",
            "34/34 [==============================] - 0s 2ms/step - loss: 4319.5640 - mae: 4319.5640\n",
            "Epoch 69/100\n",
            "34/34 [==============================] - 0s 2ms/step - loss: 4216.9551 - mae: 4216.9551\n",
            "Epoch 70/100\n",
            "34/34 [==============================] - 0s 2ms/step - loss: 4122.2158 - mae: 4122.2158\n",
            "Epoch 71/100\n",
            "34/34 [==============================] - 0s 2ms/step - loss: 4033.5664 - mae: 4033.5664\n",
            "Epoch 72/100\n",
            "34/34 [==============================] - 0s 2ms/step - loss: 3956.5552 - mae: 3956.5552\n",
            "Epoch 73/100\n",
            "34/34 [==============================] - 0s 2ms/step - loss: 3890.1355 - mae: 3890.1355\n",
            "Epoch 74/100\n",
            "34/34 [==============================] - 0s 2ms/step - loss: 3835.7827 - mae: 3835.7827\n",
            "Epoch 75/100\n",
            "34/34 [==============================] - 0s 2ms/step - loss: 3791.1069 - mae: 3791.1069\n",
            "Epoch 76/100\n",
            "34/34 [==============================] - 0s 2ms/step - loss: 3756.7361 - mae: 3756.7361\n",
            "Epoch 77/100\n",
            "34/34 [==============================] - 0s 2ms/step - loss: 3729.9480 - mae: 3729.9480\n",
            "Epoch 78/100\n",
            "34/34 [==============================] - 0s 2ms/step - loss: 3710.2253 - mae: 3710.2253\n",
            "Epoch 79/100\n",
            "34/34 [==============================] - 0s 2ms/step - loss: 3696.7461 - mae: 3696.7461\n",
            "Epoch 80/100\n",
            "34/34 [==============================] - 0s 2ms/step - loss: 3686.5818 - mae: 3686.5818\n",
            "Epoch 81/100\n",
            "34/34 [==============================] - 0s 2ms/step - loss: 3679.4209 - mae: 3679.4209\n",
            "Epoch 82/100\n",
            "34/34 [==============================] - 0s 2ms/step - loss: 3675.7180 - mae: 3675.7180\n",
            "Epoch 83/100\n",
            "34/34 [==============================] - 0s 2ms/step - loss: 3668.9316 - mae: 3668.9316\n",
            "Epoch 84/100\n",
            "34/34 [==============================] - 0s 2ms/step - loss: 3665.7744 - mae: 3665.7744\n",
            "Epoch 85/100\n",
            "34/34 [==============================] - 0s 2ms/step - loss: 3662.7996 - mae: 3662.7996\n",
            "Epoch 86/100\n",
            "34/34 [==============================] - 0s 2ms/step - loss: 3661.3005 - mae: 3661.3005\n",
            "Epoch 87/100\n",
            "34/34 [==============================] - 0s 2ms/step - loss: 3658.1624 - mae: 3658.1624\n",
            "Epoch 88/100\n",
            "34/34 [==============================] - 0s 2ms/step - loss: 3655.6682 - mae: 3655.6682\n",
            "Epoch 89/100\n",
            "34/34 [==============================] - 0s 2ms/step - loss: 3653.8328 - mae: 3653.8328\n",
            "Epoch 90/100\n",
            "34/34 [==============================] - 0s 2ms/step - loss: 3652.4233 - mae: 3652.4233\n",
            "Epoch 91/100\n",
            "34/34 [==============================] - 0s 3ms/step - loss: 3649.2051 - mae: 3649.2051\n",
            "Epoch 92/100\n",
            "34/34 [==============================] - 0s 2ms/step - loss: 3648.6057 - mae: 3648.6057\n",
            "Epoch 93/100\n",
            "34/34 [==============================] - 0s 2ms/step - loss: 3646.3538 - mae: 3646.3538\n",
            "Epoch 94/100\n",
            "34/34 [==============================] - 0s 3ms/step - loss: 3644.6055 - mae: 3644.6055\n",
            "Epoch 95/100\n",
            "34/34 [==============================] - 0s 2ms/step - loss: 3645.8567 - mae: 3645.8567\n",
            "Epoch 96/100\n",
            "34/34 [==============================] - 0s 2ms/step - loss: 3642.3545 - mae: 3642.3545\n",
            "Epoch 97/100\n",
            "34/34 [==============================] - 0s 2ms/step - loss: 3640.2856 - mae: 3640.2856\n",
            "Epoch 98/100\n",
            "34/34 [==============================] - 0s 2ms/step - loss: 3638.0930 - mae: 3638.0930\n",
            "Epoch 99/100\n",
            "34/34 [==============================] - 0s 2ms/step - loss: 3637.5718 - mae: 3637.5718\n",
            "Epoch 100/100\n",
            "34/34 [==============================] - 0s 2ms/step - loss: 3636.2207 - mae: 3636.2207\n"
          ]
        }
      ]
    },
    {
      "cell_type": "code",
      "source": [
        "# Evaluate our model\n",
        "model_insurance.evaluate(X_test_normal, y_test)"
      ],
      "metadata": {
        "colab": {
          "base_uri": "https://localhost:8080/"
        },
        "id": "XqJyd4hahdr0",
        "outputId": "fefddcad-82b9-4846-af32-b1235c22c7b3"
      },
      "execution_count": 106,
      "outputs": [
        {
          "output_type": "stream",
          "name": "stdout",
          "text": [
            "9/9 [==============================] - 0s 2ms/step - loss: 3439.9355 - mae: 3439.9355\n"
          ]
        },
        {
          "output_type": "execute_result",
          "data": {
            "text/plain": [
              "[3439.935546875, 3439.935546875]"
            ]
          },
          "metadata": {},
          "execution_count": 106
        }
      ]
    },
    {
      "cell_type": "code",
      "source": [
        "# insurance model 2 results\n",
        "# 9/9 [==============================] - 0s 2ms/step - loss: 4653.2656 - mae: 4653.2656"
      ],
      "metadata": {
        "id": "S1_2Dh5mi1li"
      },
      "execution_count": 107,
      "outputs": []
    },
    {
      "cell_type": "code",
      "execution_count": 108,
      "metadata": {
        "id": "gVcVrC-xT4aS",
        "colab": {
          "base_uri": "https://localhost:8080/"
        },
        "outputId": "24d72fdb-e6b5-4acd-8b4d-2a89bec49fe3"
      },
      "outputs": [
        {
          "output_type": "stream",
          "name": "stdout",
          "text": [
            "Model: \"sequential_8\"\n",
            "_________________________________________________________________\n",
            " Layer (type)                Output Shape              Param #   \n",
            "=================================================================\n",
            " dense_12 (Dense)            (None, 100)               1200      \n",
            "                                                                 \n",
            " dense_13 (Dense)            (None, 10)                1010      \n",
            "                                                                 \n",
            " dense_14 (Dense)            (None, 1)                 11        \n",
            "                                                                 \n",
            "=================================================================\n",
            "Total params: 2,221\n",
            "Trainable params: 2,221\n",
            "Non-trainable params: 0\n",
            "_________________________________________________________________\n"
          ]
        }
      ],
      "source": [
        "insurance_model_2.summary()"
      ]
    }
  ],
  "metadata": {
    "colab": {
      "provenance": [],
      "mount_file_id": "1hxIxpVeOZOl6lPVXtRs6-2TddGWjndMX",
      "authorship_tag": "ABX9TyPbBdWTKAvjZycCCaMmzJJB",
      "include_colab_link": true
    },
    "kernelspec": {
      "display_name": "Python 3",
      "name": "python3"
    },
    "language_info": {
      "name": "python"
    }
  },
  "nbformat": 4,
  "nbformat_minor": 0
}