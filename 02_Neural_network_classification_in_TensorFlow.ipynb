{
  "cells": [
    {
      "cell_type": "markdown",
      "metadata": {
        "id": "view-in-github",
        "colab_type": "text"
      },
      "source": [
        "<a href=\"https://colab.research.google.com/github/PXDHU/TensorFlow/blob/main/02_Neural_network_classification_in_TensorFlow.ipynb\" target=\"_parent\"><img src=\"https://colab.research.google.com/assets/colab-badge.svg\" alt=\"Open In Colab\"/></a>"
      ]
    },
    {
      "cell_type": "markdown",
      "metadata": {
        "id": "AwatL4UXLZz4"
      },
      "source": [
        "# Introduction to neural network classification with tensorflow\n",
        "\n",
        "In this notebook we're going to learn how to write neural networks for classification problems\n",
        "\n",
        "A classification is where you try to classify something as one thing or another.\n",
        "\n",
        "A few types of classification problems:\n",
        "  * Binary classification\n",
        "  * Multiclass classifcation\n",
        "  * Multilabel classification"
      ]
    },
    {
      "cell_type": "markdown",
      "metadata": {
        "id": "2NvL4iSoxdKC"
      },
      "source": [
        "## Creating data to view"
      ]
    },
    {
      "cell_type": "code",
      "execution_count": 1,
      "metadata": {
        "id": "wazrX0acxo-3"
      },
      "outputs": [],
      "source": [
        "from sklearn.datasets import make_circles\n",
        "\n",
        "# Make 1000 examples\n",
        "n_samples = 1000\n",
        "\n",
        "# Create circles\n",
        "X, y= make_circles(n_samples,\n",
        "                   noise=0.03,\n",
        "                   random_state=42)"
      ]
    },
    {
      "cell_type": "code",
      "execution_count": 2,
      "metadata": {
        "colab": {
          "base_uri": "https://localhost:8080/"
        },
        "id": "B6q57LupyYDE",
        "outputId": "e77d7c2d-705d-4599-9a85-47d7d5bc0ad1"
      },
      "outputs": [
        {
          "output_type": "execute_result",
          "data": {
            "text/plain": [
              "array([[ 0.75424625,  0.23148074],\n",
              "       [-0.75615888,  0.15325888],\n",
              "       [-0.81539193,  0.17328203],\n",
              "       ...,\n",
              "       [-0.13690036, -0.81001183],\n",
              "       [ 0.67036156, -0.76750154],\n",
              "       [ 0.28105665,  0.96382443]])"
            ]
          },
          "metadata": {},
          "execution_count": 2
        }
      ],
      "source": [
        "# Check out features\n",
        "X"
      ]
    },
    {
      "cell_type": "code",
      "execution_count": 3,
      "metadata": {
        "colab": {
          "base_uri": "https://localhost:8080/"
        },
        "id": "RWDnp1zfyfRw",
        "outputId": "c1c0f4c5-9991-4002-cce9-69f1f7bb0a86"
      },
      "outputs": [
        {
          "output_type": "execute_result",
          "data": {
            "text/plain": [
              "array([1, 1, 1, 1, 0, 1, 1, 1, 1, 0])"
            ]
          },
          "metadata": {},
          "execution_count": 3
        }
      ],
      "source": [
        "# Check the labels\n",
        "y[:10]"
      ]
    },
    {
      "cell_type": "markdown",
      "source": [
        "Our data is a little hard to understand right now... let's visualize it!"
      ],
      "metadata": {
        "id": "w-YkN5XJykN1"
      }
    },
    {
      "cell_type": "code",
      "source": [
        "import pandas as pd\n",
        "circles = pd.DataFrame({\"X0\":X[:,0], \"X1\":X[:,1], \"label\":y})\n",
        "circles"
      ],
      "metadata": {
        "colab": {
          "base_uri": "https://localhost:8080/",
          "height": 423
        },
        "id": "_vhi7L2l3c5t",
        "outputId": "3637ca9f-5176-4331-b5c0-884a7e52ac37"
      },
      "execution_count": 4,
      "outputs": [
        {
          "output_type": "execute_result",
          "data": {
            "text/plain": [
              "           X0        X1  label\n",
              "0    0.754246  0.231481      1\n",
              "1   -0.756159  0.153259      1\n",
              "2   -0.815392  0.173282      1\n",
              "3   -0.393731  0.692883      1\n",
              "4    0.442208 -0.896723      0\n",
              "..        ...       ...    ...\n",
              "995  0.244054  0.944125      0\n",
              "996 -0.978655 -0.272373      0\n",
              "997 -0.136900 -0.810012      1\n",
              "998  0.670362 -0.767502      0\n",
              "999  0.281057  0.963824      0\n",
              "\n",
              "[1000 rows x 3 columns]"
            ],
            "text/html": [
              "\n",
              "  <div id=\"df-cca78bc5-83b2-4856-b2c2-ee7b764cae32\">\n",
              "    <div class=\"colab-df-container\">\n",
              "      <div>\n",
              "<style scoped>\n",
              "    .dataframe tbody tr th:only-of-type {\n",
              "        vertical-align: middle;\n",
              "    }\n",
              "\n",
              "    .dataframe tbody tr th {\n",
              "        vertical-align: top;\n",
              "    }\n",
              "\n",
              "    .dataframe thead th {\n",
              "        text-align: right;\n",
              "    }\n",
              "</style>\n",
              "<table border=\"1\" class=\"dataframe\">\n",
              "  <thead>\n",
              "    <tr style=\"text-align: right;\">\n",
              "      <th></th>\n",
              "      <th>X0</th>\n",
              "      <th>X1</th>\n",
              "      <th>label</th>\n",
              "    </tr>\n",
              "  </thead>\n",
              "  <tbody>\n",
              "    <tr>\n",
              "      <th>0</th>\n",
              "      <td>0.754246</td>\n",
              "      <td>0.231481</td>\n",
              "      <td>1</td>\n",
              "    </tr>\n",
              "    <tr>\n",
              "      <th>1</th>\n",
              "      <td>-0.756159</td>\n",
              "      <td>0.153259</td>\n",
              "      <td>1</td>\n",
              "    </tr>\n",
              "    <tr>\n",
              "      <th>2</th>\n",
              "      <td>-0.815392</td>\n",
              "      <td>0.173282</td>\n",
              "      <td>1</td>\n",
              "    </tr>\n",
              "    <tr>\n",
              "      <th>3</th>\n",
              "      <td>-0.393731</td>\n",
              "      <td>0.692883</td>\n",
              "      <td>1</td>\n",
              "    </tr>\n",
              "    <tr>\n",
              "      <th>4</th>\n",
              "      <td>0.442208</td>\n",
              "      <td>-0.896723</td>\n",
              "      <td>0</td>\n",
              "    </tr>\n",
              "    <tr>\n",
              "      <th>...</th>\n",
              "      <td>...</td>\n",
              "      <td>...</td>\n",
              "      <td>...</td>\n",
              "    </tr>\n",
              "    <tr>\n",
              "      <th>995</th>\n",
              "      <td>0.244054</td>\n",
              "      <td>0.944125</td>\n",
              "      <td>0</td>\n",
              "    </tr>\n",
              "    <tr>\n",
              "      <th>996</th>\n",
              "      <td>-0.978655</td>\n",
              "      <td>-0.272373</td>\n",
              "      <td>0</td>\n",
              "    </tr>\n",
              "    <tr>\n",
              "      <th>997</th>\n",
              "      <td>-0.136900</td>\n",
              "      <td>-0.810012</td>\n",
              "      <td>1</td>\n",
              "    </tr>\n",
              "    <tr>\n",
              "      <th>998</th>\n",
              "      <td>0.670362</td>\n",
              "      <td>-0.767502</td>\n",
              "      <td>0</td>\n",
              "    </tr>\n",
              "    <tr>\n",
              "      <th>999</th>\n",
              "      <td>0.281057</td>\n",
              "      <td>0.963824</td>\n",
              "      <td>0</td>\n",
              "    </tr>\n",
              "  </tbody>\n",
              "</table>\n",
              "<p>1000 rows × 3 columns</p>\n",
              "</div>\n",
              "      <button class=\"colab-df-convert\" onclick=\"convertToInteractive('df-cca78bc5-83b2-4856-b2c2-ee7b764cae32')\"\n",
              "              title=\"Convert this dataframe to an interactive table.\"\n",
              "              style=\"display:none;\">\n",
              "        \n",
              "  <svg xmlns=\"http://www.w3.org/2000/svg\" height=\"24px\"viewBox=\"0 0 24 24\"\n",
              "       width=\"24px\">\n",
              "    <path d=\"M0 0h24v24H0V0z\" fill=\"none\"/>\n",
              "    <path d=\"M18.56 5.44l.94 2.06.94-2.06 2.06-.94-2.06-.94-.94-2.06-.94 2.06-2.06.94zm-11 1L8.5 8.5l.94-2.06 2.06-.94-2.06-.94L8.5 2.5l-.94 2.06-2.06.94zm10 10l.94 2.06.94-2.06 2.06-.94-2.06-.94-.94-2.06-.94 2.06-2.06.94z\"/><path d=\"M17.41 7.96l-1.37-1.37c-.4-.4-.92-.59-1.43-.59-.52 0-1.04.2-1.43.59L10.3 9.45l-7.72 7.72c-.78.78-.78 2.05 0 2.83L4 21.41c.39.39.9.59 1.41.59.51 0 1.02-.2 1.41-.59l7.78-7.78 2.81-2.81c.8-.78.8-2.07 0-2.86zM5.41 20L4 18.59l7.72-7.72 1.47 1.35L5.41 20z\"/>\n",
              "  </svg>\n",
              "      </button>\n",
              "      \n",
              "  <style>\n",
              "    .colab-df-container {\n",
              "      display:flex;\n",
              "      flex-wrap:wrap;\n",
              "      gap: 12px;\n",
              "    }\n",
              "\n",
              "    .colab-df-convert {\n",
              "      background-color: #E8F0FE;\n",
              "      border: none;\n",
              "      border-radius: 50%;\n",
              "      cursor: pointer;\n",
              "      display: none;\n",
              "      fill: #1967D2;\n",
              "      height: 32px;\n",
              "      padding: 0 0 0 0;\n",
              "      width: 32px;\n",
              "    }\n",
              "\n",
              "    .colab-df-convert:hover {\n",
              "      background-color: #E2EBFA;\n",
              "      box-shadow: 0px 1px 2px rgba(60, 64, 67, 0.3), 0px 1px 3px 1px rgba(60, 64, 67, 0.15);\n",
              "      fill: #174EA6;\n",
              "    }\n",
              "\n",
              "    [theme=dark] .colab-df-convert {\n",
              "      background-color: #3B4455;\n",
              "      fill: #D2E3FC;\n",
              "    }\n",
              "\n",
              "    [theme=dark] .colab-df-convert:hover {\n",
              "      background-color: #434B5C;\n",
              "      box-shadow: 0px 1px 3px 1px rgba(0, 0, 0, 0.15);\n",
              "      filter: drop-shadow(0px 1px 2px rgba(0, 0, 0, 0.3));\n",
              "      fill: #FFFFFF;\n",
              "    }\n",
              "  </style>\n",
              "\n",
              "      <script>\n",
              "        const buttonEl =\n",
              "          document.querySelector('#df-cca78bc5-83b2-4856-b2c2-ee7b764cae32 button.colab-df-convert');\n",
              "        buttonEl.style.display =\n",
              "          google.colab.kernel.accessAllowed ? 'block' : 'none';\n",
              "\n",
              "        async function convertToInteractive(key) {\n",
              "          const element = document.querySelector('#df-cca78bc5-83b2-4856-b2c2-ee7b764cae32');\n",
              "          const dataTable =\n",
              "            await google.colab.kernel.invokeFunction('convertToInteractive',\n",
              "                                                     [key], {});\n",
              "          if (!dataTable) return;\n",
              "\n",
              "          const docLinkHtml = 'Like what you see? Visit the ' +\n",
              "            '<a target=\"_blank\" href=https://colab.research.google.com/notebooks/data_table.ipynb>data table notebook</a>'\n",
              "            + ' to learn more about interactive tables.';\n",
              "          element.innerHTML = '';\n",
              "          dataTable['output_type'] = 'display_data';\n",
              "          await google.colab.output.renderOutput(dataTable, element);\n",
              "          const docLink = document.createElement('div');\n",
              "          docLink.innerHTML = docLinkHtml;\n",
              "          element.appendChild(docLink);\n",
              "        }\n",
              "      </script>\n",
              "    </div>\n",
              "  </div>\n",
              "  "
            ]
          },
          "metadata": {},
          "execution_count": 4
        }
      ]
    },
    {
      "cell_type": "code",
      "source": [
        "# Visualize with a plot\n",
        "import matplotlib.pyplot as plt\n",
        "plt.scatter(X[:,0],X[:,1], c=y, cmap=plt.cm.RdYlBu)"
      ],
      "metadata": {
        "colab": {
          "base_uri": "https://localhost:8080/",
          "height": 282
        },
        "id": "O10E0kba38WR",
        "outputId": "8b97decd-6868-4a58-aedd-645a86efca70"
      },
      "execution_count": 5,
      "outputs": [
        {
          "output_type": "execute_result",
          "data": {
            "text/plain": [
              "<matplotlib.collections.PathCollection at 0x7fb5a2656d90>"
            ]
          },
          "metadata": {},
          "execution_count": 5
        },
        {
          "output_type": "display_data",
          "data": {
            "text/plain": [
              "<Figure size 432x288 with 1 Axes>"
            ],
            "image/png": "[encoded data removed]"
          },
          "metadata": {
            "needs_background": "light"
          }
        }
      ]
    },
    {
      "cell_type": "markdown",
      "source": [
        "## Input and output shapes "
      ],
      "metadata": {
        "id": "NA1ggXCM7PXJ"
      }
    },
    {
      "cell_type": "code",
      "source": [
        "# Check the shapes of our features and labels\n",
        "X.shape, y.shape"
      ],
      "metadata": {
        "colab": {
          "base_uri": "https://localhost:8080/"
        },
        "id": "mZDlN2Ch_FTM",
        "outputId": "cae19892-310f-4dcd-bb12-4138144cdffc"
      },
      "execution_count": 6,
      "outputs": [
        {
          "output_type": "execute_result",
          "data": {
            "text/plain": [
              "((1000, 2), (1000,))"
            ]
          },
          "metadata": {},
          "execution_count": 6
        }
      ]
    },
    {
      "cell_type": "code",
      "source": [
        "# how many samples we're working\n",
        "len(X), len(y)"
      ],
      "metadata": {
        "colab": {
          "base_uri": "https://localhost:8080/"
        },
        "id": "J5fvHaMZ_Ntm",
        "outputId": "29daf2bc-a77f-4a75-ff41-01d154ee3192"
      },
      "execution_count": 7,
      "outputs": [
        {
          "output_type": "execute_result",
          "data": {
            "text/plain": [
              "(1000, 1000)"
            ]
          },
          "metadata": {},
          "execution_count": 7
        }
      ]
    },
    {
      "cell_type": "code",
      "source": [
        "# View the first example of features and labels\n",
        "X[0], y[0]"
      ],
      "metadata": {
        "colab": {
          "base_uri": "https://localhost:8080/"
        },
        "id": "Fnj1PcX2_Qjc",
        "outputId": "e1bba940-dfa1-46ea-f901-0192289c7610"
      },
      "execution_count": 8,
      "outputs": [
        {
          "output_type": "execute_result",
          "data": {
            "text/plain": [
              "(array([0.75424625, 0.23148074]), 1)"
            ]
          },
          "metadata": {},
          "execution_count": 8
        }
      ]
    },
    {
      "cell_type": "markdown",
      "source": [
        "## Steps in modelling\n",
        "\n",
        "The steps in modelling with TensorFlow are typically:\n",
        "\n",
        "1. Create or import a model\n",
        "2. Compile the model\n",
        "3. Fit the model\n",
        "4. Evaluate the model\n",
        "5. Tweakk\n",
        "6. Evaluate..."
      ],
      "metadata": {
        "id": "Gf7Susao_kzH"
      }
    },
    {
      "cell_type": "code",
      "source": [
        "# Import Tensorflow\n",
        "import tensorflow as tf\n",
        "tf.__version__"
      ],
      "metadata": {
        "colab": {
          "base_uri": "https://localhost:8080/",
          "height": 35
        },
        "id": "9Y2Wp2iSCeua",
        "outputId": "8cfeb3e9-55fa-4116-8fc0-b6a705f19187"
      },
      "execution_count": 9,
      "outputs": [
        {
          "output_type": "execute_result",
          "data": {
            "text/plain": [
              "'2.11.0'"
            ],
            "application/vnd.google.colaboratory.intrinsic+json": {
              "type": "string"
            }
          },
          "metadata": {},
          "execution_count": 9
        }
      ]
    },
    {
      "cell_type": "code",
      "source": [
        "# Set the random seed\n",
        "tf.random.set_seed = 42\n",
        "\n",
        "# Create the model using the Sequential API\n",
        "model_1 = tf.keras.Sequential([\n",
        "    tf.keras.layers.Dense(1)\n",
        "])\n",
        "\n",
        "# Compile the model\n",
        "model_1.compile(loss=tf.keras.losses.BinaryCrossentropy(),\n",
        "                optimizer=tf.keras.optimizers.SGD(),\n",
        "                metrics=\"accuracy\") \n",
        "\n",
        "# Fit the model\n",
        "model_1.fit(X,y, epochs=5)"
      ],
      "metadata": {
        "colab": {
          "base_uri": "https://localhost:8080/"
        },
        "id": "TiM5VQWE_xhC",
        "outputId": "0c476e38-14de-4cbd-fcf0-51ea22f97808"
      },
      "execution_count": 10,
      "outputs": [
        {
          "output_type": "stream",
          "name": "stdout",
          "text": [
            "Epoch 1/5\n",
            "32/32 [==============================] - 1s 5ms/step - loss: 4.8181 - accuracy: 0.4690\n",
            "Epoch 2/5\n",
            "32/32 [==============================] - 0s 5ms/step - loss: 4.2705 - accuracy: 0.4760\n",
            "Epoch 3/5\n",
            "32/32 [==============================] - 0s 4ms/step - loss: 2.4461 - accuracy: 0.4890\n",
            "Epoch 4/5\n",
            "32/32 [==============================] - 0s 5ms/step - loss: 0.7555 - accuracy: 0.4950\n",
            "Epoch 5/5\n",
            "32/32 [==============================] - 0s 4ms/step - loss: 0.7132 - accuracy: 0.4960\n"
          ]
        },
        {
          "output_type": "execute_result",
          "data": {
            "text/plain": [
              "<keras.callbacks.History at 0x7fb5444b56a0>"
            ]
          },
          "metadata": {},
          "execution_count": 10
        }
      ]
    },
    {
      "cell_type": "code",
      "source": [
        "# Let's try and improve our model by training for longer..\n",
        "model_1.fit(X, y, epochs=200, verbose=0)\n",
        "model_1.evaluate(X,y)"
      ],
      "metadata": {
        "colab": {
          "base_uri": "https://localhost:8080/"
        },
        "id": "kfst4pKRCQV4",
        "outputId": "1ad780bd-36bd-4132-f3d5-7a1a0fbf300b"
      },
      "execution_count": 11,
      "outputs": [
        {
          "output_type": "stream",
          "name": "stdout",
          "text": [
            "32/32 [==============================] - 0s 4ms/step - loss: 0.6932 - accuracy: 0.5000\n"
          ]
        },
        {
          "output_type": "execute_result",
          "data": {
            "text/plain": [
              "[0.6931856870651245, 0.5]"
            ]
          },
          "metadata": {},
          "execution_count": 11
        }
      ]
    },
    {
      "cell_type": "markdown",
      "source": [
        "Since we're working on a binary classification problem and our model is getting around ~50% accuracy.. it's performing as if it's guessing. So let's add an extra layer."
      ],
      "metadata": {
        "id": "JCCLcXatDSEc"
      }
    },
    {
      "cell_type": "code",
      "source": [
        "#Set the random seed\n",
        "tf.random.set_seed=42\n",
        "\n",
        "# Create a model with 2 layers\n",
        "model_2 = tf.keras.Sequential([\n",
        "    tf.keras.layers.Dense(1),\n",
        "    tf.keras.layers.Dense(1)\n",
        "])\n",
        "\n",
        "# Compile the model\n",
        "model_2.compile(loss=tf.keras.losses.BinaryCrossentropy(),\n",
        "                optimizer=tf.keras.optimizers.SGD(),\n",
        "                metrics=\"accuracy\")\n",
        "\n",
        "# Fit the model\n",
        "model_2.fit(X, y, epochs=200)"
      ],
      "metadata": {
        "colab": {
          "base_uri": "https://localhost:8080/"
        },
        "id": "ELTsAj79D9DJ",
        "outputId": "89f21909-ae97-4df2-ca97-5c99256f78bc"
      },
      "execution_count": 12,
      "outputs": [
        {
          "output_type": "stream",
          "name": "stdout",
          "text": [
            "Epoch 1/200\n",
            "32/32 [==============================] - 1s 2ms/step - loss: 1.0862 - accuracy: 0.4700\n",
            "Epoch 2/200\n",
            "32/32 [==============================] - 0s 3ms/step - loss: 0.7056 - accuracy: 0.4600\n",
            "Epoch 3/200\n",
            "32/32 [==============================] - 0s 3ms/step - loss: 0.6981 - accuracy: 0.4820\n",
            "Epoch 4/200\n",
            "32/32 [==============================] - 0s 3ms/step - loss: 0.6956 - accuracy: 0.4840\n",
            "Epoch 5/200\n",
            "32/32 [==============================] - 0s 3ms/step - loss: 0.6944 - accuracy: 0.4860\n",
            "Epoch 6/200\n",
            "32/32 [==============================] - 0s 3ms/step - loss: 0.6940 - accuracy: 0.4780\n",
            "Epoch 7/200\n",
            "32/32 [==============================] - 0s 3ms/step - loss: 0.6939 - accuracy: 0.5090\n",
            "Epoch 8/200\n",
            "32/32 [==============================] - 0s 2ms/step - loss: 0.6941 - accuracy: 0.4870\n",
            "Epoch 9/200\n",
            "32/32 [==============================] - 0s 3ms/step - loss: 0.6940 - accuracy: 0.4860\n",
            "Epoch 10/200\n",
            "32/32 [==============================] - 0s 3ms/step - loss: 0.6938 - accuracy: 0.4630\n",
            "Epoch 11/200\n",
            "32/32 [==============================] - 0s 3ms/step - loss: 0.6940 - accuracy: 0.4770\n",
            "Epoch 12/200\n",
            "32/32 [==============================] - 0s 2ms/step - loss: 0.6941 - accuracy: 0.4700\n",
            "Epoch 13/200\n",
            "32/32 [==============================] - 0s 3ms/step - loss: 0.6938 - accuracy: 0.4680\n",
            "Epoch 14/200\n",
            "32/32 [==============================] - 0s 3ms/step - loss: 0.6944 - accuracy: 0.4950\n",
            "Epoch 15/200\n",
            "32/32 [==============================] - 0s 4ms/step - loss: 0.6941 - accuracy: 0.4800\n",
            "Epoch 16/200\n",
            "32/32 [==============================] - 0s 3ms/step - loss: 0.6936 - accuracy: 0.5010\n",
            "Epoch 17/200\n",
            "32/32 [==============================] - 0s 3ms/step - loss: 0.6938 - accuracy: 0.4860\n",
            "Epoch 18/200\n",
            "32/32 [==============================] - 0s 3ms/step - loss: 0.6937 - accuracy: 0.5120\n",
            "Epoch 19/200\n",
            "32/32 [==============================] - 0s 3ms/step - loss: 0.6936 - accuracy: 0.5040\n",
            "Epoch 20/200\n",
            "32/32 [==============================] - 0s 3ms/step - loss: 0.6939 - accuracy: 0.5000\n",
            "Epoch 21/200\n",
            "32/32 [==============================] - 0s 3ms/step - loss: 0.6939 - accuracy: 0.4710\n",
            "Epoch 22/200\n",
            "32/32 [==============================] - 0s 3ms/step - loss: 0.6938 - accuracy: 0.4780\n",
            "Epoch 23/200\n",
            "32/32 [==============================] - 0s 3ms/step - loss: 0.6938 - accuracy: 0.4930\n",
            "Epoch 24/200\n",
            "32/32 [==============================] - 0s 3ms/step - loss: 0.6939 - accuracy: 0.4950\n",
            "Epoch 25/200\n",
            "32/32 [==============================] - 0s 3ms/step - loss: 0.6939 - accuracy: 0.4820\n",
            "Epoch 26/200\n",
            "32/32 [==============================] - 0s 3ms/step - loss: 0.6938 - accuracy: 0.4870\n",
            "Epoch 27/200\n",
            "32/32 [==============================] - 0s 3ms/step - loss: 0.6942 - accuracy: 0.4710\n",
            "Epoch 28/200\n",
            "32/32 [==============================] - 0s 3ms/step - loss: 0.6942 - accuracy: 0.4860\n",
            "Epoch 29/200\n",
            "32/32 [==============================] - 0s 3ms/step - loss: 0.6938 - accuracy: 0.4740\n",
            "Epoch 30/200\n",
            "32/32 [==============================] - 0s 3ms/step - loss: 0.6939 - accuracy: 0.5020\n",
            "Epoch 31/200\n",
            "32/32 [==============================] - 0s 3ms/step - loss: 0.6937 - accuracy: 0.5000\n",
            "Epoch 32/200\n",
            "32/32 [==============================] - 0s 3ms/step - loss: 0.6938 - accuracy: 0.4820\n",
            "Epoch 33/200\n",
            "32/32 [==============================] - 0s 3ms/step - loss: 0.6938 - accuracy: 0.4720\n",
            "Epoch 34/200\n",
            "32/32 [==============================] - 0s 4ms/step - loss: 0.6938 - accuracy: 0.4960\n",
            "Epoch 35/200\n",
            "32/32 [==============================] - 0s 3ms/step - loss: 0.6940 - accuracy: 0.4740\n",
            "Epoch 36/200\n",
            "32/32 [==============================] - 0s 3ms/step - loss: 0.6941 - accuracy: 0.4910\n",
            "Epoch 37/200\n",
            "32/32 [==============================] - 0s 3ms/step - loss: 0.6939 - accuracy: 0.4620\n",
            "Epoch 38/200\n",
            "32/32 [==============================] - 0s 3ms/step - loss: 0.6943 - accuracy: 0.4830\n",
            "Epoch 39/200\n",
            "32/32 [==============================] - 0s 3ms/step - loss: 0.6939 - accuracy: 0.4970\n",
            "Epoch 40/200\n",
            "32/32 [==============================] - 0s 3ms/step - loss: 0.6938 - accuracy: 0.4940\n",
            "Epoch 41/200\n",
            "32/32 [==============================] - 0s 3ms/step - loss: 0.6938 - accuracy: 0.4810\n",
            "Epoch 42/200\n",
            "32/32 [==============================] - 0s 3ms/step - loss: 0.6941 - accuracy: 0.4690\n",
            "Epoch 43/200\n",
            "32/32 [==============================] - 0s 3ms/step - loss: 0.6939 - accuracy: 0.4720\n",
            "Epoch 44/200\n",
            "32/32 [==============================] - 0s 3ms/step - loss: 0.6941 - accuracy: 0.4970\n",
            "Epoch 45/200\n",
            "32/32 [==============================] - 0s 3ms/step - loss: 0.6938 - accuracy: 0.4970\n",
            "Epoch 46/200\n",
            "32/32 [==============================] - 0s 3ms/step - loss: 0.6939 - accuracy: 0.5040\n",
            "Epoch 47/200\n",
            "32/32 [==============================] - 0s 3ms/step - loss: 0.6939 - accuracy: 0.4720\n",
            "Epoch 48/200\n",
            "32/32 [==============================] - 0s 5ms/step - loss: 0.6939 - accuracy: 0.4780\n",
            "Epoch 49/200\n",
            "32/32 [==============================] - 0s 4ms/step - loss: 0.6939 - accuracy: 0.4810\n",
            "Epoch 50/200\n",
            "32/32 [==============================] - 0s 4ms/step - loss: 0.6939 - accuracy: 0.4910\n",
            "Epoch 51/200\n",
            "32/32 [==============================] - 0s 4ms/step - loss: 0.6937 - accuracy: 0.4830\n",
            "Epoch 52/200\n",
            "32/32 [==============================] - 0s 4ms/step - loss: 0.6937 - accuracy: 0.4880\n",
            "Epoch 53/200\n",
            "32/32 [==============================] - 0s 4ms/step - loss: 0.6937 - accuracy: 0.4920\n",
            "Epoch 54/200\n",
            "32/32 [==============================] - 0s 4ms/step - loss: 0.6937 - accuracy: 0.4960\n",
            "Epoch 55/200\n",
            "32/32 [==============================] - 0s 4ms/step - loss: 0.6940 - accuracy: 0.4810\n",
            "Epoch 56/200\n",
            "32/32 [==============================] - 0s 4ms/step - loss: 0.6937 - accuracy: 0.4800\n",
            "Epoch 57/200\n",
            "32/32 [==============================] - 0s 5ms/step - loss: 0.6939 - accuracy: 0.4990\n",
            "Epoch 58/200\n",
            "32/32 [==============================] - 0s 4ms/step - loss: 0.6942 - accuracy: 0.4830\n",
            "Epoch 59/200\n",
            "32/32 [==============================] - 0s 4ms/step - loss: 0.6941 - accuracy: 0.4680\n",
            "Epoch 60/200\n",
            "32/32 [==============================] - 0s 5ms/step - loss: 0.6936 - accuracy: 0.4940\n",
            "Epoch 61/200\n",
            "32/32 [==============================] - 0s 4ms/step - loss: 0.6942 - accuracy: 0.4720\n",
            "Epoch 62/200\n",
            "32/32 [==============================] - 0s 4ms/step - loss: 0.6940 - accuracy: 0.4700\n",
            "Epoch 63/200\n",
            "32/32 [==============================] - 0s 4ms/step - loss: 0.6939 - accuracy: 0.4780\n",
            "Epoch 64/200\n",
            "32/32 [==============================] - 0s 4ms/step - loss: 0.6942 - accuracy: 0.4890\n",
            "Epoch 65/200\n",
            "32/32 [==============================] - 0s 4ms/step - loss: 0.6940 - accuracy: 0.4860\n",
            "Epoch 66/200\n",
            "32/32 [==============================] - 0s 4ms/step - loss: 0.6938 - accuracy: 0.4710\n",
            "Epoch 67/200\n",
            "32/32 [==============================] - 0s 5ms/step - loss: 0.6938 - accuracy: 0.5000\n",
            "Epoch 68/200\n",
            "32/32 [==============================] - 0s 3ms/step - loss: 0.6943 - accuracy: 0.5000\n",
            "Epoch 69/200\n",
            "32/32 [==============================] - 0s 3ms/step - loss: 0.6942 - accuracy: 0.4680\n",
            "Epoch 70/200\n",
            "32/32 [==============================] - 0s 3ms/step - loss: 0.6942 - accuracy: 0.4570\n",
            "Epoch 71/200\n",
            "32/32 [==============================] - 0s 3ms/step - loss: 0.6939 - accuracy: 0.4770\n",
            "Epoch 72/200\n",
            "32/32 [==============================] - 0s 3ms/step - loss: 0.6939 - accuracy: 0.4680\n",
            "Epoch 73/200\n",
            "32/32 [==============================] - 0s 3ms/step - loss: 0.6939 - accuracy: 0.4750\n",
            "Epoch 74/200\n",
            "32/32 [==============================] - 0s 3ms/step - loss: 0.6938 - accuracy: 0.4900\n",
            "Epoch 75/200\n",
            "32/32 [==============================] - 0s 3ms/step - loss: 0.6937 - accuracy: 0.4830\n",
            "Epoch 76/200\n",
            "32/32 [==============================] - 0s 3ms/step - loss: 0.6939 - accuracy: 0.4990\n",
            "Epoch 77/200\n",
            "32/32 [==============================] - 0s 3ms/step - loss: 0.6940 - accuracy: 0.5020\n",
            "Epoch 78/200\n",
            "32/32 [==============================] - 0s 2ms/step - loss: 0.6938 - accuracy: 0.4800\n",
            "Epoch 79/200\n",
            "32/32 [==============================] - 0s 3ms/step - loss: 0.6940 - accuracy: 0.4920\n",
            "Epoch 80/200\n",
            "32/32 [==============================] - 0s 3ms/step - loss: 0.6937 - accuracy: 0.4920\n",
            "Epoch 81/200\n",
            "32/32 [==============================] - 0s 3ms/step - loss: 0.6941 - accuracy: 0.4850\n",
            "Epoch 82/200\n",
            "32/32 [==============================] - 0s 3ms/step - loss: 0.6938 - accuracy: 0.4930\n",
            "Epoch 83/200\n",
            "32/32 [==============================] - 0s 3ms/step - loss: 0.6940 - accuracy: 0.4910\n",
            "Epoch 84/200\n",
            "32/32 [==============================] - 0s 3ms/step - loss: 0.6935 - accuracy: 0.5050\n",
            "Epoch 85/200\n",
            "32/32 [==============================] - 0s 3ms/step - loss: 0.6940 - accuracy: 0.4800\n",
            "Epoch 86/200\n",
            "32/32 [==============================] - 0s 3ms/step - loss: 0.6939 - accuracy: 0.4750\n",
            "Epoch 87/200\n",
            "32/32 [==============================] - 0s 3ms/step - loss: 0.6940 - accuracy: 0.4940\n",
            "Epoch 88/200\n",
            "32/32 [==============================] - 0s 3ms/step - loss: 0.6940 - accuracy: 0.4740\n",
            "Epoch 89/200\n",
            "32/32 [==============================] - 0s 3ms/step - loss: 0.6934 - accuracy: 0.5050\n",
            "Epoch 90/200\n",
            "32/32 [==============================] - 0s 3ms/step - loss: 0.6940 - accuracy: 0.4720\n",
            "Epoch 91/200\n",
            "32/32 [==============================] - 0s 2ms/step - loss: 0.6939 - accuracy: 0.4810\n",
            "Epoch 92/200\n",
            "32/32 [==============================] - 0s 3ms/step - loss: 0.6939 - accuracy: 0.4710\n",
            "Epoch 93/200\n",
            "32/32 [==============================] - 0s 3ms/step - loss: 0.6937 - accuracy: 0.4960\n",
            "Epoch 94/200\n",
            "32/32 [==============================] - 0s 3ms/step - loss: 0.6937 - accuracy: 0.4840\n",
            "Epoch 95/200\n",
            "32/32 [==============================] - 0s 3ms/step - loss: 0.6940 - accuracy: 0.5030\n",
            "Epoch 96/200\n",
            "32/32 [==============================] - 0s 3ms/step - loss: 0.6938 - accuracy: 0.4700\n",
            "Epoch 97/200\n",
            "32/32 [==============================] - 0s 3ms/step - loss: 0.6941 - accuracy: 0.5000\n",
            "Epoch 98/200\n",
            "32/32 [==============================] - 0s 3ms/step - loss: 0.6937 - accuracy: 0.4780\n",
            "Epoch 99/200\n",
            "32/32 [==============================] - 0s 3ms/step - loss: 0.6939 - accuracy: 0.4760\n",
            "Epoch 100/200\n",
            "32/32 [==============================] - 0s 3ms/step - loss: 0.6940 - accuracy: 0.4960\n",
            "Epoch 101/200\n",
            "32/32 [==============================] - 0s 3ms/step - loss: 0.6938 - accuracy: 0.4900\n",
            "Epoch 102/200\n",
            "32/32 [==============================] - 0s 2ms/step - loss: 0.6937 - accuracy: 0.4930\n",
            "Epoch 103/200\n",
            "32/32 [==============================] - 0s 3ms/step - loss: 0.6941 - accuracy: 0.4890\n",
            "Epoch 104/200\n",
            "32/32 [==============================] - 0s 3ms/step - loss: 0.6940 - accuracy: 0.4960\n",
            "Epoch 105/200\n",
            "32/32 [==============================] - 0s 3ms/step - loss: 0.6938 - accuracy: 0.4720\n",
            "Epoch 106/200\n",
            "32/32 [==============================] - 0s 2ms/step - loss: 0.6938 - accuracy: 0.4930\n",
            "Epoch 107/200\n",
            "32/32 [==============================] - 0s 3ms/step - loss: 0.6937 - accuracy: 0.4960\n",
            "Epoch 108/200\n",
            "32/32 [==============================] - 0s 3ms/step - loss: 0.6941 - accuracy: 0.4870\n",
            "Epoch 109/200\n",
            "32/32 [==============================] - 0s 3ms/step - loss: 0.6938 - accuracy: 0.4870\n",
            "Epoch 110/200\n",
            "32/32 [==============================] - 0s 2ms/step - loss: 0.6938 - accuracy: 0.4810\n",
            "Epoch 111/200\n",
            "32/32 [==============================] - 0s 3ms/step - loss: 0.6938 - accuracy: 0.4860\n",
            "Epoch 112/200\n",
            "32/32 [==============================] - 0s 2ms/step - loss: 0.6938 - accuracy: 0.4900\n",
            "Epoch 113/200\n",
            "32/32 [==============================] - 0s 3ms/step - loss: 0.6939 - accuracy: 0.4970\n",
            "Epoch 114/200\n",
            "32/32 [==============================] - 0s 3ms/step - loss: 0.6940 - accuracy: 0.4810\n",
            "Epoch 115/200\n",
            "32/32 [==============================] - 0s 3ms/step - loss: 0.6941 - accuracy: 0.4770\n",
            "Epoch 116/200\n",
            "32/32 [==============================] - 0s 3ms/step - loss: 0.6941 - accuracy: 0.4770\n",
            "Epoch 117/200\n",
            "32/32 [==============================] - 0s 3ms/step - loss: 0.6937 - accuracy: 0.4900\n",
            "Epoch 118/200\n",
            "32/32 [==============================] - 0s 3ms/step - loss: 0.6939 - accuracy: 0.4880\n",
            "Epoch 119/200\n",
            "32/32 [==============================] - 0s 3ms/step - loss: 0.6940 - accuracy: 0.4890\n",
            "Epoch 120/200\n",
            "32/32 [==============================] - 0s 2ms/step - loss: 0.6938 - accuracy: 0.4770\n",
            "Epoch 121/200\n",
            "32/32 [==============================] - 0s 3ms/step - loss: 0.6937 - accuracy: 0.5090\n",
            "Epoch 122/200\n",
            "32/32 [==============================] - 0s 3ms/step - loss: 0.6938 - accuracy: 0.4890\n",
            "Epoch 123/200\n",
            "32/32 [==============================] - 0s 3ms/step - loss: 0.6939 - accuracy: 0.4590\n",
            "Epoch 124/200\n",
            "32/32 [==============================] - 0s 3ms/step - loss: 0.6940 - accuracy: 0.4940\n",
            "Epoch 125/200\n",
            "32/32 [==============================] - 0s 3ms/step - loss: 0.6938 - accuracy: 0.4980\n",
            "Epoch 126/200\n",
            "32/32 [==============================] - 0s 3ms/step - loss: 0.6940 - accuracy: 0.4810\n",
            "Epoch 127/200\n",
            "32/32 [==============================] - 0s 2ms/step - loss: 0.6937 - accuracy: 0.4770\n",
            "Epoch 128/200\n",
            "32/32 [==============================] - 0s 3ms/step - loss: 0.6940 - accuracy: 0.4690\n",
            "Epoch 129/200\n",
            "32/32 [==============================] - 0s 3ms/step - loss: 0.6937 - accuracy: 0.4740\n",
            "Epoch 130/200\n",
            "32/32 [==============================] - 0s 3ms/step - loss: 0.6936 - accuracy: 0.5190\n",
            "Epoch 131/200\n",
            "32/32 [==============================] - 0s 3ms/step - loss: 0.6939 - accuracy: 0.4880\n",
            "Epoch 132/200\n",
            "32/32 [==============================] - 0s 3ms/step - loss: 0.6938 - accuracy: 0.4760\n",
            "Epoch 133/200\n",
            "32/32 [==============================] - 0s 3ms/step - loss: 0.6941 - accuracy: 0.4620\n",
            "Epoch 134/200\n",
            "32/32 [==============================] - 0s 3ms/step - loss: 0.6937 - accuracy: 0.4820\n",
            "Epoch 135/200\n",
            "32/32 [==============================] - 0s 3ms/step - loss: 0.6939 - accuracy: 0.4750\n",
            "Epoch 136/200\n",
            "32/32 [==============================] - 0s 3ms/step - loss: 0.6937 - accuracy: 0.4940\n",
            "Epoch 137/200\n",
            "32/32 [==============================] - 0s 3ms/step - loss: 0.6943 - accuracy: 0.4780\n",
            "Epoch 138/200\n",
            "32/32 [==============================] - 0s 3ms/step - loss: 0.6938 - accuracy: 0.4830\n",
            "Epoch 139/200\n",
            "32/32 [==============================] - 0s 3ms/step - loss: 0.6938 - accuracy: 0.4840\n",
            "Epoch 140/200\n",
            "32/32 [==============================] - 0s 3ms/step - loss: 0.6937 - accuracy: 0.5180\n",
            "Epoch 141/200\n",
            "32/32 [==============================] - 0s 3ms/step - loss: 0.6938 - accuracy: 0.4920\n",
            "Epoch 142/200\n",
            "32/32 [==============================] - 0s 2ms/step - loss: 0.6939 - accuracy: 0.4770\n",
            "Epoch 143/200\n",
            "32/32 [==============================] - 0s 3ms/step - loss: 0.6940 - accuracy: 0.4760\n",
            "Epoch 144/200\n",
            "32/32 [==============================] - 0s 3ms/step - loss: 0.6944 - accuracy: 0.4910\n",
            "Epoch 145/200\n",
            "32/32 [==============================] - 0s 3ms/step - loss: 0.6939 - accuracy: 0.4970\n",
            "Epoch 146/200\n",
            "32/32 [==============================] - 0s 2ms/step - loss: 0.6939 - accuracy: 0.4870\n",
            "Epoch 147/200\n",
            "32/32 [==============================] - 0s 3ms/step - loss: 0.6938 - accuracy: 0.4620\n",
            "Epoch 148/200\n",
            "32/32 [==============================] - 0s 3ms/step - loss: 0.6939 - accuracy: 0.4940\n",
            "Epoch 149/200\n",
            "32/32 [==============================] - 0s 3ms/step - loss: 0.6935 - accuracy: 0.5070\n",
            "Epoch 150/200\n",
            "32/32 [==============================] - 0s 3ms/step - loss: 0.6937 - accuracy: 0.4940\n",
            "Epoch 151/200\n",
            "32/32 [==============================] - 0s 3ms/step - loss: 0.6941 - accuracy: 0.4750\n",
            "Epoch 152/200\n",
            "32/32 [==============================] - 0s 3ms/step - loss: 0.6938 - accuracy: 0.4770\n",
            "Epoch 153/200\n",
            "32/32 [==============================] - 0s 3ms/step - loss: 0.6940 - accuracy: 0.4690\n",
            "Epoch 154/200\n",
            "32/32 [==============================] - 0s 2ms/step - loss: 0.6937 - accuracy: 0.5010\n",
            "Epoch 155/200\n",
            "32/32 [==============================] - 0s 2ms/step - loss: 0.6938 - accuracy: 0.4860\n",
            "Epoch 156/200\n",
            "32/32 [==============================] - 0s 3ms/step - loss: 0.6939 - accuracy: 0.4920\n",
            "Epoch 157/200\n",
            "32/32 [==============================] - 0s 3ms/step - loss: 0.6937 - accuracy: 0.5020\n",
            "Epoch 158/200\n",
            "32/32 [==============================] - 0s 3ms/step - loss: 0.6939 - accuracy: 0.4820\n",
            "Epoch 159/200\n",
            "32/32 [==============================] - 0s 3ms/step - loss: 0.6938 - accuracy: 0.4690\n",
            "Epoch 160/200\n",
            "32/32 [==============================] - 0s 3ms/step - loss: 0.6938 - accuracy: 0.4970\n",
            "Epoch 161/200\n",
            "32/32 [==============================] - 0s 3ms/step - loss: 0.6940 - accuracy: 0.4860\n",
            "Epoch 162/200\n",
            "32/32 [==============================] - 0s 2ms/step - loss: 0.6941 - accuracy: 0.4880\n",
            "Epoch 163/200\n",
            "32/32 [==============================] - 0s 3ms/step - loss: 0.6936 - accuracy: 0.4830\n",
            "Epoch 164/200\n",
            "32/32 [==============================] - 0s 2ms/step - loss: 0.6939 - accuracy: 0.4620\n",
            "Epoch 165/200\n",
            "32/32 [==============================] - 0s 3ms/step - loss: 0.6940 - accuracy: 0.4820\n",
            "Epoch 166/200\n",
            "32/32 [==============================] - 0s 3ms/step - loss: 0.6940 - accuracy: 0.4670\n",
            "Epoch 167/200\n",
            "32/32 [==============================] - 0s 4ms/step - loss: 0.6939 - accuracy: 0.4830\n",
            "Epoch 168/200\n",
            "32/32 [==============================] - 0s 3ms/step - loss: 0.6936 - accuracy: 0.5000\n",
            "Epoch 169/200\n",
            "32/32 [==============================] - 0s 4ms/step - loss: 0.6940 - accuracy: 0.4990\n",
            "Epoch 170/200\n",
            "32/32 [==============================] - 0s 4ms/step - loss: 0.6938 - accuracy: 0.4790\n",
            "Epoch 171/200\n",
            "32/32 [==============================] - 0s 4ms/step - loss: 0.6940 - accuracy: 0.4770\n",
            "Epoch 172/200\n",
            "32/32 [==============================] - 0s 4ms/step - loss: 0.6940 - accuracy: 0.5010\n",
            "Epoch 173/200\n",
            "32/32 [==============================] - 0s 5ms/step - loss: 0.6938 - accuracy: 0.4560\n",
            "Epoch 174/200\n",
            "32/32 [==============================] - 0s 4ms/step - loss: 0.6938 - accuracy: 0.4740\n",
            "Epoch 175/200\n",
            "32/32 [==============================] - 0s 4ms/step - loss: 0.6939 - accuracy: 0.4740\n",
            "Epoch 176/200\n",
            "32/32 [==============================] - 0s 3ms/step - loss: 0.6940 - accuracy: 0.4990\n",
            "Epoch 177/200\n",
            "32/32 [==============================] - 0s 4ms/step - loss: 0.6936 - accuracy: 0.4890\n",
            "Epoch 178/200\n",
            "32/32 [==============================] - 0s 4ms/step - loss: 0.6936 - accuracy: 0.4990\n",
            "Epoch 179/200\n",
            "32/32 [==============================] - 0s 4ms/step - loss: 0.6938 - accuracy: 0.4940\n",
            "Epoch 180/200\n",
            "32/32 [==============================] - 0s 4ms/step - loss: 0.6938 - accuracy: 0.5040\n",
            "Epoch 181/200\n",
            "32/32 [==============================] - 0s 4ms/step - loss: 0.6942 - accuracy: 0.4900\n",
            "Epoch 182/200\n",
            "32/32 [==============================] - 0s 5ms/step - loss: 0.6937 - accuracy: 0.5170\n",
            "Epoch 183/200\n",
            "32/32 [==============================] - 0s 4ms/step - loss: 0.6938 - accuracy: 0.4680\n",
            "Epoch 184/200\n",
            "32/32 [==============================] - 0s 4ms/step - loss: 0.6940 - accuracy: 0.4820\n",
            "Epoch 185/200\n",
            "32/32 [==============================] - 0s 5ms/step - loss: 0.6939 - accuracy: 0.4620\n",
            "Epoch 186/200\n",
            "32/32 [==============================] - 0s 4ms/step - loss: 0.6939 - accuracy: 0.4680\n",
            "Epoch 187/200\n",
            "32/32 [==============================] - 0s 4ms/step - loss: 0.6936 - accuracy: 0.4590\n",
            "Epoch 188/200\n",
            "32/32 [==============================] - 0s 4ms/step - loss: 0.6938 - accuracy: 0.4950\n",
            "Epoch 189/200\n",
            "32/32 [==============================] - 0s 4ms/step - loss: 0.6937 - accuracy: 0.4830\n",
            "Epoch 190/200\n",
            "32/32 [==============================] - 0s 4ms/step - loss: 0.6938 - accuracy: 0.4890\n",
            "Epoch 191/200\n",
            "32/32 [==============================] - 0s 5ms/step - loss: 0.6936 - accuracy: 0.5060\n",
            "Epoch 192/200\n",
            "32/32 [==============================] - 0s 5ms/step - loss: 0.6939 - accuracy: 0.4930\n",
            "Epoch 193/200\n",
            "32/32 [==============================] - 0s 4ms/step - loss: 0.6937 - accuracy: 0.4900\n",
            "Epoch 194/200\n",
            "32/32 [==============================] - 0s 4ms/step - loss: 0.6940 - accuracy: 0.4750\n",
            "Epoch 195/200\n",
            "32/32 [==============================] - 0s 3ms/step - loss: 0.6943 - accuracy: 0.4820\n",
            "Epoch 196/200\n",
            "32/32 [==============================] - 0s 3ms/step - loss: 0.6937 - accuracy: 0.4850\n",
            "Epoch 197/200\n",
            "32/32 [==============================] - 0s 3ms/step - loss: 0.6940 - accuracy: 0.4790\n",
            "Epoch 198/200\n",
            "32/32 [==============================] - 0s 2ms/step - loss: 0.6940 - accuracy: 0.4790\n",
            "Epoch 199/200\n",
            "32/32 [==============================] - 0s 3ms/step - loss: 0.6936 - accuracy: 0.4910\n",
            "Epoch 200/200\n",
            "32/32 [==============================] - 0s 3ms/step - loss: 0.6939 - accuracy: 0.5040\n"
          ]
        },
        {
          "output_type": "execute_result",
          "data": {
            "text/plain": [
              "<keras.callbacks.History at 0x7fb5443ea1f0>"
            ]
          },
          "metadata": {},
          "execution_count": 12
        }
      ]
    },
    {
      "cell_type": "code",
      "source": [
        "model_2.evaluate(X, y)"
      ],
      "metadata": {
        "colab": {
          "base_uri": "https://localhost:8080/"
        },
        "id": "Gwf8h3DBFMrt",
        "outputId": "24cf2f41-8cda-4890-d905-7f8ec7ee7551"
      },
      "execution_count": 13,
      "outputs": [
        {
          "output_type": "stream",
          "name": "stdout",
          "text": [
            "32/32 [==============================] - 0s 3ms/step - loss: 0.6932 - accuracy: 0.5050\n"
          ]
        },
        {
          "output_type": "execute_result",
          "data": {
            "text/plain": [
              "[0.6931525468826294, 0.5049999952316284]"
            ]
          },
          "metadata": {},
          "execution_count": 13
        }
      ]
    },
    {
      "cell_type": "code",
      "source": [
        "circles[\"label\"].value_counts()"
      ],
      "metadata": {
        "colab": {
          "base_uri": "https://localhost:8080/"
        },
        "id": "Hocg8k6GOORm",
        "outputId": "9a9a9d5a-eb28-433c-ebfd-ff180423d8d3"
      },
      "execution_count": 14,
      "outputs": [
        {
          "output_type": "execute_result",
          "data": {
            "text/plain": [
              "1    500\n",
              "0    500\n",
              "Name: label, dtype: int64"
            ]
          },
          "metadata": {},
          "execution_count": 14
        }
      ]
    },
    {
      "cell_type": "markdown",
      "source": [
        "## Improving our model\n",
        "\n",
        "1. Create a model - we might add to more layers or increase the number of hidden units within a layer.\n",
        "2. Compile a model - we might choose a different optimization function such as Adam instead of SGD.\n",
        "3. Fitting a model - we might fit our model for more epochs (leave it training for longer).\n"
      ],
      "metadata": {
        "id": "bFrHml-QFxF0"
      }
    },
    {
      "cell_type": "code",
      "source": [
        "# Set the random seed\n",
        "tf.random.set_seed = 43\n",
        "\n",
        "# Create a model\n",
        "model_3 = tf.keras.Sequential([\n",
        "    tf.keras.layers.Dense(10),\n",
        "    tf.keras.layers.Dense(10),\n",
        "    tf.keras.layers.Dense(1)\n",
        "])\n",
        "\n",
        "# Compile the model\n",
        "model_3.compile(loss=tf.keras.losses.BinaryCrossentropy(),\n",
        "                optimizer=tf.keras.optimizers.Adam(),\n",
        "                metrics=[\"accuracy\"])\n",
        "\n",
        "# Fit the model\n",
        "model_3.fit(X, y, epochs=100,verbose=0)\n"
      ],
      "metadata": {
        "colab": {
          "base_uri": "https://localhost:8080/"
        },
        "id": "jQzRmTSmOIab",
        "outputId": "236d11aa-deef-4dce-9503-9530c9e2e31b"
      },
      "execution_count": 19,
      "outputs": [
        {
          "output_type": "execute_result",
          "data": {
            "text/plain": [
              "<keras.callbacks.History at 0x7fb5340a03d0>"
            ]
          },
          "metadata": {},
          "execution_count": 19
        }
      ]
    },
    {
      "cell_type": "code",
      "source": [
        "# Evaluate a model\n",
        "model_3.evaluate(X, y)"
      ],
      "metadata": {
        "colab": {
          "base_uri": "https://localhost:8080/"
        },
        "id": "YplwIK6nRUAn",
        "outputId": "b4ad0a0c-8851-48e0-b841-3b116a5410d6"
      },
      "execution_count": 20,
      "outputs": [
        {
          "output_type": "stream",
          "name": "stdout",
          "text": [
            "32/32 [==============================] - 0s 3ms/step - loss: 0.6933 - accuracy: 0.4920\n"
          ]
        },
        {
          "output_type": "execute_result",
          "data": {
            "text/plain": [
              "[0.6932924389839172, 0.492000013589859]"
            ]
          },
          "metadata": {},
          "execution_count": 20
        }
      ]
    },
    {
      "cell_type": "markdown",
      "source": [
        "To visualize our model's prediction, let's create a function 'plot_decision_boundary()', this function will:\n",
        "\n",
        "* Take in a trained model, features(X), and labels(y)\n",
        "* Create a meshgrid of the different X value_counts\n",
        "* Make predictions across the meshgrid\n",
        "* Plot the predictions as well as a line between zones (Where each unique class falls)"
      ],
      "metadata": {
        "id": "9y_eLabLRliY"
      }
    },
    {
      "cell_type": "code",
      "source": [
        "import numpy as np\n",
        "\n",
        "def plot_decision_boundary(model, X, y):\n",
        "\n",
        "  \"\"\"\n",
        "  Plots the decision boundary created by a model predicting on X.\n",
        "  must check:\n",
        "  1. https://cs231n.github.io/neural-networks-case-study/\n",
        "  2. https://github.com/GokuMohandas/Made-With-ML/tree/main/notebooks\n",
        "  \"\"\"\n",
        "  # Define the axis boundaries of the plot and create a meshgrid\n",
        "  x_min, x_max = X[:,0].min()-0.1, X[:,0].max()+0.1\n",
        "  y_min, y_max = X[:,0].min()-0.1, X[:,0].max()+0.1\n",
        "  xx, yy = np.meshgrid(np.linspace(x_min, x_max, 100),\n",
        "                       np.linspace(y_min, y_max, 100)) \n",
        "  # Create X values (we're going to make predictions on these)\n",
        "  x_in = np.c_[xx.ravel(), yy.ravel()] # stack 2D arrays together\n",
        "\n",
        "  # Make predictions\n",
        "  y_pred = model.predict(x_in)\n",
        "\n",
        "  # Check for multi_class\n",
        "  if len(y_pred[0]) > 1:\n",
        "    print(\"Doing multiclass classification\")\n",
        "    # We have to reshape our prediction to get them ready for plotting\n",
        "    y_pred = np.argmax(y_pred, axis=1).reshape(xx.shape)\n",
        "  else:\n",
        "    print(\"Doing binary classification\")\n",
        "    y_pred = np.round(y_pred).reshape(xx.shape)\n",
        "  \n",
        "  # Plot the decision boundary\n",
        "  plt.contourf(xx, yy, y_pred, cmap=plt.cm.RdYlBu, alpha=0.7)\n",
        "  plt.scatter(X[:, 0], X[:, 1], c=y, s=40, cmap=plt.cm.RdYlBu)\n",
        "  plt.xlim(xx.min(), xx.max())\n",
        "  plt.ylim(yy.min(), yy.max())"
      ],
      "metadata": {
        "id": "KxOs8XOrSQd4"
      },
      "execution_count": 21,
      "outputs": []
    },
    {
      "cell_type": "code",
      "source": [
        "# Check out the predictions our model is making \n",
        "plot_decision_boundary(model=model_3,\n",
        "                       X=X,\n",
        "                       y=y)"
      ],
      "metadata": {
        "colab": {
          "base_uri": "https://localhost:8080/",
          "height": 300
        },
        "id": "teGq3u-EbBOY",
        "outputId": "c6e73877-b672-4f0e-c098-3a363e294970"
      },
      "execution_count": 22,
      "outputs": [
        {
          "output_type": "stream",
          "name": "stdout",
          "text": [
            "313/313 [==============================] - 1s 2ms/step\n",
            "Doing binary classification\n"
          ]
        },
        {
          "output_type": "display_data",
          "data": {
            "text/plain": [
              "<Figure size 432x288 with 1 Axes>"
            ],
            "image/png": "[encoded data removed]"
          },
          "metadata": {
            "needs_background": "light"
          }
        }
      ]
    },
    {
      "cell_type": "markdown",
      "source": [
        "Visualizing what each code does\n"
      ],
      "metadata": {
        "id": "jtl8wW3-c1jJ"
      }
    },
    {
      "cell_type": "code",
      "source": [
        "x_min, x_max = X[:,0].min() - 0.1, X[:,0].max() + 0.1\n",
        "y_min, y_max = X[:,1].min() - 0.1, X[:,1].max() + 0.1\n",
        "\n",
        "x_min, x_max, y_min, y_max"
      ],
      "metadata": {
        "colab": {
          "base_uri": "https://localhost:8080/"
        },
        "id": "XudJ0LyYTocw",
        "outputId": "3c3891dd-cd27-4519-e809-70a77a8bc327"
      },
      "execution_count": 23,
      "outputs": [
        {
          "output_type": "execute_result",
          "data": {
            "text/plain": [
              "(-1.1595024599098636,\n",
              " 1.1337117525463374,\n",
              " -1.1677683182718437,\n",
              " 1.1360036756154805)"
            ]
          },
          "metadata": {},
          "execution_count": 23
        }
      ]
    },
    {
      "cell_type": "code",
      "source": [
        "xx, yy = np.meshgrid(np.linspace(x_min, x_max, 100),\n",
        "                       np.linspace(y_min, y_max, 100))\n",
        "xx,yy"
      ],
      "metadata": {
        "colab": {
          "base_uri": "https://localhost:8080/"
        },
        "id": "stNO_mKPUx79",
        "outputId": "8309252c-50a1-46f8-ad18-11068a058166"
      },
      "execution_count": 24,
      "outputs": [
        {
          "output_type": "execute_result",
          "data": {
            "text/plain": [
              "(array([[-1.15950246, -1.13633868, -1.1131749 , ...,  1.08738419,\n",
              "          1.11054797,  1.13371175],\n",
              "        [-1.15950246, -1.13633868, -1.1131749 , ...,  1.08738419,\n",
              "          1.11054797,  1.13371175],\n",
              "        [-1.15950246, -1.13633868, -1.1131749 , ...,  1.08738419,\n",
              "          1.11054797,  1.13371175],\n",
              "        ...,\n",
              "        [-1.15950246, -1.13633868, -1.1131749 , ...,  1.08738419,\n",
              "          1.11054797,  1.13371175],\n",
              "        [-1.15950246, -1.13633868, -1.1131749 , ...,  1.08738419,\n",
              "          1.11054797,  1.13371175],\n",
              "        [-1.15950246, -1.13633868, -1.1131749 , ...,  1.08738419,\n",
              "          1.11054797,  1.13371175]]),\n",
              " array([[-1.16776832, -1.16776832, -1.16776832, ..., -1.16776832,\n",
              "         -1.16776832, -1.16776832],\n",
              "        [-1.14449789, -1.14449789, -1.14449789, ..., -1.14449789,\n",
              "         -1.14449789, -1.14449789],\n",
              "        [-1.12122747, -1.12122747, -1.12122747, ..., -1.12122747,\n",
              "         -1.12122747, -1.12122747],\n",
              "        ...,\n",
              "        [ 1.08946283,  1.08946283,  1.08946283, ...,  1.08946283,\n",
              "          1.08946283,  1.08946283],\n",
              "        [ 1.11273325,  1.11273325,  1.11273325, ...,  1.11273325,\n",
              "          1.11273325,  1.11273325],\n",
              "        [ 1.13600368,  1.13600368,  1.13600368, ...,  1.13600368,\n",
              "          1.13600368,  1.13600368]]))"
            ]
          },
          "metadata": {},
          "execution_count": 24
        }
      ]
    },
    {
      "cell_type": "code",
      "source": [
        "x_in = np.c_[xx.ravel(), yy.ravel()]\n",
        "x_in"
      ],
      "metadata": {
        "colab": {
          "base_uri": "https://localhost:8080/"
        },
        "id": "CYNg6p8KVncZ",
        "outputId": "0eb24200-a7fb-4325-e0cd-63410cbf2466"
      },
      "execution_count": 25,
      "outputs": [
        {
          "output_type": "execute_result",
          "data": {
            "text/plain": [
              "array([[-1.15950246, -1.16776832],\n",
              "       [-1.13633868, -1.16776832],\n",
              "       [-1.1131749 , -1.16776832],\n",
              "       ...,\n",
              "       [ 1.08738419,  1.13600368],\n",
              "       [ 1.11054797,  1.13600368],\n",
              "       [ 1.13371175,  1.13600368]])"
            ]
          },
          "metadata": {},
          "execution_count": 25
        }
      ]
    },
    {
      "cell_type": "code",
      "source": [
        "y_pred = model_3.predict(x_in)\n",
        "y_pred , y_pred.shape\n"
      ],
      "metadata": {
        "colab": {
          "base_uri": "https://localhost:8080/"
        },
        "id": "IIS6pB2JYC3W",
        "outputId": "05920dab-bdcb-4f94-db21-42c60d5a7bb4"
      },
      "execution_count": 26,
      "outputs": [
        {
          "output_type": "stream",
          "name": "stdout",
          "text": [
            "313/313 [==============================] - 1s 2ms/step\n"
          ]
        },
        {
          "output_type": "execute_result",
          "data": {
            "text/plain": [
              "(array([[0.51488656],\n",
              "        [0.5145865 ],\n",
              "        [0.51428676],\n",
              "        ...,\n",
              "        [0.480389  ],\n",
              "        [0.48008916],\n",
              "        [0.47978923]], dtype=float32), (10000, 1))"
            ]
          },
          "metadata": {},
          "execution_count": 26
        }
      ]
    },
    {
      "cell_type": "code",
      "source": [
        "y_pred = np.round(y_pred).reshape(xx.shape)\n",
        "y_pred"
      ],
      "metadata": {
        "colab": {
          "base_uri": "https://localhost:8080/"
        },
        "id": "94D2L2rOYd3h",
        "outputId": "9d01d31c-f50c-4cd0-f138-e35a8878c012"
      },
      "execution_count": 27,
      "outputs": [
        {
          "output_type": "execute_result",
          "data": {
            "text/plain": [
              "array([[1., 1., 1., ..., 0., 0., 0.],\n",
              "       [1., 1., 1., ..., 0., 0., 0.],\n",
              "       [1., 1., 1., ..., 0., 0., 0.],\n",
              "       ...,\n",
              "       [1., 1., 1., ..., 0., 0., 0.],\n",
              "       [1., 1., 1., ..., 0., 0., 0.],\n",
              "       [1., 1., 1., ..., 0., 0., 0.]], dtype=float32)"
            ]
          },
          "metadata": {},
          "execution_count": 27
        }
      ]
    },
    {
      "cell_type": "code",
      "source": [
        "y_pred.shape, xx.shape"
      ],
      "metadata": {
        "colab": {
          "base_uri": "https://localhost:8080/"
        },
        "id": "o9zng7bfYx7f",
        "outputId": "427daa89-1f25-456a-d80b-6542d6ebc649"
      },
      "execution_count": 28,
      "outputs": [
        {
          "output_type": "execute_result",
          "data": {
            "text/plain": [
              "((100, 100), (100, 100))"
            ]
          },
          "metadata": {},
          "execution_count": 28
        }
      ]
    },
    {
      "cell_type": "code",
      "source": [
        "# Let's see if our model can be used for a regression problem...\n",
        "\n",
        "tf.random.set_seed=42\n",
        "\n",
        "# Create some regression data\n",
        "X_regression = tf.range(0,1000,5)\n",
        "y_regression = tf.range(100,1100,5) # y = X + 100\n",
        "\n",
        "# Split our regression data into training and test sets\n",
        "X_reg_train = X_regression[:150]\n",
        "X_reg_test = X_regression[150:]\n",
        "y_reg_train = y_regression[:150]\n",
        "y_reg_test = y_regression[150:]\n",
        "\n",
        "# Fit our model to our regression data\n",
        "model_3.fit(X_reg_train, y_reg_train, epochs=100)\n"
      ],
      "metadata": {
        "id": "RT4K0SD_a4WA",
        "colab": {
          "base_uri": "https://localhost:8080/",
          "height": 782
        },
        "outputId": "f68a511b-d8f4-4d68-c483-fd9d9ecf7341"
      },
      "execution_count": 30,
      "outputs": [
        {
          "output_type": "stream",
          "name": "stdout",
          "text": [
            "Epoch 1/100\n"
          ]
        },
        {
          "output_type": "stream",
          "name": "stderr",
          "text": [
            "WARNING:tensorflow:Model was constructed with shape (None, None) for input KerasTensor(type_spec=TensorSpec(shape=(None, None), dtype=tf.int32, name='dense_6_input'), name='dense_6_input', description=\"created by layer 'dense_6_input'\"), but it was called on an input with incompatible shape (None,).\n"
          ]
        },
        {
          "output_type": "error",
          "ename": "ValueError",
          "evalue": "ignored",
          "traceback": [
            "\u001b[0;31m---------------------------------------------------------------------------\u001b[0m",
            "\u001b[0;31mValueError\u001b[0m                                Traceback (most recent call last)",
            "\u001b[0;32m<ipython-input-30-920eecb08cba>\u001b[0m in \u001b[0;36m<module>\u001b[0;34m\u001b[0m\n\u001b[1;32m     14\u001b[0m \u001b[0;34m\u001b[0m\u001b[0m\n\u001b[1;32m     15\u001b[0m \u001b[0;31m# Fit our model to our regression data\u001b[0m\u001b[0;34m\u001b[0m\u001b[0;34m\u001b[0m\u001b[0;34m\u001b[0m\u001b[0m\n\u001b[0;32m---> 16\u001b[0;31m \u001b[0mmodel_3\u001b[0m\u001b[0;34m.\u001b[0m\u001b[0mfit\u001b[0m\u001b[0;34m(\u001b[0m\u001b[0mX_reg_train\u001b[0m\u001b[0;34m,\u001b[0m \u001b[0my_reg_train\u001b[0m\u001b[0;34m,\u001b[0m \u001b[0mepochs\u001b[0m\u001b[0;34m=\u001b[0m\u001b[0;36m100\u001b[0m\u001b[0;34m)\u001b[0m\u001b[0;34m\u001b[0m\u001b[0;34m\u001b[0m\u001b[0m\n\u001b[0m",
            "\u001b[0;32m/usr/local/lib/python3.8/dist-packages/keras/utils/traceback_utils.py\u001b[0m in \u001b[0;36merror_handler\u001b[0;34m(*args, **kwargs)\u001b[0m\n\u001b[1;32m     68\u001b[0m             \u001b[0;31m# To get the full stack trace, call:\u001b[0m\u001b[0;34m\u001b[0m\u001b[0;34m\u001b[0m\u001b[0;34m\u001b[0m\u001b[0m\n\u001b[1;32m     69\u001b[0m             \u001b[0;31m# `tf.debugging.disable_traceback_filtering()`\u001b[0m\u001b[0;34m\u001b[0m\u001b[0;34m\u001b[0m\u001b[0;34m\u001b[0m\u001b[0m\n\u001b[0;32m---> 70\u001b[0;31m             \u001b[0;32mraise\u001b[0m \u001b[0me\u001b[0m\u001b[0;34m.\u001b[0m\u001b[0mwith_traceback\u001b[0m\u001b[0;34m(\u001b[0m\u001b[0mfiltered_tb\u001b[0m\u001b[0;34m)\u001b[0m \u001b[0;32mfrom\u001b[0m \u001b[0;32mNone\u001b[0m\u001b[0;34m\u001b[0m\u001b[0;34m\u001b[0m\u001b[0m\n\u001b[0m\u001b[1;32m     71\u001b[0m         \u001b[0;32mfinally\u001b[0m\u001b[0;34m:\u001b[0m\u001b[0;34m\u001b[0m\u001b[0;34m\u001b[0m\u001b[0m\n\u001b[1;32m     72\u001b[0m             \u001b[0;32mdel\u001b[0m \u001b[0mfiltered_tb\u001b[0m\u001b[0;34m\u001b[0m\u001b[0;34m\u001b[0m\u001b[0m\n",
            "\u001b[0;32m/usr/local/lib/python3.8/dist-packages/keras/engine/training.py\u001b[0m in \u001b[0;36mtf__train_function\u001b[0;34m(iterator)\u001b[0m\n\u001b[1;32m     13\u001b[0m                 \u001b[0;32mtry\u001b[0m\u001b[0;34m:\u001b[0m\u001b[0;34m\u001b[0m\u001b[0;34m\u001b[0m\u001b[0m\n\u001b[1;32m     14\u001b[0m                     \u001b[0mdo_return\u001b[0m \u001b[0;34m=\u001b[0m \u001b[0;32mTrue\u001b[0m\u001b[0;34m\u001b[0m\u001b[0;34m\u001b[0m\u001b[0m\n\u001b[0;32m---> 15\u001b[0;31m                     \u001b[0mretval_\u001b[0m \u001b[0;34m=\u001b[0m \u001b[0mag__\u001b[0m\u001b[0;34m.\u001b[0m\u001b[0mconverted_call\u001b[0m\u001b[0;34m(\u001b[0m\u001b[0mag__\u001b[0m\u001b[0;34m.\u001b[0m\u001b[0mld\u001b[0m\u001b[0;34m(\u001b[0m\u001b[0mstep_function\u001b[0m\u001b[0;34m)\u001b[0m\u001b[0;34m,\u001b[0m \u001b[0;34m(\u001b[0m\u001b[0mag__\u001b[0m\u001b[0;34m.\u001b[0m\u001b[0mld\u001b[0m\u001b[0;34m(\u001b[0m\u001b[0mself\u001b[0m\u001b[0;34m)\u001b[0m\u001b[0;34m,\u001b[0m \u001b[0mag__\u001b[0m\u001b[0;34m.\u001b[0m\u001b[0mld\u001b[0m\u001b[0;34m(\u001b[0m\u001b[0miterator\u001b[0m\u001b[0;34m)\u001b[0m\u001b[0;34m)\u001b[0m\u001b[0;34m,\u001b[0m \u001b[0;32mNone\u001b[0m\u001b[0;34m,\u001b[0m \u001b[0mfscope\u001b[0m\u001b[0;34m)\u001b[0m\u001b[0;34m\u001b[0m\u001b[0;34m\u001b[0m\u001b[0m\n\u001b[0m\u001b[1;32m     16\u001b[0m                 \u001b[0;32mexcept\u001b[0m\u001b[0;34m:\u001b[0m\u001b[0;34m\u001b[0m\u001b[0;34m\u001b[0m\u001b[0m\n\u001b[1;32m     17\u001b[0m                     \u001b[0mdo_return\u001b[0m \u001b[0;34m=\u001b[0m \u001b[0;32mFalse\u001b[0m\u001b[0;34m\u001b[0m\u001b[0;34m\u001b[0m\u001b[0m\n",
            "\u001b[0;31mValueError\u001b[0m: in user code:\n\n    File \"/usr/local/lib/python3.8/dist-packages/keras/engine/training.py\", line 1249, in train_function  *\n        return step_function(self, iterator)\n    File \"/usr/local/lib/python3.8/dist-packages/keras/engine/training.py\", line 1233, in step_function  **\n        outputs = model.distribute_strategy.run(run_step, args=(data,))\n    File \"/usr/local/lib/python3.8/dist-packages/keras/engine/training.py\", line 1222, in run_step  **\n        outputs = model.train_step(data)\n    File \"/usr/local/lib/python3.8/dist-packages/keras/engine/training.py\", line 1023, in train_step\n        y_pred = self(x, training=True)\n    File \"/usr/local/lib/python3.8/dist-packages/keras/utils/traceback_utils.py\", line 70, in error_handler\n        raise e.with_traceback(filtered_tb) from None\n    File \"/usr/local/lib/python3.8/dist-packages/keras/engine/input_spec.py\", line 250, in assert_input_compatibility\n        raise ValueError(\n\n    ValueError: Exception encountered when calling layer 'sequential_3' (type Sequential).\n    \n    Input 0 of layer \"dense_6\" is incompatible with the layer: expected min_ndim=2, found ndim=1. Full shape received: (None,)\n    \n    Call arguments received by layer 'sequential_3' (type Sequential):\n      • inputs=tf.Tensor(shape=(None,), dtype=int32)\n      • training=True\n      • mask=None\n"
          ]
        }
      ]
    },
    {
      "cell_type": "markdown",
      "source": [
        "Wait.... We compiled our model for a binary classification problem.\n",
        "But... We're now working on a regression problem, let's change the model to suit our data."
      ],
      "metadata": {
        "id": "bYg_emvh3Pnq"
      }
    },
    {
      "cell_type": "code",
      "source": [
        "# Setup random seed\n",
        "tf.random.set_seed = 43\n",
        "\n",
        "# Create the model\n",
        "model_3 = tf.keras.Sequential([\n",
        "    tf.keras.layers.Dense(100),\n",
        "    tf.keras.layers.Dense(10),\n",
        "    tf.keras.layers.Dense(1)\n",
        "])\n",
        "\n",
        "# Compile the model (with regression specific loss function)\n",
        "model_3.compile(loss= tf.keras.losses.mae,\n",
        "                optimizer= tf.keras.optimizers.Adam(),\n",
        "                metrics=[\"mae\"])\n",
        "\n",
        "# Fit the model \n",
        "model_3.fit(tf.expand_dims(X_reg_train, axis=-1), y_reg_train, epochs=100)\n",
        "\n",
        "\n"
      ],
      "metadata": {
        "colab": {
          "base_uri": "https://localhost:8080/"
        },
        "id": "1-5NpzNg1hAa",
        "outputId": "76728b87-daf9-40c4-da5d-2f86ca9d09e6"
      },
      "execution_count": null,
      "outputs": [
        {
          "output_type": "stream",
          "name": "stdout",
          "text": [
            "Epoch 1/100\n",
            "5/5 [==============================] - 1s 6ms/step - loss: 383.3864 - mae: 383.3864\n",
            "Epoch 2/100\n",
            "5/5 [==============================] - 0s 6ms/step - loss: 279.5085 - mae: 279.5085\n",
            "Epoch 3/100\n",
            "5/5 [==============================] - 0s 4ms/step - loss: 169.2581 - mae: 169.2581\n",
            "Epoch 4/100\n",
            "5/5 [==============================] - 0s 5ms/step - loss: 64.5193 - mae: 64.5193\n",
            "Epoch 5/100\n",
            "5/5 [==============================] - 0s 4ms/step - loss: 70.7784 - mae: 70.7784\n",
            "Epoch 6/100\n",
            "5/5 [==============================] - 0s 4ms/step - loss: 82.9727 - mae: 82.9727\n",
            "Epoch 7/100\n",
            "5/5 [==============================] - 0s 4ms/step - loss: 57.4434 - mae: 57.4434\n",
            "Epoch 8/100\n",
            "5/5 [==============================] - 0s 5ms/step - loss: 43.9402 - mae: 43.9402\n",
            "Epoch 9/100\n",
            "5/5 [==============================] - 0s 4ms/step - loss: 47.2424 - mae: 47.2424\n",
            "Epoch 10/100\n",
            "5/5 [==============================] - 0s 4ms/step - loss: 43.5479 - mae: 43.5479\n",
            "Epoch 11/100\n",
            "5/5 [==============================] - 0s 4ms/step - loss: 45.4555 - mae: 45.4555\n",
            "Epoch 12/100\n",
            "5/5 [==============================] - 0s 4ms/step - loss: 41.9712 - mae: 41.9712\n",
            "Epoch 13/100\n",
            "5/5 [==============================] - 0s 4ms/step - loss: 42.4909 - mae: 42.4909\n",
            "Epoch 14/100\n",
            "5/5 [==============================] - 0s 4ms/step - loss: 41.4637 - mae: 41.4637\n",
            "Epoch 15/100\n",
            "5/5 [==============================] - 0s 4ms/step - loss: 42.0492 - mae: 42.0492\n",
            "Epoch 16/100\n",
            "5/5 [==============================] - 0s 4ms/step - loss: 41.3715 - mae: 41.3715\n",
            "Epoch 17/100\n",
            "5/5 [==============================] - 0s 3ms/step - loss: 41.3552 - mae: 41.3552\n",
            "Epoch 18/100\n",
            "5/5 [==============================] - 0s 3ms/step - loss: 41.3187 - mae: 41.3187\n",
            "Epoch 19/100\n",
            "5/5 [==============================] - 0s 3ms/step - loss: 41.3020 - mae: 41.3020\n",
            "Epoch 20/100\n",
            "5/5 [==============================] - 0s 3ms/step - loss: 41.3420 - mae: 41.3420\n",
            "Epoch 21/100\n",
            "5/5 [==============================] - 0s 3ms/step - loss: 41.4748 - mae: 41.4748\n",
            "Epoch 22/100\n",
            "5/5 [==============================] - 0s 3ms/step - loss: 41.0990 - mae: 41.0990\n",
            "Epoch 23/100\n",
            "5/5 [==============================] - 0s 3ms/step - loss: 41.5363 - mae: 41.5363\n",
            "Epoch 24/100\n",
            "5/5 [==============================] - 0s 3ms/step - loss: 40.9174 - mae: 40.9174\n",
            "Epoch 25/100\n",
            "5/5 [==============================] - 0s 3ms/step - loss: 41.1864 - mae: 41.1864\n",
            "Epoch 26/100\n",
            "5/5 [==============================] - 0s 3ms/step - loss: 41.0376 - mae: 41.0376\n",
            "Epoch 27/100\n",
            "5/5 [==============================] - 0s 3ms/step - loss: 41.1213 - mae: 41.1213\n",
            "Epoch 28/100\n",
            "5/5 [==============================] - 0s 3ms/step - loss: 41.4026 - mae: 41.4026\n",
            "Epoch 29/100\n",
            "5/5 [==============================] - 0s 3ms/step - loss: 41.5557 - mae: 41.5557\n",
            "Epoch 30/100\n",
            "5/5 [==============================] - 0s 3ms/step - loss: 41.1992 - mae: 41.1992\n",
            "Epoch 31/100\n",
            "5/5 [==============================] - 0s 3ms/step - loss: 41.3402 - mae: 41.3402\n",
            "Epoch 32/100\n",
            "5/5 [==============================] - 0s 4ms/step - loss: 40.9953 - mae: 40.9953\n",
            "Epoch 33/100\n",
            "5/5 [==============================] - 0s 4ms/step - loss: 40.7389 - mae: 40.7389\n",
            "Epoch 34/100\n",
            "5/5 [==============================] - 0s 3ms/step - loss: 40.6983 - mae: 40.6983\n",
            "Epoch 35/100\n",
            "5/5 [==============================] - 0s 3ms/step - loss: 40.7179 - mae: 40.7179\n",
            "Epoch 36/100\n",
            "5/5 [==============================] - 0s 3ms/step - loss: 40.6285 - mae: 40.6285\n",
            "Epoch 37/100\n",
            "5/5 [==============================] - 0s 3ms/step - loss: 40.8328 - mae: 40.8328\n",
            "Epoch 38/100\n",
            "5/5 [==============================] - 0s 3ms/step - loss: 40.5609 - mae: 40.5609\n",
            "Epoch 39/100\n",
            "5/5 [==============================] - 0s 3ms/step - loss: 40.6137 - mae: 40.6137\n",
            "Epoch 40/100\n",
            "5/5 [==============================] - 0s 3ms/step - loss: 40.4912 - mae: 40.4912\n",
            "Epoch 41/100\n",
            "5/5 [==============================] - 0s 3ms/step - loss: 40.4448 - mae: 40.4448\n",
            "Epoch 42/100\n",
            "5/5 [==============================] - 0s 3ms/step - loss: 40.7182 - mae: 40.7182\n",
            "Epoch 43/100\n",
            "5/5 [==============================] - 0s 3ms/step - loss: 40.9393 - mae: 40.9393\n",
            "Epoch 44/100\n",
            "5/5 [==============================] - 0s 4ms/step - loss: 40.3166 - mae: 40.3166\n",
            "Epoch 45/100\n",
            "5/5 [==============================] - 0s 3ms/step - loss: 40.4768 - mae: 40.4768\n",
            "Epoch 46/100\n",
            "5/5 [==============================] - 0s 3ms/step - loss: 40.8347 - mae: 40.8347\n",
            "Epoch 47/100\n",
            "5/5 [==============================] - 0s 3ms/step - loss: 40.2262 - mae: 40.2262\n",
            "Epoch 48/100\n",
            "5/5 [==============================] - 0s 3ms/step - loss: 40.5144 - mae: 40.5144\n",
            "Epoch 49/100\n",
            "5/5 [==============================] - 0s 3ms/step - loss: 40.2014 - mae: 40.2014\n",
            "Epoch 50/100\n",
            "5/5 [==============================] - 0s 3ms/step - loss: 40.2679 - mae: 40.2679\n",
            "Epoch 51/100\n",
            "5/5 [==============================] - 0s 3ms/step - loss: 40.2766 - mae: 40.2766\n",
            "Epoch 52/100\n",
            "5/5 [==============================] - 0s 3ms/step - loss: 40.0899 - mae: 40.0899\n",
            "Epoch 53/100\n",
            "5/5 [==============================] - 0s 3ms/step - loss: 40.0722 - mae: 40.0722\n",
            "Epoch 54/100\n",
            "5/5 [==============================] - 0s 5ms/step - loss: 40.1492 - mae: 40.1492\n",
            "Epoch 55/100\n",
            "5/5 [==============================] - 0s 3ms/step - loss: 40.0471 - mae: 40.0471\n",
            "Epoch 56/100\n",
            "5/5 [==============================] - 0s 3ms/step - loss: 39.9090 - mae: 39.9090\n",
            "Epoch 57/100\n",
            "5/5 [==============================] - 0s 3ms/step - loss: 39.8629 - mae: 39.8629\n",
            "Epoch 58/100\n",
            "5/5 [==============================] - 0s 3ms/step - loss: 40.0372 - mae: 40.0372\n",
            "Epoch 59/100\n",
            "5/5 [==============================] - 0s 3ms/step - loss: 39.9189 - mae: 39.9189\n",
            "Epoch 60/100\n",
            "5/5 [==============================] - 0s 4ms/step - loss: 39.7899 - mae: 39.7899\n",
            "Epoch 61/100\n",
            "5/5 [==============================] - 0s 4ms/step - loss: 39.7706 - mae: 39.7706\n",
            "Epoch 62/100\n",
            "5/5 [==============================] - 0s 3ms/step - loss: 39.9500 - mae: 39.9500\n",
            "Epoch 63/100\n",
            "5/5 [==============================] - 0s 4ms/step - loss: 40.0264 - mae: 40.0264\n",
            "Epoch 64/100\n",
            "5/5 [==============================] - 0s 4ms/step - loss: 40.0229 - mae: 40.0229\n",
            "Epoch 65/100\n",
            "5/5 [==============================] - 0s 3ms/step - loss: 40.7802 - mae: 40.7802\n",
            "Epoch 66/100\n",
            "5/5 [==============================] - 0s 3ms/step - loss: 40.8899 - mae: 40.8899\n",
            "Epoch 67/100\n",
            "5/5 [==============================] - 0s 3ms/step - loss: 41.4035 - mae: 41.4035\n",
            "Epoch 68/100\n",
            "5/5 [==============================] - 0s 3ms/step - loss: 40.4684 - mae: 40.4684\n",
            "Epoch 69/100\n",
            "5/5 [==============================] - 0s 5ms/step - loss: 39.5837 - mae: 39.5837\n",
            "Epoch 70/100\n",
            "5/5 [==============================] - 0s 3ms/step - loss: 40.0797 - mae: 40.0797\n",
            "Epoch 71/100\n",
            "5/5 [==============================] - 0s 3ms/step - loss: 39.5601 - mae: 39.5601\n",
            "Epoch 72/100\n",
            "5/5 [==============================] - 0s 3ms/step - loss: 39.4371 - mae: 39.4371\n",
            "Epoch 73/100\n",
            "5/5 [==============================] - 0s 3ms/step - loss: 39.2733 - mae: 39.2733\n",
            "Epoch 74/100\n",
            "5/5 [==============================] - 0s 3ms/step - loss: 39.6660 - mae: 39.6660\n",
            "Epoch 75/100\n",
            "5/5 [==============================] - 0s 3ms/step - loss: 39.0549 - mae: 39.0549\n",
            "Epoch 76/100\n",
            "5/5 [==============================] - 0s 3ms/step - loss: 39.2020 - mae: 39.2020\n",
            "Epoch 77/100\n",
            "5/5 [==============================] - 0s 3ms/step - loss: 39.1284 - mae: 39.1284\n",
            "Epoch 78/100\n",
            "5/5 [==============================] - 0s 3ms/step - loss: 39.1019 - mae: 39.1019\n",
            "Epoch 79/100\n",
            "5/5 [==============================] - 0s 3ms/step - loss: 39.0712 - mae: 39.0712\n",
            "Epoch 80/100\n",
            "5/5 [==============================] - 0s 4ms/step - loss: 38.9334 - mae: 38.9334\n",
            "Epoch 81/100\n",
            "5/5 [==============================] - 0s 3ms/step - loss: 39.0841 - mae: 39.0841\n",
            "Epoch 82/100\n",
            "5/5 [==============================] - 0s 3ms/step - loss: 39.0585 - mae: 39.0585\n",
            "Epoch 83/100\n",
            "5/5 [==============================] - 0s 3ms/step - loss: 39.3869 - mae: 39.3869\n",
            "Epoch 84/100\n",
            "5/5 [==============================] - 0s 3ms/step - loss: 39.2750 - mae: 39.2750\n",
            "Epoch 85/100\n",
            "5/5 [==============================] - 0s 3ms/step - loss: 39.3195 - mae: 39.3195\n",
            "Epoch 86/100\n",
            "5/5 [==============================] - 0s 3ms/step - loss: 39.1036 - mae: 39.1036\n",
            "Epoch 87/100\n",
            "5/5 [==============================] - 0s 3ms/step - loss: 38.6241 - mae: 38.6241\n",
            "Epoch 88/100\n",
            "5/5 [==============================] - 0s 3ms/step - loss: 39.0178 - mae: 39.0178\n",
            "Epoch 89/100\n",
            "5/5 [==============================] - 0s 3ms/step - loss: 39.6241 - mae: 39.6241\n",
            "Epoch 90/100\n",
            "5/5 [==============================] - 0s 4ms/step - loss: 38.9273 - mae: 38.9273\n",
            "Epoch 91/100\n",
            "5/5 [==============================] - 0s 3ms/step - loss: 38.9577 - mae: 38.9577\n",
            "Epoch 92/100\n",
            "5/5 [==============================] - 0s 5ms/step - loss: 38.9827 - mae: 38.9827\n",
            "Epoch 93/100\n",
            "5/5 [==============================] - 0s 3ms/step - loss: 39.9490 - mae: 39.9490\n",
            "Epoch 94/100\n",
            "5/5 [==============================] - 0s 3ms/step - loss: 38.1624 - mae: 38.1624\n",
            "Epoch 95/100\n",
            "5/5 [==============================] - 0s 3ms/step - loss: 39.0245 - mae: 39.0245\n",
            "Epoch 96/100\n",
            "5/5 [==============================] - 0s 3ms/step - loss: 38.3607 - mae: 38.3607\n",
            "Epoch 97/100\n",
            "5/5 [==============================] - 0s 3ms/step - loss: 38.3829 - mae: 38.3829\n",
            "Epoch 98/100\n",
            "5/5 [==============================] - 0s 3ms/step - loss: 39.0034 - mae: 39.0034\n",
            "Epoch 99/100\n",
            "5/5 [==============================] - 0s 3ms/step - loss: 38.5877 - mae: 38.5877\n",
            "Epoch 100/100\n",
            "5/5 [==============================] - 0s 3ms/step - loss: 38.1823 - mae: 38.1823\n"
          ]
        },
        {
          "output_type": "execute_result",
          "data": {
            "text/plain": [
              "<keras.callbacks.History at 0x7f791aaf5520>"
            ]
          },
          "metadata": {},
          "execution_count": 29
        }
      ]
    },
    {
      "cell_type": "code",
      "source": [
        "# Make predictions with our trained model\n",
        "y_reg_preds = model_3.predict(X_reg_test)\n",
        "\n",
        "# Plot the model's prediction against our regression data\n",
        "plt.figure(figsize=(10, 7))\n",
        "plt.scatter(X_reg_train, y_reg_train, c=\"b\", label=\"Training data\")\n",
        "plt.scatter(X_reg_test, y_reg_test, c=\"g\", label=\"Test data\")\n",
        "plt.scatter(X_reg_test, y_reg_preds, c=\"r\", label=\"Predictions\")\n",
        "plt.legend();"
      ],
      "metadata": {
        "colab": {
          "base_uri": "https://localhost:8080/",
          "height": 445
        },
        "id": "ArzA0e4O5o6b",
        "outputId": "9db5da1e-9701-4db5-ecf2-ace72946c7f5"
      },
      "execution_count": null,
      "outputs": [
        {
          "output_type": "stream",
          "name": "stdout",
          "text": [
            "2/2 [==============================] - 0s 6ms/step\n"
          ]
        },
        {
          "output_type": "display_data",
          "data": {
            "text/plain": [
              "<Figure size 720x504 with 1 Axes>"
            ],
            "image/png": "[encoded data removed]"
          },
          "metadata": {
            "needs_background": "light"
          }
        }
      ]
    },
    {
      "cell_type": "markdown",
      "source": [
        "## The missing piece: Non-Linearity"
      ],
      "metadata": {
        "id": "RS_A24R07X1c"
      }
    },
    {
      "cell_type": "code",
      "source": [
        "# Set the random seed\n",
        "tf.random.set_seed = 43\n",
        "\n",
        "# Create the model\n",
        "model_4 =  tf.keras.Sequential([\n",
        "    tf.keras.layers.Dense(1, activation=tf.keras.activations.linear)\n",
        "])\n",
        "\n",
        "# compile the model\n",
        "model_4.compile(loss=\"binary_crossentropy\",\n",
        "                optimizer=tf.keras.optimizers.Adam(lr=0.001),\n",
        "                metrics=[\"accuracy\"])\n",
        "\n",
        "#3.Fit the model\n",
        "history = model_4.fit(X, y, epochs=100)\n"
      ],
      "metadata": {
        "colab": {
          "base_uri": "https://localhost:8080/"
        },
        "id": "Adc0juys7-1D",
        "outputId": "d7d21d69-01ef-436e-b12c-b466d48cd930"
      },
      "execution_count": null,
      "outputs": [
        {
          "output_type": "stream",
          "name": "stderr",
          "text": [
            "WARNING:absl:`lr` is deprecated, please use `learning_rate` instead, or use the legacy optimizer, e.g.,tf.keras.optimizers.legacy.Adam.\n"
          ]
        },
        {
          "output_type": "stream",
          "name": "stdout",
          "text": [
            "Epoch 1/100\n",
            "32/32 [==============================] - 1s 2ms/step - loss: 5.7434 - accuracy: 0.4820\n",
            "Epoch 2/100\n",
            "32/32 [==============================] - 0s 2ms/step - loss: 5.6848 - accuracy: 0.4820\n",
            "Epoch 3/100\n",
            "32/32 [==============================] - 0s 2ms/step - loss: 5.5834 - accuracy: 0.4810\n",
            "Epoch 4/100\n",
            "32/32 [==============================] - 0s 2ms/step - loss: 5.5301 - accuracy: 0.4790\n",
            "Epoch 5/100\n",
            "32/32 [==============================] - 0s 2ms/step - loss: 5.4627 - accuracy: 0.4790\n",
            "Epoch 6/100\n",
            "32/32 [==============================] - 0s 2ms/step - loss: 5.4382 - accuracy: 0.4780\n",
            "Epoch 7/100\n",
            "32/32 [==============================] - 0s 2ms/step - loss: 5.4015 - accuracy: 0.4790\n",
            "Epoch 8/100\n",
            "32/32 [==============================] - 0s 2ms/step - loss: 5.3555 - accuracy: 0.4790\n",
            "Epoch 9/100\n",
            "32/32 [==============================] - 0s 2ms/step - loss: 5.3474 - accuracy: 0.4780\n",
            "Epoch 10/100\n",
            "32/32 [==============================] - 0s 2ms/step - loss: 5.3438 - accuracy: 0.4770\n",
            "Epoch 11/100\n",
            "32/32 [==============================] - 0s 2ms/step - loss: 5.3188 - accuracy: 0.4770\n",
            "Epoch 12/100\n",
            "32/32 [==============================] - 0s 2ms/step - loss: 5.2960 - accuracy: 0.4780\n",
            "Epoch 13/100\n",
            "32/32 [==============================] - 0s 3ms/step - loss: 5.2803 - accuracy: 0.4790\n",
            "Epoch 14/100\n",
            "32/32 [==============================] - 0s 2ms/step - loss: 5.2129 - accuracy: 0.4760\n",
            "Epoch 15/100\n",
            "32/32 [==============================] - 0s 2ms/step - loss: 4.9837 - accuracy: 0.4740\n",
            "Epoch 16/100\n",
            "32/32 [==============================] - 0s 2ms/step - loss: 4.9385 - accuracy: 0.4720\n",
            "Epoch 17/100\n",
            "32/32 [==============================] - 0s 2ms/step - loss: 4.9305 - accuracy: 0.4730\n",
            "Epoch 18/100\n",
            "32/32 [==============================] - 0s 2ms/step - loss: 4.7846 - accuracy: 0.4720\n",
            "Epoch 19/100\n",
            "32/32 [==============================] - 0s 2ms/step - loss: 4.7309 - accuracy: 0.4730\n",
            "Epoch 20/100\n",
            "32/32 [==============================] - 0s 2ms/step - loss: 4.8370 - accuracy: 0.4720\n",
            "Epoch 21/100\n",
            "32/32 [==============================] - 0s 2ms/step - loss: 4.8312 - accuracy: 0.4720\n",
            "Epoch 22/100\n",
            "32/32 [==============================] - 0s 2ms/step - loss: 4.7880 - accuracy: 0.4720\n",
            "Epoch 23/100\n",
            "32/32 [==============================] - 0s 2ms/step - loss: 4.7600 - accuracy: 0.4730\n",
            "Epoch 24/100\n",
            "32/32 [==============================] - 0s 2ms/step - loss: 4.7440 - accuracy: 0.4730\n",
            "Epoch 25/100\n",
            "32/32 [==============================] - 0s 2ms/step - loss: 4.7176 - accuracy: 0.4740\n",
            "Epoch 26/100\n",
            "32/32 [==============================] - 0s 2ms/step - loss: 4.6599 - accuracy: 0.4720\n",
            "Epoch 27/100\n",
            "32/32 [==============================] - 0s 2ms/step - loss: 4.6331 - accuracy: 0.4730\n",
            "Epoch 28/100\n",
            "32/32 [==============================] - 0s 2ms/step - loss: 4.6265 - accuracy: 0.4740\n",
            "Epoch 29/100\n",
            "32/32 [==============================] - 0s 2ms/step - loss: 4.6230 - accuracy: 0.4740\n",
            "Epoch 30/100\n",
            "32/32 [==============================] - 0s 2ms/step - loss: 4.6207 - accuracy: 0.4740\n",
            "Epoch 31/100\n",
            "32/32 [==============================] - 0s 2ms/step - loss: 4.6188 - accuracy: 0.4740\n",
            "Epoch 32/100\n",
            "32/32 [==============================] - 0s 2ms/step - loss: 4.6090 - accuracy: 0.4730\n",
            "Epoch 33/100\n",
            "32/32 [==============================] - 0s 2ms/step - loss: 4.6057 - accuracy: 0.4730\n",
            "Epoch 34/100\n",
            "32/32 [==============================] - 0s 2ms/step - loss: 4.6027 - accuracy: 0.4730\n",
            "Epoch 35/100\n",
            "32/32 [==============================] - 0s 2ms/step - loss: 4.6011 - accuracy: 0.4730\n",
            "Epoch 36/100\n",
            "32/32 [==============================] - 0s 2ms/step - loss: 4.5996 - accuracy: 0.4730\n",
            "Epoch 37/100\n",
            "32/32 [==============================] - 0s 2ms/step - loss: 4.5983 - accuracy: 0.4730\n",
            "Epoch 38/100\n",
            "32/32 [==============================] - 0s 2ms/step - loss: 4.5971 - accuracy: 0.4730\n",
            "Epoch 39/100\n",
            "32/32 [==============================] - 0s 2ms/step - loss: 4.5960 - accuracy: 0.4730\n",
            "Epoch 40/100\n",
            "32/32 [==============================] - 0s 2ms/step - loss: 4.5872 - accuracy: 0.4730\n",
            "Epoch 41/100\n",
            "32/32 [==============================] - 0s 2ms/step - loss: 4.5737 - accuracy: 0.4720\n",
            "Epoch 42/100\n",
            "32/32 [==============================] - 0s 2ms/step - loss: 4.5625 - accuracy: 0.4720\n",
            "Epoch 43/100\n",
            "32/32 [==============================] - 0s 2ms/step - loss: 4.5595 - accuracy: 0.4720\n",
            "Epoch 44/100\n",
            "32/32 [==============================] - 0s 2ms/step - loss: 4.5501 - accuracy: 0.4710\n",
            "Epoch 45/100\n",
            "32/32 [==============================] - 0s 2ms/step - loss: 4.5330 - accuracy: 0.4700\n",
            "Epoch 46/100\n",
            "32/32 [==============================] - 0s 2ms/step - loss: 4.5875 - accuracy: 0.4710\n",
            "Epoch 47/100\n",
            "32/32 [==============================] - 0s 2ms/step - loss: 4.5867 - accuracy: 0.4700\n",
            "Epoch 48/100\n",
            "32/32 [==============================] - 0s 2ms/step - loss: 4.5866 - accuracy: 0.4700\n",
            "Epoch 49/100\n",
            "32/32 [==============================] - 0s 2ms/step - loss: 4.5865 - accuracy: 0.4700\n",
            "Epoch 50/100\n",
            "32/32 [==============================] - 0s 2ms/step - loss: 4.5865 - accuracy: 0.4700\n",
            "Epoch 51/100\n",
            "32/32 [==============================] - 0s 2ms/step - loss: 4.5864 - accuracy: 0.4700\n",
            "Epoch 52/100\n",
            "32/32 [==============================] - 0s 2ms/step - loss: 4.5864 - accuracy: 0.4700\n",
            "Epoch 53/100\n",
            "32/32 [==============================] - 0s 2ms/step - loss: 4.5863 - accuracy: 0.4700\n",
            "Epoch 54/100\n",
            "32/32 [==============================] - 0s 2ms/step - loss: 4.5863 - accuracy: 0.4700\n",
            "Epoch 55/100\n",
            "32/32 [==============================] - 0s 2ms/step - loss: 4.5862 - accuracy: 0.4700\n",
            "Epoch 56/100\n",
            "32/32 [==============================] - 0s 2ms/step - loss: 4.5861 - accuracy: 0.4700\n",
            "Epoch 57/100\n",
            "32/32 [==============================] - 0s 2ms/step - loss: 4.5861 - accuracy: 0.4700\n",
            "Epoch 58/100\n",
            "32/32 [==============================] - 0s 2ms/step - loss: 4.5860 - accuracy: 0.4700\n",
            "Epoch 59/100\n",
            "32/32 [==============================] - 0s 2ms/step - loss: 4.5859 - accuracy: 0.4700\n",
            "Epoch 60/100\n",
            "32/32 [==============================] - 0s 2ms/step - loss: 4.5859 - accuracy: 0.4700\n",
            "Epoch 61/100\n",
            "32/32 [==============================] - 0s 2ms/step - loss: 4.5858 - accuracy: 0.4700\n",
            "Epoch 62/100\n",
            "32/32 [==============================] - 0s 2ms/step - loss: 4.5858 - accuracy: 0.4700\n",
            "Epoch 63/100\n",
            "32/32 [==============================] - 0s 2ms/step - loss: 4.5857 - accuracy: 0.4700\n",
            "Epoch 64/100\n",
            "32/32 [==============================] - 0s 2ms/step - loss: 4.5856 - accuracy: 0.4700\n",
            "Epoch 65/100\n",
            "32/32 [==============================] - 0s 2ms/step - loss: 4.5855 - accuracy: 0.4700\n",
            "Epoch 66/100\n",
            "32/32 [==============================] - 0s 2ms/step - loss: 4.5855 - accuracy: 0.4700\n",
            "Epoch 67/100\n",
            "32/32 [==============================] - 0s 2ms/step - loss: 4.5854 - accuracy: 0.4700\n",
            "Epoch 68/100\n",
            "32/32 [==============================] - 0s 2ms/step - loss: 4.5853 - accuracy: 0.4700\n",
            "Epoch 69/100\n",
            "32/32 [==============================] - 0s 2ms/step - loss: 4.5853 - accuracy: 0.4700\n",
            "Epoch 70/100\n",
            "32/32 [==============================] - 0s 2ms/step - loss: 4.5852 - accuracy: 0.4700\n",
            "Epoch 71/100\n",
            "32/32 [==============================] - 0s 2ms/step - loss: 4.5700 - accuracy: 0.4700\n",
            "Epoch 72/100\n",
            "32/32 [==============================] - 0s 2ms/step - loss: 4.5531 - accuracy: 0.4700\n",
            "Epoch 73/100\n",
            "32/32 [==============================] - 0s 2ms/step - loss: 4.5530 - accuracy: 0.4700\n",
            "Epoch 74/100\n",
            "32/32 [==============================] - 0s 2ms/step - loss: 4.5529 - accuracy: 0.4700\n",
            "Epoch 75/100\n",
            "32/32 [==============================] - 0s 2ms/step - loss: 4.5387 - accuracy: 0.4690\n",
            "Epoch 76/100\n",
            "32/32 [==============================] - 0s 2ms/step - loss: 4.5238 - accuracy: 0.4750\n",
            "Epoch 77/100\n",
            "32/32 [==============================] - 0s 2ms/step - loss: 4.5239 - accuracy: 0.4750\n",
            "Epoch 78/100\n",
            "32/32 [==============================] - 0s 2ms/step - loss: 4.5237 - accuracy: 0.4750\n",
            "Epoch 79/100\n",
            "32/32 [==============================] - 0s 2ms/step - loss: 4.5235 - accuracy: 0.4750\n",
            "Epoch 80/100\n",
            "32/32 [==============================] - 0s 2ms/step - loss: 4.5232 - accuracy: 0.4750\n",
            "Epoch 81/100\n",
            "32/32 [==============================] - 0s 2ms/step - loss: 4.5230 - accuracy: 0.4740\n",
            "Epoch 82/100\n",
            "32/32 [==============================] - 0s 2ms/step - loss: 4.5228 - accuracy: 0.4740\n",
            "Epoch 83/100\n",
            "32/32 [==============================] - 0s 2ms/step - loss: 4.5226 - accuracy: 0.4740\n",
            "Epoch 84/100\n",
            "32/32 [==============================] - 0s 2ms/step - loss: 4.5224 - accuracy: 0.4730\n",
            "Epoch 85/100\n",
            "32/32 [==============================] - 0s 2ms/step - loss: 4.5222 - accuracy: 0.4730\n",
            "Epoch 86/100\n",
            "32/32 [==============================] - 0s 2ms/step - loss: 4.5220 - accuracy: 0.4730\n",
            "Epoch 87/100\n",
            "32/32 [==============================] - 0s 2ms/step - loss: 4.5218 - accuracy: 0.4730\n",
            "Epoch 88/100\n",
            "32/32 [==============================] - 0s 2ms/step - loss: 4.5215 - accuracy: 0.4730\n",
            "Epoch 89/100\n",
            "32/32 [==============================] - 0s 2ms/step - loss: 4.5213 - accuracy: 0.4730\n",
            "Epoch 90/100\n",
            "32/32 [==============================] - 0s 2ms/step - loss: 4.5211 - accuracy: 0.4740\n",
            "Epoch 91/100\n",
            "32/32 [==============================] - 0s 2ms/step - loss: 4.5209 - accuracy: 0.4740\n",
            "Epoch 92/100\n",
            "32/32 [==============================] - 0s 2ms/step - loss: 4.5206 - accuracy: 0.4740\n",
            "Epoch 93/100\n",
            "32/32 [==============================] - 0s 2ms/step - loss: 4.5204 - accuracy: 0.4740\n",
            "Epoch 94/100\n",
            "32/32 [==============================] - 0s 2ms/step - loss: 4.5202 - accuracy: 0.4740\n",
            "Epoch 95/100\n",
            "32/32 [==============================] - 0s 2ms/step - loss: 4.5200 - accuracy: 0.4730\n",
            "Epoch 96/100\n",
            "32/32 [==============================] - 0s 2ms/step - loss: 4.5197 - accuracy: 0.4730\n",
            "Epoch 97/100\n",
            "32/32 [==============================] - 0s 2ms/step - loss: 4.5195 - accuracy: 0.4730\n",
            "Epoch 98/100\n",
            "32/32 [==============================] - 0s 2ms/step - loss: 4.5193 - accuracy: 0.4720\n",
            "Epoch 99/100\n",
            "32/32 [==============================] - 0s 2ms/step - loss: 4.5190 - accuracy: 0.4720\n",
            "Epoch 100/100\n",
            "32/32 [==============================] - 0s 2ms/step - loss: 4.5188 - accuracy: 0.4720\n"
          ]
        }
      ]
    },
    {
      "cell_type": "code",
      "source": [
        "# Check out our data\n",
        "plt.scatter(X[:,0], X[:,1], c=y, cmap=plt.cm.RdYlBu)"
      ],
      "metadata": {
        "colab": {
          "base_uri": "https://localhost:8080/",
          "height": 282
        },
        "id": "Wiqur5HTG67A",
        "outputId": "2fb2d657-eb38-479e-a8cf-8282239d6634"
      },
      "execution_count": null,
      "outputs": [
        {
          "output_type": "execute_result",
          "data": {
            "text/plain": [
              "<matplotlib.collections.PathCollection at 0x7f791a8eb610>"
            ]
          },
          "metadata": {},
          "execution_count": 32
        },
        {
          "output_type": "display_data",
          "data": {
            "text/plain": [
              "<Figure size 432x288 with 1 Axes>"
            ],
            "image/png": "[encoded data removed]"
          },
          "metadata": {
            "needs_background": "light"
          }
        }
      ]
    },
    {
      "cell_type": "code",
      "source": [
        "# Check the desicion boundary for our latest model\n",
        "plot_decision_boundary(model=model_4,\n",
        "                       X=X,\n",
        "                       y=y)"
      ],
      "metadata": {
        "colab": {
          "base_uri": "https://localhost:8080/",
          "height": 300
        },
        "id": "QkA81Di7HnM5",
        "outputId": "e8ced081-fe40-4bc9-a952-91a57f5995cb"
      },
      "execution_count": null,
      "outputs": [
        {
          "output_type": "stream",
          "name": "stdout",
          "text": [
            "313/313 [==============================] - 0s 1ms/step\n",
            "Doing binary classification\n"
          ]
        },
        {
          "output_type": "display_data",
          "data": {
            "text/plain": [
              "<Figure size 432x288 with 1 Axes>"
            ],
            "image/png": "[encoded data removed]"
          },
          "metadata": {
            "needs_background": "light"
          }
        }
      ]
    },
    {
      "cell_type": "markdown",
      "source": [
        "Let's try to build our first neural network with a non-linear activation function.\n"
      ],
      "metadata": {
        "id": "1dnFzZXSImu5"
      }
    },
    {
      "cell_type": "code",
      "source": [
        "# Set random seed\n",
        "tf.random.set_seed = 43\n",
        "\n",
        "# create a model with a non-linear activation\n",
        "model_5 = tf.keras.Sequential([\n",
        "    tf.keras.layers.Dense(1, activation=tf.keras.activations.relu)\n",
        "])\n",
        "\n",
        "# compile the model\n",
        "model_5.compile(loss=tf.keras.losses.BinaryCrossentropy(),\n",
        "                optimizer=tf.keras.optimizers.Adam(lr=0.001),\n",
        "                metrics=[\"accuracy\"])\n",
        "\n",
        "# Fit the model\n",
        "history = model_5.fit(X, y, epochs=100)"
      ],
      "metadata": {
        "colab": {
          "base_uri": "https://localhost:8080/"
        },
        "id": "87jynayRH5n5",
        "outputId": "56ce9382-4e7b-4005-d3a2-5927e41c0189"
      },
      "execution_count": null,
      "outputs": [
        {
          "output_type": "stream",
          "name": "stderr",
          "text": [
            "WARNING:absl:`lr` is deprecated, please use `learning_rate` instead, or use the legacy optimizer, e.g.,tf.keras.optimizers.legacy.Adam.\n"
          ]
        },
        {
          "output_type": "stream",
          "name": "stdout",
          "text": [
            "Epoch 1/100\n",
            "32/32 [==============================] - 1s 2ms/step - loss: 5.3761 - accuracy: 0.4810\n",
            "Epoch 2/100\n",
            "32/32 [==============================] - 0s 2ms/step - loss: 5.2583 - accuracy: 0.4800\n",
            "Epoch 3/100\n",
            "32/32 [==============================] - 0s 2ms/step - loss: 5.1570 - accuracy: 0.4810\n",
            "Epoch 4/100\n",
            "32/32 [==============================] - 0s 2ms/step - loss: 4.9982 - accuracy: 0.4820\n",
            "Epoch 5/100\n",
            "32/32 [==============================] - 0s 2ms/step - loss: 4.7383 - accuracy: 0.4810\n",
            "Epoch 6/100\n",
            "32/32 [==============================] - 0s 2ms/step - loss: 4.6828 - accuracy: 0.4800\n",
            "Epoch 7/100\n",
            "32/32 [==============================] - 0s 2ms/step - loss: 4.6111 - accuracy: 0.4760\n",
            "Epoch 8/100\n",
            "32/32 [==============================] - 0s 2ms/step - loss: 4.5939 - accuracy: 0.4750\n",
            "Epoch 9/100\n",
            "32/32 [==============================] - 0s 2ms/step - loss: 4.5651 - accuracy: 0.4750\n",
            "Epoch 10/100\n",
            "32/32 [==============================] - 0s 2ms/step - loss: 4.5565 - accuracy: 0.4740\n",
            "Epoch 11/100\n",
            "32/32 [==============================] - 0s 2ms/step - loss: 4.5388 - accuracy: 0.4770\n",
            "Epoch 12/100\n",
            "32/32 [==============================] - 0s 2ms/step - loss: 4.5194 - accuracy: 0.4750\n",
            "Epoch 13/100\n",
            "32/32 [==============================] - 0s 2ms/step - loss: 4.5047 - accuracy: 0.4750\n",
            "Epoch 14/100\n",
            "32/32 [==============================] - 0s 2ms/step - loss: 4.4982 - accuracy: 0.4710\n",
            "Epoch 15/100\n",
            "32/32 [==============================] - 0s 2ms/step - loss: 4.4938 - accuracy: 0.4710\n",
            "Epoch 16/100\n",
            "32/32 [==============================] - 0s 2ms/step - loss: 4.4902 - accuracy: 0.4710\n",
            "Epoch 17/100\n",
            "32/32 [==============================] - 0s 2ms/step - loss: 4.4867 - accuracy: 0.4710\n",
            "Epoch 18/100\n",
            "32/32 [==============================] - 0s 2ms/step - loss: 4.4835 - accuracy: 0.4710\n",
            "Epoch 19/100\n",
            "32/32 [==============================] - 0s 2ms/step - loss: 4.4807 - accuracy: 0.4710\n",
            "Epoch 20/100\n",
            "32/32 [==============================] - 0s 2ms/step - loss: 4.4781 - accuracy: 0.4710\n",
            "Epoch 21/100\n",
            "32/32 [==============================] - 0s 2ms/step - loss: 4.4753 - accuracy: 0.4710\n",
            "Epoch 22/100\n",
            "32/32 [==============================] - 0s 2ms/step - loss: 4.4729 - accuracy: 0.4720\n",
            "Epoch 23/100\n",
            "32/32 [==============================] - 0s 2ms/step - loss: 4.4704 - accuracy: 0.4740\n",
            "Epoch 24/100\n",
            "32/32 [==============================] - 0s 3ms/step - loss: 4.4681 - accuracy: 0.4740\n",
            "Epoch 25/100\n",
            "32/32 [==============================] - 0s 3ms/step - loss: 4.4658 - accuracy: 0.4720\n",
            "Epoch 26/100\n",
            "32/32 [==============================] - 0s 3ms/step - loss: 4.4636 - accuracy: 0.4720\n",
            "Epoch 27/100\n",
            "32/32 [==============================] - 0s 3ms/step - loss: 4.4614 - accuracy: 0.4720\n",
            "Epoch 28/100\n",
            "32/32 [==============================] - 0s 3ms/step - loss: 4.4423 - accuracy: 0.4740\n",
            "Epoch 29/100\n",
            "32/32 [==============================] - 0s 3ms/step - loss: 4.4133 - accuracy: 0.4750\n",
            "Epoch 30/100\n",
            "32/32 [==============================] - 0s 3ms/step - loss: 4.3915 - accuracy: 0.4770\n",
            "Epoch 31/100\n",
            "32/32 [==============================] - 0s 3ms/step - loss: 4.3892 - accuracy: 0.4770\n",
            "Epoch 32/100\n",
            "32/32 [==============================] - 0s 3ms/step - loss: 4.3878 - accuracy: 0.4770\n",
            "Epoch 33/100\n",
            "32/32 [==============================] - 0s 3ms/step - loss: 4.3865 - accuracy: 0.4770\n",
            "Epoch 34/100\n",
            "32/32 [==============================] - 0s 3ms/step - loss: 4.3853 - accuracy: 0.4760\n",
            "Epoch 35/100\n",
            "32/32 [==============================] - 0s 3ms/step - loss: 4.3841 - accuracy: 0.4770\n",
            "Epoch 36/100\n",
            "32/32 [==============================] - 0s 3ms/step - loss: 4.3830 - accuracy: 0.4760\n",
            "Epoch 37/100\n",
            "32/32 [==============================] - 0s 3ms/step - loss: 4.3820 - accuracy: 0.4750\n",
            "Epoch 38/100\n",
            "32/32 [==============================] - 0s 3ms/step - loss: 4.3809 - accuracy: 0.4750\n",
            "Epoch 39/100\n",
            "32/32 [==============================] - 0s 3ms/step - loss: 4.3799 - accuracy: 0.4750\n",
            "Epoch 40/100\n",
            "32/32 [==============================] - 0s 2ms/step - loss: 4.3788 - accuracy: 0.4750\n",
            "Epoch 41/100\n",
            "32/32 [==============================] - 0s 2ms/step - loss: 4.3777 - accuracy: 0.4750\n",
            "Epoch 42/100\n",
            "32/32 [==============================] - 0s 2ms/step - loss: 4.3767 - accuracy: 0.4750\n",
            "Epoch 43/100\n",
            "32/32 [==============================] - 0s 2ms/step - loss: 4.3757 - accuracy: 0.4750\n",
            "Epoch 44/100\n",
            "32/32 [==============================] - 0s 3ms/step - loss: 4.3747 - accuracy: 0.4750\n",
            "Epoch 45/100\n",
            "32/32 [==============================] - 0s 3ms/step - loss: 4.3737 - accuracy: 0.4750\n",
            "Epoch 46/100\n",
            "32/32 [==============================] - 0s 3ms/step - loss: 4.3727 - accuracy: 0.4750\n",
            "Epoch 47/100\n",
            "32/32 [==============================] - 0s 3ms/step - loss: 4.3717 - accuracy: 0.4750\n",
            "Epoch 48/100\n",
            "32/32 [==============================] - 0s 3ms/step - loss: 4.3707 - accuracy: 0.4750\n",
            "Epoch 49/100\n",
            "32/32 [==============================] - 0s 3ms/step - loss: 4.3698 - accuracy: 0.4750\n",
            "Epoch 50/100\n",
            "32/32 [==============================] - 0s 3ms/step - loss: 4.3689 - accuracy: 0.4750\n",
            "Epoch 51/100\n",
            "32/32 [==============================] - 0s 3ms/step - loss: 4.3317 - accuracy: 0.4740\n",
            "Epoch 52/100\n",
            "32/32 [==============================] - 0s 3ms/step - loss: 4.3030 - accuracy: 0.4740\n",
            "Epoch 53/100\n",
            "32/32 [==============================] - 0s 3ms/step - loss: 4.2869 - accuracy: 0.4740\n",
            "Epoch 54/100\n",
            "32/32 [==============================] - 0s 3ms/step - loss: 4.2840 - accuracy: 0.4760\n",
            "Epoch 55/100\n",
            "32/32 [==============================] - 0s 2ms/step - loss: 4.2726 - accuracy: 0.4760\n",
            "Epoch 56/100\n",
            "32/32 [==============================] - 0s 2ms/step - loss: 4.2695 - accuracy: 0.4760\n",
            "Epoch 57/100\n",
            "32/32 [==============================] - 0s 2ms/step - loss: 4.2675 - accuracy: 0.4760\n",
            "Epoch 58/100\n",
            "32/32 [==============================] - 0s 2ms/step - loss: 4.2658 - accuracy: 0.4760\n",
            "Epoch 59/100\n",
            "32/32 [==============================] - 0s 2ms/step - loss: 4.2642 - accuracy: 0.4750\n",
            "Epoch 60/100\n",
            "32/32 [==============================] - 0s 2ms/step - loss: 4.2625 - accuracy: 0.4740\n",
            "Epoch 61/100\n",
            "32/32 [==============================] - 0s 2ms/step - loss: 4.2611 - accuracy: 0.4740\n",
            "Epoch 62/100\n",
            "32/32 [==============================] - 0s 2ms/step - loss: 4.2597 - accuracy: 0.4740\n",
            "Epoch 63/100\n",
            "32/32 [==============================] - 0s 2ms/step - loss: 4.2584 - accuracy: 0.4740\n",
            "Epoch 64/100\n",
            "32/32 [==============================] - 0s 2ms/step - loss: 4.2498 - accuracy: 0.4740\n",
            "Epoch 65/100\n",
            "32/32 [==============================] - 0s 2ms/step - loss: 4.1987 - accuracy: 0.4770\n",
            "Epoch 66/100\n",
            "32/32 [==============================] - 0s 2ms/step - loss: 4.1934 - accuracy: 0.4770\n",
            "Epoch 67/100\n",
            "32/32 [==============================] - 0s 2ms/step - loss: 4.1916 - accuracy: 0.4770\n",
            "Epoch 68/100\n",
            "32/32 [==============================] - 0s 2ms/step - loss: 4.1900 - accuracy: 0.4780\n",
            "Epoch 69/100\n",
            "32/32 [==============================] - 0s 2ms/step - loss: 4.1885 - accuracy: 0.4780\n",
            "Epoch 70/100\n",
            "32/32 [==============================] - 0s 2ms/step - loss: 4.1870 - accuracy: 0.4780\n",
            "Epoch 71/100\n",
            "32/32 [==============================] - 0s 2ms/step - loss: 4.1857 - accuracy: 0.4780\n",
            "Epoch 72/100\n",
            "32/32 [==============================] - 0s 2ms/step - loss: 4.1842 - accuracy: 0.4790\n",
            "Epoch 73/100\n",
            "32/32 [==============================] - 0s 2ms/step - loss: 4.1828 - accuracy: 0.4790\n",
            "Epoch 74/100\n",
            "32/32 [==============================] - 0s 2ms/step - loss: 4.1815 - accuracy: 0.4790\n",
            "Epoch 75/100\n",
            "32/32 [==============================] - 0s 2ms/step - loss: 4.1802 - accuracy: 0.4790\n",
            "Epoch 76/100\n",
            "32/32 [==============================] - 0s 2ms/step - loss: 4.1789 - accuracy: 0.4790\n",
            "Epoch 77/100\n",
            "32/32 [==============================] - 0s 2ms/step - loss: 4.1776 - accuracy: 0.4790\n",
            "Epoch 78/100\n",
            "32/32 [==============================] - 0s 2ms/step - loss: 4.1764 - accuracy: 0.4780\n",
            "Epoch 79/100\n",
            "32/32 [==============================] - 0s 2ms/step - loss: 4.1668 - accuracy: 0.4790\n",
            "Epoch 80/100\n",
            "32/32 [==============================] - 0s 2ms/step - loss: 4.1630 - accuracy: 0.4790\n",
            "Epoch 81/100\n",
            "32/32 [==============================] - 0s 2ms/step - loss: 4.1613 - accuracy: 0.4790\n",
            "Epoch 82/100\n",
            "32/32 [==============================] - 0s 2ms/step - loss: 4.1600 - accuracy: 0.4790\n",
            "Epoch 83/100\n",
            "32/32 [==============================] - 0s 2ms/step - loss: 4.1586 - accuracy: 0.4790\n",
            "Epoch 84/100\n",
            "32/32 [==============================] - 0s 2ms/step - loss: 4.1573 - accuracy: 0.4790\n",
            "Epoch 85/100\n",
            "32/32 [==============================] - 0s 2ms/step - loss: 4.1560 - accuracy: 0.4790\n",
            "Epoch 86/100\n",
            "32/32 [==============================] - 0s 2ms/step - loss: 4.1175 - accuracy: 0.4770\n",
            "Epoch 87/100\n",
            "32/32 [==============================] - 0s 2ms/step - loss: 4.0866 - accuracy: 0.4790\n",
            "Epoch 88/100\n",
            "32/32 [==============================] - 0s 2ms/step - loss: 4.0833 - accuracy: 0.4790\n",
            "Epoch 89/100\n",
            "32/32 [==============================] - 0s 2ms/step - loss: 4.0811 - accuracy: 0.4790\n",
            "Epoch 90/100\n",
            "32/32 [==============================] - 0s 2ms/step - loss: 4.0609 - accuracy: 0.4790\n",
            "Epoch 91/100\n",
            "32/32 [==============================] - 0s 2ms/step - loss: 4.0425 - accuracy: 0.4810\n",
            "Epoch 92/100\n",
            "32/32 [==============================] - 0s 2ms/step - loss: 4.0302 - accuracy: 0.4810\n",
            "Epoch 93/100\n",
            "32/32 [==============================] - 0s 2ms/step - loss: 4.0264 - accuracy: 0.4810\n",
            "Epoch 94/100\n",
            "32/32 [==============================] - 0s 2ms/step - loss: 4.0066 - accuracy: 0.4810\n",
            "Epoch 95/100\n",
            "32/32 [==============================] - 0s 2ms/step - loss: 3.9880 - accuracy: 0.4810\n",
            "Epoch 96/100\n",
            "32/32 [==============================] - 0s 2ms/step - loss: 3.9845 - accuracy: 0.4810\n",
            "Epoch 97/100\n",
            "32/32 [==============================] - 0s 2ms/step - loss: 3.9529 - accuracy: 0.4800\n",
            "Epoch 98/100\n",
            "32/32 [==============================] - 0s 2ms/step - loss: 3.8853 - accuracy: 0.4770\n",
            "Epoch 99/100\n",
            "32/32 [==============================] - 0s 2ms/step - loss: 3.8805 - accuracy: 0.4800\n",
            "Epoch 100/100\n",
            "32/32 [==============================] - 0s 2ms/step - loss: 3.8770 - accuracy: 0.4800\n"
          ]
        }
      ]
    },
    {
      "cell_type": "code",
      "source": [
        "# Replicate the multilayer neural network from TensorFlow Playground \n",
        "\n",
        "# Set random seed \n",
        "tf.random.set_seed = 43\n",
        "\n",
        "# Create a model\n",
        "model_6 = tf.keras.Sequential([\n",
        "    tf.keras.layers.Dense(4, activation = \"relu\"),\n",
        "    tf.keras.layers.Dense(4, activation = \"relu\"),\n",
        "    tf.keras.layers.Dense(1)\n",
        "])\n",
        "\n",
        "# Compile our model\n",
        "model_6.compile(loss=\"binary_crossentropy\",\n",
        "                optimizer= tf.keras.optimizers.Adam(learning_rate=0.001),\n",
        "                metrics=\"accuracy\")\n",
        "\n",
        "#Fit our model\n",
        "history = model_6.fit(X, y, epochs=250)"
      ],
      "metadata": {
        "colab": {
          "base_uri": "https://localhost:8080/"
        },
        "id": "KKoi1neVKZM7",
        "outputId": "21c0939a-171f-44ff-947e-78a814daa1e0"
      },
      "execution_count": null,
      "outputs": [
        {
          "output_type": "stream",
          "name": "stdout",
          "text": [
            "Epoch 1/250\n",
            "32/32 [==============================] - 1s 6ms/step - loss: 1.9921 - accuracy: 0.4320\n",
            "Epoch 2/250\n",
            "32/32 [==============================] - 0s 5ms/step - loss: 1.5365 - accuracy: 0.4640\n",
            "Epoch 3/250\n",
            "32/32 [==============================] - 0s 4ms/step - loss: 1.4312 - accuracy: 0.4730\n",
            "Epoch 4/250\n",
            "32/32 [==============================] - 0s 4ms/step - loss: 1.3617 - accuracy: 0.4710\n",
            "Epoch 5/250\n",
            "32/32 [==============================] - 0s 4ms/step - loss: 1.3061 - accuracy: 0.4670\n",
            "Epoch 6/250\n",
            "32/32 [==============================] - 0s 4ms/step - loss: 1.2582 - accuracy: 0.4670\n",
            "Epoch 7/250\n",
            "32/32 [==============================] - 0s 5ms/step - loss: 1.2186 - accuracy: 0.4740\n",
            "Epoch 8/250\n",
            "32/32 [==============================] - 0s 5ms/step - loss: 1.1830 - accuracy: 0.4750\n",
            "Epoch 9/250\n",
            "32/32 [==============================] - 0s 5ms/step - loss: 1.1509 - accuracy: 0.4750\n",
            "Epoch 10/250\n",
            "32/32 [==============================] - 0s 6ms/step - loss: 1.1213 - accuracy: 0.4760\n",
            "Epoch 11/250\n",
            "32/32 [==============================] - 0s 5ms/step - loss: 1.0922 - accuracy: 0.4760\n",
            "Epoch 12/250\n",
            "32/32 [==============================] - 0s 3ms/step - loss: 1.0395 - accuracy: 0.4750\n",
            "Epoch 13/250\n",
            "32/32 [==============================] - 0s 4ms/step - loss: 0.9538 - accuracy: 0.4810\n",
            "Epoch 14/250\n",
            "32/32 [==============================] - 0s 4ms/step - loss: 0.8601 - accuracy: 0.4800\n",
            "Epoch 15/250\n",
            "32/32 [==============================] - 0s 7ms/step - loss: 0.8173 - accuracy: 0.4770\n",
            "Epoch 16/250\n",
            "32/32 [==============================] - 0s 4ms/step - loss: 0.7888 - accuracy: 0.4780\n",
            "Epoch 17/250\n",
            "32/32 [==============================] - 0s 5ms/step - loss: 0.7233 - accuracy: 0.4990\n",
            "Epoch 18/250\n",
            "32/32 [==============================] - 0s 7ms/step - loss: 0.6848 - accuracy: 0.5420\n",
            "Epoch 19/250\n",
            "32/32 [==============================] - 0s 4ms/step - loss: 0.6640 - accuracy: 0.6300\n",
            "Epoch 20/250\n",
            "32/32 [==============================] - 0s 5ms/step - loss: 0.6509 - accuracy: 0.6260\n",
            "Epoch 21/250\n",
            "32/32 [==============================] - 0s 5ms/step - loss: 0.6374 - accuracy: 0.6220\n",
            "Epoch 22/250\n",
            "32/32 [==============================] - 0s 5ms/step - loss: 0.6269 - accuracy: 0.6170\n",
            "Epoch 23/250\n",
            "32/32 [==============================] - 0s 7ms/step - loss: 0.6191 - accuracy: 0.6300\n",
            "Epoch 24/250\n",
            "32/32 [==============================] - 0s 8ms/step - loss: 0.6107 - accuracy: 0.6440\n",
            "Epoch 25/250\n",
            "32/32 [==============================] - 0s 5ms/step - loss: 0.6034 - accuracy: 0.6990\n",
            "Epoch 26/250\n",
            "32/32 [==============================] - 0s 7ms/step - loss: 0.5951 - accuracy: 0.7270\n",
            "Epoch 27/250\n",
            "32/32 [==============================] - 0s 7ms/step - loss: 0.5885 - accuracy: 0.7150\n",
            "Epoch 28/250\n",
            "32/32 [==============================] - 0s 7ms/step - loss: 0.5798 - accuracy: 0.7240\n",
            "Epoch 29/250\n",
            "32/32 [==============================] - 0s 7ms/step - loss: 0.5696 - accuracy: 0.7560\n",
            "Epoch 30/250\n",
            "32/32 [==============================] - 0s 8ms/step - loss: 0.5596 - accuracy: 0.7530\n",
            "Epoch 31/250\n",
            "32/32 [==============================] - 0s 8ms/step - loss: 0.5499 - accuracy: 0.7740\n",
            "Epoch 32/250\n",
            "32/32 [==============================] - 0s 4ms/step - loss: 0.5406 - accuracy: 0.7610\n",
            "Epoch 33/250\n",
            "32/32 [==============================] - 0s 6ms/step - loss: 0.5303 - accuracy: 0.7750\n",
            "Epoch 34/250\n",
            "32/32 [==============================] - 0s 6ms/step - loss: 0.5206 - accuracy: 0.7750\n",
            "Epoch 35/250\n",
            "32/32 [==============================] - 0s 4ms/step - loss: 0.5101 - accuracy: 0.8020\n",
            "Epoch 36/250\n",
            "32/32 [==============================] - 0s 2ms/step - loss: 0.4986 - accuracy: 0.8120\n",
            "Epoch 37/250\n",
            "32/32 [==============================] - 0s 2ms/step - loss: 0.4895 - accuracy: 0.8210\n",
            "Epoch 38/250\n",
            "32/32 [==============================] - 0s 2ms/step - loss: 0.4779 - accuracy: 0.8260\n",
            "Epoch 39/250\n",
            "32/32 [==============================] - 0s 2ms/step - loss: 0.4684 - accuracy: 0.8280\n",
            "Epoch 40/250\n",
            "32/32 [==============================] - 0s 2ms/step - loss: 0.4596 - accuracy: 0.8450\n",
            "Epoch 41/250\n",
            "32/32 [==============================] - 0s 2ms/step - loss: 0.4493 - accuracy: 0.8510\n",
            "Epoch 42/250\n",
            "32/32 [==============================] - 0s 2ms/step - loss: 0.4390 - accuracy: 0.8640\n",
            "Epoch 43/250\n",
            "32/32 [==============================] - 0s 2ms/step - loss: 0.4302 - accuracy: 0.8730\n",
            "Epoch 44/250\n",
            "32/32 [==============================] - 0s 2ms/step - loss: 0.4205 - accuracy: 0.8800\n",
            "Epoch 45/250\n",
            "32/32 [==============================] - 0s 2ms/step - loss: 0.4073 - accuracy: 0.8920\n",
            "Epoch 46/250\n",
            "32/32 [==============================] - 0s 2ms/step - loss: 0.3977 - accuracy: 0.8940\n",
            "Epoch 47/250\n",
            "32/32 [==============================] - 0s 2ms/step - loss: 0.3902 - accuracy: 0.9030\n",
            "Epoch 48/250\n",
            "32/32 [==============================] - 0s 2ms/step - loss: 0.3812 - accuracy: 0.9010\n",
            "Epoch 49/250\n",
            "32/32 [==============================] - 0s 2ms/step - loss: 0.3700 - accuracy: 0.9090\n",
            "Epoch 50/250\n",
            "32/32 [==============================] - 0s 2ms/step - loss: 0.3587 - accuracy: 0.9170\n",
            "Epoch 51/250\n",
            "32/32 [==============================] - 0s 2ms/step - loss: 0.3495 - accuracy: 0.9220\n",
            "Epoch 52/250\n",
            "32/32 [==============================] - 0s 2ms/step - loss: 0.3411 - accuracy: 0.9200\n",
            "Epoch 53/250\n",
            "32/32 [==============================] - 0s 2ms/step - loss: 0.3297 - accuracy: 0.9300\n",
            "Epoch 54/250\n",
            "32/32 [==============================] - 0s 2ms/step - loss: 0.3217 - accuracy: 0.9270\n",
            "Epoch 55/250\n",
            "32/32 [==============================] - 0s 2ms/step - loss: 0.3116 - accuracy: 0.9340\n",
            "Epoch 56/250\n",
            "32/32 [==============================] - 0s 2ms/step - loss: 0.3031 - accuracy: 0.9320\n",
            "Epoch 57/250\n",
            "32/32 [==============================] - 0s 2ms/step - loss: 0.2942 - accuracy: 0.9430\n",
            "Epoch 58/250\n",
            "32/32 [==============================] - 0s 2ms/step - loss: 0.2888 - accuracy: 0.9440\n",
            "Epoch 59/250\n",
            "32/32 [==============================] - 0s 2ms/step - loss: 0.2795 - accuracy: 0.9470\n",
            "Epoch 60/250\n",
            "32/32 [==============================] - 0s 2ms/step - loss: 0.2745 - accuracy: 0.9430\n",
            "Epoch 61/250\n",
            "32/32 [==============================] - 0s 2ms/step - loss: 0.2655 - accuracy: 0.9520\n",
            "Epoch 62/250\n",
            "32/32 [==============================] - 0s 2ms/step - loss: 0.2569 - accuracy: 0.9490\n",
            "Epoch 63/250\n",
            "32/32 [==============================] - 0s 2ms/step - loss: 0.2499 - accuracy: 0.9510\n",
            "Epoch 64/250\n",
            "32/32 [==============================] - 0s 2ms/step - loss: 0.2444 - accuracy: 0.9530\n",
            "Epoch 65/250\n",
            "32/32 [==============================] - 0s 2ms/step - loss: 0.2373 - accuracy: 0.9490\n",
            "Epoch 66/250\n",
            "32/32 [==============================] - 0s 2ms/step - loss: 0.2310 - accuracy: 0.9590\n",
            "Epoch 67/250\n",
            "32/32 [==============================] - 0s 2ms/step - loss: 0.2229 - accuracy: 0.9630\n",
            "Epoch 68/250\n",
            "32/32 [==============================] - 0s 2ms/step - loss: 0.2170 - accuracy: 0.9590\n",
            "Epoch 69/250\n",
            "32/32 [==============================] - 0s 3ms/step - loss: 0.2104 - accuracy: 0.9610\n",
            "Epoch 70/250\n",
            "32/32 [==============================] - 0s 2ms/step - loss: 0.2051 - accuracy: 0.9640\n",
            "Epoch 71/250\n",
            "32/32 [==============================] - 0s 2ms/step - loss: 0.2001 - accuracy: 0.9680\n",
            "Epoch 72/250\n",
            "32/32 [==============================] - 0s 2ms/step - loss: 0.1952 - accuracy: 0.9700\n",
            "Epoch 73/250\n",
            "32/32 [==============================] - 0s 2ms/step - loss: 0.1901 - accuracy: 0.9660\n",
            "Epoch 74/250\n",
            "32/32 [==============================] - 0s 2ms/step - loss: 0.1845 - accuracy: 0.9710\n",
            "Epoch 75/250\n",
            "32/32 [==============================] - 0s 2ms/step - loss: 0.1790 - accuracy: 0.9700\n",
            "Epoch 76/250\n",
            "32/32 [==============================] - 0s 2ms/step - loss: 0.1772 - accuracy: 0.9730\n",
            "Epoch 77/250\n",
            "32/32 [==============================] - 0s 2ms/step - loss: 0.1716 - accuracy: 0.9700\n",
            "Epoch 78/250\n",
            "32/32 [==============================] - 0s 2ms/step - loss: 0.1666 - accuracy: 0.9720\n",
            "Epoch 79/250\n",
            "32/32 [==============================] - 0s 2ms/step - loss: 0.1625 - accuracy: 0.9700\n",
            "Epoch 80/250\n",
            "32/32 [==============================] - 0s 2ms/step - loss: 0.1586 - accuracy: 0.9760\n",
            "Epoch 81/250\n",
            "32/32 [==============================] - 0s 2ms/step - loss: 0.1589 - accuracy: 0.9730\n",
            "Epoch 82/250\n",
            "32/32 [==============================] - 0s 2ms/step - loss: 0.1528 - accuracy: 0.9710\n",
            "Epoch 83/250\n",
            "32/32 [==============================] - 0s 2ms/step - loss: 0.1508 - accuracy: 0.9680\n",
            "Epoch 84/250\n",
            "32/32 [==============================] - 0s 2ms/step - loss: 0.1505 - accuracy: 0.9740\n",
            "Epoch 85/250\n",
            "32/32 [==============================] - 0s 2ms/step - loss: 0.1457 - accuracy: 0.9710\n",
            "Epoch 86/250\n",
            "32/32 [==============================] - 0s 2ms/step - loss: 0.1422 - accuracy: 0.9770\n",
            "Epoch 87/250\n",
            "32/32 [==============================] - 0s 2ms/step - loss: 0.1401 - accuracy: 0.9690\n",
            "Epoch 88/250\n",
            "32/32 [==============================] - 0s 2ms/step - loss: 0.1380 - accuracy: 0.9720\n",
            "Epoch 89/250\n",
            "32/32 [==============================] - 0s 2ms/step - loss: 0.1340 - accuracy: 0.9770\n",
            "Epoch 90/250\n",
            "32/32 [==============================] - 0s 2ms/step - loss: 0.1312 - accuracy: 0.9780\n",
            "Epoch 91/250\n",
            "32/32 [==============================] - 0s 2ms/step - loss: 0.1280 - accuracy: 0.9750\n",
            "Epoch 92/250\n",
            "32/32 [==============================] - 0s 2ms/step - loss: 0.1277 - accuracy: 0.9750\n",
            "Epoch 93/250\n",
            "32/32 [==============================] - 0s 2ms/step - loss: 0.1263 - accuracy: 0.9780\n",
            "Epoch 94/250\n",
            "32/32 [==============================] - 0s 2ms/step - loss: 0.1230 - accuracy: 0.9730\n",
            "Epoch 95/250\n",
            "32/32 [==============================] - 0s 2ms/step - loss: 0.1200 - accuracy: 0.9760\n",
            "Epoch 96/250\n",
            "32/32 [==============================] - 0s 2ms/step - loss: 0.1158 - accuracy: 0.9760\n",
            "Epoch 97/250\n",
            "32/32 [==============================] - 0s 2ms/step - loss: 0.1134 - accuracy: 0.9780\n",
            "Epoch 98/250\n",
            "32/32 [==============================] - 0s 2ms/step - loss: 0.1129 - accuracy: 0.9760\n",
            "Epoch 99/250\n",
            "32/32 [==============================] - 0s 2ms/step - loss: 0.1097 - accuracy: 0.9740\n",
            "Epoch 100/250\n",
            "32/32 [==============================] - 0s 2ms/step - loss: 0.1062 - accuracy: 0.9780\n",
            "Epoch 101/250\n",
            "32/32 [==============================] - 0s 2ms/step - loss: 0.1050 - accuracy: 0.9800\n",
            "Epoch 102/250\n",
            "32/32 [==============================] - 0s 2ms/step - loss: 0.1032 - accuracy: 0.9770\n",
            "Epoch 103/250\n",
            "32/32 [==============================] - 0s 2ms/step - loss: 0.1026 - accuracy: 0.9780\n",
            "Epoch 104/250\n",
            "32/32 [==============================] - 0s 2ms/step - loss: 0.1006 - accuracy: 0.9770\n",
            "Epoch 105/250\n",
            "32/32 [==============================] - 0s 2ms/step - loss: 0.0990 - accuracy: 0.9790\n",
            "Epoch 106/250\n",
            "32/32 [==============================] - 0s 2ms/step - loss: 0.0975 - accuracy: 0.9750\n",
            "Epoch 107/250\n",
            "32/32 [==============================] - 0s 2ms/step - loss: 0.0973 - accuracy: 0.9790\n",
            "Epoch 108/250\n",
            "32/32 [==============================] - 0s 2ms/step - loss: 0.0946 - accuracy: 0.9810\n",
            "Epoch 109/250\n",
            "32/32 [==============================] - 0s 2ms/step - loss: 0.0933 - accuracy: 0.9820\n",
            "Epoch 110/250\n",
            "32/32 [==============================] - 0s 2ms/step - loss: 0.0958 - accuracy: 0.9740\n",
            "Epoch 111/250\n",
            "32/32 [==============================] - 0s 2ms/step - loss: 0.0911 - accuracy: 0.9760\n",
            "Epoch 112/250\n",
            "32/32 [==============================] - 0s 2ms/step - loss: 0.0910 - accuracy: 0.9770\n",
            "Epoch 113/250\n",
            "32/32 [==============================] - 0s 2ms/step - loss: 0.0963 - accuracy: 0.9740\n",
            "Epoch 114/250\n",
            "32/32 [==============================] - 0s 2ms/step - loss: 0.0879 - accuracy: 0.9780\n",
            "Epoch 115/250\n",
            "32/32 [==============================] - 0s 2ms/step - loss: 0.0872 - accuracy: 0.9750\n",
            "Epoch 116/250\n",
            "32/32 [==============================] - 0s 2ms/step - loss: 0.0877 - accuracy: 0.9740\n",
            "Epoch 117/250\n",
            "32/32 [==============================] - 0s 2ms/step - loss: 0.0863 - accuracy: 0.9790\n",
            "Epoch 118/250\n",
            "32/32 [==============================] - 0s 2ms/step - loss: 0.0861 - accuracy: 0.9760\n",
            "Epoch 119/250\n",
            "32/32 [==============================] - 0s 2ms/step - loss: 0.0843 - accuracy: 0.9760\n",
            "Epoch 120/250\n",
            "32/32 [==============================] - 0s 2ms/step - loss: 0.0844 - accuracy: 0.9740\n",
            "Epoch 121/250\n",
            "32/32 [==============================] - 0s 2ms/step - loss: 0.0818 - accuracy: 0.9810\n",
            "Epoch 122/250\n",
            "32/32 [==============================] - 0s 2ms/step - loss: 0.0818 - accuracy: 0.9750\n",
            "Epoch 123/250\n",
            "32/32 [==============================] - 0s 2ms/step - loss: 0.0811 - accuracy: 0.9760\n",
            "Epoch 124/250\n",
            "32/32 [==============================] - 0s 2ms/step - loss: 0.0826 - accuracy: 0.9790\n",
            "Epoch 125/250\n",
            "32/32 [==============================] - 0s 2ms/step - loss: 0.0791 - accuracy: 0.9810\n",
            "Epoch 126/250\n",
            "32/32 [==============================] - 0s 2ms/step - loss: 0.0796 - accuracy: 0.9750\n",
            "Epoch 127/250\n",
            "32/32 [==============================] - 0s 2ms/step - loss: 0.0789 - accuracy: 0.9790\n",
            "Epoch 128/250\n",
            "32/32 [==============================] - 0s 2ms/step - loss: 0.0793 - accuracy: 0.9780\n",
            "Epoch 129/250\n",
            "32/32 [==============================] - 0s 2ms/step - loss: 0.0789 - accuracy: 0.9800\n",
            "Epoch 130/250\n",
            "32/32 [==============================] - 0s 2ms/step - loss: 0.0761 - accuracy: 0.9770\n",
            "Epoch 131/250\n",
            "32/32 [==============================] - 0s 2ms/step - loss: 0.0761 - accuracy: 0.9780\n",
            "Epoch 132/250\n",
            "32/32 [==============================] - 0s 2ms/step - loss: 0.0764 - accuracy: 0.9760\n",
            "Epoch 133/250\n",
            "32/32 [==============================] - 0s 2ms/step - loss: 0.0753 - accuracy: 0.9790\n",
            "Epoch 134/250\n",
            "32/32 [==============================] - 0s 2ms/step - loss: 0.0743 - accuracy: 0.9760\n",
            "Epoch 135/250\n",
            "32/32 [==============================] - 0s 2ms/step - loss: 0.0737 - accuracy: 0.9820\n",
            "Epoch 136/250\n",
            "32/32 [==============================] - 0s 2ms/step - loss: 0.0742 - accuracy: 0.9780\n",
            "Epoch 137/250\n",
            "32/32 [==============================] - 0s 2ms/step - loss: 0.0735 - accuracy: 0.9790\n",
            "Epoch 138/250\n",
            "32/32 [==============================] - 0s 2ms/step - loss: 0.0726 - accuracy: 0.9790\n",
            "Epoch 139/250\n",
            "32/32 [==============================] - 0s 2ms/step - loss: 0.0733 - accuracy: 0.9770\n",
            "Epoch 140/250\n",
            "32/32 [==============================] - 0s 2ms/step - loss: 0.0708 - accuracy: 0.9780\n",
            "Epoch 141/250\n",
            "32/32 [==============================] - 0s 2ms/step - loss: 0.0701 - accuracy: 0.9770\n",
            "Epoch 142/250\n",
            "32/32 [==============================] - 0s 2ms/step - loss: 0.0707 - accuracy: 0.9780\n",
            "Epoch 143/250\n",
            "32/32 [==============================] - 0s 2ms/step - loss: 0.0711 - accuracy: 0.9840\n",
            "Epoch 144/250\n",
            "32/32 [==============================] - 0s 2ms/step - loss: 0.0690 - accuracy: 0.9830\n",
            "Epoch 145/250\n",
            "32/32 [==============================] - 0s 2ms/step - loss: 0.0679 - accuracy: 0.9810\n",
            "Epoch 146/250\n",
            "32/32 [==============================] - 0s 2ms/step - loss: 0.0694 - accuracy: 0.9780\n",
            "Epoch 147/250\n",
            "32/32 [==============================] - 0s 2ms/step - loss: 0.0665 - accuracy: 0.9780\n",
            "Epoch 148/250\n",
            "32/32 [==============================] - 0s 2ms/step - loss: 0.0686 - accuracy: 0.9800\n",
            "Epoch 149/250\n",
            "32/32 [==============================] - 0s 2ms/step - loss: 0.0664 - accuracy: 0.9830\n",
            "Epoch 150/250\n",
            "32/32 [==============================] - 0s 2ms/step - loss: 0.0653 - accuracy: 0.9840\n",
            "Epoch 151/250\n",
            "32/32 [==============================] - 0s 2ms/step - loss: 0.0652 - accuracy: 0.9790\n",
            "Epoch 152/250\n",
            "32/32 [==============================] - 0s 2ms/step - loss: 0.0652 - accuracy: 0.9820\n",
            "Epoch 153/250\n",
            "32/32 [==============================] - 0s 2ms/step - loss: 0.0665 - accuracy: 0.9840\n",
            "Epoch 154/250\n",
            "32/32 [==============================] - 0s 2ms/step - loss: 0.0638 - accuracy: 0.9820\n",
            "Epoch 155/250\n",
            "32/32 [==============================] - 0s 2ms/step - loss: 0.0664 - accuracy: 0.9820\n",
            "Epoch 156/250\n",
            "32/32 [==============================] - 0s 2ms/step - loss: 0.0627 - accuracy: 0.9820\n",
            "Epoch 157/250\n",
            "32/32 [==============================] - 0s 2ms/step - loss: 0.0639 - accuracy: 0.9810\n",
            "Epoch 158/250\n",
            "32/32 [==============================] - 0s 2ms/step - loss: 0.0610 - accuracy: 0.9810\n",
            "Epoch 159/250\n",
            "32/32 [==============================] - 0s 3ms/step - loss: 0.0621 - accuracy: 0.9840\n",
            "Epoch 160/250\n",
            "32/32 [==============================] - 0s 3ms/step - loss: 0.0624 - accuracy: 0.9780\n",
            "Epoch 161/250\n",
            "32/32 [==============================] - 0s 3ms/step - loss: 0.0644 - accuracy: 0.9820\n",
            "Epoch 162/250\n",
            "32/32 [==============================] - 0s 3ms/step - loss: 0.0616 - accuracy: 0.9810\n",
            "Epoch 163/250\n",
            "32/32 [==============================] - 0s 3ms/step - loss: 0.0607 - accuracy: 0.9810\n",
            "Epoch 164/250\n",
            "32/32 [==============================] - 0s 3ms/step - loss: 0.0606 - accuracy: 0.9830\n",
            "Epoch 165/250\n",
            "32/32 [==============================] - 0s 3ms/step - loss: 0.0632 - accuracy: 0.9770\n",
            "Epoch 166/250\n",
            "32/32 [==============================] - 0s 3ms/step - loss: 0.0590 - accuracy: 0.9840\n",
            "Epoch 167/250\n",
            "32/32 [==============================] - 0s 4ms/step - loss: 0.0612 - accuracy: 0.9810\n",
            "Epoch 168/250\n",
            "32/32 [==============================] - 0s 3ms/step - loss: 0.0596 - accuracy: 0.9820\n",
            "Epoch 169/250\n",
            "32/32 [==============================] - 0s 3ms/step - loss: 0.0609 - accuracy: 0.9810\n",
            "Epoch 170/250\n",
            "32/32 [==============================] - 0s 3ms/step - loss: 0.0611 - accuracy: 0.9810\n",
            "Epoch 171/250\n",
            "32/32 [==============================] - 0s 3ms/step - loss: 0.0593 - accuracy: 0.9840\n",
            "Epoch 172/250\n",
            "32/32 [==============================] - 0s 4ms/step - loss: 0.0637 - accuracy: 0.9810\n",
            "Epoch 173/250\n",
            "32/32 [==============================] - 0s 3ms/step - loss: 0.0610 - accuracy: 0.9820\n",
            "Epoch 174/250\n",
            "32/32 [==============================] - 0s 3ms/step - loss: 0.0589 - accuracy: 0.9790\n",
            "Epoch 175/250\n",
            "32/32 [==============================] - 0s 3ms/step - loss: 0.0572 - accuracy: 0.9820\n",
            "Epoch 176/250\n",
            "32/32 [==============================] - 0s 3ms/step - loss: 0.0565 - accuracy: 0.9830\n",
            "Epoch 177/250\n",
            "32/32 [==============================] - 0s 3ms/step - loss: 0.0577 - accuracy: 0.9800\n",
            "Epoch 178/250\n",
            "32/32 [==============================] - 0s 3ms/step - loss: 0.0559 - accuracy: 0.9820\n",
            "Epoch 179/250\n",
            "32/32 [==============================] - 0s 3ms/step - loss: 0.0550 - accuracy: 0.9850\n",
            "Epoch 180/250\n",
            "32/32 [==============================] - 0s 3ms/step - loss: 0.0576 - accuracy: 0.9830\n",
            "Epoch 181/250\n",
            "32/32 [==============================] - 0s 3ms/step - loss: 0.0563 - accuracy: 0.9820\n",
            "Epoch 182/250\n",
            "32/32 [==============================] - 0s 3ms/step - loss: 0.0562 - accuracy: 0.9810\n",
            "Epoch 183/250\n",
            "32/32 [==============================] - 0s 3ms/step - loss: 0.0554 - accuracy: 0.9810\n",
            "Epoch 184/250\n",
            "32/32 [==============================] - 0s 3ms/step - loss: 0.0560 - accuracy: 0.9830\n",
            "Epoch 185/250\n",
            "32/32 [==============================] - 0s 3ms/step - loss: 0.0630 - accuracy: 0.9720\n",
            "Epoch 186/250\n",
            "32/32 [==============================] - 0s 3ms/step - loss: 0.0555 - accuracy: 0.9780\n",
            "Epoch 187/250\n",
            "32/32 [==============================] - 0s 3ms/step - loss: 0.0525 - accuracy: 0.9830\n",
            "Epoch 188/250\n",
            "32/32 [==============================] - 0s 3ms/step - loss: 0.0563 - accuracy: 0.9800\n",
            "Epoch 189/250\n",
            "32/32 [==============================] - 0s 3ms/step - loss: 0.0529 - accuracy: 0.9830\n",
            "Epoch 190/250\n",
            "32/32 [==============================] - 0s 2ms/step - loss: 0.0560 - accuracy: 0.9830\n",
            "Epoch 191/250\n",
            "32/32 [==============================] - 0s 2ms/step - loss: 0.0554 - accuracy: 0.9820\n",
            "Epoch 192/250\n",
            "32/32 [==============================] - 0s 2ms/step - loss: 0.0532 - accuracy: 0.9820\n",
            "Epoch 193/250\n",
            "32/32 [==============================] - 0s 2ms/step - loss: 0.0528 - accuracy: 0.9800\n",
            "Epoch 194/250\n",
            "32/32 [==============================] - 0s 2ms/step - loss: 0.0519 - accuracy: 0.9800\n",
            "Epoch 195/250\n",
            "32/32 [==============================] - 0s 2ms/step - loss: 0.0552 - accuracy: 0.9850\n",
            "Epoch 196/250\n",
            "32/32 [==============================] - 0s 2ms/step - loss: 0.0517 - accuracy: 0.9840\n",
            "Epoch 197/250\n",
            "32/32 [==============================] - 0s 2ms/step - loss: 0.0522 - accuracy: 0.9820\n",
            "Epoch 198/250\n",
            "32/32 [==============================] - 0s 2ms/step - loss: 0.0525 - accuracy: 0.9810\n",
            "Epoch 199/250\n",
            "32/32 [==============================] - 0s 2ms/step - loss: 0.0520 - accuracy: 0.9810\n",
            "Epoch 200/250\n",
            "32/32 [==============================] - 0s 2ms/step - loss: 0.0518 - accuracy: 0.9810\n",
            "Epoch 201/250\n",
            "32/32 [==============================] - 0s 2ms/step - loss: 0.0503 - accuracy: 0.9870\n",
            "Epoch 202/250\n",
            "32/32 [==============================] - 0s 2ms/step - loss: 0.0541 - accuracy: 0.9800\n",
            "Epoch 203/250\n",
            "32/32 [==============================] - 0s 2ms/step - loss: 0.0518 - accuracy: 0.9820\n",
            "Epoch 204/250\n",
            "32/32 [==============================] - 0s 2ms/step - loss: 0.0509 - accuracy: 0.9840\n",
            "Epoch 205/250\n",
            "32/32 [==============================] - 0s 2ms/step - loss: 0.0503 - accuracy: 0.9850\n",
            "Epoch 206/250\n",
            "32/32 [==============================] - 0s 2ms/step - loss: 0.0513 - accuracy: 0.9800\n",
            "Epoch 207/250\n",
            "32/32 [==============================] - 0s 2ms/step - loss: 0.0500 - accuracy: 0.9830\n",
            "Epoch 208/250\n",
            "32/32 [==============================] - 0s 2ms/step - loss: 0.0510 - accuracy: 0.9840\n",
            "Epoch 209/250\n",
            "32/32 [==============================] - 0s 2ms/step - loss: 0.0502 - accuracy: 0.9830\n",
            "Epoch 210/250\n",
            "32/32 [==============================] - 0s 2ms/step - loss: 0.0504 - accuracy: 0.9840\n",
            "Epoch 211/250\n",
            "32/32 [==============================] - 0s 2ms/step - loss: 0.0508 - accuracy: 0.9790\n",
            "Epoch 212/250\n",
            "32/32 [==============================] - 0s 2ms/step - loss: 0.0498 - accuracy: 0.9850\n",
            "Epoch 213/250\n",
            "32/32 [==============================] - 0s 2ms/step - loss: 0.0499 - accuracy: 0.9790\n",
            "Epoch 214/250\n",
            "32/32 [==============================] - 0s 2ms/step - loss: 0.0499 - accuracy: 0.9840\n",
            "Epoch 215/250\n",
            "32/32 [==============================] - 0s 2ms/step - loss: 0.0522 - accuracy: 0.9790\n",
            "Epoch 216/250\n",
            "32/32 [==============================] - 0s 2ms/step - loss: 0.0504 - accuracy: 0.9820\n",
            "Epoch 217/250\n",
            "32/32 [==============================] - 0s 2ms/step - loss: 0.0479 - accuracy: 0.9830\n",
            "Epoch 218/250\n",
            "32/32 [==============================] - 0s 2ms/step - loss: 0.0491 - accuracy: 0.9830\n",
            "Epoch 219/250\n",
            "32/32 [==============================] - 0s 2ms/step - loss: 0.0534 - accuracy: 0.9800\n",
            "Epoch 220/250\n",
            "32/32 [==============================] - 0s 3ms/step - loss: 0.0504 - accuracy: 0.9850\n",
            "Epoch 221/250\n",
            "32/32 [==============================] - 0s 2ms/step - loss: 0.0480 - accuracy: 0.9810\n",
            "Epoch 222/250\n",
            "32/32 [==============================] - 0s 2ms/step - loss: 0.0478 - accuracy: 0.9850\n",
            "Epoch 223/250\n",
            "32/32 [==============================] - 0s 2ms/step - loss: 0.0480 - accuracy: 0.9820\n",
            "Epoch 224/250\n",
            "32/32 [==============================] - 0s 2ms/step - loss: 0.0474 - accuracy: 0.9810\n",
            "Epoch 225/250\n",
            "32/32 [==============================] - 0s 2ms/step - loss: 0.0478 - accuracy: 0.9810\n",
            "Epoch 226/250\n",
            "32/32 [==============================] - 0s 2ms/step - loss: 0.0529 - accuracy: 0.9800\n",
            "Epoch 227/250\n",
            "32/32 [==============================] - 0s 2ms/step - loss: 0.0746 - accuracy: 0.9690\n",
            "Epoch 228/250\n",
            "32/32 [==============================] - 0s 2ms/step - loss: 0.0473 - accuracy: 0.9830\n",
            "Epoch 229/250\n",
            "32/32 [==============================] - 0s 2ms/step - loss: 0.0489 - accuracy: 0.9780\n",
            "Epoch 230/250\n",
            "32/32 [==============================] - 0s 2ms/step - loss: 0.0518 - accuracy: 0.9790\n",
            "Epoch 231/250\n",
            "32/32 [==============================] - 0s 2ms/step - loss: 0.0483 - accuracy: 0.9810\n",
            "Epoch 232/250\n",
            "32/32 [==============================] - 0s 2ms/step - loss: 0.0464 - accuracy: 0.9820\n",
            "Epoch 233/250\n",
            "32/32 [==============================] - 0s 2ms/step - loss: 0.0488 - accuracy: 0.9850\n",
            "Epoch 234/250\n",
            "32/32 [==============================] - 0s 2ms/step - loss: 0.0572 - accuracy: 0.9780\n",
            "Epoch 235/250\n",
            "32/32 [==============================] - 0s 2ms/step - loss: 0.0472 - accuracy: 0.9800\n",
            "Epoch 236/250\n",
            "32/32 [==============================] - 0s 2ms/step - loss: 0.0476 - accuracy: 0.9810\n",
            "Epoch 237/250\n",
            "32/32 [==============================] - 0s 2ms/step - loss: 0.0489 - accuracy: 0.9790\n",
            "Epoch 238/250\n",
            "32/32 [==============================] - 0s 2ms/step - loss: 0.0463 - accuracy: 0.9790\n",
            "Epoch 239/250\n",
            "32/32 [==============================] - 0s 2ms/step - loss: 0.0469 - accuracy: 0.9810\n",
            "Epoch 240/250\n",
            "32/32 [==============================] - 0s 2ms/step - loss: 0.0469 - accuracy: 0.9820\n",
            "Epoch 241/250\n",
            "32/32 [==============================] - 0s 2ms/step - loss: 0.0458 - accuracy: 0.9830\n",
            "Epoch 242/250\n",
            "32/32 [==============================] - 0s 2ms/step - loss: 0.0463 - accuracy: 0.9790\n",
            "Epoch 243/250\n",
            "32/32 [==============================] - 0s 2ms/step - loss: 0.0455 - accuracy: 0.9870\n",
            "Epoch 244/250\n",
            "32/32 [==============================] - 0s 2ms/step - loss: 0.0441 - accuracy: 0.9840\n",
            "Epoch 245/250\n",
            "32/32 [==============================] - 0s 2ms/step - loss: 0.0473 - accuracy: 0.9800\n",
            "Epoch 246/250\n",
            "32/32 [==============================] - 0s 2ms/step - loss: 0.0434 - accuracy: 0.9810\n",
            "Epoch 247/250\n",
            "32/32 [==============================] - 0s 2ms/step - loss: 0.0452 - accuracy: 0.9830\n",
            "Epoch 248/250\n",
            "32/32 [==============================] - 0s 2ms/step - loss: 0.0440 - accuracy: 0.9830\n",
            "Epoch 249/250\n",
            "32/32 [==============================] - 0s 2ms/step - loss: 0.0468 - accuracy: 0.9800\n",
            "Epoch 250/250\n",
            "32/32 [==============================] - 0s 2ms/step - loss: 0.0448 - accuracy: 0.9850\n"
          ]
        }
      ]
    },
    {
      "cell_type": "code",
      "source": [
        "# evaluate the model\n",
        "model_6.evaluate(X,y)"
      ],
      "metadata": {
        "colab": {
          "base_uri": "https://localhost:8080/"
        },
        "id": "JdZB4AciNFSP",
        "outputId": "7f2ad285-e30d-4720-a29f-0660bedc3834"
      },
      "execution_count": null,
      "outputs": [
        {
          "output_type": "stream",
          "name": "stdout",
          "text": [
            "32/32 [==============================] - 0s 2ms/step - loss: 0.0426 - accuracy: 0.9840\n"
          ]
        },
        {
          "output_type": "execute_result",
          "data": {
            "text/plain": [
              "[0.04260701686143875, 0.984000027179718]"
            ]
          },
          "metadata": {},
          "execution_count": 36
        }
      ]
    },
    {
      "cell_type": "code",
      "source": [
        "plot_decision_boundary(model_6, X, y)"
      ],
      "metadata": {
        "colab": {
          "base_uri": "https://localhost:8080/",
          "height": 300
        },
        "id": "qTjoghdqO4f-",
        "outputId": "97e9a15e-4a4f-4ef4-b0b8-50e5691cc0ed"
      },
      "execution_count": null,
      "outputs": [
        {
          "output_type": "stream",
          "name": "stdout",
          "text": [
            "313/313 [==============================] - 1s 2ms/step\n",
            "Doing binary classification\n"
          ]
        },
        {
          "output_type": "display_data",
          "data": {
            "text/plain": [
              "<Figure size 432x288 with 1 Axes>"
            ],
            "image/png": "[encoded data removed]"
          },
          "metadata": {
            "needs_background": "light"
          }
        }
      ]
    },
    {
      "cell_type": "code",
      "source": [
        "# Set random seed \n",
        "tf.random.set_seed = 43\n",
        "\n",
        "# Create a model\n",
        "model_7 = tf.keras.Sequential([\n",
        "    tf.keras.layers.Dense(4, activation = \"relu\"),\n",
        "    tf.keras.layers.Dense(4, activation = \"relu\"),\n",
        "    tf.keras.layers.Dense(1, activation = \"sigmoid\")\n",
        "])\n",
        "\n",
        "# Compile our model\n",
        "model_7.compile(loss=\"binary_crossentropy\",\n",
        "                optimizer= tf.keras.optimizers.Adam(learning_rate=0.001),\n",
        "                metrics=\"accuracy\")\n",
        "\n",
        "#Fit our model\n",
        "history = model_7.fit(X, y, epochs=250)"
      ],
      "metadata": {
        "colab": {
          "base_uri": "https://localhost:8080/"
        },
        "id": "SO0y3CgCPXmu",
        "outputId": "67e61264-264e-44e0-c936-7b40cf58c778"
      },
      "execution_count": null,
      "outputs": [
        {
          "output_type": "stream",
          "name": "stdout",
          "text": [
            "Epoch 1/250\n",
            "32/32 [==============================] - 1s 2ms/step - loss: 0.6908 - accuracy: 0.4920\n",
            "Epoch 2/250\n",
            "32/32 [==============================] - 0s 2ms/step - loss: 0.6903 - accuracy: 0.5100\n",
            "Epoch 3/250\n",
            "32/32 [==============================] - 0s 2ms/step - loss: 0.6899 - accuracy: 0.5080\n",
            "Epoch 4/250\n",
            "32/32 [==============================] - 0s 2ms/step - loss: 0.6895 - accuracy: 0.5320\n",
            "Epoch 5/250\n",
            "32/32 [==============================] - 0s 2ms/step - loss: 0.6892 - accuracy: 0.5240\n",
            "Epoch 6/250\n",
            "32/32 [==============================] - 0s 2ms/step - loss: 0.6887 - accuracy: 0.5240\n",
            "Epoch 7/250\n",
            "32/32 [==============================] - 0s 2ms/step - loss: 0.6884 - accuracy: 0.5280\n",
            "Epoch 8/250\n",
            "32/32 [==============================] - 0s 2ms/step - loss: 0.6880 - accuracy: 0.5320\n",
            "Epoch 9/250\n",
            "32/32 [==============================] - 0s 2ms/step - loss: 0.6875 - accuracy: 0.5320\n",
            "Epoch 10/250\n",
            "32/32 [==============================] - 0s 2ms/step - loss: 0.6870 - accuracy: 0.5290\n",
            "Epoch 11/250\n",
            "32/32 [==============================] - 0s 2ms/step - loss: 0.6865 - accuracy: 0.5260\n",
            "Epoch 12/250\n",
            "32/32 [==============================] - 0s 2ms/step - loss: 0.6862 - accuracy: 0.5400\n",
            "Epoch 13/250\n",
            "32/32 [==============================] - 0s 2ms/step - loss: 0.6856 - accuracy: 0.5400\n",
            "Epoch 14/250\n",
            "32/32 [==============================] - 0s 2ms/step - loss: 0.6849 - accuracy: 0.5310\n",
            "Epoch 15/250\n",
            "32/32 [==============================] - 0s 2ms/step - loss: 0.6843 - accuracy: 0.5300\n",
            "Epoch 16/250\n",
            "32/32 [==============================] - 0s 2ms/step - loss: 0.6836 - accuracy: 0.5350\n",
            "Epoch 17/250\n",
            "32/32 [==============================] - 0s 2ms/step - loss: 0.6830 - accuracy: 0.5400\n",
            "Epoch 18/250\n",
            "32/32 [==============================] - 0s 2ms/step - loss: 0.6821 - accuracy: 0.5410\n",
            "Epoch 19/250\n",
            "32/32 [==============================] - 0s 2ms/step - loss: 0.6813 - accuracy: 0.5350\n",
            "Epoch 20/250\n",
            "32/32 [==============================] - 0s 2ms/step - loss: 0.6805 - accuracy: 0.5320\n",
            "Epoch 21/250\n",
            "32/32 [==============================] - 0s 2ms/step - loss: 0.6795 - accuracy: 0.5360\n",
            "Epoch 22/250\n",
            "32/32 [==============================] - 0s 2ms/step - loss: 0.6785 - accuracy: 0.5440\n",
            "Epoch 23/250\n",
            "32/32 [==============================] - 0s 3ms/step - loss: 0.6778 - accuracy: 0.5550\n",
            "Epoch 24/250\n",
            "32/32 [==============================] - 0s 3ms/step - loss: 0.6765 - accuracy: 0.5620\n",
            "Epoch 25/250\n",
            "32/32 [==============================] - 0s 3ms/step - loss: 0.6755 - accuracy: 0.5590\n",
            "Epoch 26/250\n",
            "32/32 [==============================] - 0s 3ms/step - loss: 0.6744 - accuracy: 0.5770\n",
            "Epoch 27/250\n",
            "32/32 [==============================] - 0s 3ms/step - loss: 0.6731 - accuracy: 0.5780\n",
            "Epoch 28/250\n",
            "32/32 [==============================] - 0s 4ms/step - loss: 0.6720 - accuracy: 0.5790\n",
            "Epoch 29/250\n",
            "32/32 [==============================] - 0s 3ms/step - loss: 0.6702 - accuracy: 0.5760\n",
            "Epoch 30/250\n",
            "32/32 [==============================] - 0s 4ms/step - loss: 0.6683 - accuracy: 0.5640\n",
            "Epoch 31/250\n",
            "32/32 [==============================] - 0s 3ms/step - loss: 0.6666 - accuracy: 0.5890\n",
            "Epoch 32/250\n",
            "32/32 [==============================] - 0s 3ms/step - loss: 0.6651 - accuracy: 0.5890\n",
            "Epoch 33/250\n",
            "32/32 [==============================] - 0s 3ms/step - loss: 0.6637 - accuracy: 0.5990\n",
            "Epoch 34/250\n",
            "32/32 [==============================] - 0s 3ms/step - loss: 0.6620 - accuracy: 0.6050\n",
            "Epoch 35/250\n",
            "32/32 [==============================] - 0s 3ms/step - loss: 0.6609 - accuracy: 0.6050\n",
            "Epoch 36/250\n",
            "32/32 [==============================] - 0s 3ms/step - loss: 0.6590 - accuracy: 0.5930\n",
            "Epoch 37/250\n",
            "32/32 [==============================] - 0s 3ms/step - loss: 0.6574 - accuracy: 0.6110\n",
            "Epoch 38/250\n",
            "32/32 [==============================] - 0s 3ms/step - loss: 0.6543 - accuracy: 0.6140\n",
            "Epoch 39/250\n",
            "32/32 [==============================] - 0s 3ms/step - loss: 0.6514 - accuracy: 0.5960\n",
            "Epoch 40/250\n",
            "32/32 [==============================] - 0s 3ms/step - loss: 0.6478 - accuracy: 0.6270\n",
            "Epoch 41/250\n",
            "32/32 [==============================] - 0s 3ms/step - loss: 0.6456 - accuracy: 0.6220\n",
            "Epoch 42/250\n",
            "32/32 [==============================] - 0s 3ms/step - loss: 0.6434 - accuracy: 0.6160\n",
            "Epoch 43/250\n",
            "32/32 [==============================] - 0s 3ms/step - loss: 0.6426 - accuracy: 0.6380\n",
            "Epoch 44/250\n",
            "32/32 [==============================] - 0s 3ms/step - loss: 0.6392 - accuracy: 0.6380\n",
            "Epoch 45/250\n",
            "32/32 [==============================] - 0s 3ms/step - loss: 0.6372 - accuracy: 0.6310\n",
            "Epoch 46/250\n",
            "32/32 [==============================] - 0s 3ms/step - loss: 0.6351 - accuracy: 0.6440\n",
            "Epoch 47/250\n",
            "32/32 [==============================] - 0s 3ms/step - loss: 0.6326 - accuracy: 0.6430\n",
            "Epoch 48/250\n",
            "32/32 [==============================] - 0s 3ms/step - loss: 0.6303 - accuracy: 0.6380\n",
            "Epoch 49/250\n",
            "32/32 [==============================] - 0s 3ms/step - loss: 0.6283 - accuracy: 0.6610\n",
            "Epoch 50/250\n",
            "32/32 [==============================] - 0s 3ms/step - loss: 0.6263 - accuracy: 0.6490\n",
            "Epoch 51/250\n",
            "32/32 [==============================] - 0s 3ms/step - loss: 0.6242 - accuracy: 0.6390\n",
            "Epoch 52/250\n",
            "32/32 [==============================] - 0s 2ms/step - loss: 0.6216 - accuracy: 0.6570\n",
            "Epoch 53/250\n",
            "32/32 [==============================] - 0s 2ms/step - loss: 0.6202 - accuracy: 0.6730\n",
            "Epoch 54/250\n",
            "32/32 [==============================] - 0s 2ms/step - loss: 0.6173 - accuracy: 0.6530\n",
            "Epoch 55/250\n",
            "32/32 [==============================] - 0s 2ms/step - loss: 0.6157 - accuracy: 0.6660\n",
            "Epoch 56/250\n",
            "32/32 [==============================] - 0s 2ms/step - loss: 0.6135 - accuracy: 0.6570\n",
            "Epoch 57/250\n",
            "32/32 [==============================] - 0s 2ms/step - loss: 0.6119 - accuracy: 0.6670\n",
            "Epoch 58/250\n",
            "32/32 [==============================] - 0s 2ms/step - loss: 0.6091 - accuracy: 0.6640\n",
            "Epoch 59/250\n",
            "32/32 [==============================] - 0s 2ms/step - loss: 0.6067 - accuracy: 0.6720\n",
            "Epoch 60/250\n",
            "32/32 [==============================] - 0s 2ms/step - loss: 0.6053 - accuracy: 0.6650\n",
            "Epoch 61/250\n",
            "32/32 [==============================] - 0s 2ms/step - loss: 0.6031 - accuracy: 0.6730\n",
            "Epoch 62/250\n",
            "32/32 [==============================] - 0s 2ms/step - loss: 0.6006 - accuracy: 0.6690\n",
            "Epoch 63/250\n",
            "32/32 [==============================] - 0s 2ms/step - loss: 0.5989 - accuracy: 0.6740\n",
            "Epoch 64/250\n",
            "32/32 [==============================] - 0s 2ms/step - loss: 0.5975 - accuracy: 0.6800\n",
            "Epoch 65/250\n",
            "32/32 [==============================] - 0s 2ms/step - loss: 0.5954 - accuracy: 0.6740\n",
            "Epoch 66/250\n",
            "32/32 [==============================] - 0s 2ms/step - loss: 0.5930 - accuracy: 0.6810\n",
            "Epoch 67/250\n",
            "32/32 [==============================] - 0s 2ms/step - loss: 0.5911 - accuracy: 0.6780\n",
            "Epoch 68/250\n",
            "32/32 [==============================] - 0s 2ms/step - loss: 0.5891 - accuracy: 0.6910\n",
            "Epoch 69/250\n",
            "32/32 [==============================] - 0s 2ms/step - loss: 0.5875 - accuracy: 0.6990\n",
            "Epoch 70/250\n",
            "32/32 [==============================] - 0s 2ms/step - loss: 0.5854 - accuracy: 0.6780\n",
            "Epoch 71/250\n",
            "32/32 [==============================] - 0s 2ms/step - loss: 0.5846 - accuracy: 0.7000\n",
            "Epoch 72/250\n",
            "32/32 [==============================] - 0s 2ms/step - loss: 0.5821 - accuracy: 0.7020\n",
            "Epoch 73/250\n",
            "32/32 [==============================] - 0s 2ms/step - loss: 0.5806 - accuracy: 0.6900\n",
            "Epoch 74/250\n",
            "32/32 [==============================] - 0s 2ms/step - loss: 0.5785 - accuracy: 0.7060\n",
            "Epoch 75/250\n",
            "32/32 [==============================] - 0s 2ms/step - loss: 0.5762 - accuracy: 0.7010\n",
            "Epoch 76/250\n",
            "32/32 [==============================] - 0s 2ms/step - loss: 0.5746 - accuracy: 0.7070\n",
            "Epoch 77/250\n",
            "32/32 [==============================] - 0s 2ms/step - loss: 0.5734 - accuracy: 0.6990\n",
            "Epoch 78/250\n",
            "32/32 [==============================] - 0s 2ms/step - loss: 0.5714 - accuracy: 0.7140\n",
            "Epoch 79/250\n",
            "32/32 [==============================] - 0s 2ms/step - loss: 0.5711 - accuracy: 0.7090\n",
            "Epoch 80/250\n",
            "32/32 [==============================] - 0s 2ms/step - loss: 0.5684 - accuracy: 0.7020\n",
            "Epoch 81/250\n",
            "32/32 [==============================] - 0s 2ms/step - loss: 0.5670 - accuracy: 0.7120\n",
            "Epoch 82/250\n",
            "32/32 [==============================] - 0s 2ms/step - loss: 0.5653 - accuracy: 0.7060\n",
            "Epoch 83/250\n",
            "32/32 [==============================] - 0s 2ms/step - loss: 0.5636 - accuracy: 0.7100\n",
            "Epoch 84/250\n",
            "32/32 [==============================] - 0s 2ms/step - loss: 0.5622 - accuracy: 0.7140\n",
            "Epoch 85/250\n",
            "32/32 [==============================] - 0s 2ms/step - loss: 0.5606 - accuracy: 0.7200\n",
            "Epoch 86/250\n",
            "32/32 [==============================] - 0s 2ms/step - loss: 0.5591 - accuracy: 0.7140\n",
            "Epoch 87/250\n",
            "32/32 [==============================] - 0s 2ms/step - loss: 0.5575 - accuracy: 0.7180\n",
            "Epoch 88/250\n",
            "32/32 [==============================] - 0s 2ms/step - loss: 0.5559 - accuracy: 0.7210\n",
            "Epoch 89/250\n",
            "32/32 [==============================] - 0s 2ms/step - loss: 0.5552 - accuracy: 0.7240\n",
            "Epoch 90/250\n",
            "32/32 [==============================] - 0s 2ms/step - loss: 0.5531 - accuracy: 0.7200\n",
            "Epoch 91/250\n",
            "32/32 [==============================] - 0s 2ms/step - loss: 0.5537 - accuracy: 0.7270\n",
            "Epoch 92/250\n",
            "32/32 [==============================] - 0s 2ms/step - loss: 0.5507 - accuracy: 0.7290\n",
            "Epoch 93/250\n",
            "32/32 [==============================] - 0s 2ms/step - loss: 0.5501 - accuracy: 0.7220\n",
            "Epoch 94/250\n",
            "32/32 [==============================] - 0s 2ms/step - loss: 0.5493 - accuracy: 0.7220\n",
            "Epoch 95/250\n",
            "32/32 [==============================] - 0s 2ms/step - loss: 0.5474 - accuracy: 0.7190\n",
            "Epoch 96/250\n",
            "32/32 [==============================] - 0s 2ms/step - loss: 0.5458 - accuracy: 0.7250\n",
            "Epoch 97/250\n",
            "32/32 [==============================] - 0s 2ms/step - loss: 0.5455 - accuracy: 0.7290\n",
            "Epoch 98/250\n",
            "32/32 [==============================] - 0s 2ms/step - loss: 0.5435 - accuracy: 0.7240\n",
            "Epoch 99/250\n",
            "32/32 [==============================] - 0s 2ms/step - loss: 0.5424 - accuracy: 0.7260\n",
            "Epoch 100/250\n",
            "32/32 [==============================] - 0s 2ms/step - loss: 0.5414 - accuracy: 0.7300\n",
            "Epoch 101/250\n",
            "32/32 [==============================] - 0s 2ms/step - loss: 0.5396 - accuracy: 0.7390\n",
            "Epoch 102/250\n",
            "32/32 [==============================] - 0s 2ms/step - loss: 0.5414 - accuracy: 0.7200\n",
            "Epoch 103/250\n",
            "32/32 [==============================] - 0s 2ms/step - loss: 0.5384 - accuracy: 0.7320\n",
            "Epoch 104/250\n",
            "32/32 [==============================] - 0s 2ms/step - loss: 0.5367 - accuracy: 0.7360\n",
            "Epoch 105/250\n",
            "32/32 [==============================] - 0s 2ms/step - loss: 0.5367 - accuracy: 0.7270\n",
            "Epoch 106/250\n",
            "32/32 [==============================] - 0s 2ms/step - loss: 0.5360 - accuracy: 0.7280\n",
            "Epoch 107/250\n",
            "32/32 [==============================] - 0s 2ms/step - loss: 0.5343 - accuracy: 0.7330\n",
            "Epoch 108/250\n",
            "32/32 [==============================] - 0s 2ms/step - loss: 0.5327 - accuracy: 0.7350\n",
            "Epoch 109/250\n",
            "32/32 [==============================] - 0s 2ms/step - loss: 0.5316 - accuracy: 0.7330\n",
            "Epoch 110/250\n",
            "32/32 [==============================] - 0s 2ms/step - loss: 0.5307 - accuracy: 0.7410\n",
            "Epoch 111/250\n",
            "32/32 [==============================] - 0s 2ms/step - loss: 0.5306 - accuracy: 0.7420\n",
            "Epoch 112/250\n",
            "32/32 [==============================] - 0s 2ms/step - loss: 0.5283 - accuracy: 0.7360\n",
            "Epoch 113/250\n",
            "32/32 [==============================] - 0s 2ms/step - loss: 0.5287 - accuracy: 0.7440\n",
            "Epoch 114/250\n",
            "32/32 [==============================] - 0s 2ms/step - loss: 0.5269 - accuracy: 0.7370\n",
            "Epoch 115/250\n",
            "32/32 [==============================] - 0s 2ms/step - loss: 0.5261 - accuracy: 0.7420\n",
            "Epoch 116/250\n",
            "32/32 [==============================] - 0s 2ms/step - loss: 0.5254 - accuracy: 0.7410\n",
            "Epoch 117/250\n",
            "32/32 [==============================] - 0s 2ms/step - loss: 0.5241 - accuracy: 0.7400\n",
            "Epoch 118/250\n",
            "32/32 [==============================] - 0s 3ms/step - loss: 0.5234 - accuracy: 0.7420\n",
            "Epoch 119/250\n",
            "32/32 [==============================] - 0s 2ms/step - loss: 0.5225 - accuracy: 0.7420\n",
            "Epoch 120/250\n",
            "32/32 [==============================] - 0s 2ms/step - loss: 0.5223 - accuracy: 0.7390\n",
            "Epoch 121/250\n",
            "32/32 [==============================] - 0s 2ms/step - loss: 0.5216 - accuracy: 0.7400\n",
            "Epoch 122/250\n",
            "32/32 [==============================] - 0s 2ms/step - loss: 0.5201 - accuracy: 0.7440\n",
            "Epoch 123/250\n",
            "32/32 [==============================] - 0s 2ms/step - loss: 0.5194 - accuracy: 0.7480\n",
            "Epoch 124/250\n",
            "32/32 [==============================] - 0s 2ms/step - loss: 0.5189 - accuracy: 0.7430\n",
            "Epoch 125/250\n",
            "32/32 [==============================] - 0s 2ms/step - loss: 0.5182 - accuracy: 0.7390\n",
            "Epoch 126/250\n",
            "32/32 [==============================] - 0s 2ms/step - loss: 0.5166 - accuracy: 0.7500\n",
            "Epoch 127/250\n",
            "32/32 [==============================] - 0s 2ms/step - loss: 0.5159 - accuracy: 0.7450\n",
            "Epoch 128/250\n",
            "32/32 [==============================] - 0s 2ms/step - loss: 0.5158 - accuracy: 0.7420\n",
            "Epoch 129/250\n",
            "32/32 [==============================] - 0s 2ms/step - loss: 0.5148 - accuracy: 0.7450\n",
            "Epoch 130/250\n",
            "32/32 [==============================] - 0s 2ms/step - loss: 0.5153 - accuracy: 0.7440\n",
            "Epoch 131/250\n",
            "32/32 [==============================] - 0s 2ms/step - loss: 0.5146 - accuracy: 0.7450\n",
            "Epoch 132/250\n",
            "32/32 [==============================] - 0s 2ms/step - loss: 0.5128 - accuracy: 0.7450\n",
            "Epoch 133/250\n",
            "32/32 [==============================] - 0s 2ms/step - loss: 0.5118 - accuracy: 0.7510\n",
            "Epoch 134/250\n",
            "32/32 [==============================] - 0s 2ms/step - loss: 0.5123 - accuracy: 0.7450\n",
            "Epoch 135/250\n",
            "32/32 [==============================] - 0s 2ms/step - loss: 0.5110 - accuracy: 0.7450\n",
            "Epoch 136/250\n",
            "32/32 [==============================] - 0s 2ms/step - loss: 0.5101 - accuracy: 0.7530\n",
            "Epoch 137/250\n",
            "32/32 [==============================] - 0s 2ms/step - loss: 0.5099 - accuracy: 0.7450\n",
            "Epoch 138/250\n",
            "32/32 [==============================] - 0s 2ms/step - loss: 0.5110 - accuracy: 0.7410\n",
            "Epoch 139/250\n",
            "32/32 [==============================] - 0s 2ms/step - loss: 0.5115 - accuracy: 0.7510\n",
            "Epoch 140/250\n",
            "32/32 [==============================] - 0s 2ms/step - loss: 0.5077 - accuracy: 0.7510\n",
            "Epoch 141/250\n",
            "32/32 [==============================] - 0s 2ms/step - loss: 0.5075 - accuracy: 0.7500\n",
            "Epoch 142/250\n",
            "32/32 [==============================] - 0s 2ms/step - loss: 0.5075 - accuracy: 0.7500\n",
            "Epoch 143/250\n",
            "32/32 [==============================] - 0s 2ms/step - loss: 0.5065 - accuracy: 0.7490\n",
            "Epoch 144/250\n",
            "32/32 [==============================] - 0s 2ms/step - loss: 0.5061 - accuracy: 0.7510\n",
            "Epoch 145/250\n",
            "32/32 [==============================] - 0s 3ms/step - loss: 0.5069 - accuracy: 0.7500\n",
            "Epoch 146/250\n",
            "32/32 [==============================] - 0s 2ms/step - loss: 0.5056 - accuracy: 0.7510\n",
            "Epoch 147/250\n",
            "32/32 [==============================] - 0s 2ms/step - loss: 0.5047 - accuracy: 0.7520\n",
            "Epoch 148/250\n",
            "32/32 [==============================] - 0s 2ms/step - loss: 0.5046 - accuracy: 0.7480\n",
            "Epoch 149/250\n",
            "32/32 [==============================] - 0s 2ms/step - loss: 0.5032 - accuracy: 0.7540\n",
            "Epoch 150/250\n",
            "32/32 [==============================] - 0s 2ms/step - loss: 0.5035 - accuracy: 0.7520\n",
            "Epoch 151/250\n",
            "32/32 [==============================] - 0s 2ms/step - loss: 0.5038 - accuracy: 0.7510\n",
            "Epoch 152/250\n",
            "32/32 [==============================] - 0s 2ms/step - loss: 0.5028 - accuracy: 0.7520\n",
            "Epoch 153/250\n",
            "32/32 [==============================] - 0s 2ms/step - loss: 0.5020 - accuracy: 0.7550\n",
            "Epoch 154/250\n",
            "32/32 [==============================] - 0s 2ms/step - loss: 0.5025 - accuracy: 0.7480\n",
            "Epoch 155/250\n",
            "32/32 [==============================] - 0s 2ms/step - loss: 0.5005 - accuracy: 0.7520\n",
            "Epoch 156/250\n",
            "32/32 [==============================] - 0s 2ms/step - loss: 0.5001 - accuracy: 0.7550\n",
            "Epoch 157/250\n",
            "32/32 [==============================] - 0s 2ms/step - loss: 0.4999 - accuracy: 0.7530\n",
            "Epoch 158/250\n",
            "32/32 [==============================] - 0s 2ms/step - loss: 0.4998 - accuracy: 0.7510\n",
            "Epoch 159/250\n",
            "32/32 [==============================] - 0s 2ms/step - loss: 0.4990 - accuracy: 0.7520\n",
            "Epoch 160/250\n",
            "32/32 [==============================] - 0s 2ms/step - loss: 0.4987 - accuracy: 0.7520\n",
            "Epoch 161/250\n",
            "32/32 [==============================] - 0s 2ms/step - loss: 0.4997 - accuracy: 0.7550\n",
            "Epoch 162/250\n",
            "32/32 [==============================] - 0s 2ms/step - loss: 0.4988 - accuracy: 0.7550\n",
            "Epoch 163/250\n",
            "32/32 [==============================] - 0s 2ms/step - loss: 0.4978 - accuracy: 0.7530\n",
            "Epoch 164/250\n",
            "32/32 [==============================] - 0s 2ms/step - loss: 0.4971 - accuracy: 0.7550\n",
            "Epoch 165/250\n",
            "32/32 [==============================] - 0s 2ms/step - loss: 0.4963 - accuracy: 0.7580\n",
            "Epoch 166/250\n",
            "32/32 [==============================] - 0s 2ms/step - loss: 0.4961 - accuracy: 0.7540\n",
            "Epoch 167/250\n",
            "32/32 [==============================] - 0s 2ms/step - loss: 0.4956 - accuracy: 0.7550\n",
            "Epoch 168/250\n",
            "32/32 [==============================] - 0s 2ms/step - loss: 0.4950 - accuracy: 0.7550\n",
            "Epoch 169/250\n",
            "32/32 [==============================] - 0s 2ms/step - loss: 0.4947 - accuracy: 0.7550\n",
            "Epoch 170/250\n",
            "32/32 [==============================] - 0s 2ms/step - loss: 0.4947 - accuracy: 0.7560\n",
            "Epoch 171/250\n",
            "32/32 [==============================] - 0s 2ms/step - loss: 0.4946 - accuracy: 0.7560\n",
            "Epoch 172/250\n",
            "32/32 [==============================] - 0s 3ms/step - loss: 0.4946 - accuracy: 0.7530\n",
            "Epoch 173/250\n",
            "32/32 [==============================] - 0s 2ms/step - loss: 0.4929 - accuracy: 0.7590\n",
            "Epoch 174/250\n",
            "32/32 [==============================] - 0s 2ms/step - loss: 0.4924 - accuracy: 0.7570\n",
            "Epoch 175/250\n",
            "32/32 [==============================] - 0s 2ms/step - loss: 0.4923 - accuracy: 0.7600\n",
            "Epoch 176/250\n",
            "32/32 [==============================] - 0s 2ms/step - loss: 0.4925 - accuracy: 0.7560\n",
            "Epoch 177/250\n",
            "32/32 [==============================] - 0s 2ms/step - loss: 0.4913 - accuracy: 0.7610\n",
            "Epoch 178/250\n",
            "32/32 [==============================] - 0s 2ms/step - loss: 0.4909 - accuracy: 0.7610\n",
            "Epoch 179/250\n",
            "32/32 [==============================] - 0s 2ms/step - loss: 0.4915 - accuracy: 0.7600\n",
            "Epoch 180/250\n",
            "32/32 [==============================] - 0s 2ms/step - loss: 0.4903 - accuracy: 0.7620\n",
            "Epoch 181/250\n",
            "32/32 [==============================] - 0s 2ms/step - loss: 0.4897 - accuracy: 0.7620\n",
            "Epoch 182/250\n",
            "32/32 [==============================] - 0s 2ms/step - loss: 0.4901 - accuracy: 0.7580\n",
            "Epoch 183/250\n",
            "32/32 [==============================] - 0s 2ms/step - loss: 0.4893 - accuracy: 0.7630\n",
            "Epoch 184/250\n",
            "32/32 [==============================] - 0s 3ms/step - loss: 0.4901 - accuracy: 0.7610\n",
            "Epoch 185/250\n",
            "32/32 [==============================] - 0s 3ms/step - loss: 0.4892 - accuracy: 0.7650\n",
            "Epoch 186/250\n",
            "32/32 [==============================] - 0s 3ms/step - loss: 0.4891 - accuracy: 0.7640\n",
            "Epoch 187/250\n",
            "32/32 [==============================] - 0s 3ms/step - loss: 0.4881 - accuracy: 0.7610\n",
            "Epoch 188/250\n",
            "32/32 [==============================] - 0s 3ms/step - loss: 0.4877 - accuracy: 0.7640\n",
            "Epoch 189/250\n",
            "32/32 [==============================] - 0s 3ms/step - loss: 0.4875 - accuracy: 0.7630\n",
            "Epoch 190/250\n",
            "32/32 [==============================] - 0s 3ms/step - loss: 0.4872 - accuracy: 0.7630\n",
            "Epoch 191/250\n",
            "32/32 [==============================] - 0s 3ms/step - loss: 0.4875 - accuracy: 0.7630\n",
            "Epoch 192/250\n",
            "32/32 [==============================] - 0s 3ms/step - loss: 0.4875 - accuracy: 0.7630\n",
            "Epoch 193/250\n",
            "32/32 [==============================] - 0s 3ms/step - loss: 0.4861 - accuracy: 0.7630\n",
            "Epoch 194/250\n",
            "32/32 [==============================] - 0s 3ms/step - loss: 0.4858 - accuracy: 0.7640\n",
            "Epoch 195/250\n",
            "32/32 [==============================] - 0s 3ms/step - loss: 0.4860 - accuracy: 0.7630\n",
            "Epoch 196/250\n",
            "32/32 [==============================] - 0s 3ms/step - loss: 0.4855 - accuracy: 0.7630\n",
            "Epoch 197/250\n",
            "32/32 [==============================] - 0s 3ms/step - loss: 0.4854 - accuracy: 0.7660\n",
            "Epoch 198/250\n",
            "32/32 [==============================] - 0s 3ms/step - loss: 0.4847 - accuracy: 0.7670\n",
            "Epoch 199/250\n",
            "32/32 [==============================] - 0s 3ms/step - loss: 0.4843 - accuracy: 0.7680\n",
            "Epoch 200/250\n",
            "32/32 [==============================] - 0s 3ms/step - loss: 0.4852 - accuracy: 0.7610\n",
            "Epoch 201/250\n",
            "32/32 [==============================] - 0s 3ms/step - loss: 0.4843 - accuracy: 0.7620\n",
            "Epoch 202/250\n",
            "32/32 [==============================] - 0s 3ms/step - loss: 0.4845 - accuracy: 0.7690\n",
            "Epoch 203/250\n",
            "32/32 [==============================] - 0s 3ms/step - loss: 0.4831 - accuracy: 0.7680\n",
            "Epoch 204/250\n",
            "32/32 [==============================] - 0s 3ms/step - loss: 0.4830 - accuracy: 0.7660\n",
            "Epoch 205/250\n",
            "32/32 [==============================] - 0s 3ms/step - loss: 0.4826 - accuracy: 0.7650\n",
            "Epoch 206/250\n",
            "32/32 [==============================] - 0s 3ms/step - loss: 0.4824 - accuracy: 0.7680\n",
            "Epoch 207/250\n",
            "32/32 [==============================] - 0s 3ms/step - loss: 0.4812 - accuracy: 0.7690\n",
            "Epoch 208/250\n",
            "32/32 [==============================] - 0s 3ms/step - loss: 0.4813 - accuracy: 0.7670\n",
            "Epoch 209/250\n",
            "32/32 [==============================] - 0s 3ms/step - loss: 0.4823 - accuracy: 0.7710\n",
            "Epoch 210/250\n",
            "32/32 [==============================] - 0s 3ms/step - loss: 0.4804 - accuracy: 0.7700\n",
            "Epoch 211/250\n",
            "32/32 [==============================] - 0s 3ms/step - loss: 0.4814 - accuracy: 0.7680\n",
            "Epoch 212/250\n",
            "32/32 [==============================] - 0s 3ms/step - loss: 0.4797 - accuracy: 0.7690\n",
            "Epoch 213/250\n",
            "32/32 [==============================] - 0s 3ms/step - loss: 0.4798 - accuracy: 0.7720\n",
            "Epoch 214/250\n",
            "32/32 [==============================] - 0s 3ms/step - loss: 0.4790 - accuracy: 0.7710\n",
            "Epoch 215/250\n",
            "32/32 [==============================] - 0s 3ms/step - loss: 0.4786 - accuracy: 0.7730\n",
            "Epoch 216/250\n",
            "32/32 [==============================] - 0s 2ms/step - loss: 0.4775 - accuracy: 0.7770\n",
            "Epoch 217/250\n",
            "32/32 [==============================] - 0s 2ms/step - loss: 0.4773 - accuracy: 0.7760\n",
            "Epoch 218/250\n",
            "32/32 [==============================] - 0s 2ms/step - loss: 0.4763 - accuracy: 0.7770\n",
            "Epoch 219/250\n",
            "32/32 [==============================] - 0s 2ms/step - loss: 0.4756 - accuracy: 0.7790\n",
            "Epoch 220/250\n",
            "32/32 [==============================] - 0s 2ms/step - loss: 0.4756 - accuracy: 0.7810\n",
            "Epoch 221/250\n",
            "32/32 [==============================] - 0s 2ms/step - loss: 0.4748 - accuracy: 0.7770\n",
            "Epoch 222/250\n",
            "32/32 [==============================] - 0s 2ms/step - loss: 0.4749 - accuracy: 0.7830\n",
            "Epoch 223/250\n",
            "32/32 [==============================] - 0s 2ms/step - loss: 0.4736 - accuracy: 0.7840\n",
            "Epoch 224/250\n",
            "32/32 [==============================] - 0s 2ms/step - loss: 0.4699 - accuracy: 0.7900\n",
            "Epoch 225/250\n",
            "32/32 [==============================] - 0s 2ms/step - loss: 0.4707 - accuracy: 0.7860\n",
            "Epoch 226/250\n",
            "32/32 [==============================] - 0s 2ms/step - loss: 0.4655 - accuracy: 0.7890\n",
            "Epoch 227/250\n",
            "32/32 [==============================] - 0s 2ms/step - loss: 0.4627 - accuracy: 0.7940\n",
            "Epoch 228/250\n",
            "32/32 [==============================] - 0s 2ms/step - loss: 0.4604 - accuracy: 0.7980\n",
            "Epoch 229/250\n",
            "32/32 [==============================] - 0s 2ms/step - loss: 0.4584 - accuracy: 0.7990\n",
            "Epoch 230/250\n",
            "32/32 [==============================] - 0s 2ms/step - loss: 0.4543 - accuracy: 0.8040\n",
            "Epoch 231/250\n",
            "32/32 [==============================] - 0s 2ms/step - loss: 0.4512 - accuracy: 0.8080\n",
            "Epoch 232/250\n",
            "32/32 [==============================] - 0s 2ms/step - loss: 0.4495 - accuracy: 0.8130\n",
            "Epoch 233/250\n",
            "32/32 [==============================] - 0s 2ms/step - loss: 0.4460 - accuracy: 0.8210\n",
            "Epoch 234/250\n",
            "32/32 [==============================] - 0s 2ms/step - loss: 0.4436 - accuracy: 0.8220\n",
            "Epoch 235/250\n",
            "32/32 [==============================] - 0s 2ms/step - loss: 0.4411 - accuracy: 0.8250\n",
            "Epoch 236/250\n",
            "32/32 [==============================] - 0s 2ms/step - loss: 0.4393 - accuracy: 0.8280\n",
            "Epoch 237/250\n",
            "32/32 [==============================] - 0s 3ms/step - loss: 0.4372 - accuracy: 0.8250\n",
            "Epoch 238/250\n",
            "32/32 [==============================] - 0s 2ms/step - loss: 0.4363 - accuracy: 0.8280\n",
            "Epoch 239/250\n",
            "32/32 [==============================] - 0s 2ms/step - loss: 0.4328 - accuracy: 0.8310\n",
            "Epoch 240/250\n",
            "32/32 [==============================] - 0s 2ms/step - loss: 0.4316 - accuracy: 0.8320\n",
            "Epoch 241/250\n",
            "32/32 [==============================] - 0s 2ms/step - loss: 0.4297 - accuracy: 0.8360\n",
            "Epoch 242/250\n",
            "32/32 [==============================] - 0s 2ms/step - loss: 0.4282 - accuracy: 0.8360\n",
            "Epoch 243/250\n",
            "32/32 [==============================] - 0s 2ms/step - loss: 0.4263 - accuracy: 0.8360\n",
            "Epoch 244/250\n",
            "32/32 [==============================] - 0s 2ms/step - loss: 0.4247 - accuracy: 0.8380\n",
            "Epoch 245/250\n",
            "32/32 [==============================] - 0s 2ms/step - loss: 0.4220 - accuracy: 0.8420\n",
            "Epoch 246/250\n",
            "32/32 [==============================] - 0s 2ms/step - loss: 0.4208 - accuracy: 0.8420\n",
            "Epoch 247/250\n",
            "32/32 [==============================] - 0s 2ms/step - loss: 0.4182 - accuracy: 0.8430\n",
            "Epoch 248/250\n",
            "32/32 [==============================] - 0s 2ms/step - loss: 0.4165 - accuracy: 0.8430\n",
            "Epoch 249/250\n",
            "32/32 [==============================] - 0s 2ms/step - loss: 0.4142 - accuracy: 0.8420\n",
            "Epoch 250/250\n",
            "32/32 [==============================] - 0s 2ms/step - loss: 0.4124 - accuracy: 0.8480\n"
          ]
        }
      ]
    },
    {
      "cell_type": "code",
      "source": [
        "# Evaluate our model\n",
        "model_7.evaluate(X, y)"
      ],
      "metadata": {
        "colab": {
          "base_uri": "https://localhost:8080/"
        },
        "id": "i-sYeY8SZ6Q-",
        "outputId": "74331d1d-04cf-4620-fd25-9afe29f4563a"
      },
      "execution_count": null,
      "outputs": [
        {
          "output_type": "stream",
          "name": "stdout",
          "text": [
            "32/32 [==============================] - 0s 2ms/step - loss: 0.4108 - accuracy: 0.8470\n"
          ]
        },
        {
          "output_type": "execute_result",
          "data": {
            "text/plain": [
              "[0.4107552468776703, 0.847000002861023]"
            ]
          },
          "metadata": {},
          "execution_count": 39
        }
      ]
    },
    {
      "cell_type": "code",
      "source": [
        "# Let's visualize our incredible metrics\n",
        "plot_decision_boundary(model_7, X, y)"
      ],
      "metadata": {
        "colab": {
          "base_uri": "https://localhost:8080/",
          "height": 300
        },
        "id": "wfJauPC4atAz",
        "outputId": "c1b93178-c66a-4155-d3bd-9a2669fa3626"
      },
      "execution_count": null,
      "outputs": [
        {
          "output_type": "stream",
          "name": "stdout",
          "text": [
            "313/313 [==============================] - 1s 1ms/step\n",
            "Doing binary classification\n"
          ]
        },
        {
          "output_type": "display_data",
          "data": {
            "text/plain": [
              "<Figure size 432x288 with 1 Axes>"
            ],
            "image/png": "[encoded data removed]"
          },
          "metadata": {
            "needs_background": "light"
          }
        }
      ]
    },
    {
      "cell_type": "markdown",
      "source": [
        "**Questions:** What's wrong with the predictions we've made? Are we really evaluating our model correctly? Hint: What data did the model learn on and what did we predict on?\n",
        "\n",
        "**Note:** The combination of **linear (straight lines) and non-linear(non-straight lines) function** is one of the key fundamentals of neural networks.\n",
        "\n",
        "Now we've discusses the concept of linear and non-linear functions(or lines),let's see them in action."
      ],
      "metadata": {
        "id": "PJJ6SAxFbF4d"
      }
    },
    {
      "cell_type": "code",
      "source": [
        "# Create a toy tensor (similar to the data we pass into our models)\n",
        "A = tf.cast(tf.range(-10,10), tf.float32)\n",
        "A"
      ],
      "metadata": {
        "colab": {
          "base_uri": "https://localhost:8080/"
        },
        "id": "cJFHtCkqa8Du",
        "outputId": "8c0022f3-7fc9-4943-8c2b-bc6c006f0ee9"
      },
      "execution_count": null,
      "outputs": [
        {
          "output_type": "execute_result",
          "data": {
            "text/plain": [
              "<tf.Tensor: shape=(20,), dtype=float32, numpy=\n",
              "array([-10.,  -9.,  -8.,  -7.,  -6.,  -5.,  -4.,  -3.,  -2.,  -1.,   0.,\n",
              "         1.,   2.,   3.,   4.,   5.,   6.,   7.,   8.,   9.],\n",
              "      dtype=float32)>"
            ]
          },
          "metadata": {},
          "execution_count": 41
        }
      ]
    },
    {
      "cell_type": "code",
      "source": [
        "# Visualize our toy tensor\n",
        "plt.plot(A);"
      ],
      "metadata": {
        "colab": {
          "base_uri": "https://localhost:8080/",
          "height": 265
        },
        "id": "0Pi6ANTEeFVN",
        "outputId": "bc073ca4-d594-4f7c-de9f-211a912ab9df"
      },
      "execution_count": null,
      "outputs": [
        {
          "output_type": "display_data",
          "data": {
            "text/plain": [
              "<Figure size 432x288 with 1 Axes>"
            ],
            "image/png": "[encoded data removed]"
          },
          "metadata": {
            "needs_background": "light"
          }
        }
      ]
    },
    {
      "cell_type": "code",
      "source": [
        "# Let's start by replicating sigmoid - sigmoid(x) = 1/(1 + exp(-x))\n",
        "def sigmoid(x):\n",
        "  return 1/ (1 + tf.exp(-x))\n",
        "\n",
        "# Use the sigmoid function on our toy tensor\n",
        "sigmoid(A)"
      ],
      "metadata": {
        "colab": {
          "base_uri": "https://localhost:8080/"
        },
        "id": "_WY65ML-eQ5M",
        "outputId": "422204e6-0152-4fed-eea0-2faa3e6cabca"
      },
      "execution_count": null,
      "outputs": [
        {
          "output_type": "execute_result",
          "data": {
            "text/plain": [
              "<tf.Tensor: shape=(20,), dtype=float32, numpy=\n",
              "array([4.5397872e-05, 1.2339458e-04, 3.3535014e-04, 9.1105117e-04,\n",
              "       2.4726233e-03, 6.6928510e-03, 1.7986210e-02, 4.7425874e-02,\n",
              "       1.1920292e-01, 2.6894143e-01, 5.0000000e-01, 7.3105860e-01,\n",
              "       8.8079703e-01, 9.5257413e-01, 9.8201376e-01, 9.9330717e-01,\n",
              "       9.9752742e-01, 9.9908900e-01, 9.9966466e-01, 9.9987662e-01],\n",
              "      dtype=float32)>"
            ]
          },
          "metadata": {},
          "execution_count": 43
        }
      ]
    },
    {
      "cell_type": "code",
      "source": [
        "# plot our toy tensor transformed by sigmoid\n",
        "plt.plot(sigmoid(A));"
      ],
      "metadata": {
        "colab": {
          "base_uri": "https://localhost:8080/",
          "height": 265
        },
        "id": "ReiEKqo6f9zF",
        "outputId": "b4b81ea3-e445-470a-fb1c-ccd008d5bad7"
      },
      "execution_count": null,
      "outputs": [
        {
          "output_type": "display_data",
          "data": {
            "text/plain": [
              "<Figure size 432x288 with 1 Axes>"
            ],
            "image/png": "[encoded data removed]"
          },
          "metadata": {
            "needs_background": "light"
          }
        }
      ]
    },
    {
      "cell_type": "code",
      "source": [
        "# Let's recreate the relu function\n",
        "def relu(x):\n",
        "  return tf.maximum(0, x)\n",
        "\n",
        "# pass our toy tensor to our custom relu function\n",
        "relu(A)"
      ],
      "metadata": {
        "colab": {
          "base_uri": "https://localhost:8080/"
        },
        "id": "54klooCmgKld",
        "outputId": "6f1ae51b-baf3-4125-ae21-16cec34ac400"
      },
      "execution_count": null,
      "outputs": [
        {
          "output_type": "execute_result",
          "data": {
            "text/plain": [
              "<tf.Tensor: shape=(20,), dtype=float32, numpy=\n",
              "array([0., 0., 0., 0., 0., 0., 0., 0., 0., 0., 0., 1., 2., 3., 4., 5., 6.,\n",
              "       7., 8., 9.], dtype=float32)>"
            ]
          },
          "metadata": {},
          "execution_count": 45
        }
      ]
    },
    {
      "cell_type": "code",
      "source": [
        "A"
      ],
      "metadata": {
        "colab": {
          "base_uri": "https://localhost:8080/"
        },
        "id": "xKNx2Ze4hpDp",
        "outputId": "3eb6123d-a379-43fe-a233-4fa030e9902e"
      },
      "execution_count": null,
      "outputs": [
        {
          "output_type": "execute_result",
          "data": {
            "text/plain": [
              "<tf.Tensor: shape=(20,), dtype=float32, numpy=\n",
              "array([-10.,  -9.,  -8.,  -7.,  -6.,  -5.,  -4.,  -3.,  -2.,  -1.,   0.,\n",
              "         1.,   2.,   3.,   4.,   5.,   6.,   7.,   8.,   9.],\n",
              "      dtype=float32)>"
            ]
          },
          "metadata": {},
          "execution_count": 46
        }
      ]
    },
    {
      "cell_type": "code",
      "source": [
        "# Plot Relu-modified tensor\n",
        "plt.plot(relu(A));"
      ],
      "metadata": {
        "colab": {
          "base_uri": "https://localhost:8080/",
          "height": 265
        },
        "id": "BUpAkET2huik",
        "outputId": "dda4b156-c353-42ec-e7aa-b152b067d867"
      },
      "execution_count": null,
      "outputs": [
        {
          "output_type": "display_data",
          "data": {
            "text/plain": [
              "<Figure size 432x288 with 1 Axes>"
            ],
            "image/png": "[encoded data removed]"
          },
          "metadata": {
            "needs_background": "light"
          }
        }
      ]
    },
    {
      "cell_type": "code",
      "source": [
        "# Let's try linear activation function\n",
        "tf.keras.activations.linear(A)"
      ],
      "metadata": {
        "colab": {
          "base_uri": "https://localhost:8080/"
        },
        "id": "mrfbIMxTh3XE",
        "outputId": "ec8bb3eb-13fd-4aa7-8d82-336806acf097"
      },
      "execution_count": null,
      "outputs": [
        {
          "output_type": "execute_result",
          "data": {
            "text/plain": [
              "<tf.Tensor: shape=(20,), dtype=float32, numpy=\n",
              "array([-10.,  -9.,  -8.,  -7.,  -6.,  -5.,  -4.,  -3.,  -2.,  -1.,   0.,\n",
              "         1.,   2.,   3.,   4.,   5.,   6.,   7.,   8.,   9.],\n",
              "      dtype=float32)>"
            ]
          },
          "metadata": {},
          "execution_count": 48
        }
      ]
    },
    {
      "cell_type": "code",
      "source": [
        "plt.plot(tf.keras.activations.linear(A))"
      ],
      "metadata": {
        "colab": {
          "base_uri": "https://localhost:8080/",
          "height": 282
        },
        "id": "J83BcetWiBTp",
        "outputId": "318c1318-9da8-40bb-b870-b614f893a4e3"
      },
      "execution_count": null,
      "outputs": [
        {
          "output_type": "execute_result",
          "data": {
            "text/plain": [
              "[<matplotlib.lines.Line2D at 0x7f7913fcbb80>]"
            ]
          },
          "metadata": {},
          "execution_count": 49
        },
        {
          "output_type": "display_data",
          "data": {
            "text/plain": [
              "<Figure size 432x288 with 1 Axes>"
            ],
            "image/png": "[encoded data removed]"
          },
          "metadata": {
            "needs_background": "light"
          }
        }
      ]
    },
    {
      "cell_type": "code",
      "source": [
        "# Does A even change?\n",
        "A == tf.keras.activations.linear(A)"
      ],
      "metadata": {
        "colab": {
          "base_uri": "https://localhost:8080/"
        },
        "id": "WJ-6QKALifq_",
        "outputId": "635ce0ff-e286-4bd1-a63a-296ccd73106f"
      },
      "execution_count": null,
      "outputs": [
        {
          "output_type": "execute_result",
          "data": {
            "text/plain": [
              "<tf.Tensor: shape=(20,), dtype=bool, numpy=\n",
              "array([ True,  True,  True,  True,  True,  True,  True,  True,  True,\n",
              "        True,  True,  True,  True,  True,  True,  True,  True,  True,\n",
              "        True,  True])>"
            ]
          },
          "metadata": {},
          "execution_count": 50
        }
      ]
    },
    {
      "cell_type": "markdown",
      "source": [
        "## Evaluating and improving our classification\n",
        "So far we've been training and testing on the same dataset..\n",
        "\n",
        "However, in machine learning this is basically a sin.\n",
        "\n",
        "So let's create a training and test set."
      ],
      "metadata": {
        "id": "OnQ5omctiuV0"
      }
    },
    {
      "cell_type": "code",
      "source": [
        "# Check how many examples we have \n",
        "len(X)"
      ],
      "metadata": {
        "colab": {
          "base_uri": "https://localhost:8080/"
        },
        "id": "FKQmpEg8jsFa",
        "outputId": "b049f24f-6b9b-4f4f-c64e-05ab95776c49"
      },
      "execution_count": null,
      "outputs": [
        {
          "output_type": "execute_result",
          "data": {
            "text/plain": [
              "1000"
            ]
          },
          "metadata": {},
          "execution_count": 51
        }
      ]
    },
    {
      "cell_type": "code",
      "source": [
        "# Split into train and test sets\n",
        "X_train, y_train = X[:800], y[:800]\n",
        "X_test, y_test = X[800:], y[800:]\n",
        "\n",
        "X_train.shape, X_test.shape, y_train.shape, y_test.shape"
      ],
      "metadata": {
        "colab": {
          "base_uri": "https://localhost:8080/"
        },
        "id": "yWebJlfokqbH",
        "outputId": "94fbf492-4028-4db6-c63c-5f5cd5c83b0a"
      },
      "execution_count": null,
      "outputs": [
        {
          "output_type": "execute_result",
          "data": {
            "text/plain": [
              "((800, 2), (200, 2), (800,), (200,))"
            ]
          },
          "metadata": {},
          "execution_count": 52
        }
      ]
    },
    {
      "cell_type": "code",
      "source": [
        "# Let's recreate a model to fit on the training data anf evaluate on the testing data\n",
        "\n",
        "# Set random seed\n",
        "tf.random.set_seed = 43\n",
        "\n",
        "# Create the model (same as model_7)\n",
        "model_8 = tf.keras.Sequential([\n",
        "    tf.keras.layers.Dense(50, activation=\"relu\"),\n",
        "    tf.keras.layers.Dense(20, activation=\"relu\"),\n",
        "    tf.keras.layers.Dense(1, activation=\"sigmoid\")\n",
        "])\n",
        "\n",
        "# Compile the model\n",
        "model_8.compile(loss=\"binary_crossentropy\",\n",
        "                optimizer=tf.keras.optimizers.Adam(lr=0.1),\n",
        "                metrics=[\"accuracy\"])\n",
        "\n",
        "# Fit the model\n",
        "history = model_8.fit(X_train, y_train, epochs=25)"
      ],
      "metadata": {
        "colab": {
          "base_uri": "https://localhost:8080/"
        },
        "id": "ti5aIbhgkxEi",
        "outputId": "5ec0d431-ec3b-4d06-d3ac-a30103ee0f1a"
      },
      "execution_count": null,
      "outputs": [
        {
          "output_type": "stream",
          "name": "stderr",
          "text": [
            "WARNING:absl:`lr` is deprecated, please use `learning_rate` instead, or use the legacy optimizer, e.g.,tf.keras.optimizers.legacy.Adam.\n"
          ]
        },
        {
          "output_type": "stream",
          "name": "stdout",
          "text": [
            "Epoch 1/25\n",
            "25/25 [==============================] - 1s 2ms/step - loss: 0.6957 - accuracy: 0.5038\n",
            "Epoch 2/25\n",
            "25/25 [==============================] - 0s 2ms/step - loss: 0.6908 - accuracy: 0.4975\n",
            "Epoch 3/25\n",
            "25/25 [==============================] - 0s 2ms/step - loss: 0.6882 - accuracy: 0.4988\n",
            "Epoch 4/25\n",
            "25/25 [==============================] - 0s 2ms/step - loss: 0.6855 - accuracy: 0.4988\n",
            "Epoch 5/25\n",
            "25/25 [==============================] - 0s 2ms/step - loss: 0.6831 - accuracy: 0.4988\n",
            "Epoch 6/25\n",
            "25/25 [==============================] - 0s 2ms/step - loss: 0.6797 - accuracy: 0.4988\n",
            "Epoch 7/25\n",
            "25/25 [==============================] - 0s 2ms/step - loss: 0.6762 - accuracy: 0.5838\n",
            "Epoch 8/25\n",
            "25/25 [==============================] - 0s 2ms/step - loss: 0.6724 - accuracy: 0.5175\n",
            "Epoch 9/25\n",
            "25/25 [==============================] - 0s 2ms/step - loss: 0.6677 - accuracy: 0.6325\n",
            "Epoch 10/25\n",
            "25/25 [==============================] - 0s 2ms/step - loss: 0.6620 - accuracy: 0.6687\n",
            "Epoch 11/25\n",
            "25/25 [==============================] - 0s 2ms/step - loss: 0.6556 - accuracy: 0.6825\n",
            "Epoch 12/25\n",
            "25/25 [==============================] - 0s 2ms/step - loss: 0.6478 - accuracy: 0.6200\n",
            "Epoch 13/25\n",
            "25/25 [==============================] - 0s 2ms/step - loss: 0.6388 - accuracy: 0.6913\n",
            "Epoch 14/25\n",
            "25/25 [==============================] - 0s 2ms/step - loss: 0.6260 - accuracy: 0.8550\n",
            "Epoch 15/25\n",
            "25/25 [==============================] - 0s 2ms/step - loss: 0.6126 - accuracy: 0.8125\n",
            "Epoch 16/25\n",
            "25/25 [==============================] - 0s 2ms/step - loss: 0.5950 - accuracy: 0.9413\n",
            "Epoch 17/25\n",
            "25/25 [==============================] - 0s 2ms/step - loss: 0.5771 - accuracy: 0.8462\n",
            "Epoch 18/25\n",
            "25/25 [==============================] - 0s 2ms/step - loss: 0.5502 - accuracy: 0.9488\n",
            "Epoch 19/25\n",
            "25/25 [==============================] - 0s 2ms/step - loss: 0.5259 - accuracy: 0.9812\n",
            "Epoch 20/25\n",
            "25/25 [==============================] - 0s 2ms/step - loss: 0.4962 - accuracy: 0.9862\n",
            "Epoch 21/25\n",
            "25/25 [==============================] - 0s 2ms/step - loss: 0.4659 - accuracy: 0.9825\n",
            "Epoch 22/25\n",
            "25/25 [==============================] - 0s 2ms/step - loss: 0.4372 - accuracy: 0.9900\n",
            "Epoch 23/25\n",
            "25/25 [==============================] - 0s 2ms/step - loss: 0.4019 - accuracy: 0.9975\n",
            "Epoch 24/25\n",
            "25/25 [==============================] - 0s 2ms/step - loss: 0.3743 - accuracy: 0.9925\n",
            "Epoch 25/25\n",
            "25/25 [==============================] - 0s 2ms/step - loss: 0.3434 - accuracy: 0.9962\n"
          ]
        }
      ]
    },
    {
      "cell_type": "code",
      "source": [
        "# Evaluate the model on the test dataset\n",
        "model_8.evaluate(X_test, y_test)"
      ],
      "metadata": {
        "colab": {
          "base_uri": "https://localhost:8080/"
        },
        "id": "euK9qvq4nCbv",
        "outputId": "eb15666b-90f3-4a82-ca40-01971a1c3187"
      },
      "execution_count": null,
      "outputs": [
        {
          "output_type": "stream",
          "name": "stdout",
          "text": [
            "7/7 [==============================] - 0s 3ms/step - loss: 0.3284 - accuracy: 0.9950\n"
          ]
        },
        {
          "output_type": "execute_result",
          "data": {
            "text/plain": [
              "[0.3284232020378113, 0.9950000047683716]"
            ]
          },
          "metadata": {},
          "execution_count": 54
        }
      ]
    },
    {
      "cell_type": "code",
      "source": [
        "plt.figure(figsize=(12,6))\n",
        "plt.subplot(1, 2, 1)\n",
        "plt.title(\"Train\")\n",
        "plot_decision_boundary(model_8, X = X_train, y=y_train)\n",
        "plt.subplot(1, 2, 2)\n",
        "plt.title(\"Test\")\n",
        "plot_decision_boundary(model_8, X=X_test, y=y_test)\n",
        "plt.show();"
      ],
      "metadata": {
        "colab": {
          "base_uri": "https://localhost:8080/",
          "height": 458
        },
        "id": "HJNU3UeKoJe2",
        "outputId": "863a9913-5351-4ee9-c407-bbae1ff247b6"
      },
      "execution_count": null,
      "outputs": [
        {
          "output_type": "stream",
          "name": "stdout",
          "text": [
            "313/313 [==============================] - 1s 2ms/step\n",
            "Doing binary classification\n",
            "313/313 [==============================] - 1s 2ms/step\n",
            "Doing binary classification\n"
          ]
        },
        {
          "output_type": "display_data",
          "data": {
            "text/plain": [
              "<Figure size 864x432 with 2 Axes>"
            ],
            "image/png": "[encoded data removed]"
          },
          "metadata": {
            "needs_background": "light"
          }
        }
      ]
    },
    {
      "cell_type": "markdown",
      "source": [
        "##Plot the loss(or training) curves"
      ],
      "metadata": {
        "id": "eM0wslfYpsOu"
      }
    },
    {
      "cell_type": "code",
      "source": [
        "# Convert the history object into a Dataframe\n",
        "pd.DataFrame(history.history)"
      ],
      "metadata": {
        "colab": {
          "base_uri": "https://localhost:8080/",
          "height": 833
        },
        "id": "59_LsH6GrEBH",
        "outputId": "63ff1626-cc20-49e0-c3da-50e840f162b5"
      },
      "execution_count": null,
      "outputs": [
        {
          "output_type": "execute_result",
          "data": {
            "text/plain": [
              "        loss  accuracy\n",
              "0   0.695698   0.50375\n",
              "1   0.690810   0.49750\n",
              "2   0.688185   0.49875\n",
              "3   0.685458   0.49875\n",
              "4   0.683118   0.49875\n",
              "5   0.679674   0.49875\n",
              "6   0.676230   0.58375\n",
              "7   0.672380   0.51750\n",
              "8   0.667663   0.63250\n",
              "9   0.662002   0.66875\n",
              "10  0.655640   0.68250\n",
              "11  0.647802   0.62000\n",
              "12  0.638821   0.69125\n",
              "13  0.626038   0.85500\n",
              "14  0.612634   0.81250\n",
              "15  0.594996   0.94125\n",
              "16  0.577072   0.84625\n",
              "17  0.550172   0.94875\n",
              "18  0.525852   0.98125\n",
              "19  0.496168   0.98625\n",
              "20  0.465934   0.98250\n",
              "21  0.437242   0.99000\n",
              "22  0.401928   0.99750\n",
              "23  0.374316   0.99250\n",
              "24  0.343437   0.99625"
            ],
            "text/html": [
              "\n",
              "  <div id=\"df-8fddb304-7933-4731-938b-8d8871e347bc\">\n",
              "    <div class=\"colab-df-container\">\n",
              "      <div>\n",
              "<style scoped>\n",
              "    .dataframe tbody tr th:only-of-type {\n",
              "        vertical-align: middle;\n",
              "    }\n",
              "\n",
              "    .dataframe tbody tr th {\n",
              "        vertical-align: top;\n",
              "    }\n",
              "\n",
              "    .dataframe thead th {\n",
              "        text-align: right;\n",
              "    }\n",
              "</style>\n",
              "<table border=\"1\" class=\"dataframe\">\n",
              "  <thead>\n",
              "    <tr style=\"text-align: right;\">\n",
              "      <th></th>\n",
              "      <th>loss</th>\n",
              "      <th>accuracy</th>\n",
              "    </tr>\n",
              "  </thead>\n",
              "  <tbody>\n",
              "    <tr>\n",
              "      <th>0</th>\n",
              "      <td>0.695698</td>\n",
              "      <td>0.50375</td>\n",
              "    </tr>\n",
              "    <tr>\n",
              "      <th>1</th>\n",
              "      <td>0.690810</td>\n",
              "      <td>0.49750</td>\n",
              "    </tr>\n",
              "    <tr>\n",
              "      <th>2</th>\n",
              "      <td>0.688185</td>\n",
              "      <td>0.49875</td>\n",
              "    </tr>\n",
              "    <tr>\n",
              "      <th>3</th>\n",
              "      <td>0.685458</td>\n",
              "      <td>0.49875</td>\n",
              "    </tr>\n",
              "    <tr>\n",
              "      <th>4</th>\n",
              "      <td>0.683118</td>\n",
              "      <td>0.49875</td>\n",
              "    </tr>\n",
              "    <tr>\n",
              "      <th>5</th>\n",
              "      <td>0.679674</td>\n",
              "      <td>0.49875</td>\n",
              "    </tr>\n",
              "    <tr>\n",
              "      <th>6</th>\n",
              "      <td>0.676230</td>\n",
              "      <td>0.58375</td>\n",
              "    </tr>\n",
              "    <tr>\n",
              "      <th>7</th>\n",
              "      <td>0.672380</td>\n",
              "      <td>0.51750</td>\n",
              "    </tr>\n",
              "    <tr>\n",
              "      <th>8</th>\n",
              "      <td>0.667663</td>\n",
              "      <td>0.63250</td>\n",
              "    </tr>\n",
              "    <tr>\n",
              "      <th>9</th>\n",
              "      <td>0.662002</td>\n",
              "      <td>0.66875</td>\n",
              "    </tr>\n",
              "    <tr>\n",
              "      <th>10</th>\n",
              "      <td>0.655640</td>\n",
              "      <td>0.68250</td>\n",
              "    </tr>\n",
              "    <tr>\n",
              "      <th>11</th>\n",
              "      <td>0.647802</td>\n",
              "      <td>0.62000</td>\n",
              "    </tr>\n",
              "    <tr>\n",
              "      <th>12</th>\n",
              "      <td>0.638821</td>\n",
              "      <td>0.69125</td>\n",
              "    </tr>\n",
              "    <tr>\n",
              "      <th>13</th>\n",
              "      <td>0.626038</td>\n",
              "      <td>0.85500</td>\n",
              "    </tr>\n",
              "    <tr>\n",
              "      <th>14</th>\n",
              "      <td>0.612634</td>\n",
              "      <td>0.81250</td>\n",
              "    </tr>\n",
              "    <tr>\n",
              "      <th>15</th>\n",
              "      <td>0.594996</td>\n",
              "      <td>0.94125</td>\n",
              "    </tr>\n",
              "    <tr>\n",
              "      <th>16</th>\n",
              "      <td>0.577072</td>\n",
              "      <td>0.84625</td>\n",
              "    </tr>\n",
              "    <tr>\n",
              "      <th>17</th>\n",
              "      <td>0.550172</td>\n",
              "      <td>0.94875</td>\n",
              "    </tr>\n",
              "    <tr>\n",
              "      <th>18</th>\n",
              "      <td>0.525852</td>\n",
              "      <td>0.98125</td>\n",
              "    </tr>\n",
              "    <tr>\n",
              "      <th>19</th>\n",
              "      <td>0.496168</td>\n",
              "      <td>0.98625</td>\n",
              "    </tr>\n",
              "    <tr>\n",
              "      <th>20</th>\n",
              "      <td>0.465934</td>\n",
              "      <td>0.98250</td>\n",
              "    </tr>\n",
              "    <tr>\n",
              "      <th>21</th>\n",
              "      <td>0.437242</td>\n",
              "      <td>0.99000</td>\n",
              "    </tr>\n",
              "    <tr>\n",
              "      <th>22</th>\n",
              "      <td>0.401928</td>\n",
              "      <td>0.99750</td>\n",
              "    </tr>\n",
              "    <tr>\n",
              "      <th>23</th>\n",
              "      <td>0.374316</td>\n",
              "      <td>0.99250</td>\n",
              "    </tr>\n",
              "    <tr>\n",
              "      <th>24</th>\n",
              "      <td>0.343437</td>\n",
              "      <td>0.99625</td>\n",
              "    </tr>\n",
              "  </tbody>\n",
              "</table>\n",
              "</div>\n",
              "      <button class=\"colab-df-convert\" onclick=\"convertToInteractive('df-8fddb304-7933-4731-938b-8d8871e347bc')\"\n",
              "              title=\"Convert this dataframe to an interactive table.\"\n",
              "              style=\"display:none;\">\n",
              "        \n",
              "  <svg xmlns=\"http://www.w3.org/2000/svg\" height=\"24px\"viewBox=\"0 0 24 24\"\n",
              "       width=\"24px\">\n",
              "    <path d=\"M0 0h24v24H0V0z\" fill=\"none\"/>\n",
              "    <path d=\"M18.56 5.44l.94 2.06.94-2.06 2.06-.94-2.06-.94-.94-2.06-.94 2.06-2.06.94zm-11 1L8.5 8.5l.94-2.06 2.06-.94-2.06-.94L8.5 2.5l-.94 2.06-2.06.94zm10 10l.94 2.06.94-2.06 2.06-.94-2.06-.94-.94-2.06-.94 2.06-2.06.94z\"/><path d=\"M17.41 7.96l-1.37-1.37c-.4-.4-.92-.59-1.43-.59-.52 0-1.04.2-1.43.59L10.3 9.45l-7.72 7.72c-.78.78-.78 2.05 0 2.83L4 21.41c.39.39.9.59 1.41.59.51 0 1.02-.2 1.41-.59l7.78-7.78 2.81-2.81c.8-.78.8-2.07 0-2.86zM5.41 20L4 18.59l7.72-7.72 1.47 1.35L5.41 20z\"/>\n",
              "  </svg>\n",
              "      </button>\n",
              "      \n",
              "  <style>\n",
              "    .colab-df-container {\n",
              "      display:flex;\n",
              "      flex-wrap:wrap;\n",
              "      gap: 12px;\n",
              "    }\n",
              "\n",
              "    .colab-df-convert {\n",
              "      background-color: #E8F0FE;\n",
              "      border: none;\n",
              "      border-radius: 50%;\n",
              "      cursor: pointer;\n",
              "      display: none;\n",
              "      fill: #1967D2;\n",
              "      height: 32px;\n",
              "      padding: 0 0 0 0;\n",
              "      width: 32px;\n",
              "    }\n",
              "\n",
              "    .colab-df-convert:hover {\n",
              "      background-color: #E2EBFA;\n",
              "      box-shadow: 0px 1px 2px rgba(60, 64, 67, 0.3), 0px 1px 3px 1px rgba(60, 64, 67, 0.15);\n",
              "      fill: #174EA6;\n",
              "    }\n",
              "\n",
              "    [theme=dark] .colab-df-convert {\n",
              "      background-color: #3B4455;\n",
              "      fill: #D2E3FC;\n",
              "    }\n",
              "\n",
              "    [theme=dark] .colab-df-convert:hover {\n",
              "      background-color: #434B5C;\n",
              "      box-shadow: 0px 1px 3px 1px rgba(0, 0, 0, 0.15);\n",
              "      filter: drop-shadow(0px 1px 2px rgba(0, 0, 0, 0.3));\n",
              "      fill: #FFFFFF;\n",
              "    }\n",
              "  </style>\n",
              "\n",
              "      <script>\n",
              "        const buttonEl =\n",
              "          document.querySelector('#df-8fddb304-7933-4731-938b-8d8871e347bc button.colab-df-convert');\n",
              "        buttonEl.style.display =\n",
              "          google.colab.kernel.accessAllowed ? 'block' : 'none';\n",
              "\n",
              "        async function convertToInteractive(key) {\n",
              "          const element = document.querySelector('#df-8fddb304-7933-4731-938b-8d8871e347bc');\n",
              "          const dataTable =\n",
              "            await google.colab.kernel.invokeFunction('convertToInteractive',\n",
              "                                                     [key], {});\n",
              "          if (!dataTable) return;\n",
              "\n",
              "          const docLinkHtml = 'Like what you see? Visit the ' +\n",
              "            '<a target=\"_blank\" href=https://colab.research.google.com/notebooks/data_table.ipynb>data table notebook</a>'\n",
              "            + ' to learn more about interactive tables.';\n",
              "          element.innerHTML = '';\n",
              "          dataTable['output_type'] = 'display_data';\n",
              "          await google.colab.output.renderOutput(dataTable, element);\n",
              "          const docLink = document.createElement('div');\n",
              "          docLink.innerHTML = docLinkHtml;\n",
              "          element.appendChild(docLink);\n",
              "        }\n",
              "      </script>\n",
              "    </div>\n",
              "  </div>\n",
              "  "
            ]
          },
          "metadata": {},
          "execution_count": 56
        }
      ]
    },
    {
      "cell_type": "code",
      "source": [
        "# Plot the loss curve\n",
        "pd.DataFrame(history.history).plot()\n",
        "plt.title(\"Model_8 loss curves\");\n"
      ],
      "metadata": {
        "colab": {
          "base_uri": "https://localhost:8080/",
          "height": 281
        },
        "id": "X1jxIW54rbFw",
        "outputId": "5d2b994d-14be-47f7-d53a-3ece120cc477"
      },
      "execution_count": null,
      "outputs": [
        {
          "output_type": "display_data",
          "data": {
            "text/plain": [
              "<Figure size 432x288 with 1 Axes>"
            ],
            "image/png": "[encoded data removed]"
          },
          "metadata": {
            "needs_background": "light"
          }
        }
      ]
    },
    {
      "cell_type": "markdown",
      "source": [
        "**Note:** For many problems, the loss function going down means the model is improving (the predictions it's making are getting close to the ground truth labels.)"
      ],
      "metadata": {
        "id": "mizbTrYxsQgU"
      }
    },
    {
      "cell_type": "markdown",
      "source": [
        "## Finding the best learning rate \n",
        "\n",
        "To find the ideal learning rate(the learning rate where the loss decreases the most during training) we're going to use the following steps:\n",
        "* A learning rate **callback** - you can think of a callback as an extra piece of functionality, you can add to your *while* its training.\n",
        "* Another model (we could use the same one as above, but we're practically building models here)\n",
        "* A modified loss curves plot."
      ],
      "metadata": {
        "id": "geDQStMlsLXc"
      }
    },
    {
      "cell_type": "code",
      "source": [
        "# Set random seed\n",
        "tf.random.set_seed = 43\n",
        "\n",
        "# Create a model (same as model_8)\n",
        "model_9 = tf.keras.Sequential([\n",
        "    tf.keras.layers.Dense(4, activation =\"relu\"),\n",
        "    tf.keras.layers.Dense(4, activation =\"relu\"),\n",
        "    tf.keras.layers.Dense(1, activation =\"sigmoid\")\n",
        "])\n",
        "\n",
        "model_9.compile(loss=\"binary_crossentropy\",\n",
        "                optimizer=\"Adam\",\n",
        "                metrics=[\"accuracy\"])\n",
        "\n",
        "# Create a learning rate callback\n",
        "lr_scheduler = tf.keras.callbacks.LearningRateScheduler(lambda epoch: 1e-4 * 10 **(epoch/20))\n",
        "\n",
        "# fit the model (passing the lr_scheduler callback)\n",
        "history_9 = model_9.fit(X_train,\n",
        "                        y_train,\n",
        "                        epochs=100,\n",
        "                        callbacks=[lr_scheduler])\n",
        "\n"
      ],
      "metadata": {
        "colab": {
          "base_uri": "https://localhost:8080/"
        },
        "id": "zEBwFdOGHm4g",
        "outputId": "9626d20d-1e43-4fbe-9945-9103e2da71f8"
      },
      "execution_count": null,
      "outputs": [
        {
          "output_type": "stream",
          "name": "stdout",
          "text": [
            "Epoch 1/100\n",
            "25/25 [==============================] - 2s 4ms/step - loss: 0.6920 - accuracy: 0.4988 - lr: 1.0000e-04\n",
            "Epoch 2/100\n",
            "25/25 [==============================] - 0s 4ms/step - loss: 0.6916 - accuracy: 0.4988 - lr: 1.1220e-04\n",
            "Epoch 3/100\n",
            "25/25 [==============================] - 0s 4ms/step - loss: 0.6912 - accuracy: 0.4988 - lr: 1.2589e-04\n",
            "Epoch 4/100\n",
            "25/25 [==============================] - 0s 4ms/step - loss: 0.6908 - accuracy: 0.4988 - lr: 1.4125e-04\n",
            "Epoch 5/100\n",
            "25/25 [==============================] - 0s 3ms/step - loss: 0.6904 - accuracy: 0.4988 - lr: 1.5849e-04\n",
            "Epoch 6/100\n",
            "25/25 [==============================] - 0s 2ms/step - loss: 0.6899 - accuracy: 0.4988 - lr: 1.7783e-04\n",
            "Epoch 7/100\n",
            "25/25 [==============================] - 0s 2ms/step - loss: 0.6894 - accuracy: 0.4988 - lr: 1.9953e-04\n",
            "Epoch 8/100\n",
            "25/25 [==============================] - 0s 3ms/step - loss: 0.6889 - accuracy: 0.4988 - lr: 2.2387e-04\n",
            "Epoch 9/100\n",
            "25/25 [==============================] - 0s 3ms/step - loss: 0.6884 - accuracy: 0.5050 - lr: 2.5119e-04\n",
            "Epoch 10/100\n",
            "25/25 [==============================] - 0s 3ms/step - loss: 0.6879 - accuracy: 0.5263 - lr: 2.8184e-04\n",
            "Epoch 11/100\n",
            "25/25 [==============================] - 0s 3ms/step - loss: 0.6873 - accuracy: 0.5487 - lr: 3.1623e-04\n",
            "Epoch 12/100\n",
            "25/25 [==============================] - 0s 3ms/step - loss: 0.6868 - accuracy: 0.5600 - lr: 3.5481e-04\n",
            "Epoch 13/100\n",
            "25/25 [==============================] - 0s 3ms/step - loss: 0.6864 - accuracy: 0.5813 - lr: 3.9811e-04\n",
            "Epoch 14/100\n",
            "25/25 [==============================] - 0s 3ms/step - loss: 0.6859 - accuracy: 0.6525 - lr: 4.4668e-04\n",
            "Epoch 15/100\n",
            "25/25 [==============================] - 0s 3ms/step - loss: 0.6855 - accuracy: 0.6388 - lr: 5.0119e-04\n",
            "Epoch 16/100\n",
            "25/25 [==============================] - 0s 3ms/step - loss: 0.6851 - accuracy: 0.6225 - lr: 5.6234e-04\n",
            "Epoch 17/100\n",
            "25/25 [==============================] - 0s 3ms/step - loss: 0.6846 - accuracy: 0.5700 - lr: 6.3096e-04\n",
            "Epoch 18/100\n",
            "25/25 [==============================] - 0s 3ms/step - loss: 0.6842 - accuracy: 0.5675 - lr: 7.0795e-04\n",
            "Epoch 19/100\n",
            "25/25 [==============================] - 0s 3ms/step - loss: 0.6837 - accuracy: 0.5300 - lr: 7.9433e-04\n",
            "Epoch 20/100\n",
            "25/25 [==============================] - 0s 3ms/step - loss: 0.6833 - accuracy: 0.5225 - lr: 8.9125e-04\n",
            "Epoch 21/100\n",
            "25/25 [==============================] - 0s 3ms/step - loss: 0.6828 - accuracy: 0.5550 - lr: 0.0010\n",
            "Epoch 22/100\n",
            "25/25 [==============================] - 0s 4ms/step - loss: 0.6822 - accuracy: 0.5675 - lr: 0.0011\n",
            "Epoch 23/100\n",
            "25/25 [==============================] - 0s 4ms/step - loss: 0.6817 - accuracy: 0.5575 - lr: 0.0013\n",
            "Epoch 24/100\n",
            "25/25 [==============================] - 0s 3ms/step - loss: 0.6808 - accuracy: 0.5750 - lr: 0.0014\n",
            "Epoch 25/100\n",
            "25/25 [==============================] - 0s 3ms/step - loss: 0.6801 - accuracy: 0.6112 - lr: 0.0016\n",
            "Epoch 26/100\n",
            "25/25 [==============================] - 0s 4ms/step - loss: 0.6790 - accuracy: 0.6212 - lr: 0.0018\n",
            "Epoch 27/100\n",
            "25/25 [==============================] - 0s 4ms/step - loss: 0.6777 - accuracy: 0.6037 - lr: 0.0020\n",
            "Epoch 28/100\n",
            "25/25 [==============================] - 0s 4ms/step - loss: 0.6761 - accuracy: 0.5888 - lr: 0.0022\n",
            "Epoch 29/100\n",
            "25/25 [==============================] - 0s 4ms/step - loss: 0.6739 - accuracy: 0.5987 - lr: 0.0025\n",
            "Epoch 30/100\n",
            "25/25 [==============================] - 0s 4ms/step - loss: 0.6717 - accuracy: 0.5925 - lr: 0.0028\n",
            "Epoch 31/100\n",
            "25/25 [==============================] - 0s 4ms/step - loss: 0.6677 - accuracy: 0.5950 - lr: 0.0032\n",
            "Epoch 32/100\n",
            "25/25 [==============================] - 0s 3ms/step - loss: 0.6626 - accuracy: 0.6025 - lr: 0.0035\n",
            "Epoch 33/100\n",
            "25/25 [==============================] - 0s 3ms/step - loss: 0.6565 - accuracy: 0.6288 - lr: 0.0040\n",
            "Epoch 34/100\n",
            "25/25 [==============================] - 0s 2ms/step - loss: 0.6478 - accuracy: 0.6400 - lr: 0.0045\n",
            "Epoch 35/100\n",
            "25/25 [==============================] - 0s 2ms/step - loss: 0.6343 - accuracy: 0.6587 - lr: 0.0050\n",
            "Epoch 36/100\n",
            "25/25 [==============================] - 0s 2ms/step - loss: 0.6194 - accuracy: 0.6850 - lr: 0.0056\n",
            "Epoch 37/100\n",
            "25/25 [==============================] - 0s 2ms/step - loss: 0.5986 - accuracy: 0.7350 - lr: 0.0063\n",
            "Epoch 38/100\n",
            "25/25 [==============================] - 0s 2ms/step - loss: 0.5564 - accuracy: 0.7675 - lr: 0.0071\n",
            "Epoch 39/100\n",
            "25/25 [==============================] - 0s 2ms/step - loss: 0.5140 - accuracy: 0.8062 - lr: 0.0079\n",
            "Epoch 40/100\n",
            "25/25 [==============================] - 0s 2ms/step - loss: 0.4894 - accuracy: 0.8025 - lr: 0.0089\n",
            "Epoch 41/100\n",
            "25/25 [==============================] - 0s 2ms/step - loss: 0.4292 - accuracy: 0.8950 - lr: 0.0100\n",
            "Epoch 42/100\n",
            "25/25 [==============================] - 0s 2ms/step - loss: 0.3714 - accuracy: 0.9175 - lr: 0.0112\n",
            "Epoch 43/100\n",
            "25/25 [==============================] - 0s 2ms/step - loss: 0.2927 - accuracy: 0.9550 - lr: 0.0126\n",
            "Epoch 44/100\n",
            "25/25 [==============================] - 0s 2ms/step - loss: 0.2386 - accuracy: 0.9800 - lr: 0.0141\n",
            "Epoch 45/100\n",
            "25/25 [==============================] - 0s 2ms/step - loss: 0.2074 - accuracy: 0.9663 - lr: 0.0158\n",
            "Epoch 46/100\n",
            "25/25 [==============================] - 0s 2ms/step - loss: 0.1697 - accuracy: 0.9762 - lr: 0.0178\n",
            "Epoch 47/100\n",
            "25/25 [==============================] - 0s 2ms/step - loss: 0.1379 - accuracy: 0.9800 - lr: 0.0200\n",
            "Epoch 48/100\n",
            "25/25 [==============================] - 0s 2ms/step - loss: 0.1105 - accuracy: 0.9887 - lr: 0.0224\n",
            "Epoch 49/100\n",
            "25/25 [==============================] - 0s 2ms/step - loss: 0.1067 - accuracy: 0.9800 - lr: 0.0251\n",
            "Epoch 50/100\n",
            "25/25 [==============================] - 0s 2ms/step - loss: 0.1212 - accuracy: 0.9725 - lr: 0.0282\n",
            "Epoch 51/100\n",
            "25/25 [==============================] - 0s 2ms/step - loss: 0.0889 - accuracy: 0.9812 - lr: 0.0316\n",
            "Epoch 52/100\n",
            "25/25 [==============================] - 0s 2ms/step - loss: 0.1116 - accuracy: 0.9663 - lr: 0.0355\n",
            "Epoch 53/100\n",
            "25/25 [==============================] - 0s 2ms/step - loss: 0.1065 - accuracy: 0.9575 - lr: 0.0398\n",
            "Epoch 54/100\n",
            "25/25 [==============================] - 0s 2ms/step - loss: 0.1126 - accuracy: 0.9588 - lr: 0.0447\n",
            "Epoch 55/100\n",
            "25/25 [==============================] - 0s 2ms/step - loss: 0.0709 - accuracy: 0.9762 - lr: 0.0501\n",
            "Epoch 56/100\n",
            "25/25 [==============================] - 0s 2ms/step - loss: 0.0995 - accuracy: 0.9700 - lr: 0.0562\n",
            "Epoch 57/100\n",
            "25/25 [==============================] - 0s 2ms/step - loss: 0.1028 - accuracy: 0.9625 - lr: 0.0631\n",
            "Epoch 58/100\n",
            "25/25 [==============================] - 0s 2ms/step - loss: 0.0899 - accuracy: 0.9663 - lr: 0.0708\n",
            "Epoch 59/100\n",
            "25/25 [==============================] - 0s 2ms/step - loss: 0.1072 - accuracy: 0.9575 - lr: 0.0794\n",
            "Epoch 60/100\n",
            "25/25 [==============================] - 0s 2ms/step - loss: 0.0649 - accuracy: 0.9787 - lr: 0.0891\n",
            "Epoch 61/100\n",
            "25/25 [==============================] - 0s 2ms/step - loss: 0.0489 - accuracy: 0.9837 - lr: 0.1000\n",
            "Epoch 62/100\n",
            "25/25 [==============================] - 0s 2ms/step - loss: 0.1981 - accuracy: 0.9312 - lr: 0.1122\n",
            "Epoch 63/100\n",
            "25/25 [==============================] - 0s 2ms/step - loss: 0.6033 - accuracy: 0.7887 - lr: 0.1259\n",
            "Epoch 64/100\n",
            "25/25 [==============================] - 0s 2ms/step - loss: 0.2510 - accuracy: 0.8975 - lr: 0.1413\n",
            "Epoch 65/100\n",
            "25/25 [==============================] - 0s 2ms/step - loss: 0.1290 - accuracy: 0.9488 - lr: 0.1585\n",
            "Epoch 66/100\n",
            "25/25 [==============================] - 0s 2ms/step - loss: 0.0538 - accuracy: 0.9900 - lr: 0.1778\n",
            "Epoch 67/100\n",
            "25/25 [==============================] - 0s 2ms/step - loss: 0.1801 - accuracy: 0.9413 - lr: 0.1995\n",
            "Epoch 68/100\n",
            "25/25 [==============================] - 0s 2ms/step - loss: 0.0828 - accuracy: 0.9737 - lr: 0.2239\n",
            "Epoch 69/100\n",
            "25/25 [==============================] - 0s 3ms/step - loss: 0.0388 - accuracy: 0.9900 - lr: 0.2512\n",
            "Epoch 70/100\n",
            "25/25 [==============================] - 0s 2ms/step - loss: 0.2541 - accuracy: 0.9150 - lr: 0.2818\n",
            "Epoch 71/100\n",
            "25/25 [==============================] - 0s 2ms/step - loss: 0.1759 - accuracy: 0.9350 - lr: 0.3162\n",
            "Epoch 72/100\n",
            "25/25 [==============================] - 0s 2ms/step - loss: 0.5942 - accuracy: 0.8425 - lr: 0.3548\n",
            "Epoch 73/100\n",
            "25/25 [==============================] - 0s 2ms/step - loss: 0.6273 - accuracy: 0.6850 - lr: 0.3981\n",
            "Epoch 74/100\n",
            "25/25 [==============================] - 0s 2ms/step - loss: 0.6119 - accuracy: 0.6700 - lr: 0.4467\n",
            "Epoch 75/100\n",
            "25/25 [==============================] - 0s 2ms/step - loss: 0.6455 - accuracy: 0.5825 - lr: 0.5012\n",
            "Epoch 76/100\n",
            "25/25 [==============================] - 0s 2ms/step - loss: 0.6989 - accuracy: 0.5038 - lr: 0.5623\n",
            "Epoch 77/100\n",
            "25/25 [==============================] - 0s 2ms/step - loss: 0.6993 - accuracy: 0.5437 - lr: 0.6310\n",
            "Epoch 78/100\n",
            "25/25 [==============================] - 0s 2ms/step - loss: 0.6986 - accuracy: 0.4712 - lr: 0.7079\n",
            "Epoch 79/100\n",
            "25/25 [==============================] - 0s 2ms/step - loss: 0.7198 - accuracy: 0.5163 - lr: 0.7943\n",
            "Epoch 80/100\n",
            "25/25 [==============================] - 0s 3ms/step - loss: 0.7200 - accuracy: 0.4837 - lr: 0.8913\n",
            "Epoch 81/100\n",
            "25/25 [==============================] - 0s 2ms/step - loss: 0.7077 - accuracy: 0.4938 - lr: 1.0000\n",
            "Epoch 82/100\n",
            "25/25 [==============================] - 0s 2ms/step - loss: 0.7168 - accuracy: 0.4837 - lr: 1.1220\n",
            "Epoch 83/100\n",
            "25/25 [==============================] - 0s 2ms/step - loss: 0.7201 - accuracy: 0.4913 - lr: 1.2589\n",
            "Epoch 84/100\n",
            "25/25 [==============================] - 0s 3ms/step - loss: 0.7072 - accuracy: 0.4688 - lr: 1.4125\n",
            "Epoch 85/100\n",
            "25/25 [==============================] - 0s 2ms/step - loss: 0.7211 - accuracy: 0.4737 - lr: 1.5849\n",
            "Epoch 86/100\n",
            "25/25 [==============================] - 0s 2ms/step - loss: 0.7226 - accuracy: 0.5312 - lr: 1.7783\n",
            "Epoch 87/100\n",
            "25/25 [==============================] - 0s 2ms/step - loss: 0.7313 - accuracy: 0.5138 - lr: 1.9953\n",
            "Epoch 88/100\n",
            "25/25 [==============================] - 0s 2ms/step - loss: 0.7165 - accuracy: 0.5013 - lr: 2.2387\n",
            "Epoch 89/100\n",
            "25/25 [==============================] - 0s 3ms/step - loss: 0.7845 - accuracy: 0.4888 - lr: 2.5119\n",
            "Epoch 90/100\n",
            "25/25 [==============================] - 0s 2ms/step - loss: 0.7698 - accuracy: 0.4888 - lr: 2.8184\n",
            "Epoch 91/100\n",
            "25/25 [==============================] - 0s 2ms/step - loss: 0.7167 - accuracy: 0.5063 - lr: 3.1623\n",
            "Epoch 92/100\n",
            "25/25 [==============================] - 0s 2ms/step - loss: 0.7275 - accuracy: 0.5312 - lr: 3.5481\n",
            "Epoch 93/100\n",
            "25/25 [==============================] - 0s 2ms/step - loss: 0.8702 - accuracy: 0.4913 - lr: 3.9811\n",
            "Epoch 94/100\n",
            "25/25 [==============================] - 0s 2ms/step - loss: 0.7592 - accuracy: 0.5213 - lr: 4.4668\n",
            "Epoch 95/100\n",
            "25/25 [==============================] - 0s 2ms/step - loss: 0.7172 - accuracy: 0.5113 - lr: 5.0119\n",
            "Epoch 96/100\n",
            "25/25 [==============================] - 0s 2ms/step - loss: 0.7900 - accuracy: 0.4938 - lr: 5.6234\n",
            "Epoch 97/100\n",
            "25/25 [==============================] - 0s 2ms/step - loss: 0.7549 - accuracy: 0.5362 - lr: 6.3096\n",
            "Epoch 98/100\n",
            "25/25 [==============================] - 0s 2ms/step - loss: 0.7462 - accuracy: 0.4888 - lr: 7.0795\n",
            "Epoch 99/100\n",
            "25/25 [==============================] - 0s 2ms/step - loss: 0.7656 - accuracy: 0.4988 - lr: 7.9433\n",
            "Epoch 100/100\n",
            "25/25 [==============================] - 0s 2ms/step - loss: 0.8501 - accuracy: 0.5063 - lr: 8.9125\n"
          ]
        }
      ]
    },
    {
      "cell_type": "code",
      "source": [
        "# Checkout the history\n",
        "pd.DataFrame(history_9.history).plot(figsize=(10, 7), xlabel=\"epochs\")"
      ],
      "metadata": {
        "colab": {
          "base_uri": "https://localhost:8080/",
          "height": 459
        },
        "id": "osfnsgiULEYo",
        "outputId": "a941fd83-33ff-4757-894c-5fbe07641b18"
      },
      "execution_count": null,
      "outputs": [
        {
          "output_type": "execute_result",
          "data": {
            "text/plain": [
              "<AxesSubplot:xlabel='epochs'>"
            ]
          },
          "metadata": {},
          "execution_count": 59
        },
        {
          "output_type": "display_data",
          "data": {
            "text/plain": [
              "<Figure size 720x504 with 1 Axes>"
            ],
            "image/png": "[encoded data removed]"
          },
          "metadata": {
            "needs_background": "light"
          }
        }
      ]
    },
    {
      "cell_type": "code",
      "source": [
        "# Plot the learning rate vs the loss\n",
        "lrs = 1e-4 * (10 ** (tf.range(100)/20))\n",
        "plt.figure(figsize=(10,7))\n",
        "plt.semilogx(lrs, history_9.history[\"loss\"])\n",
        "plt.xlabel(\"Learning Rate\")\n",
        "plt.ylabel(\"Loss\")\n",
        "plt.title(\"Learning rate vs. Loss\")"
      ],
      "metadata": {
        "colab": {
          "base_uri": "https://localhost:8080/",
          "height": 479
        },
        "id": "c7isrnciMXah",
        "outputId": "80cea640-d32f-46a3-be5a-fea08c719626"
      },
      "execution_count": null,
      "outputs": [
        {
          "output_type": "execute_result",
          "data": {
            "text/plain": [
              "Text(0.5, 1.0, 'Learning rate vs. Loss')"
            ]
          },
          "metadata": {},
          "execution_count": 65
        },
        {
          "output_type": "display_data",
          "data": {
            "text/plain": [
              "<Figure size 720x504 with 1 Axes>"
            ],
            "image/png": "[encoded data removed]"
          },
          "metadata": {
            "needs_background": "light"
          }
        }
      ]
    },
    {
      "cell_type": "code",
      "source": [
        "# Example of other typical learning rates values:\n",
        "10**0, 10**-1, 10**-2, 10**-3, 1e-4"
      ],
      "metadata": {
        "colab": {
          "base_uri": "https://localhost:8080/"
        },
        "id": "NUdHX0gjNg-U",
        "outputId": "4e40fef8-29de-41d7-9906-051a50d447d6"
      },
      "execution_count": null,
      "outputs": [
        {
          "output_type": "execute_result",
          "data": {
            "text/plain": [
              "(1, 0.1, 0.01, 0.001, 0.0001)"
            ]
          },
          "metadata": {},
          "execution_count": 66
        }
      ]
    },
    {
      "cell_type": "code",
      "source": [],
      "metadata": {
        "id": "Mn1V9GmqR9CU"
      },
      "execution_count": null,
      "outputs": []
    }
  ],
  "metadata": {
    "colab": {
      "provenance": [],
      "authorship_tag": "ABX9TyNREaTmZWL+YbybQHGnPbED",
      "include_colab_link": true
    },
    "kernelspec": {
      "display_name": "Python 3",
      "name": "python3"
    },
    "language_info": {
      "name": "python"
    }
  },
  "nbformat": 4,
  "nbformat_minor": 0
}